{
 "cells": [
  {
   "cell_type": "markdown",
   "metadata": {},
   "source": [
    "# Importing libraries"
   ]
  },
  {
   "cell_type": "code",
   "execution_count": 236,
   "metadata": {},
   "outputs": [],
   "source": [
    "import pandas as pd\n",
    "import numpy as np"
   ]
  },
  {
   "cell_type": "code",
   "execution_count": 237,
   "metadata": {},
   "outputs": [],
   "source": [
    "import os\n",
    "os.chdir(\"D:/Machine_Learning\")"
   ]
  },
  {
   "cell_type": "markdown",
   "metadata": {},
   "source": [
    "# Loading \"Petrol_consumption\" data"
   ]
  },
  {
   "cell_type": "code",
   "execution_count": 238,
   "metadata": {},
   "outputs": [],
   "source": [
    "df = pd.read_csv(\"D:\\Machine_Learning\\petrol_consumption.csv\")"
   ]
  },
  {
   "cell_type": "code",
   "execution_count": 239,
   "metadata": {},
   "outputs": [
    {
     "data": {
      "text/html": [
       "<div>\n",
       "<style scoped>\n",
       "    .dataframe tbody tr th:only-of-type {\n",
       "        vertical-align: middle;\n",
       "    }\n",
       "\n",
       "    .dataframe tbody tr th {\n",
       "        vertical-align: top;\n",
       "    }\n",
       "\n",
       "    .dataframe thead th {\n",
       "        text-align: right;\n",
       "    }\n",
       "</style>\n",
       "<table border=\"1\" class=\"dataframe\">\n",
       "  <thead>\n",
       "    <tr style=\"text-align: right;\">\n",
       "      <th></th>\n",
       "      <th>Petrol_tax</th>\n",
       "      <th>Average_income</th>\n",
       "      <th>Paved_Highways</th>\n",
       "      <th>Population_Driver_licence(%)</th>\n",
       "      <th>Petrol_Consumption</th>\n",
       "    </tr>\n",
       "  </thead>\n",
       "  <tbody>\n",
       "    <tr>\n",
       "      <td>0</td>\n",
       "      <td>9.0</td>\n",
       "      <td>3571</td>\n",
       "      <td>1976</td>\n",
       "      <td>0.525</td>\n",
       "      <td>541</td>\n",
       "    </tr>\n",
       "    <tr>\n",
       "      <td>1</td>\n",
       "      <td>9.0</td>\n",
       "      <td>4092</td>\n",
       "      <td>1250</td>\n",
       "      <td>0.572</td>\n",
       "      <td>524</td>\n",
       "    </tr>\n",
       "    <tr>\n",
       "      <td>2</td>\n",
       "      <td>9.0</td>\n",
       "      <td>3865</td>\n",
       "      <td>1586</td>\n",
       "      <td>0.580</td>\n",
       "      <td>561</td>\n",
       "    </tr>\n",
       "    <tr>\n",
       "      <td>3</td>\n",
       "      <td>7.5</td>\n",
       "      <td>4870</td>\n",
       "      <td>2351</td>\n",
       "      <td>0.529</td>\n",
       "      <td>414</td>\n",
       "    </tr>\n",
       "    <tr>\n",
       "      <td>4</td>\n",
       "      <td>8.0</td>\n",
       "      <td>4399</td>\n",
       "      <td>431</td>\n",
       "      <td>0.544</td>\n",
       "      <td>410</td>\n",
       "    </tr>\n",
       "  </tbody>\n",
       "</table>\n",
       "</div>"
      ],
      "text/plain": [
       "   Petrol_tax  Average_income  Paved_Highways  Population_Driver_licence(%)  \\\n",
       "0         9.0            3571            1976                         0.525   \n",
       "1         9.0            4092            1250                         0.572   \n",
       "2         9.0            3865            1586                         0.580   \n",
       "3         7.5            4870            2351                         0.529   \n",
       "4         8.0            4399             431                         0.544   \n",
       "\n",
       "   Petrol_Consumption  \n",
       "0                 541  \n",
       "1                 524  \n",
       "2                 561  \n",
       "3                 414  \n",
       "4                 410  "
      ]
     },
     "execution_count": 239,
     "metadata": {},
     "output_type": "execute_result"
    }
   ],
   "source": [
    "df.head()"
   ]
  },
  {
   "cell_type": "code",
   "execution_count": 240,
   "metadata": {},
   "outputs": [
    {
     "data": {
      "text/html": [
       "<div>\n",
       "<style scoped>\n",
       "    .dataframe tbody tr th:only-of-type {\n",
       "        vertical-align: middle;\n",
       "    }\n",
       "\n",
       "    .dataframe tbody tr th {\n",
       "        vertical-align: top;\n",
       "    }\n",
       "\n",
       "    .dataframe thead th {\n",
       "        text-align: right;\n",
       "    }\n",
       "</style>\n",
       "<table border=\"1\" class=\"dataframe\">\n",
       "  <thead>\n",
       "    <tr style=\"text-align: right;\">\n",
       "      <th></th>\n",
       "      <th>Petrol_tax</th>\n",
       "      <th>Average_income</th>\n",
       "      <th>Paved_Highways</th>\n",
       "      <th>Population_Driver_licence(%)</th>\n",
       "      <th>Petrol_Consumption</th>\n",
       "    </tr>\n",
       "  </thead>\n",
       "  <tbody>\n",
       "    <tr>\n",
       "      <td>count</td>\n",
       "      <td>48.000000</td>\n",
       "      <td>48.000000</td>\n",
       "      <td>48.000000</td>\n",
       "      <td>48.000000</td>\n",
       "      <td>48.000000</td>\n",
       "    </tr>\n",
       "    <tr>\n",
       "      <td>mean</td>\n",
       "      <td>7.668333</td>\n",
       "      <td>4241.833333</td>\n",
       "      <td>5565.416667</td>\n",
       "      <td>0.570333</td>\n",
       "      <td>576.770833</td>\n",
       "    </tr>\n",
       "    <tr>\n",
       "      <td>std</td>\n",
       "      <td>0.950770</td>\n",
       "      <td>573.623768</td>\n",
       "      <td>3491.507166</td>\n",
       "      <td>0.055470</td>\n",
       "      <td>111.885816</td>\n",
       "    </tr>\n",
       "    <tr>\n",
       "      <td>min</td>\n",
       "      <td>5.000000</td>\n",
       "      <td>3063.000000</td>\n",
       "      <td>431.000000</td>\n",
       "      <td>0.451000</td>\n",
       "      <td>344.000000</td>\n",
       "    </tr>\n",
       "    <tr>\n",
       "      <td>25%</td>\n",
       "      <td>7.000000</td>\n",
       "      <td>3739.000000</td>\n",
       "      <td>3110.250000</td>\n",
       "      <td>0.529750</td>\n",
       "      <td>509.500000</td>\n",
       "    </tr>\n",
       "    <tr>\n",
       "      <td>50%</td>\n",
       "      <td>7.500000</td>\n",
       "      <td>4298.000000</td>\n",
       "      <td>4735.500000</td>\n",
       "      <td>0.564500</td>\n",
       "      <td>568.500000</td>\n",
       "    </tr>\n",
       "    <tr>\n",
       "      <td>75%</td>\n",
       "      <td>8.125000</td>\n",
       "      <td>4578.750000</td>\n",
       "      <td>7156.000000</td>\n",
       "      <td>0.595250</td>\n",
       "      <td>632.750000</td>\n",
       "    </tr>\n",
       "    <tr>\n",
       "      <td>max</td>\n",
       "      <td>10.000000</td>\n",
       "      <td>5342.000000</td>\n",
       "      <td>17782.000000</td>\n",
       "      <td>0.724000</td>\n",
       "      <td>968.000000</td>\n",
       "    </tr>\n",
       "  </tbody>\n",
       "</table>\n",
       "</div>"
      ],
      "text/plain": [
       "       Petrol_tax  Average_income  Paved_Highways  \\\n",
       "count   48.000000       48.000000       48.000000   \n",
       "mean     7.668333     4241.833333     5565.416667   \n",
       "std      0.950770      573.623768     3491.507166   \n",
       "min      5.000000     3063.000000      431.000000   \n",
       "25%      7.000000     3739.000000     3110.250000   \n",
       "50%      7.500000     4298.000000     4735.500000   \n",
       "75%      8.125000     4578.750000     7156.000000   \n",
       "max     10.000000     5342.000000    17782.000000   \n",
       "\n",
       "       Population_Driver_licence(%)  Petrol_Consumption  \n",
       "count                     48.000000           48.000000  \n",
       "mean                       0.570333          576.770833  \n",
       "std                        0.055470          111.885816  \n",
       "min                        0.451000          344.000000  \n",
       "25%                        0.529750          509.500000  \n",
       "50%                        0.564500          568.500000  \n",
       "75%                        0.595250          632.750000  \n",
       "max                        0.724000          968.000000  "
      ]
     },
     "execution_count": 240,
     "metadata": {},
     "output_type": "execute_result"
    }
   ],
   "source": [
    "df.describe()"
   ]
  },
  {
   "cell_type": "markdown",
   "metadata": {},
   "source": [
    "* Summary:\n",
    "    * The average petrol_tax is 7.6 cents and minimum of 5 and maximum of 10 cents\n",
    "    * The average per capita income income is  4241(dollars) with std  3491(dollars)\n",
    "    * The minimum length of paved highways is 431 miles and average is 5565 miles\n",
    "    * The population_Driver_licence has a average of 0.57% \n",
    "    * The average Petrol consumption is 576.7 millions of gallons with std of 111.8 millions of gallons"
   ]
  },
  {
   "cell_type": "code",
   "execution_count": 241,
   "metadata": {},
   "outputs": [
    {
     "data": {
      "text/plain": [
       "Index(['Petrol_tax', 'Average_income', 'Paved_Highways',\n",
       "       'Population_Driver_licence(%)', 'Petrol_Consumption'],\n",
       "      dtype='object')"
      ]
     },
     "execution_count": 241,
     "metadata": {},
     "output_type": "execute_result"
    }
   ],
   "source": [
    "df.columns"
   ]
  },
  {
   "cell_type": "markdown",
   "metadata": {},
   "source": [
    "check the shape of the data"
   ]
  },
  {
   "cell_type": "code",
   "execution_count": 242,
   "metadata": {},
   "outputs": [
    {
     "data": {
      "text/plain": [
       "(48, 5)"
      ]
     },
     "execution_count": 242,
     "metadata": {},
     "output_type": "execute_result"
    }
   ],
   "source": [
    "df.shape"
   ]
  },
  {
   "cell_type": "markdown",
   "metadata": {},
   "source": [
    "# Divide dataset into train and test sets"
   ]
  },
  {
   "cell_type": "code",
   "execution_count": 243,
   "metadata": {},
   "outputs": [],
   "source": [
    "from sklearn.model_selection import train_test_split"
   ]
  },
  {
   "cell_type": "code",
   "execution_count": 244,
   "metadata": {},
   "outputs": [],
   "source": [
    "X_train, X_test, Y_train, Y_test = train_test_split(df.drop(\"Petrol_Consumption\",axis=1),df['Petrol_Consumption'],test_size=0.2,random_state=123)"
   ]
  },
  {
   "cell_type": "markdown",
   "metadata": {},
   "source": [
    "* Predictor Variables are \"Petrol_tax', 'Average_income','Paved_Highways','Population_Driver_licence(%)\"\n",
    "* Target Variable is \"Class\""
   ]
  },
  {
   "cell_type": "code",
   "execution_count": 245,
   "metadata": {},
   "outputs": [
    {
     "data": {
      "text/html": [
       "<div>\n",
       "<style scoped>\n",
       "    .dataframe tbody tr th:only-of-type {\n",
       "        vertical-align: middle;\n",
       "    }\n",
       "\n",
       "    .dataframe tbody tr th {\n",
       "        vertical-align: top;\n",
       "    }\n",
       "\n",
       "    .dataframe thead th {\n",
       "        text-align: right;\n",
       "    }\n",
       "</style>\n",
       "<table border=\"1\" class=\"dataframe\">\n",
       "  <thead>\n",
       "    <tr style=\"text-align: right;\">\n",
       "      <th></th>\n",
       "      <th>Petrol_tax</th>\n",
       "      <th>Average_income</th>\n",
       "      <th>Paved_Highways</th>\n",
       "      <th>Population_Driver_licence(%)</th>\n",
       "    </tr>\n",
       "  </thead>\n",
       "  <tbody>\n",
       "    <tr>\n",
       "      <td>1</td>\n",
       "      <td>9.00</td>\n",
       "      <td>4092</td>\n",
       "      <td>1250</td>\n",
       "      <td>0.572</td>\n",
       "    </tr>\n",
       "    <tr>\n",
       "      <td>6</td>\n",
       "      <td>8.00</td>\n",
       "      <td>5319</td>\n",
       "      <td>11868</td>\n",
       "      <td>0.451</td>\n",
       "    </tr>\n",
       "    <tr>\n",
       "      <td>27</td>\n",
       "      <td>7.50</td>\n",
       "      <td>3846</td>\n",
       "      <td>9061</td>\n",
       "      <td>0.579</td>\n",
       "    </tr>\n",
       "    <tr>\n",
       "      <td>35</td>\n",
       "      <td>6.58</td>\n",
       "      <td>3802</td>\n",
       "      <td>7834</td>\n",
       "      <td>0.629</td>\n",
       "    </tr>\n",
       "    <tr>\n",
       "      <td>12</td>\n",
       "      <td>7.00</td>\n",
       "      <td>4817</td>\n",
       "      <td>6930</td>\n",
       "      <td>0.574</td>\n",
       "    </tr>\n",
       "  </tbody>\n",
       "</table>\n",
       "</div>"
      ],
      "text/plain": [
       "    Petrol_tax  Average_income  Paved_Highways  Population_Driver_licence(%)\n",
       "1         9.00            4092            1250                         0.572\n",
       "6         8.00            5319           11868                         0.451\n",
       "27        7.50            3846            9061                         0.579\n",
       "35        6.58            3802            7834                         0.629\n",
       "12        7.00            4817            6930                         0.574"
      ]
     },
     "execution_count": 245,
     "metadata": {},
     "output_type": "execute_result"
    }
   ],
   "source": [
    "X_train.head()"
   ]
  },
  {
   "cell_type": "code",
   "execution_count": 246,
   "metadata": {},
   "outputs": [
    {
     "data": {
      "text/plain": [
       "1     524\n",
       "6     344\n",
       "27    631\n",
       "35    644\n",
       "12    525\n",
       "Name: Petrol_Consumption, dtype: int64"
      ]
     },
     "execution_count": 246,
     "metadata": {},
     "output_type": "execute_result"
    }
   ],
   "source": [
    "Y_train.head()"
   ]
  },
  {
   "cell_type": "markdown",
   "metadata": {},
   "source": [
    "# Regression using Decision Tree"
   ]
  },
  {
   "cell_type": "markdown",
   "metadata": {},
   "source": [
    "Import the DecisionTreeRegressor from the sklearn.tree module"
   ]
  },
  {
   "cell_type": "code",
   "execution_count": 247,
   "metadata": {},
   "outputs": [],
   "source": [
    "from sklearn.tree import DecisionTreeRegressor"
   ]
  },
  {
   "cell_type": "markdown",
   "metadata": {},
   "source": [
    "Initializing an object to the DecisionTreeRegressor model"
   ]
  },
  {
   "cell_type": "markdown",
   "metadata": {},
   "source": [
    "# Not passing any Hyper-Parameters to DecisionTreeRegressor model "
   ]
  },
  {
   "cell_type": "markdown",
   "metadata": {},
   "source": [
    "lets check how the model works"
   ]
  },
  {
   "cell_type": "code",
   "execution_count": 248,
   "metadata": {},
   "outputs": [],
   "source": [
    "tree = DecisionTreeRegressor()  "
   ]
  },
  {
   "cell_type": "markdown",
   "metadata": {},
   "source": [
    "Fit the model to the training data"
   ]
  },
  {
   "cell_type": "code",
   "execution_count": 249,
   "metadata": {},
   "outputs": [
    {
     "data": {
      "text/plain": [
       "DecisionTreeRegressor(criterion='mse', max_depth=None, max_features=None,\n",
       "                      max_leaf_nodes=None, min_impurity_decrease=0.0,\n",
       "                      min_impurity_split=None, min_samples_leaf=1,\n",
       "                      min_samples_split=2, min_weight_fraction_leaf=0.0,\n",
       "                      presort=False, random_state=None, splitter='best')"
      ]
     },
     "execution_count": 249,
     "metadata": {},
     "output_type": "execute_result"
    }
   ],
   "source": [
    "tree.fit(X_train, Y_train)"
   ]
  },
  {
   "cell_type": "markdown",
   "metadata": {},
   "source": [
    "# Interpreting the Decision Tree Hyperparameters"
   ]
  },
  {
   "cell_type": "markdown",
   "metadata": {},
   "source": [
    "* Criterion : Evaluation criteria ( default for regressor: mse (Mean-square error)\n",
    "* max_depth : The maximum allowed depth of the tree (default None)\n",
    "* max_Features : The maximum number of Features that are evaluated for splitting at each node (by default =None)\n",
    "* max_leaf_nodes : Maximum number of leaf nodes\n",
    "* min_sample_split : The minimum number of samples a node must have before it can be split(defalt:2)\n",
    "* min_samples_leaf : The minimum number of samples a leaf node must have (default 1)"
   ]
  },
  {
   "cell_type": "markdown",
   "metadata": {},
   "source": [
    "# Make predictions and evaluate output"
   ]
  },
  {
   "cell_type": "code",
   "execution_count": 250,
   "metadata": {},
   "outputs": [],
   "source": [
    "predictions = tree.predict(X_test)"
   ]
  },
  {
   "cell_type": "markdown",
   "metadata": {},
   "source": [
    "Check the top 5 predictions and actual values"
   ]
  },
  {
   "cell_type": "code",
   "execution_count": 251,
   "metadata": {},
   "outputs": [
    {
     "data": {
      "text/plain": [
       "array([782., 704., 574., 714., 414.])"
      ]
     },
     "execution_count": 251,
     "metadata": {},
     "output_type": "execute_result"
    }
   ],
   "source": [
    "predictions[:5]"
   ]
  },
  {
   "cell_type": "code",
   "execution_count": 252,
   "metadata": {},
   "outputs": [
    {
     "data": {
      "text/plain": [
       "18    865\n",
       "13    508\n",
       "26    577\n",
       "31    554\n",
       "10    580\n",
       "Name: Petrol_Consumption, dtype: int64"
      ]
     },
     "execution_count": 252,
     "metadata": {},
     "output_type": "execute_result"
    }
   ],
   "source": [
    "Y_test[:5]"
   ]
  },
  {
   "cell_type": "markdown",
   "metadata": {},
   "source": [
    "# we can tell that predictions are not accurate and let's evaluate the prediction accuracy"
   ]
  },
  {
   "cell_type": "markdown",
   "metadata": {},
   "source": [
    "importing mean_absolute_error, r2_score from the sklearn.metrics class"
   ]
  },
  {
   "cell_type": "code",
   "execution_count": 253,
   "metadata": {},
   "outputs": [],
   "source": [
    "from sklearn.metrics import mean_absolute_error, r2_score"
   ]
  },
  {
   "cell_type": "code",
   "execution_count": 254,
   "metadata": {},
   "outputs": [
    {
     "data": {
      "text/plain": [
       "114.1"
      ]
     },
     "execution_count": 254,
     "metadata": {},
     "output_type": "execute_result"
    }
   ],
   "source": [
    "mean_absolute_error(Y_test, predictions)"
   ]
  },
  {
   "cell_type": "markdown",
   "metadata": {},
   "source": [
    "Mean absolute error is very high , so we can tell that this model is not good"
   ]
  },
  {
   "cell_type": "code",
   "execution_count": 255,
   "metadata": {},
   "outputs": [
    {
     "data": {
      "text/plain": [
       "0.38349493744705687"
      ]
     },
     "execution_count": 255,
     "metadata": {},
     "output_type": "execute_result"
    }
   ],
   "source": [
    "r2_score(Y_test, predictions)"
   ]
  },
  {
   "cell_type": "markdown",
   "metadata": {},
   "source": [
    "* r2_score is very poor so we can say that we build a worse model it is not predicting good \n",
    "* The regression results are not accurate and performing badly"
   ]
  },
  {
   "cell_type": "markdown",
   "metadata": {},
   "source": [
    "# Visualizing the tree output and try to understand the reason for poor accuracy"
   ]
  },
  {
   "cell_type": "markdown",
   "metadata": {},
   "source": [
    "Importing export_graphviz from the sklearn.tree "
   ]
  },
  {
   "cell_type": "code",
   "execution_count": 256,
   "metadata": {},
   "outputs": [],
   "source": [
    "from sklearn.tree import export_graphviz"
   ]
  },
  {
   "cell_type": "markdown",
   "metadata": {},
   "source": [
    "First, we export the tree output to a dot format object."
   ]
  },
  {
   "cell_type": "code",
   "execution_count": 257,
   "metadata": {},
   "outputs": [],
   "source": [
    "dot_data = export_graphviz(tree, filled=True, rounded=True, feature_names=X_train.columns,out_file=None)"
   ]
  },
  {
   "cell_type": "markdown",
   "metadata": {},
   "source": [
    "* Interpreting the parameters of the export_graphviz\n",
    "     * tree : decision tree\n",
    "     * filled : When set to True, paint nodes to indicate majority class for classification, extremity of values for regression, or purity of node for multi-output.\n",
    "     * rounded : When set to True, draw node boxes with rounded corners and use Helvetica fonts instead of Times-Roman.ounded : When set to True, draw node boxes with rounded corners and use Helvetica fonts instead of Times-Roman.\n",
    "     * feature_names : Names of each of the features.\n",
    "     * outfile : name of the output file. If None, the result is returned as a string."
   ]
  },
  {
   "cell_type": "markdown",
   "metadata": {},
   "source": [
    "we use graphviz to plot the dot data as a decision tree."
   ]
  },
  {
   "cell_type": "code",
   "execution_count": 258,
   "metadata": {},
   "outputs": [],
   "source": [
    "import graphviz"
   ]
  },
  {
   "cell_type": "code",
   "execution_count": 259,
   "metadata": {},
   "outputs": [
    {
     "data": {
      "image/svg+xml": [
       "<?xml version=\"1.0\" encoding=\"UTF-8\" standalone=\"no\"?>\r\n",
       "<!DOCTYPE svg PUBLIC \"-//W3C//DTD SVG 1.1//EN\"\r\n",
       " \"http://www.w3.org/Graphics/SVG/1.1/DTD/svg11.dtd\">\r\n",
       "<!-- Generated by graphviz version 2.38.0 (20140413.2041)\r\n",
       " -->\r\n",
       "<!-- Title: Tree Pages: 1 -->\r\n",
       "<svg width=\"3466pt\" height=\"789pt\"\r\n",
       " viewBox=\"0.00 0.00 3465.50 789.00\" xmlns=\"http://www.w3.org/2000/svg\" xmlns:xlink=\"http://www.w3.org/1999/xlink\">\r\n",
       "<g id=\"graph0\" class=\"graph\" transform=\"scale(1 1) rotate(0) translate(4 785)\">\r\n",
       "<title>Tree</title>\r\n",
       "<polygon fill=\"white\" stroke=\"none\" points=\"-4,4 -4,-785 3461.5,-785 3461.5,4 -4,4\"/>\r\n",
       "<!-- 0 -->\r\n",
       "<g id=\"node1\" class=\"node\"><title>0</title>\r\n",
       "<path fill=\"#f2be99\" stroke=\"black\" d=\"M1473,-781C1473,-781 1364,-781 1364,-781 1358,-781 1352,-775 1352,-769 1352,-769 1352,-725 1352,-725 1352,-719 1358,-713 1364,-713 1364,-713 1473,-713 1473,-713 1479,-713 1485,-719 1485,-725 1485,-725 1485,-769 1485,-769 1485,-775 1479,-781 1473,-781\"/>\r\n",
       "<text text-anchor=\"middle\" x=\"1418.5\" y=\"-765.8\" font-family=\"Helvetica,sans-Serif\" font-size=\"14.00\">Petrol_tax &lt;= 7.25</text>\r\n",
       "<text text-anchor=\"middle\" x=\"1418.5\" y=\"-750.8\" font-family=\"Helvetica,sans-Serif\" font-size=\"14.00\">mse = 8073.501</text>\r\n",
       "<text text-anchor=\"middle\" x=\"1418.5\" y=\"-735.8\" font-family=\"Helvetica,sans-Serif\" font-size=\"14.00\">samples = 38</text>\r\n",
       "<text text-anchor=\"middle\" x=\"1418.5\" y=\"-720.8\" font-family=\"Helvetica,sans-Serif\" font-size=\"14.00\">value = 569.842</text>\r\n",
       "</g>\r\n",
       "<!-- 1 -->\r\n",
       "<g id=\"node2\" class=\"node\"><title>1</title>\r\n",
       "<path fill=\"#eeaf81\" stroke=\"black\" d=\"M1130.5,-677C1130.5,-677 960.5,-677 960.5,-677 954.5,-677 948.5,-671 948.5,-665 948.5,-665 948.5,-621 948.5,-621 948.5,-615 954.5,-609 960.5,-609 960.5,-609 1130.5,-609 1130.5,-609 1136.5,-609 1142.5,-615 1142.5,-621 1142.5,-621 1142.5,-665 1142.5,-665 1142.5,-671 1136.5,-677 1130.5,-677\"/>\r\n",
       "<text text-anchor=\"middle\" x=\"1045.5\" y=\"-661.8\" font-family=\"Helvetica,sans-Serif\" font-size=\"14.00\">Paved_Highways &lt;= 6645.0</text>\r\n",
       "<text text-anchor=\"middle\" x=\"1045.5\" y=\"-646.8\" font-family=\"Helvetica,sans-Serif\" font-size=\"14.00\">mse = 5300.298</text>\r\n",
       "<text text-anchor=\"middle\" x=\"1045.5\" y=\"-631.8\" font-family=\"Helvetica,sans-Serif\" font-size=\"14.00\">samples = 17</text>\r\n",
       "<text text-anchor=\"middle\" x=\"1045.5\" y=\"-616.8\" font-family=\"Helvetica,sans-Serif\" font-size=\"14.00\">value = 622.765</text>\r\n",
       "</g>\r\n",
       "<!-- 0&#45;&gt;1 -->\r\n",
       "<g id=\"edge1\" class=\"edge\"><title>0&#45;&gt;1</title>\r\n",
       "<path fill=\"none\" stroke=\"black\" d=\"M1351.82,-727.764C1296.51,-712.639 1216.81,-690.847 1152.58,-673.282\"/>\r\n",
       "<polygon fill=\"black\" stroke=\"black\" points=\"1153.38,-669.873 1142.81,-670.611 1151.54,-676.625 1153.38,-669.873\"/>\r\n",
       "<text text-anchor=\"middle\" x=\"1155.2\" y=\"-688.626\" font-family=\"Helvetica,sans-Serif\" font-size=\"14.00\">True</text>\r\n",
       "</g>\r\n",
       "<!-- 34 -->\r\n",
       "<g id=\"node35\" class=\"node\"><title>34</title>\r\n",
       "<path fill=\"#f4caac\" stroke=\"black\" d=\"M1890.5,-677C1890.5,-677 1720.5,-677 1720.5,-677 1714.5,-677 1708.5,-671 1708.5,-665 1708.5,-665 1708.5,-621 1708.5,-621 1708.5,-615 1714.5,-609 1720.5,-609 1720.5,-609 1890.5,-609 1890.5,-609 1896.5,-609 1902.5,-615 1902.5,-621 1902.5,-621 1902.5,-665 1902.5,-665 1902.5,-671 1896.5,-677 1890.5,-677\"/>\r\n",
       "<text text-anchor=\"middle\" x=\"1805.5\" y=\"-661.8\" font-family=\"Helvetica,sans-Serif\" font-size=\"14.00\">Average_income &lt;= 4370.0</text>\r\n",
       "<text text-anchor=\"middle\" x=\"1805.5\" y=\"-646.8\" font-family=\"Helvetica,sans-Serif\" font-size=\"14.00\">mse = 6215.714</text>\r\n",
       "<text text-anchor=\"middle\" x=\"1805.5\" y=\"-631.8\" font-family=\"Helvetica,sans-Serif\" font-size=\"14.00\">samples = 21</text>\r\n",
       "<text text-anchor=\"middle\" x=\"1805.5\" y=\"-616.8\" font-family=\"Helvetica,sans-Serif\" font-size=\"14.00\">value = 527.0</text>\r\n",
       "</g>\r\n",
       "<!-- 0&#45;&gt;34 -->\r\n",
       "<g id=\"edge34\" class=\"edge\"><title>0&#45;&gt;34</title>\r\n",
       "<path fill=\"none\" stroke=\"black\" d=\"M1485.03,-728.466C1543.63,-713.02 1630.05,-690.243 1698.38,-672.232\"/>\r\n",
       "<polygon fill=\"black\" stroke=\"black\" points=\"1699.55,-675.544 1708.33,-669.611 1697.77,-668.775 1699.55,-675.544\"/>\r\n",
       "<text text-anchor=\"middle\" x=\"1695.74\" y=\"-687.51\" font-family=\"Helvetica,sans-Serif\" font-size=\"14.00\">False</text>\r\n",
       "</g>\r\n",
       "<!-- 2 -->\r\n",
       "<g id=\"node3\" class=\"node\"><title>2</title>\r\n",
       "<path fill=\"#eb9f69\" stroke=\"black\" d=\"M815,-573C815,-573 574,-573 574,-573 568,-573 562,-567 562,-561 562,-561 562,-517 562,-517 562,-511 568,-505 574,-505 574,-505 815,-505 815,-505 821,-505 827,-511 827,-517 827,-517 827,-561 827,-561 827,-567 821,-573 815,-573\"/>\r\n",
       "<text text-anchor=\"middle\" x=\"694.5\" y=\"-557.8\" font-family=\"Helvetica,sans-Serif\" font-size=\"14.00\">Population_Driver_licence(%) &lt;= 0.648</text>\r\n",
       "<text text-anchor=\"middle\" x=\"694.5\" y=\"-542.8\" font-family=\"Helvetica,sans-Serif\" font-size=\"14.00\">mse = 3930.0</text>\r\n",
       "<text text-anchor=\"middle\" x=\"694.5\" y=\"-527.8\" font-family=\"Helvetica,sans-Serif\" font-size=\"14.00\">samples = 7</text>\r\n",
       "<text text-anchor=\"middle\" x=\"694.5\" y=\"-512.8\" font-family=\"Helvetica,sans-Serif\" font-size=\"14.00\">value = 676.0</text>\r\n",
       "</g>\r\n",
       "<!-- 1&#45;&gt;2 -->\r\n",
       "<g id=\"edge2\" class=\"edge\"><title>1&#45;&gt;2</title>\r\n",
       "<path fill=\"none\" stroke=\"black\" d=\"M948.193,-613.723C907.829,-601.993 860.528,-588.247 817.776,-575.824\"/>\r\n",
       "<polygon fill=\"black\" stroke=\"black\" points=\"818.738,-572.459 808.159,-573.029 816.785,-579.181 818.738,-572.459\"/>\r\n",
       "</g>\r\n",
       "<!-- 15 -->\r\n",
       "<g id=\"node16\" class=\"node\"><title>15</title>\r\n",
       "<path fill=\"#f1ba92\" stroke=\"black\" d=\"M1130.5,-573C1130.5,-573 960.5,-573 960.5,-573 954.5,-573 948.5,-567 948.5,-561 948.5,-561 948.5,-517 948.5,-517 948.5,-511 954.5,-505 960.5,-505 960.5,-505 1130.5,-505 1130.5,-505 1136.5,-505 1142.5,-511 1142.5,-517 1142.5,-517 1142.5,-561 1142.5,-561 1142.5,-567 1136.5,-573 1130.5,-573\"/>\r\n",
       "<text text-anchor=\"middle\" x=\"1045.5\" y=\"-557.8\" font-family=\"Helvetica,sans-Serif\" font-size=\"14.00\">Average_income &lt;= 4325.0</text>\r\n",
       "<text text-anchor=\"middle\" x=\"1045.5\" y=\"-542.8\" font-family=\"Helvetica,sans-Serif\" font-size=\"14.00\">mse = 2887.05</text>\r\n",
       "<text text-anchor=\"middle\" x=\"1045.5\" y=\"-527.8\" font-family=\"Helvetica,sans-Serif\" font-size=\"14.00\">samples = 10</text>\r\n",
       "<text text-anchor=\"middle\" x=\"1045.5\" y=\"-512.8\" font-family=\"Helvetica,sans-Serif\" font-size=\"14.00\">value = 585.5</text>\r\n",
       "</g>\r\n",
       "<!-- 1&#45;&gt;15 -->\r\n",
       "<g id=\"edge15\" class=\"edge\"><title>1&#45;&gt;15</title>\r\n",
       "<path fill=\"none\" stroke=\"black\" d=\"M1045.5,-608.884C1045.5,-600.778 1045.5,-591.982 1045.5,-583.472\"/>\r\n",
       "<polygon fill=\"black\" stroke=\"black\" points=\"1049,-583.299 1045.5,-573.299 1042,-583.299 1049,-583.299\"/>\r\n",
       "</g>\r\n",
       "<!-- 3 -->\r\n",
       "<g id=\"node4\" class=\"node\"><title>3</title>\r\n",
       "<path fill=\"#eca571\" stroke=\"black\" d=\"M567.5,-469C567.5,-469 397.5,-469 397.5,-469 391.5,-469 385.5,-463 385.5,-457 385.5,-457 385.5,-413 385.5,-413 385.5,-407 391.5,-401 397.5,-401 397.5,-401 567.5,-401 567.5,-401 573.5,-401 579.5,-407 579.5,-413 579.5,-413 579.5,-457 579.5,-457 579.5,-463 573.5,-469 567.5,-469\"/>\r\n",
       "<text text-anchor=\"middle\" x=\"482.5\" y=\"-453.8\" font-family=\"Helvetica,sans-Serif\" font-size=\"14.00\">Paved_Highways &lt;= 4404.0</text>\r\n",
       "<text text-anchor=\"middle\" x=\"482.5\" y=\"-438.8\" font-family=\"Helvetica,sans-Serif\" font-size=\"14.00\">mse = 2400.222</text>\r\n",
       "<text text-anchor=\"middle\" x=\"482.5\" y=\"-423.8\" font-family=\"Helvetica,sans-Serif\" font-size=\"14.00\">samples = 6</text>\r\n",
       "<text text-anchor=\"middle\" x=\"482.5\" y=\"-408.8\" font-family=\"Helvetica,sans-Serif\" font-size=\"14.00\">value = 658.333</text>\r\n",
       "</g>\r\n",
       "<!-- 2&#45;&gt;3 -->\r\n",
       "<g id=\"edge3\" class=\"edge\"><title>2&#45;&gt;3</title>\r\n",
       "<path fill=\"none\" stroke=\"black\" d=\"M625.67,-504.884C604.829,-494.856 581.793,-483.773 560.403,-473.482\"/>\r\n",
       "<polygon fill=\"black\" stroke=\"black\" points=\"561.876,-470.306 551.347,-469.125 558.841,-476.614 561.876,-470.306\"/>\r\n",
       "</g>\r\n",
       "<!-- 14 -->\r\n",
       "<g id=\"node15\" class=\"node\"><title>14</title>\r\n",
       "<path fill=\"#e58139\" stroke=\"black\" d=\"M733.5,-461.5C733.5,-461.5 655.5,-461.5 655.5,-461.5 649.5,-461.5 643.5,-455.5 643.5,-449.5 643.5,-449.5 643.5,-420.5 643.5,-420.5 643.5,-414.5 649.5,-408.5 655.5,-408.5 655.5,-408.5 733.5,-408.5 733.5,-408.5 739.5,-408.5 745.5,-414.5 745.5,-420.5 745.5,-420.5 745.5,-449.5 745.5,-449.5 745.5,-455.5 739.5,-461.5 733.5,-461.5\"/>\r\n",
       "<text text-anchor=\"middle\" x=\"694.5\" y=\"-446.3\" font-family=\"Helvetica,sans-Serif\" font-size=\"14.00\">mse = 0.0</text>\r\n",
       "<text text-anchor=\"middle\" x=\"694.5\" y=\"-431.3\" font-family=\"Helvetica,sans-Serif\" font-size=\"14.00\">samples = 1</text>\r\n",
       "<text text-anchor=\"middle\" x=\"694.5\" y=\"-416.3\" font-family=\"Helvetica,sans-Serif\" font-size=\"14.00\">value = 782.0</text>\r\n",
       "</g>\r\n",
       "<!-- 2&#45;&gt;14 -->\r\n",
       "<g id=\"edge14\" class=\"edge\"><title>2&#45;&gt;14</title>\r\n",
       "<path fill=\"none\" stroke=\"black\" d=\"M694.5,-504.884C694.5,-494.326 694.5,-482.597 694.5,-471.854\"/>\r\n",
       "<polygon fill=\"black\" stroke=\"black\" points=\"698,-471.52 694.5,-461.52 691,-471.52 698,-471.52\"/>\r\n",
       "</g>\r\n",
       "<!-- 4 -->\r\n",
       "<g id=\"node5\" class=\"node\"><title>4</title>\r\n",
       "<path fill=\"#eeac7c\" stroke=\"black\" d=\"M318.5,-365C318.5,-365 148.5,-365 148.5,-365 142.5,-365 136.5,-359 136.5,-353 136.5,-353 136.5,-309 136.5,-309 136.5,-303 142.5,-297 148.5,-297 148.5,-297 318.5,-297 318.5,-297 324.5,-297 330.5,-303 330.5,-309 330.5,-309 330.5,-353 330.5,-353 330.5,-359 324.5,-365 318.5,-365\"/>\r\n",
       "<text text-anchor=\"middle\" x=\"233.5\" y=\"-349.8\" font-family=\"Helvetica,sans-Serif\" font-size=\"14.00\">Average_income &lt;= 3700.5</text>\r\n",
       "<text text-anchor=\"middle\" x=\"233.5\" y=\"-334.8\" font-family=\"Helvetica,sans-Serif\" font-size=\"14.00\">mse = 1662.5</text>\r\n",
       "<text text-anchor=\"middle\" x=\"233.5\" y=\"-319.8\" font-family=\"Helvetica,sans-Serif\" font-size=\"14.00\">samples = 4</text>\r\n",
       "<text text-anchor=\"middle\" x=\"233.5\" y=\"-304.8\" font-family=\"Helvetica,sans-Serif\" font-size=\"14.00\">value = 633.0</text>\r\n",
       "</g>\r\n",
       "<!-- 3&#45;&gt;4 -->\r\n",
       "<g id=\"edge4\" class=\"edge\"><title>3&#45;&gt;4</title>\r\n",
       "<path fill=\"none\" stroke=\"black\" d=\"M401.657,-400.884C376.742,-390.677 349.156,-379.377 323.655,-368.931\"/>\r\n",
       "<polygon fill=\"black\" stroke=\"black\" points=\"324.944,-365.677 314.363,-365.125 322.29,-372.154 324.944,-365.677\"/>\r\n",
       "</g>\r\n",
       "<!-- 11 -->\r\n",
       "<g id=\"node12\" class=\"node\"><title>11</title>\r\n",
       "<path fill=\"#e9965a\" stroke=\"black\" d=\"M567.5,-365C567.5,-365 397.5,-365 397.5,-365 391.5,-365 385.5,-359 385.5,-353 385.5,-353 385.5,-309 385.5,-309 385.5,-303 391.5,-297 397.5,-297 397.5,-297 567.5,-297 567.5,-297 573.5,-297 579.5,-303 579.5,-309 579.5,-309 579.5,-353 579.5,-353 579.5,-359 573.5,-365 567.5,-365\"/>\r\n",
       "<text text-anchor=\"middle\" x=\"482.5\" y=\"-349.8\" font-family=\"Helvetica,sans-Serif\" font-size=\"14.00\">Average_income &lt;= 3807.5</text>\r\n",
       "<text text-anchor=\"middle\" x=\"482.5\" y=\"-334.8\" font-family=\"Helvetica,sans-Serif\" font-size=\"14.00\">mse = 25.0</text>\r\n",
       "<text text-anchor=\"middle\" x=\"482.5\" y=\"-319.8\" font-family=\"Helvetica,sans-Serif\" font-size=\"14.00\">samples = 2</text>\r\n",
       "<text text-anchor=\"middle\" x=\"482.5\" y=\"-304.8\" font-family=\"Helvetica,sans-Serif\" font-size=\"14.00\">value = 709.0</text>\r\n",
       "</g>\r\n",
       "<!-- 3&#45;&gt;11 -->\r\n",
       "<g id=\"edge11\" class=\"edge\"><title>3&#45;&gt;11</title>\r\n",
       "<path fill=\"none\" stroke=\"black\" d=\"M482.5,-400.884C482.5,-392.778 482.5,-383.982 482.5,-375.472\"/>\r\n",
       "<polygon fill=\"black\" stroke=\"black\" points=\"486,-375.299 482.5,-365.299 479,-375.299 486,-375.299\"/>\r\n",
       "</g>\r\n",
       "<!-- 5 -->\r\n",
       "<g id=\"node6\" class=\"node\"><title>5</title>\r\n",
       "<path fill=\"#ea995f\" stroke=\"black\" d=\"M106.5,-253.5C106.5,-253.5 28.5,-253.5 28.5,-253.5 22.5,-253.5 16.5,-247.5 16.5,-241.5 16.5,-241.5 16.5,-212.5 16.5,-212.5 16.5,-206.5 22.5,-200.5 28.5,-200.5 28.5,-200.5 106.5,-200.5 106.5,-200.5 112.5,-200.5 118.5,-206.5 118.5,-212.5 118.5,-212.5 118.5,-241.5 118.5,-241.5 118.5,-247.5 112.5,-253.5 106.5,-253.5\"/>\r\n",
       "<text text-anchor=\"middle\" x=\"67.5\" y=\"-238.3\" font-family=\"Helvetica,sans-Serif\" font-size=\"14.00\">mse = 0.0</text>\r\n",
       "<text text-anchor=\"middle\" x=\"67.5\" y=\"-223.3\" font-family=\"Helvetica,sans-Serif\" font-size=\"14.00\">samples = 1</text>\r\n",
       "<text text-anchor=\"middle\" x=\"67.5\" y=\"-208.3\" font-family=\"Helvetica,sans-Serif\" font-size=\"14.00\">value = 699.0</text>\r\n",
       "</g>\r\n",
       "<!-- 4&#45;&gt;5 -->\r\n",
       "<g id=\"edge5\" class=\"edge\"><title>4&#45;&gt;5</title>\r\n",
       "<path fill=\"none\" stroke=\"black\" d=\"M179.605,-296.884C159.737,-284.676 137.322,-270.903 117.786,-258.899\"/>\r\n",
       "<polygon fill=\"black\" stroke=\"black\" points=\"119.385,-255.773 109.032,-253.52 115.72,-261.737 119.385,-255.773\"/>\r\n",
       "</g>\r\n",
       "<!-- 6 -->\r\n",
       "<g id=\"node7\" class=\"node\"><title>6</title>\r\n",
       "<path fill=\"#efb286\" stroke=\"black\" d=\"M318.5,-261C318.5,-261 148.5,-261 148.5,-261 142.5,-261 136.5,-255 136.5,-249 136.5,-249 136.5,-205 136.5,-205 136.5,-199 142.5,-193 148.5,-193 148.5,-193 318.5,-193 318.5,-193 324.5,-193 330.5,-199 330.5,-205 330.5,-205 330.5,-249 330.5,-249 330.5,-255 324.5,-261 318.5,-261\"/>\r\n",
       "<text text-anchor=\"middle\" x=\"233.5\" y=\"-245.8\" font-family=\"Helvetica,sans-Serif\" font-size=\"14.00\">Average_income &lt;= 4298.0</text>\r\n",
       "<text text-anchor=\"middle\" x=\"233.5\" y=\"-230.8\" font-family=\"Helvetica,sans-Serif\" font-size=\"14.00\">mse = 280.667</text>\r\n",
       "<text text-anchor=\"middle\" x=\"233.5\" y=\"-215.8\" font-family=\"Helvetica,sans-Serif\" font-size=\"14.00\">samples = 3</text>\r\n",
       "<text text-anchor=\"middle\" x=\"233.5\" y=\"-200.8\" font-family=\"Helvetica,sans-Serif\" font-size=\"14.00\">value = 611.0</text>\r\n",
       "</g>\r\n",
       "<!-- 4&#45;&gt;6 -->\r\n",
       "<g id=\"edge6\" class=\"edge\"><title>4&#45;&gt;6</title>\r\n",
       "<path fill=\"none\" stroke=\"black\" d=\"M233.5,-296.884C233.5,-288.778 233.5,-279.982 233.5,-271.472\"/>\r\n",
       "<polygon fill=\"black\" stroke=\"black\" points=\"237,-271.299 233.5,-261.299 230,-271.299 237,-271.299\"/>\r\n",
       "</g>\r\n",
       "<!-- 7 -->\r\n",
       "<g id=\"node8\" class=\"node\"><title>7</title>\r\n",
       "<path fill=\"#f0b58b\" stroke=\"black\" d=\"M253,-157C253,-157 12,-157 12,-157 6,-157 0,-151 0,-145 0,-145 0,-101 0,-101 0,-95 6,-89 12,-89 12,-89 253,-89 253,-89 259,-89 265,-95 265,-101 265,-101 265,-145 265,-145 265,-151 259,-157 253,-157\"/>\r\n",
       "<text text-anchor=\"middle\" x=\"132.5\" y=\"-141.8\" font-family=\"Helvetica,sans-Serif\" font-size=\"14.00\">Population_Driver_licence(%) &lt;= 0.566</text>\r\n",
       "<text text-anchor=\"middle\" x=\"132.5\" y=\"-126.8\" font-family=\"Helvetica,sans-Serif\" font-size=\"14.00\">mse = 90.25</text>\r\n",
       "<text text-anchor=\"middle\" x=\"132.5\" y=\"-111.8\" font-family=\"Helvetica,sans-Serif\" font-size=\"14.00\">samples = 2</text>\r\n",
       "<text text-anchor=\"middle\" x=\"132.5\" y=\"-96.8\" font-family=\"Helvetica,sans-Serif\" font-size=\"14.00\">value = 600.5</text>\r\n",
       "</g>\r\n",
       "<!-- 6&#45;&gt;7 -->\r\n",
       "<g id=\"edge7\" class=\"edge\"><title>6&#45;&gt;7</title>\r\n",
       "<path fill=\"none\" stroke=\"black\" d=\"M200.708,-192.884C191.8,-183.887 182.05,-174.041 172.78,-164.678\"/>\r\n",
       "<polygon fill=\"black\" stroke=\"black\" points=\"174.996,-161.943 165.473,-157.299 170.022,-166.868 174.996,-161.943\"/>\r\n",
       "</g>\r\n",
       "<!-- 10 -->\r\n",
       "<g id=\"node11\" class=\"node\"><title>10</title>\r\n",
       "<path fill=\"#eeac7d\" stroke=\"black\" d=\"M373.5,-149.5C373.5,-149.5 295.5,-149.5 295.5,-149.5 289.5,-149.5 283.5,-143.5 283.5,-137.5 283.5,-137.5 283.5,-108.5 283.5,-108.5 283.5,-102.5 289.5,-96.5 295.5,-96.5 295.5,-96.5 373.5,-96.5 373.5,-96.5 379.5,-96.5 385.5,-102.5 385.5,-108.5 385.5,-108.5 385.5,-137.5 385.5,-137.5 385.5,-143.5 379.5,-149.5 373.5,-149.5\"/>\r\n",
       "<text text-anchor=\"middle\" x=\"334.5\" y=\"-134.3\" font-family=\"Helvetica,sans-Serif\" font-size=\"14.00\">mse = 0.0</text>\r\n",
       "<text text-anchor=\"middle\" x=\"334.5\" y=\"-119.3\" font-family=\"Helvetica,sans-Serif\" font-size=\"14.00\">samples = 1</text>\r\n",
       "<text text-anchor=\"middle\" x=\"334.5\" y=\"-104.3\" font-family=\"Helvetica,sans-Serif\" font-size=\"14.00\">value = 632.0</text>\r\n",
       "</g>\r\n",
       "<!-- 6&#45;&gt;10 -->\r\n",
       "<g id=\"edge10\" class=\"edge\"><title>6&#45;&gt;10</title>\r\n",
       "<path fill=\"none\" stroke=\"black\" d=\"M266.292,-192.884C277.726,-181.336 290.548,-168.387 301.962,-156.86\"/>\r\n",
       "<polygon fill=\"black\" stroke=\"black\" points=\"304.681,-159.088 309.23,-149.52 299.707,-154.163 304.681,-159.088\"/>\r\n",
       "</g>\r\n",
       "<!-- 8 -->\r\n",
       "<g id=\"node9\" class=\"node\"><title>8</title>\r\n",
       "<path fill=\"#f0b88f\" stroke=\"black\" d=\"M111.5,-53C111.5,-53 33.5,-53 33.5,-53 27.5,-53 21.5,-47 21.5,-41 21.5,-41 21.5,-12 21.5,-12 21.5,-6 27.5,-0 33.5,-0 33.5,-0 111.5,-0 111.5,-0 117.5,-0 123.5,-6 123.5,-12 123.5,-12 123.5,-41 123.5,-41 123.5,-47 117.5,-53 111.5,-53\"/>\r\n",
       "<text text-anchor=\"middle\" x=\"72.5\" y=\"-37.8\" font-family=\"Helvetica,sans-Serif\" font-size=\"14.00\">mse = 0.0</text>\r\n",
       "<text text-anchor=\"middle\" x=\"72.5\" y=\"-22.8\" font-family=\"Helvetica,sans-Serif\" font-size=\"14.00\">samples = 1</text>\r\n",
       "<text text-anchor=\"middle\" x=\"72.5\" y=\"-7.8\" font-family=\"Helvetica,sans-Serif\" font-size=\"14.00\">value = 591.0</text>\r\n",
       "</g>\r\n",
       "<!-- 7&#45;&gt;8 -->\r\n",
       "<g id=\"edge8\" class=\"edge\"><title>7&#45;&gt;8</title>\r\n",
       "<path fill=\"none\" stroke=\"black\" d=\"M111.515,-88.9485C105.939,-80.1664 99.905,-70.6629 94.2873,-61.815\"/>\r\n",
       "<polygon fill=\"black\" stroke=\"black\" points=\"97.1556,-59.8028 88.8408,-53.2367 91.2461,-63.5549 97.1556,-59.8028\"/>\r\n",
       "</g>\r\n",
       "<!-- 9 -->\r\n",
       "<g id=\"node10\" class=\"node\"><title>9</title>\r\n",
       "<path fill=\"#efb287\" stroke=\"black\" d=\"M231.5,-53C231.5,-53 153.5,-53 153.5,-53 147.5,-53 141.5,-47 141.5,-41 141.5,-41 141.5,-12 141.5,-12 141.5,-6 147.5,-0 153.5,-0 153.5,-0 231.5,-0 231.5,-0 237.5,-0 243.5,-6 243.5,-12 243.5,-12 243.5,-41 243.5,-41 243.5,-47 237.5,-53 231.5,-53\"/>\r\n",
       "<text text-anchor=\"middle\" x=\"192.5\" y=\"-37.8\" font-family=\"Helvetica,sans-Serif\" font-size=\"14.00\">mse = 0.0</text>\r\n",
       "<text text-anchor=\"middle\" x=\"192.5\" y=\"-22.8\" font-family=\"Helvetica,sans-Serif\" font-size=\"14.00\">samples = 1</text>\r\n",
       "<text text-anchor=\"middle\" x=\"192.5\" y=\"-7.8\" font-family=\"Helvetica,sans-Serif\" font-size=\"14.00\">value = 610.0</text>\r\n",
       "</g>\r\n",
       "<!-- 7&#45;&gt;9 -->\r\n",
       "<g id=\"edge9\" class=\"edge\"><title>7&#45;&gt;9</title>\r\n",
       "<path fill=\"none\" stroke=\"black\" d=\"M153.485,-88.9485C159.061,-80.1664 165.095,-70.6629 170.713,-61.815\"/>\r\n",
       "<polygon fill=\"black\" stroke=\"black\" points=\"173.754,-63.5549 176.159,-53.2367 167.844,-59.8028 173.754,-63.5549\"/>\r\n",
       "</g>\r\n",
       "<!-- 12 -->\r\n",
       "<g id=\"node13\" class=\"node\"><title>12</title>\r\n",
       "<path fill=\"#e99558\" stroke=\"black\" d=\"M438.5,-253.5C438.5,-253.5 360.5,-253.5 360.5,-253.5 354.5,-253.5 348.5,-247.5 348.5,-241.5 348.5,-241.5 348.5,-212.5 348.5,-212.5 348.5,-206.5 354.5,-200.5 360.5,-200.5 360.5,-200.5 438.5,-200.5 438.5,-200.5 444.5,-200.5 450.5,-206.5 450.5,-212.5 450.5,-212.5 450.5,-241.5 450.5,-241.5 450.5,-247.5 444.5,-253.5 438.5,-253.5\"/>\r\n",
       "<text text-anchor=\"middle\" x=\"399.5\" y=\"-238.3\" font-family=\"Helvetica,sans-Serif\" font-size=\"14.00\">mse = 0.0</text>\r\n",
       "<text text-anchor=\"middle\" x=\"399.5\" y=\"-223.3\" font-family=\"Helvetica,sans-Serif\" font-size=\"14.00\">samples = 1</text>\r\n",
       "<text text-anchor=\"middle\" x=\"399.5\" y=\"-208.3\" font-family=\"Helvetica,sans-Serif\" font-size=\"14.00\">value = 714.0</text>\r\n",
       "</g>\r\n",
       "<!-- 11&#45;&gt;12 -->\r\n",
       "<g id=\"edge12\" class=\"edge\"><title>11&#45;&gt;12</title>\r\n",
       "<path fill=\"none\" stroke=\"black\" d=\"M455.552,-296.884C446.335,-285.556 436.02,-272.88 426.777,-261.521\"/>\r\n",
       "<polygon fill=\"black\" stroke=\"black\" points=\"429.293,-259.067 420.266,-253.52 423.863,-263.486 429.293,-259.067\"/>\r\n",
       "</g>\r\n",
       "<!-- 13 -->\r\n",
       "<g id=\"node14\" class=\"node\"><title>13</title>\r\n",
       "<path fill=\"#ea975c\" stroke=\"black\" d=\"M558.5,-253.5C558.5,-253.5 480.5,-253.5 480.5,-253.5 474.5,-253.5 468.5,-247.5 468.5,-241.5 468.5,-241.5 468.5,-212.5 468.5,-212.5 468.5,-206.5 474.5,-200.5 480.5,-200.5 480.5,-200.5 558.5,-200.5 558.5,-200.5 564.5,-200.5 570.5,-206.5 570.5,-212.5 570.5,-212.5 570.5,-241.5 570.5,-241.5 570.5,-247.5 564.5,-253.5 558.5,-253.5\"/>\r\n",
       "<text text-anchor=\"middle\" x=\"519.5\" y=\"-238.3\" font-family=\"Helvetica,sans-Serif\" font-size=\"14.00\">mse = 0.0</text>\r\n",
       "<text text-anchor=\"middle\" x=\"519.5\" y=\"-223.3\" font-family=\"Helvetica,sans-Serif\" font-size=\"14.00\">samples = 1</text>\r\n",
       "<text text-anchor=\"middle\" x=\"519.5\" y=\"-208.3\" font-family=\"Helvetica,sans-Serif\" font-size=\"14.00\">value = 704.0</text>\r\n",
       "</g>\r\n",
       "<!-- 11&#45;&gt;13 -->\r\n",
       "<g id=\"edge13\" class=\"edge\"><title>11&#45;&gt;13</title>\r\n",
       "<path fill=\"none\" stroke=\"black\" d=\"M494.513,-296.884C498.422,-286.106 502.775,-274.108 506.737,-263.184\"/>\r\n",
       "<polygon fill=\"black\" stroke=\"black\" points=\"510.123,-264.114 510.243,-253.52 503.542,-261.727 510.123,-264.114\"/>\r\n",
       "</g>\r\n",
       "<!-- 16 -->\r\n",
       "<g id=\"node17\" class=\"node\"><title>16</title>\r\n",
       "<path fill=\"#efb083\" stroke=\"black\" d=\"M986.5,-469C986.5,-469 816.5,-469 816.5,-469 810.5,-469 804.5,-463 804.5,-457 804.5,-457 804.5,-413 804.5,-413 804.5,-407 810.5,-401 816.5,-401 816.5,-401 986.5,-401 986.5,-401 992.5,-401 998.5,-407 998.5,-413 998.5,-413 998.5,-457 998.5,-457 998.5,-463 992.5,-469 986.5,-469\"/>\r\n",
       "<text text-anchor=\"middle\" x=\"901.5\" y=\"-453.8\" font-family=\"Helvetica,sans-Serif\" font-size=\"14.00\">Paved_Highways &lt;= 7369.5</text>\r\n",
       "<text text-anchor=\"middle\" x=\"901.5\" y=\"-438.8\" font-family=\"Helvetica,sans-Serif\" font-size=\"14.00\">mse = 776.24</text>\r\n",
       "<text text-anchor=\"middle\" x=\"901.5\" y=\"-423.8\" font-family=\"Helvetica,sans-Serif\" font-size=\"14.00\">samples = 5</text>\r\n",
       "<text text-anchor=\"middle\" x=\"901.5\" y=\"-408.8\" font-family=\"Helvetica,sans-Serif\" font-size=\"14.00\">value = 618.6</text>\r\n",
       "</g>\r\n",
       "<!-- 15&#45;&gt;16 -->\r\n",
       "<g id=\"edge16\" class=\"edge\"><title>15&#45;&gt;16</title>\r\n",
       "<path fill=\"none\" stroke=\"black\" d=\"M998.747,-504.884C985.418,-495.442 970.766,-485.064 956.971,-475.292\"/>\r\n",
       "<polygon fill=\"black\" stroke=\"black\" points=\"958.694,-472.223 948.511,-469.299 954.648,-477.936 958.694,-472.223\"/>\r\n",
       "</g>\r\n",
       "<!-- 25 -->\r\n",
       "<g id=\"node26\" class=\"node\"><title>25</title>\r\n",
       "<path fill=\"#f3c3a1\" stroke=\"black\" d=\"M1270,-469C1270,-469 1029,-469 1029,-469 1023,-469 1017,-463 1017,-457 1017,-457 1017,-413 1017,-413 1017,-407 1023,-401 1029,-401 1029,-401 1270,-401 1270,-401 1276,-401 1282,-407 1282,-413 1282,-413 1282,-457 1282,-457 1282,-463 1276,-469 1270,-469\"/>\r\n",
       "<text text-anchor=\"middle\" x=\"1149.5\" y=\"-453.8\" font-family=\"Helvetica,sans-Serif\" font-size=\"14.00\">Population_Driver_licence(%) &lt;= 0.635</text>\r\n",
       "<text text-anchor=\"middle\" x=\"1149.5\" y=\"-438.8\" font-family=\"Helvetica,sans-Serif\" font-size=\"14.00\">mse = 2806.64</text>\r\n",
       "<text text-anchor=\"middle\" x=\"1149.5\" y=\"-423.8\" font-family=\"Helvetica,sans-Serif\" font-size=\"14.00\">samples = 5</text>\r\n",
       "<text text-anchor=\"middle\" x=\"1149.5\" y=\"-408.8\" font-family=\"Helvetica,sans-Serif\" font-size=\"14.00\">value = 552.4</text>\r\n",
       "</g>\r\n",
       "<!-- 15&#45;&gt;25 -->\r\n",
       "<g id=\"edge25\" class=\"edge\"><title>15&#45;&gt;25</title>\r\n",
       "<path fill=\"none\" stroke=\"black\" d=\"M1079.27,-504.884C1088.53,-495.798 1098.68,-485.845 1108.31,-476.4\"/>\r\n",
       "<polygon fill=\"black\" stroke=\"black\" points=\"1110.86,-478.8 1115.55,-469.299 1105.96,-473.803 1110.86,-478.8\"/>\r\n",
       "</g>\r\n",
       "<!-- 17 -->\r\n",
       "<g id=\"node18\" class=\"node\"><title>17</title>\r\n",
       "<path fill=\"#f2be98\" stroke=\"black\" d=\"M783.5,-357.5C783.5,-357.5 705.5,-357.5 705.5,-357.5 699.5,-357.5 693.5,-351.5 693.5,-345.5 693.5,-345.5 693.5,-316.5 693.5,-316.5 693.5,-310.5 699.5,-304.5 705.5,-304.5 705.5,-304.5 783.5,-304.5 783.5,-304.5 789.5,-304.5 795.5,-310.5 795.5,-316.5 795.5,-316.5 795.5,-345.5 795.5,-345.5 795.5,-351.5 789.5,-357.5 783.5,-357.5\"/>\r\n",
       "<text text-anchor=\"middle\" x=\"744.5\" y=\"-342.3\" font-family=\"Helvetica,sans-Serif\" font-size=\"14.00\">mse = 0.0</text>\r\n",
       "<text text-anchor=\"middle\" x=\"744.5\" y=\"-327.3\" font-family=\"Helvetica,sans-Serif\" font-size=\"14.00\">samples = 1</text>\r\n",
       "<text text-anchor=\"middle\" x=\"744.5\" y=\"-312.3\" font-family=\"Helvetica,sans-Serif\" font-size=\"14.00\">value = 571.0</text>\r\n",
       "</g>\r\n",
       "<!-- 16&#45;&gt;17 -->\r\n",
       "<g id=\"edge17\" class=\"edge\"><title>16&#45;&gt;17</title>\r\n",
       "<path fill=\"none\" stroke=\"black\" d=\"M850.527,-400.884C831.821,-388.731 810.728,-375.027 792.31,-363.061\"/>\r\n",
       "<polygon fill=\"black\" stroke=\"black\" points=\"794.073,-360.033 783.781,-357.52 790.26,-365.903 794.073,-360.033\"/>\r\n",
       "</g>\r\n",
       "<!-- 18 -->\r\n",
       "<g id=\"node19\" class=\"node\"><title>18</title>\r\n",
       "<path fill=\"#eead7d\" stroke=\"black\" d=\"M995.5,-365C995.5,-365 825.5,-365 825.5,-365 819.5,-365 813.5,-359 813.5,-353 813.5,-353 813.5,-309 813.5,-309 813.5,-303 819.5,-297 825.5,-297 825.5,-297 995.5,-297 995.5,-297 1001.5,-297 1007.5,-303 1007.5,-309 1007.5,-309 1007.5,-353 1007.5,-353 1007.5,-359 1001.5,-365 995.5,-365\"/>\r\n",
       "<text text-anchor=\"middle\" x=\"910.5\" y=\"-349.8\" font-family=\"Helvetica,sans-Serif\" font-size=\"14.00\">Average_income &lt;= 4125.5</text>\r\n",
       "<text text-anchor=\"middle\" x=\"910.5\" y=\"-334.8\" font-family=\"Helvetica,sans-Serif\" font-size=\"14.00\">mse = 262.25</text>\r\n",
       "<text text-anchor=\"middle\" x=\"910.5\" y=\"-319.8\" font-family=\"Helvetica,sans-Serif\" font-size=\"14.00\">samples = 4</text>\r\n",
       "<text text-anchor=\"middle\" x=\"910.5\" y=\"-304.8\" font-family=\"Helvetica,sans-Serif\" font-size=\"14.00\">value = 630.5</text>\r\n",
       "</g>\r\n",
       "<!-- 16&#45;&gt;18 -->\r\n",
       "<g id=\"edge18\" class=\"edge\"><title>16&#45;&gt;18</title>\r\n",
       "<path fill=\"none\" stroke=\"black\" d=\"M904.422,-400.884C905.137,-392.778 905.913,-383.982 906.664,-375.472\"/>\r\n",
       "<polygon fill=\"black\" stroke=\"black\" points=\"910.169,-375.568 907.562,-365.299 903.196,-374.953 910.169,-375.568\"/>\r\n",
       "</g>\r\n",
       "<!-- 19 -->\r\n",
       "<g id=\"node20\" class=\"node\"><title>19</title>\r\n",
       "<path fill=\"#eda978\" stroke=\"black\" d=\"M770.5,-261C770.5,-261 600.5,-261 600.5,-261 594.5,-261 588.5,-255 588.5,-249 588.5,-249 588.5,-205 588.5,-205 588.5,-199 594.5,-193 600.5,-193 600.5,-193 770.5,-193 770.5,-193 776.5,-193 782.5,-199 782.5,-205 782.5,-205 782.5,-249 782.5,-249 782.5,-255 776.5,-261 770.5,-261\"/>\r\n",
       "<text text-anchor=\"middle\" x=\"685.5\" y=\"-245.8\" font-family=\"Helvetica,sans-Serif\" font-size=\"14.00\">Average_income &lt;= 3923.5</text>\r\n",
       "<text text-anchor=\"middle\" x=\"685.5\" y=\"-230.8\" font-family=\"Helvetica,sans-Serif\" font-size=\"14.00\">mse = 4.0</text>\r\n",
       "<text text-anchor=\"middle\" x=\"685.5\" y=\"-215.8\" font-family=\"Helvetica,sans-Serif\" font-size=\"14.00\">samples = 2</text>\r\n",
       "<text text-anchor=\"middle\" x=\"685.5\" y=\"-200.8\" font-family=\"Helvetica,sans-Serif\" font-size=\"14.00\">value = 642.0</text>\r\n",
       "</g>\r\n",
       "<!-- 18&#45;&gt;19 -->\r\n",
       "<g id=\"edge19\" class=\"edge\"><title>18&#45;&gt;19</title>\r\n",
       "<path fill=\"none\" stroke=\"black\" d=\"M837.449,-296.884C815.231,-286.812 790.664,-275.674 767.876,-265.344\"/>\r\n",
       "<polygon fill=\"black\" stroke=\"black\" points=\"769.122,-262.066 758.569,-261.125 766.232,-268.441 769.122,-262.066\"/>\r\n",
       "</g>\r\n",
       "<!-- 22 -->\r\n",
       "<g id=\"node23\" class=\"node\"><title>22</title>\r\n",
       "<path fill=\"#efb083\" stroke=\"black\" d=\"M1054,-261C1054,-261 813,-261 813,-261 807,-261 801,-255 801,-249 801,-249 801,-205 801,-205 801,-199 807,-193 813,-193 813,-193 1054,-193 1054,-193 1060,-193 1066,-199 1066,-205 1066,-205 1066,-249 1066,-249 1066,-255 1060,-261 1054,-261\"/>\r\n",
       "<text text-anchor=\"middle\" x=\"933.5\" y=\"-245.8\" font-family=\"Helvetica,sans-Serif\" font-size=\"14.00\">Population_Driver_licence(%) &lt;= 0.579</text>\r\n",
       "<text text-anchor=\"middle\" x=\"933.5\" y=\"-230.8\" font-family=\"Helvetica,sans-Serif\" font-size=\"14.00\">mse = 256.0</text>\r\n",
       "<text text-anchor=\"middle\" x=\"933.5\" y=\"-215.8\" font-family=\"Helvetica,sans-Serif\" font-size=\"14.00\">samples = 2</text>\r\n",
       "<text text-anchor=\"middle\" x=\"933.5\" y=\"-200.8\" font-family=\"Helvetica,sans-Serif\" font-size=\"14.00\">value = 619.0</text>\r\n",
       "</g>\r\n",
       "<!-- 18&#45;&gt;22 -->\r\n",
       "<g id=\"edge22\" class=\"edge\"><title>18&#45;&gt;22</title>\r\n",
       "<path fill=\"none\" stroke=\"black\" d=\"M917.967,-296.884C919.815,-288.689 921.822,-279.789 923.761,-271.192\"/>\r\n",
       "<polygon fill=\"black\" stroke=\"black\" points=\"927.206,-271.824 925.991,-261.299 920.377,-270.285 927.206,-271.824\"/>\r\n",
       "</g>\r\n",
       "<!-- 20 -->\r\n",
       "<g id=\"node21\" class=\"node\"><title>20</title>\r\n",
       "<path fill=\"#eda977\" stroke=\"black\" d=\"M638.5,-149.5C638.5,-149.5 560.5,-149.5 560.5,-149.5 554.5,-149.5 548.5,-143.5 548.5,-137.5 548.5,-137.5 548.5,-108.5 548.5,-108.5 548.5,-102.5 554.5,-96.5 560.5,-96.5 560.5,-96.5 638.5,-96.5 638.5,-96.5 644.5,-96.5 650.5,-102.5 650.5,-108.5 650.5,-108.5 650.5,-137.5 650.5,-137.5 650.5,-143.5 644.5,-149.5 638.5,-149.5\"/>\r\n",
       "<text text-anchor=\"middle\" x=\"599.5\" y=\"-134.3\" font-family=\"Helvetica,sans-Serif\" font-size=\"14.00\">mse = 0.0</text>\r\n",
       "<text text-anchor=\"middle\" x=\"599.5\" y=\"-119.3\" font-family=\"Helvetica,sans-Serif\" font-size=\"14.00\">samples = 1</text>\r\n",
       "<text text-anchor=\"middle\" x=\"599.5\" y=\"-104.3\" font-family=\"Helvetica,sans-Serif\" font-size=\"14.00\">value = 644.0</text>\r\n",
       "</g>\r\n",
       "<!-- 19&#45;&gt;20 -->\r\n",
       "<g id=\"edge20\" class=\"edge\"><title>19&#45;&gt;20</title>\r\n",
       "<path fill=\"none\" stroke=\"black\" d=\"M657.578,-192.884C647.935,-181.446 637.132,-168.634 627.484,-157.19\"/>\r\n",
       "<polygon fill=\"black\" stroke=\"black\" points=\"630.139,-154.909 621.017,-149.52 624.787,-159.421 630.139,-154.909\"/>\r\n",
       "</g>\r\n",
       "<!-- 21 -->\r\n",
       "<g id=\"node22\" class=\"node\"><title>21</title>\r\n",
       "<path fill=\"#edaa79\" stroke=\"black\" d=\"M758.5,-149.5C758.5,-149.5 680.5,-149.5 680.5,-149.5 674.5,-149.5 668.5,-143.5 668.5,-137.5 668.5,-137.5 668.5,-108.5 668.5,-108.5 668.5,-102.5 674.5,-96.5 680.5,-96.5 680.5,-96.5 758.5,-96.5 758.5,-96.5 764.5,-96.5 770.5,-102.5 770.5,-108.5 770.5,-108.5 770.5,-137.5 770.5,-137.5 770.5,-143.5 764.5,-149.5 758.5,-149.5\"/>\r\n",
       "<text text-anchor=\"middle\" x=\"719.5\" y=\"-134.3\" font-family=\"Helvetica,sans-Serif\" font-size=\"14.00\">mse = 0.0</text>\r\n",
       "<text text-anchor=\"middle\" x=\"719.5\" y=\"-119.3\" font-family=\"Helvetica,sans-Serif\" font-size=\"14.00\">samples = 1</text>\r\n",
       "<text text-anchor=\"middle\" x=\"719.5\" y=\"-104.3\" font-family=\"Helvetica,sans-Serif\" font-size=\"14.00\">value = 640.0</text>\r\n",
       "</g>\r\n",
       "<!-- 19&#45;&gt;21 -->\r\n",
       "<g id=\"edge21\" class=\"edge\"><title>19&#45;&gt;21</title>\r\n",
       "<path fill=\"none\" stroke=\"black\" d=\"M696.539,-192.884C700.131,-182.106 704.131,-170.108 707.772,-159.184\"/>\r\n",
       "<polygon fill=\"black\" stroke=\"black\" points=\"711.151,-160.114 710.993,-149.52 704.511,-157.9 711.151,-160.114\"/>\r\n",
       "</g>\r\n",
       "<!-- 23 -->\r\n",
       "<g id=\"node24\" class=\"node\"><title>23</title>\r\n",
       "<path fill=\"#f0b48a\" stroke=\"black\" d=\"M923.5,-149.5C923.5,-149.5 845.5,-149.5 845.5,-149.5 839.5,-149.5 833.5,-143.5 833.5,-137.5 833.5,-137.5 833.5,-108.5 833.5,-108.5 833.5,-102.5 839.5,-96.5 845.5,-96.5 845.5,-96.5 923.5,-96.5 923.5,-96.5 929.5,-96.5 935.5,-102.5 935.5,-108.5 935.5,-108.5 935.5,-137.5 935.5,-137.5 935.5,-143.5 929.5,-149.5 923.5,-149.5\"/>\r\n",
       "<text text-anchor=\"middle\" x=\"884.5\" y=\"-134.3\" font-family=\"Helvetica,sans-Serif\" font-size=\"14.00\">mse = 0.0</text>\r\n",
       "<text text-anchor=\"middle\" x=\"884.5\" y=\"-119.3\" font-family=\"Helvetica,sans-Serif\" font-size=\"14.00\">samples = 1</text>\r\n",
       "<text text-anchor=\"middle\" x=\"884.5\" y=\"-104.3\" font-family=\"Helvetica,sans-Serif\" font-size=\"14.00\">value = 603.0</text>\r\n",
       "</g>\r\n",
       "<!-- 22&#45;&gt;23 -->\r\n",
       "<g id=\"edge23\" class=\"edge\"><title>22&#45;&gt;23</title>\r\n",
       "<path fill=\"none\" stroke=\"black\" d=\"M917.591,-192.884C912.361,-181.996 906.532,-169.863 901.242,-158.85\"/>\r\n",
       "<polygon fill=\"black\" stroke=\"black\" points=\"904.245,-157.018 896.76,-149.52 897.935,-160.049 904.245,-157.018\"/>\r\n",
       "</g>\r\n",
       "<!-- 24 -->\r\n",
       "<g id=\"node25\" class=\"node\"><title>24</title>\r\n",
       "<path fill=\"#eeab7b\" stroke=\"black\" d=\"M1043.5,-149.5C1043.5,-149.5 965.5,-149.5 965.5,-149.5 959.5,-149.5 953.5,-143.5 953.5,-137.5 953.5,-137.5 953.5,-108.5 953.5,-108.5 953.5,-102.5 959.5,-96.5 965.5,-96.5 965.5,-96.5 1043.5,-96.5 1043.5,-96.5 1049.5,-96.5 1055.5,-102.5 1055.5,-108.5 1055.5,-108.5 1055.5,-137.5 1055.5,-137.5 1055.5,-143.5 1049.5,-149.5 1043.5,-149.5\"/>\r\n",
       "<text text-anchor=\"middle\" x=\"1004.5\" y=\"-134.3\" font-family=\"Helvetica,sans-Serif\" font-size=\"14.00\">mse = 0.0</text>\r\n",
       "<text text-anchor=\"middle\" x=\"1004.5\" y=\"-119.3\" font-family=\"Helvetica,sans-Serif\" font-size=\"14.00\">samples = 1</text>\r\n",
       "<text text-anchor=\"middle\" x=\"1004.5\" y=\"-104.3\" font-family=\"Helvetica,sans-Serif\" font-size=\"14.00\">value = 635.0</text>\r\n",
       "</g>\r\n",
       "<!-- 22&#45;&gt;24 -->\r\n",
       "<g id=\"edge24\" class=\"edge\"><title>22&#45;&gt;24</title>\r\n",
       "<path fill=\"none\" stroke=\"black\" d=\"M956.552,-192.884C964.36,-181.666 973.089,-169.126 980.936,-157.852\"/>\r\n",
       "<polygon fill=\"black\" stroke=\"black\" points=\"983.896,-159.727 986.736,-149.52 978.15,-155.728 983.896,-159.727\"/>\r\n",
       "</g>\r\n",
       "<!-- 26 -->\r\n",
       "<g id=\"node27\" class=\"node\"><title>26</title>\r\n",
       "<path fill=\"#f4caac\" stroke=\"black\" d=\"M1225.5,-365C1225.5,-365 1055.5,-365 1055.5,-365 1049.5,-365 1043.5,-359 1043.5,-353 1043.5,-353 1043.5,-309 1043.5,-309 1043.5,-303 1049.5,-297 1055.5,-297 1055.5,-297 1225.5,-297 1225.5,-297 1231.5,-297 1237.5,-303 1237.5,-309 1237.5,-309 1237.5,-353 1237.5,-353 1237.5,-359 1231.5,-365 1225.5,-365\"/>\r\n",
       "<text text-anchor=\"middle\" x=\"1140.5\" y=\"-349.8\" font-family=\"Helvetica,sans-Serif\" font-size=\"14.00\">Average_income &lt;= 4422.0</text>\r\n",
       "<text text-anchor=\"middle\" x=\"1140.5\" y=\"-334.8\" font-family=\"Helvetica,sans-Serif\" font-size=\"14.00\">mse = 592.188</text>\r\n",
       "<text text-anchor=\"middle\" x=\"1140.5\" y=\"-319.8\" font-family=\"Helvetica,sans-Serif\" font-size=\"14.00\">samples = 4</text>\r\n",
       "<text text-anchor=\"middle\" x=\"1140.5\" y=\"-304.8\" font-family=\"Helvetica,sans-Serif\" font-size=\"14.00\">value = 528.25</text>\r\n",
       "</g>\r\n",
       "<!-- 25&#45;&gt;26 -->\r\n",
       "<g id=\"edge26\" class=\"edge\"><title>25&#45;&gt;26</title>\r\n",
       "<path fill=\"none\" stroke=\"black\" d=\"M1146.58,-400.884C1145.86,-392.778 1145.09,-383.982 1144.34,-375.472\"/>\r\n",
       "<polygon fill=\"black\" stroke=\"black\" points=\"1147.8,-374.953 1143.44,-365.299 1140.83,-375.568 1147.8,-374.953\"/>\r\n",
       "</g>\r\n",
       "<!-- 33 -->\r\n",
       "<g id=\"node34\" class=\"node\"><title>33</title>\r\n",
       "<path fill=\"#eda775\" stroke=\"black\" d=\"M1345.5,-357.5C1345.5,-357.5 1267.5,-357.5 1267.5,-357.5 1261.5,-357.5 1255.5,-351.5 1255.5,-345.5 1255.5,-345.5 1255.5,-316.5 1255.5,-316.5 1255.5,-310.5 1261.5,-304.5 1267.5,-304.5 1267.5,-304.5 1345.5,-304.5 1345.5,-304.5 1351.5,-304.5 1357.5,-310.5 1357.5,-316.5 1357.5,-316.5 1357.5,-345.5 1357.5,-345.5 1357.5,-351.5 1351.5,-357.5 1345.5,-357.5\"/>\r\n",
       "<text text-anchor=\"middle\" x=\"1306.5\" y=\"-342.3\" font-family=\"Helvetica,sans-Serif\" font-size=\"14.00\">mse = 0.0</text>\r\n",
       "<text text-anchor=\"middle\" x=\"1306.5\" y=\"-327.3\" font-family=\"Helvetica,sans-Serif\" font-size=\"14.00\">samples = 1</text>\r\n",
       "<text text-anchor=\"middle\" x=\"1306.5\" y=\"-312.3\" font-family=\"Helvetica,sans-Serif\" font-size=\"14.00\">value = 649.0</text>\r\n",
       "</g>\r\n",
       "<!-- 25&#45;&gt;33 -->\r\n",
       "<g id=\"edge33\" class=\"edge\"><title>25&#45;&gt;33</title>\r\n",
       "<path fill=\"none\" stroke=\"black\" d=\"M1200.47,-400.884C1219.18,-388.731 1240.27,-375.027 1258.69,-363.061\"/>\r\n",
       "<polygon fill=\"black\" stroke=\"black\" points=\"1260.74,-365.903 1267.22,-357.52 1256.93,-360.033 1260.74,-365.903\"/>\r\n",
       "</g>\r\n",
       "<!-- 27 -->\r\n",
       "<g id=\"node28\" class=\"node\"><title>27</title>\r\n",
       "<path fill=\"#f2bf9b\" stroke=\"black\" d=\"M1174.5,-253.5C1174.5,-253.5 1096.5,-253.5 1096.5,-253.5 1090.5,-253.5 1084.5,-247.5 1084.5,-241.5 1084.5,-241.5 1084.5,-212.5 1084.5,-212.5 1084.5,-206.5 1090.5,-200.5 1096.5,-200.5 1096.5,-200.5 1174.5,-200.5 1174.5,-200.5 1180.5,-200.5 1186.5,-206.5 1186.5,-212.5 1186.5,-212.5 1186.5,-241.5 1186.5,-241.5 1186.5,-247.5 1180.5,-253.5 1174.5,-253.5\"/>\r\n",
       "<text text-anchor=\"middle\" x=\"1135.5\" y=\"-238.3\" font-family=\"Helvetica,sans-Serif\" font-size=\"14.00\">mse = 0.0</text>\r\n",
       "<text text-anchor=\"middle\" x=\"1135.5\" y=\"-223.3\" font-family=\"Helvetica,sans-Serif\" font-size=\"14.00\">samples = 1</text>\r\n",
       "<text text-anchor=\"middle\" x=\"1135.5\" y=\"-208.3\" font-family=\"Helvetica,sans-Serif\" font-size=\"14.00\">value = 566.0</text>\r\n",
       "</g>\r\n",
       "<!-- 26&#45;&gt;27 -->\r\n",
       "<g id=\"edge27\" class=\"edge\"><title>26&#45;&gt;27</title>\r\n",
       "<path fill=\"none\" stroke=\"black\" d=\"M1138.88,-296.884C1138.35,-286.216 1137.77,-274.352 1137.24,-263.519\"/>\r\n",
       "<polygon fill=\"black\" stroke=\"black\" points=\"1140.74,-263.337 1136.75,-253.52 1133.74,-263.679 1140.74,-263.337\"/>\r\n",
       "</g>\r\n",
       "<!-- 28 -->\r\n",
       "<g id=\"node29\" class=\"node\"><title>28</title>\r\n",
       "<path fill=\"#f5ceb1\" stroke=\"black\" d=\"M1386.5,-261C1386.5,-261 1216.5,-261 1216.5,-261 1210.5,-261 1204.5,-255 1204.5,-249 1204.5,-249 1204.5,-205 1204.5,-205 1204.5,-199 1210.5,-193 1216.5,-193 1216.5,-193 1386.5,-193 1386.5,-193 1392.5,-193 1398.5,-199 1398.5,-205 1398.5,-205 1398.5,-249 1398.5,-249 1398.5,-255 1392.5,-261 1386.5,-261\"/>\r\n",
       "<text text-anchor=\"middle\" x=\"1301.5\" y=\"-245.8\" font-family=\"Helvetica,sans-Serif\" font-size=\"14.00\">Average_income &lt;= 4664.5</text>\r\n",
       "<text text-anchor=\"middle\" x=\"1301.5\" y=\"-230.8\" font-family=\"Helvetica,sans-Serif\" font-size=\"14.00\">mse = 156.222</text>\r\n",
       "<text text-anchor=\"middle\" x=\"1301.5\" y=\"-215.8\" font-family=\"Helvetica,sans-Serif\" font-size=\"14.00\">samples = 3</text>\r\n",
       "<text text-anchor=\"middle\" x=\"1301.5\" y=\"-200.8\" font-family=\"Helvetica,sans-Serif\" font-size=\"14.00\">value = 515.667</text>\r\n",
       "</g>\r\n",
       "<!-- 26&#45;&gt;28 -->\r\n",
       "<g id=\"edge28\" class=\"edge\"><title>26&#45;&gt;28</title>\r\n",
       "<path fill=\"none\" stroke=\"black\" d=\"M1192.77,-296.884C1208.03,-287.214 1224.85,-276.563 1240.59,-266.587\"/>\r\n",
       "<polygon fill=\"black\" stroke=\"black\" points=\"1242.64,-269.433 1249.21,-261.125 1238.89,-263.52 1242.64,-269.433\"/>\r\n",
       "</g>\r\n",
       "<!-- 29 -->\r\n",
       "<g id=\"node30\" class=\"node\"><title>29</title>\r\n",
       "<path fill=\"#f6d3b9\" stroke=\"black\" d=\"M1185.5,-149.5C1185.5,-149.5 1107.5,-149.5 1107.5,-149.5 1101.5,-149.5 1095.5,-143.5 1095.5,-137.5 1095.5,-137.5 1095.5,-108.5 1095.5,-108.5 1095.5,-102.5 1101.5,-96.5 1107.5,-96.5 1107.5,-96.5 1185.5,-96.5 1185.5,-96.5 1191.5,-96.5 1197.5,-102.5 1197.5,-108.5 1197.5,-108.5 1197.5,-137.5 1197.5,-137.5 1197.5,-143.5 1191.5,-149.5 1185.5,-149.5\"/>\r\n",
       "<text text-anchor=\"middle\" x=\"1146.5\" y=\"-134.3\" font-family=\"Helvetica,sans-Serif\" font-size=\"14.00\">mse = 0.0</text>\r\n",
       "<text text-anchor=\"middle\" x=\"1146.5\" y=\"-119.3\" font-family=\"Helvetica,sans-Serif\" font-size=\"14.00\">samples = 1</text>\r\n",
       "<text text-anchor=\"middle\" x=\"1146.5\" y=\"-104.3\" font-family=\"Helvetica,sans-Serif\" font-size=\"14.00\">value = 498.0</text>\r\n",
       "</g>\r\n",
       "<!-- 28&#45;&gt;29 -->\r\n",
       "<g id=\"edge29\" class=\"edge\"><title>28&#45;&gt;29</title>\r\n",
       "<path fill=\"none\" stroke=\"black\" d=\"M1251.18,-192.884C1232.79,-180.786 1212.07,-167.151 1193.95,-155.224\"/>\r\n",
       "<polygon fill=\"black\" stroke=\"black\" points=\"1195.56,-152.093 1185.28,-149.52 1191.71,-157.941 1195.56,-152.093\"/>\r\n",
       "</g>\r\n",
       "<!-- 30 -->\r\n",
       "<g id=\"node31\" class=\"node\"><title>30</title>\r\n",
       "<path fill=\"#f4cbad\" stroke=\"black\" d=\"M1397.5,-157C1397.5,-157 1227.5,-157 1227.5,-157 1221.5,-157 1215.5,-151 1215.5,-145 1215.5,-145 1215.5,-101 1215.5,-101 1215.5,-95 1221.5,-89 1227.5,-89 1227.5,-89 1397.5,-89 1397.5,-89 1403.5,-89 1409.5,-95 1409.5,-101 1409.5,-101 1409.5,-145 1409.5,-145 1409.5,-151 1403.5,-157 1397.5,-157\"/>\r\n",
       "<text text-anchor=\"middle\" x=\"1312.5\" y=\"-141.8\" font-family=\"Helvetica,sans-Serif\" font-size=\"14.00\">Paved_Highways &lt;= 8362.0</text>\r\n",
       "<text text-anchor=\"middle\" x=\"1312.5\" y=\"-126.8\" font-family=\"Helvetica,sans-Serif\" font-size=\"14.00\">mse = 0.25</text>\r\n",
       "<text text-anchor=\"middle\" x=\"1312.5\" y=\"-111.8\" font-family=\"Helvetica,sans-Serif\" font-size=\"14.00\">samples = 2</text>\r\n",
       "<text text-anchor=\"middle\" x=\"1312.5\" y=\"-96.8\" font-family=\"Helvetica,sans-Serif\" font-size=\"14.00\">value = 524.5</text>\r\n",
       "</g>\r\n",
       "<!-- 28&#45;&gt;30 -->\r\n",
       "<g id=\"edge30\" class=\"edge\"><title>28&#45;&gt;30</title>\r\n",
       "<path fill=\"none\" stroke=\"black\" d=\"M1305.07,-192.884C1305.95,-184.778 1306.89,-175.982 1307.81,-167.472\"/>\r\n",
       "<polygon fill=\"black\" stroke=\"black\" points=\"1311.32,-167.617 1308.91,-157.299 1304.36,-166.866 1311.32,-167.617\"/>\r\n",
       "</g>\r\n",
       "<!-- 31 -->\r\n",
       "<g id=\"node32\" class=\"node\"><title>31</title>\r\n",
       "<path fill=\"#f4cbad\" stroke=\"black\" d=\"M1291.5,-53C1291.5,-53 1213.5,-53 1213.5,-53 1207.5,-53 1201.5,-47 1201.5,-41 1201.5,-41 1201.5,-12 1201.5,-12 1201.5,-6 1207.5,-0 1213.5,-0 1213.5,-0 1291.5,-0 1291.5,-0 1297.5,-0 1303.5,-6 1303.5,-12 1303.5,-12 1303.5,-41 1303.5,-41 1303.5,-47 1297.5,-53 1291.5,-53\"/>\r\n",
       "<text text-anchor=\"middle\" x=\"1252.5\" y=\"-37.8\" font-family=\"Helvetica,sans-Serif\" font-size=\"14.00\">mse = 0.0</text>\r\n",
       "<text text-anchor=\"middle\" x=\"1252.5\" y=\"-22.8\" font-family=\"Helvetica,sans-Serif\" font-size=\"14.00\">samples = 1</text>\r\n",
       "<text text-anchor=\"middle\" x=\"1252.5\" y=\"-7.8\" font-family=\"Helvetica,sans-Serif\" font-size=\"14.00\">value = 525.0</text>\r\n",
       "</g>\r\n",
       "<!-- 30&#45;&gt;31 -->\r\n",
       "<g id=\"edge31\" class=\"edge\"><title>30&#45;&gt;31</title>\r\n",
       "<path fill=\"none\" stroke=\"black\" d=\"M1291.51,-88.9485C1285.94,-80.1664 1279.91,-70.6629 1274.29,-61.815\"/>\r\n",
       "<polygon fill=\"black\" stroke=\"black\" points=\"1277.16,-59.8028 1268.84,-53.2367 1271.25,-63.5549 1277.16,-59.8028\"/>\r\n",
       "</g>\r\n",
       "<!-- 32 -->\r\n",
       "<g id=\"node33\" class=\"node\"><title>32</title>\r\n",
       "<path fill=\"#f4cbae\" stroke=\"black\" d=\"M1411.5,-53C1411.5,-53 1333.5,-53 1333.5,-53 1327.5,-53 1321.5,-47 1321.5,-41 1321.5,-41 1321.5,-12 1321.5,-12 1321.5,-6 1327.5,-0 1333.5,-0 1333.5,-0 1411.5,-0 1411.5,-0 1417.5,-0 1423.5,-6 1423.5,-12 1423.5,-12 1423.5,-41 1423.5,-41 1423.5,-47 1417.5,-53 1411.5,-53\"/>\r\n",
       "<text text-anchor=\"middle\" x=\"1372.5\" y=\"-37.8\" font-family=\"Helvetica,sans-Serif\" font-size=\"14.00\">mse = 0.0</text>\r\n",
       "<text text-anchor=\"middle\" x=\"1372.5\" y=\"-22.8\" font-family=\"Helvetica,sans-Serif\" font-size=\"14.00\">samples = 1</text>\r\n",
       "<text text-anchor=\"middle\" x=\"1372.5\" y=\"-7.8\" font-family=\"Helvetica,sans-Serif\" font-size=\"14.00\">value = 524.0</text>\r\n",
       "</g>\r\n",
       "<!-- 30&#45;&gt;32 -->\r\n",
       "<g id=\"edge32\" class=\"edge\"><title>30&#45;&gt;32</title>\r\n",
       "<path fill=\"none\" stroke=\"black\" d=\"M1333.49,-88.9485C1339.06,-80.1664 1345.09,-70.6629 1350.71,-61.815\"/>\r\n",
       "<polygon fill=\"black\" stroke=\"black\" points=\"1353.75,-63.5549 1356.16,-53.2367 1347.84,-59.8028 1353.75,-63.5549\"/>\r\n",
       "</g>\r\n",
       "<!-- 35 -->\r\n",
       "<g id=\"node36\" class=\"node\"><title>35</title>\r\n",
       "<path fill=\"#f1bd97\" stroke=\"black\" d=\"M1926,-573C1926,-573 1685,-573 1685,-573 1679,-573 1673,-567 1673,-561 1673,-561 1673,-517 1673,-517 1673,-511 1679,-505 1685,-505 1685,-505 1926,-505 1926,-505 1932,-505 1938,-511 1938,-517 1938,-517 1938,-561 1938,-561 1938,-567 1932,-573 1926,-573\"/>\r\n",
       "<text text-anchor=\"middle\" x=\"1805.5\" y=\"-557.8\" font-family=\"Helvetica,sans-Serif\" font-size=\"14.00\">Population_Driver_licence(%) &lt;= 0.535</text>\r\n",
       "<text text-anchor=\"middle\" x=\"1805.5\" y=\"-542.8\" font-family=\"Helvetica,sans-Serif\" font-size=\"14.00\">mse = 2286.521</text>\r\n",
       "<text text-anchor=\"middle\" x=\"1805.5\" y=\"-527.8\" font-family=\"Helvetica,sans-Serif\" font-size=\"14.00\">samples = 13</text>\r\n",
       "<text text-anchor=\"middle\" x=\"1805.5\" y=\"-512.8\" font-family=\"Helvetica,sans-Serif\" font-size=\"14.00\">value = 573.692</text>\r\n",
       "</g>\r\n",
       "<!-- 34&#45;&gt;35 -->\r\n",
       "<g id=\"edge35\" class=\"edge\"><title>34&#45;&gt;35</title>\r\n",
       "<path fill=\"none\" stroke=\"black\" d=\"M1805.5,-608.884C1805.5,-600.778 1805.5,-591.982 1805.5,-583.472\"/>\r\n",
       "<polygon fill=\"black\" stroke=\"black\" points=\"1809,-583.299 1805.5,-573.299 1802,-583.299 1809,-583.299\"/>\r\n",
       "</g>\r\n",
       "<!-- 60 -->\r\n",
       "<g id=\"node61\" class=\"node\"><title>60</title>\r\n",
       "<path fill=\"#f9e0cf\" stroke=\"black\" d=\"M2865,-573C2865,-573 2624,-573 2624,-573 2618,-573 2612,-567 2612,-561 2612,-561 2612,-517 2612,-517 2612,-511 2618,-505 2624,-505 2624,-505 2865,-505 2865,-505 2871,-505 2877,-511 2877,-517 2877,-517 2877,-561 2877,-561 2877,-567 2871,-573 2865,-573\"/>\r\n",
       "<text text-anchor=\"middle\" x=\"2744.5\" y=\"-557.8\" font-family=\"Helvetica,sans-Serif\" font-size=\"14.00\">Population_Driver_licence(%) &lt;= 0.548</text>\r\n",
       "<text text-anchor=\"middle\" x=\"2744.5\" y=\"-542.8\" font-family=\"Helvetica,sans-Serif\" font-size=\"14.00\">mse = 3300.859</text>\r\n",
       "<text text-anchor=\"middle\" x=\"2744.5\" y=\"-527.8\" font-family=\"Helvetica,sans-Serif\" font-size=\"14.00\">samples = 8</text>\r\n",
       "<text text-anchor=\"middle\" x=\"2744.5\" y=\"-512.8\" font-family=\"Helvetica,sans-Serif\" font-size=\"14.00\">value = 451.125</text>\r\n",
       "</g>\r\n",
       "<!-- 34&#45;&gt;60 -->\r\n",
       "<g id=\"edge60\" class=\"edge\"><title>34&#45;&gt;60</title>\r\n",
       "<path fill=\"none\" stroke=\"black\" d=\"M1902.89,-631.421C2069.16,-613.359 2408.5,-576.498 2601.64,-555.518\"/>\r\n",
       "<polygon fill=\"black\" stroke=\"black\" points=\"2602.3,-558.967 2611.87,-554.407 2601.55,-552.008 2602.3,-558.967\"/>\r\n",
       "</g>\r\n",
       "<!-- 36 -->\r\n",
       "<g id=\"node37\" class=\"node\"><title>36</title>\r\n",
       "<path fill=\"#f4caac\" stroke=\"black\" d=\"M1750,-469C1750,-469 1517,-469 1517,-469 1511,-469 1505,-463 1505,-457 1505,-457 1505,-413 1505,-413 1505,-407 1511,-401 1517,-401 1517,-401 1750,-401 1750,-401 1756,-401 1762,-407 1762,-413 1762,-413 1762,-457 1762,-457 1762,-463 1756,-469 1750,-469\"/>\r\n",
       "<text text-anchor=\"middle\" x=\"1633.5\" y=\"-453.8\" font-family=\"Helvetica,sans-Serif\" font-size=\"14.00\">Population_Driver_licence(%) &lt;= 0.49</text>\r\n",
       "<text text-anchor=\"middle\" x=\"1633.5\" y=\"-438.8\" font-family=\"Helvetica,sans-Serif\" font-size=\"14.00\">mse = 561.188</text>\r\n",
       "<text text-anchor=\"middle\" x=\"1633.5\" y=\"-423.8\" font-family=\"Helvetica,sans-Serif\" font-size=\"14.00\">samples = 4</text>\r\n",
       "<text text-anchor=\"middle\" x=\"1633.5\" y=\"-408.8\" font-family=\"Helvetica,sans-Serif\" font-size=\"14.00\">value = 527.25</text>\r\n",
       "</g>\r\n",
       "<!-- 35&#45;&gt;36 -->\r\n",
       "<g id=\"edge36\" class=\"edge\"><title>35&#45;&gt;36</title>\r\n",
       "<path fill=\"none\" stroke=\"black\" d=\"M1749.66,-504.884C1733.2,-495.125 1715.06,-484.366 1698.1,-474.31\"/>\r\n",
       "<polygon fill=\"black\" stroke=\"black\" points=\"1699.74,-471.215 1689.36,-469.125 1696.17,-477.236 1699.74,-471.215\"/>\r\n",
       "</g>\r\n",
       "<!-- 43 -->\r\n",
       "<g id=\"node44\" class=\"node\"><title>43</title>\r\n",
       "<path fill=\"#f0b78e\" stroke=\"black\" d=\"M2102,-469C2102,-469 1993,-469 1993,-469 1987,-469 1981,-463 1981,-457 1981,-457 1981,-413 1981,-413 1981,-407 1987,-401 1993,-401 1993,-401 2102,-401 2102,-401 2108,-401 2114,-407 2114,-413 2114,-413 2114,-457 2114,-457 2114,-463 2108,-469 2102,-469\"/>\r\n",
       "<text text-anchor=\"middle\" x=\"2047.5\" y=\"-453.8\" font-family=\"Helvetica,sans-Serif\" font-size=\"14.00\">Petrol_tax &lt;= 8.75</text>\r\n",
       "<text text-anchor=\"middle\" x=\"2047.5\" y=\"-438.8\" font-family=\"Helvetica,sans-Serif\" font-size=\"14.00\">mse = 1668.667</text>\r\n",
       "<text text-anchor=\"middle\" x=\"2047.5\" y=\"-423.8\" font-family=\"Helvetica,sans-Serif\" font-size=\"14.00\">samples = 9</text>\r\n",
       "<text text-anchor=\"middle\" x=\"2047.5\" y=\"-408.8\" font-family=\"Helvetica,sans-Serif\" font-size=\"14.00\">value = 594.333</text>\r\n",
       "</g>\r\n",
       "<!-- 35&#45;&gt;43 -->\r\n",
       "<g id=\"edge43\" class=\"edge\"><title>35&#45;&gt;43</title>\r\n",
       "<path fill=\"none\" stroke=\"black\" d=\"M1884.07,-504.884C1912.09,-493.072 1943.59,-479.796 1971.4,-468.073\"/>\r\n",
       "<polygon fill=\"black\" stroke=\"black\" points=\"1972.83,-471.271 1980.68,-464.162 1970.11,-464.821 1972.83,-471.271\"/>\r\n",
       "</g>\r\n",
       "<!-- 37 -->\r\n",
       "<g id=\"node38\" class=\"node\"><title>37</title>\r\n",
       "<path fill=\"#f7d6be\" stroke=\"black\" d=\"M1470.5,-357.5C1470.5,-357.5 1392.5,-357.5 1392.5,-357.5 1386.5,-357.5 1380.5,-351.5 1380.5,-345.5 1380.5,-345.5 1380.5,-316.5 1380.5,-316.5 1380.5,-310.5 1386.5,-304.5 1392.5,-304.5 1392.5,-304.5 1470.5,-304.5 1470.5,-304.5 1476.5,-304.5 1482.5,-310.5 1482.5,-316.5 1482.5,-316.5 1482.5,-345.5 1482.5,-345.5 1482.5,-351.5 1476.5,-357.5 1470.5,-357.5\"/>\r\n",
       "<text text-anchor=\"middle\" x=\"1431.5\" y=\"-342.3\" font-family=\"Helvetica,sans-Serif\" font-size=\"14.00\">mse = 0.0</text>\r\n",
       "<text text-anchor=\"middle\" x=\"1431.5\" y=\"-327.3\" font-family=\"Helvetica,sans-Serif\" font-size=\"14.00\">samples = 1</text>\r\n",
       "<text text-anchor=\"middle\" x=\"1431.5\" y=\"-312.3\" font-family=\"Helvetica,sans-Serif\" font-size=\"14.00\">value = 487.0</text>\r\n",
       "</g>\r\n",
       "<!-- 36&#45;&gt;37 -->\r\n",
       "<g id=\"edge37\" class=\"edge\"><title>36&#45;&gt;37</title>\r\n",
       "<path fill=\"none\" stroke=\"black\" d=\"M1563.45,-400.83C1540.41,-389.688 1514.75,-377.031 1491.5,-365 1489.94,-364.192 1488.36,-363.368 1486.77,-362.531\"/>\r\n",
       "<polygon fill=\"black\" stroke=\"black\" points=\"1488.03,-359.242 1477.56,-357.64 1484.75,-365.423 1488.03,-359.242\"/>\r\n",
       "</g>\r\n",
       "<!-- 38 -->\r\n",
       "<g id=\"node39\" class=\"node\"><title>38</title>\r\n",
       "<path fill=\"#f3c6a6\" stroke=\"black\" d=\"M1754,-365C1754,-365 1513,-365 1513,-365 1507,-365 1501,-359 1501,-353 1501,-353 1501,-309 1501,-309 1501,-303 1507,-297 1513,-297 1513,-297 1754,-297 1754,-297 1760,-297 1766,-303 1766,-309 1766,-309 1766,-353 1766,-353 1766,-359 1760,-365 1754,-365\"/>\r\n",
       "<text text-anchor=\"middle\" x=\"1633.5\" y=\"-349.8\" font-family=\"Helvetica,sans-Serif\" font-size=\"14.00\">Population_Driver_licence(%) &lt;= 0.505</text>\r\n",
       "<text text-anchor=\"middle\" x=\"1633.5\" y=\"-334.8\" font-family=\"Helvetica,sans-Serif\" font-size=\"14.00\">mse = 28.222</text>\r\n",
       "<text text-anchor=\"middle\" x=\"1633.5\" y=\"-319.8\" font-family=\"Helvetica,sans-Serif\" font-size=\"14.00\">samples = 3</text>\r\n",
       "<text text-anchor=\"middle\" x=\"1633.5\" y=\"-304.8\" font-family=\"Helvetica,sans-Serif\" font-size=\"14.00\">value = 540.667</text>\r\n",
       "</g>\r\n",
       "<!-- 36&#45;&gt;38 -->\r\n",
       "<g id=\"edge38\" class=\"edge\"><title>36&#45;&gt;38</title>\r\n",
       "<path fill=\"none\" stroke=\"black\" d=\"M1633.5,-400.884C1633.5,-392.778 1633.5,-383.982 1633.5,-375.472\"/>\r\n",
       "<polygon fill=\"black\" stroke=\"black\" points=\"1637,-375.299 1633.5,-365.299 1630,-375.299 1637,-375.299\"/>\r\n",
       "</g>\r\n",
       "<!-- 39 -->\r\n",
       "<g id=\"node40\" class=\"node\"><title>39</title>\r\n",
       "<path fill=\"#f4c8a9\" stroke=\"black\" d=\"M1506.5,-253.5C1506.5,-253.5 1428.5,-253.5 1428.5,-253.5 1422.5,-253.5 1416.5,-247.5 1416.5,-241.5 1416.5,-241.5 1416.5,-212.5 1416.5,-212.5 1416.5,-206.5 1422.5,-200.5 1428.5,-200.5 1428.5,-200.5 1506.5,-200.5 1506.5,-200.5 1512.5,-200.5 1518.5,-206.5 1518.5,-212.5 1518.5,-212.5 1518.5,-241.5 1518.5,-241.5 1518.5,-247.5 1512.5,-253.5 1506.5,-253.5\"/>\r\n",
       "<text text-anchor=\"middle\" x=\"1467.5\" y=\"-238.3\" font-family=\"Helvetica,sans-Serif\" font-size=\"14.00\">mse = 0.0</text>\r\n",
       "<text text-anchor=\"middle\" x=\"1467.5\" y=\"-223.3\" font-family=\"Helvetica,sans-Serif\" font-size=\"14.00\">samples = 1</text>\r\n",
       "<text text-anchor=\"middle\" x=\"1467.5\" y=\"-208.3\" font-family=\"Helvetica,sans-Serif\" font-size=\"14.00\">value = 534.0</text>\r\n",
       "</g>\r\n",
       "<!-- 38&#45;&gt;39 -->\r\n",
       "<g id=\"edge39\" class=\"edge\"><title>38&#45;&gt;39</title>\r\n",
       "<path fill=\"none\" stroke=\"black\" d=\"M1579.6,-296.884C1559.74,-284.676 1537.32,-270.903 1517.79,-258.899\"/>\r\n",
       "<polygon fill=\"black\" stroke=\"black\" points=\"1519.38,-255.773 1509.03,-253.52 1515.72,-261.737 1519.38,-255.773\"/>\r\n",
       "</g>\r\n",
       "<!-- 40 -->\r\n",
       "<g id=\"node41\" class=\"node\"><title>40</title>\r\n",
       "<path fill=\"#f3c5a5\" stroke=\"black\" d=\"M1718.5,-261C1718.5,-261 1548.5,-261 1548.5,-261 1542.5,-261 1536.5,-255 1536.5,-249 1536.5,-249 1536.5,-205 1536.5,-205 1536.5,-199 1542.5,-193 1548.5,-193 1548.5,-193 1718.5,-193 1718.5,-193 1724.5,-193 1730.5,-199 1730.5,-205 1730.5,-205 1730.5,-249 1730.5,-249 1730.5,-255 1724.5,-261 1718.5,-261\"/>\r\n",
       "<text text-anchor=\"middle\" x=\"1633.5\" y=\"-245.8\" font-family=\"Helvetica,sans-Serif\" font-size=\"14.00\">Average_income &lt;= 3914.5</text>\r\n",
       "<text text-anchor=\"middle\" x=\"1633.5\" y=\"-230.8\" font-family=\"Helvetica,sans-Serif\" font-size=\"14.00\">mse = 9.0</text>\r\n",
       "<text text-anchor=\"middle\" x=\"1633.5\" y=\"-215.8\" font-family=\"Helvetica,sans-Serif\" font-size=\"14.00\">samples = 2</text>\r\n",
       "<text text-anchor=\"middle\" x=\"1633.5\" y=\"-200.8\" font-family=\"Helvetica,sans-Serif\" font-size=\"14.00\">value = 544.0</text>\r\n",
       "</g>\r\n",
       "<!-- 38&#45;&gt;40 -->\r\n",
       "<g id=\"edge40\" class=\"edge\"><title>38&#45;&gt;40</title>\r\n",
       "<path fill=\"none\" stroke=\"black\" d=\"M1633.5,-296.884C1633.5,-288.778 1633.5,-279.982 1633.5,-271.472\"/>\r\n",
       "<polygon fill=\"black\" stroke=\"black\" points=\"1637,-271.299 1633.5,-261.299 1630,-271.299 1637,-271.299\"/>\r\n",
       "</g>\r\n",
       "<!-- 41 -->\r\n",
       "<g id=\"node42\" class=\"node\"><title>41</title>\r\n",
       "<path fill=\"#f3c6a6\" stroke=\"black\" d=\"M1540.5,-149.5C1540.5,-149.5 1462.5,-149.5 1462.5,-149.5 1456.5,-149.5 1450.5,-143.5 1450.5,-137.5 1450.5,-137.5 1450.5,-108.5 1450.5,-108.5 1450.5,-102.5 1456.5,-96.5 1462.5,-96.5 1462.5,-96.5 1540.5,-96.5 1540.5,-96.5 1546.5,-96.5 1552.5,-102.5 1552.5,-108.5 1552.5,-108.5 1552.5,-137.5 1552.5,-137.5 1552.5,-143.5 1546.5,-149.5 1540.5,-149.5\"/>\r\n",
       "<text text-anchor=\"middle\" x=\"1501.5\" y=\"-134.3\" font-family=\"Helvetica,sans-Serif\" font-size=\"14.00\">mse = 0.0</text>\r\n",
       "<text text-anchor=\"middle\" x=\"1501.5\" y=\"-119.3\" font-family=\"Helvetica,sans-Serif\" font-size=\"14.00\">samples = 1</text>\r\n",
       "<text text-anchor=\"middle\" x=\"1501.5\" y=\"-104.3\" font-family=\"Helvetica,sans-Serif\" font-size=\"14.00\">value = 541.0</text>\r\n",
       "</g>\r\n",
       "<!-- 40&#45;&gt;41 -->\r\n",
       "<g id=\"edge41\" class=\"edge\"><title>40&#45;&gt;41</title>\r\n",
       "<path fill=\"none\" stroke=\"black\" d=\"M1590.64,-192.884C1575.27,-181.006 1557.98,-167.646 1542.75,-155.876\"/>\r\n",
       "<polygon fill=\"black\" stroke=\"black\" points=\"1544.58,-152.865 1534.53,-149.52 1540.3,-158.404 1544.58,-152.865\"/>\r\n",
       "</g>\r\n",
       "<!-- 42 -->\r\n",
       "<g id=\"node43\" class=\"node\"><title>42</title>\r\n",
       "<path fill=\"#f3c5a3\" stroke=\"black\" d=\"M1660.5,-149.5C1660.5,-149.5 1582.5,-149.5 1582.5,-149.5 1576.5,-149.5 1570.5,-143.5 1570.5,-137.5 1570.5,-137.5 1570.5,-108.5 1570.5,-108.5 1570.5,-102.5 1576.5,-96.5 1582.5,-96.5 1582.5,-96.5 1660.5,-96.5 1660.5,-96.5 1666.5,-96.5 1672.5,-102.5 1672.5,-108.5 1672.5,-108.5 1672.5,-137.5 1672.5,-137.5 1672.5,-143.5 1666.5,-149.5 1660.5,-149.5\"/>\r\n",
       "<text text-anchor=\"middle\" x=\"1621.5\" y=\"-134.3\" font-family=\"Helvetica,sans-Serif\" font-size=\"14.00\">mse = 0.0</text>\r\n",
       "<text text-anchor=\"middle\" x=\"1621.5\" y=\"-119.3\" font-family=\"Helvetica,sans-Serif\" font-size=\"14.00\">samples = 1</text>\r\n",
       "<text text-anchor=\"middle\" x=\"1621.5\" y=\"-104.3\" font-family=\"Helvetica,sans-Serif\" font-size=\"14.00\">value = 547.0</text>\r\n",
       "</g>\r\n",
       "<!-- 40&#45;&gt;42 -->\r\n",
       "<g id=\"edge42\" class=\"edge\"><title>40&#45;&gt;42</title>\r\n",
       "<path fill=\"none\" stroke=\"black\" d=\"M1629.6,-192.884C1628.35,-182.216 1626.95,-170.352 1625.68,-159.519\"/>\r\n",
       "<polygon fill=\"black\" stroke=\"black\" points=\"1629.15,-159.042 1624.5,-149.52 1622.19,-159.86 1629.15,-159.042\"/>\r\n",
       "</g>\r\n",
       "<!-- 44 -->\r\n",
       "<g id=\"node45\" class=\"node\"><title>44</title>\r\n",
       "<path fill=\"#efb184\" stroke=\"black\" d=\"M2168,-365C2168,-365 1927,-365 1927,-365 1921,-365 1915,-359 1915,-353 1915,-353 1915,-309 1915,-309 1915,-303 1921,-297 1927,-297 1927,-297 2168,-297 2168,-297 2174,-297 2180,-303 2180,-309 2180,-309 2180,-353 2180,-353 2180,-359 2174,-365 2168,-365\"/>\r\n",
       "<text text-anchor=\"middle\" x=\"2047.5\" y=\"-349.8\" font-family=\"Helvetica,sans-Serif\" font-size=\"14.00\">Population_Driver_licence(%) &lt;= 0.579</text>\r\n",
       "<text text-anchor=\"middle\" x=\"2047.5\" y=\"-334.8\" font-family=\"Helvetica,sans-Serif\" font-size=\"14.00\">mse = 875.556</text>\r\n",
       "<text text-anchor=\"middle\" x=\"2047.5\" y=\"-319.8\" font-family=\"Helvetica,sans-Serif\" font-size=\"14.00\">samples = 6</text>\r\n",
       "<text text-anchor=\"middle\" x=\"2047.5\" y=\"-304.8\" font-family=\"Helvetica,sans-Serif\" font-size=\"14.00\">value = 616.333</text>\r\n",
       "</g>\r\n",
       "<!-- 43&#45;&gt;44 -->\r\n",
       "<g id=\"edge44\" class=\"edge\"><title>43&#45;&gt;44</title>\r\n",
       "<path fill=\"none\" stroke=\"black\" d=\"M2047.5,-400.884C2047.5,-392.778 2047.5,-383.982 2047.5,-375.472\"/>\r\n",
       "<polygon fill=\"black\" stroke=\"black\" points=\"2051,-375.299 2047.5,-365.299 2044,-375.299 2051,-375.299\"/>\r\n",
       "</g>\r\n",
       "<!-- 55 -->\r\n",
       "<g id=\"node56\" class=\"node\"><title>55</title>\r\n",
       "<path fill=\"#f3c4a2\" stroke=\"black\" d=\"M2441.5,-365C2441.5,-365 2271.5,-365 2271.5,-365 2265.5,-365 2259.5,-359 2259.5,-353 2259.5,-353 2259.5,-309 2259.5,-309 2259.5,-303 2265.5,-297 2271.5,-297 2271.5,-297 2441.5,-297 2441.5,-297 2447.5,-297 2453.5,-303 2453.5,-309 2453.5,-309 2453.5,-353 2453.5,-353 2453.5,-359 2447.5,-365 2441.5,-365\"/>\r\n",
       "<text text-anchor=\"middle\" x=\"2356.5\" y=\"-349.8\" font-family=\"Helvetica,sans-Serif\" font-size=\"14.00\">Average_income &lt;= 3978.5</text>\r\n",
       "<text text-anchor=\"middle\" x=\"2356.5\" y=\"-334.8\" font-family=\"Helvetica,sans-Serif\" font-size=\"14.00\">mse = 350.889</text>\r\n",
       "<text text-anchor=\"middle\" x=\"2356.5\" y=\"-319.8\" font-family=\"Helvetica,sans-Serif\" font-size=\"14.00\">samples = 3</text>\r\n",
       "<text text-anchor=\"middle\" x=\"2356.5\" y=\"-304.8\" font-family=\"Helvetica,sans-Serif\" font-size=\"14.00\">value = 550.333</text>\r\n",
       "</g>\r\n",
       "<!-- 43&#45;&gt;55 -->\r\n",
       "<g id=\"edge55\" class=\"edge\"><title>43&#45;&gt;55</title>\r\n",
       "<path fill=\"none\" stroke=\"black\" d=\"M2114.17,-411.993C2153.75,-398.926 2204.86,-382.055 2249.93,-367.179\"/>\r\n",
       "<polygon fill=\"black\" stroke=\"black\" points=\"2251.05,-370.495 2259.45,-364.036 2248.86,-363.848 2251.05,-370.495\"/>\r\n",
       "</g>\r\n",
       "<!-- 45 -->\r\n",
       "<g id=\"node46\" class=\"node\"><title>45</title>\r\n",
       "<path fill=\"#f0b78e\" stroke=\"black\" d=\"M1936,-261C1936,-261 1827,-261 1827,-261 1821,-261 1815,-255 1815,-249 1815,-249 1815,-205 1815,-205 1815,-199 1821,-193 1827,-193 1827,-193 1936,-193 1936,-193 1942,-193 1948,-199 1948,-205 1948,-205 1948,-249 1948,-249 1948,-255 1942,-261 1936,-261\"/>\r\n",
       "<text text-anchor=\"middle\" x=\"1881.5\" y=\"-245.8\" font-family=\"Helvetica,sans-Serif\" font-size=\"14.00\">Petrol_tax &lt;= 7.75</text>\r\n",
       "<text text-anchor=\"middle\" x=\"1881.5\" y=\"-230.8\" font-family=\"Helvetica,sans-Serif\" font-size=\"14.00\">mse = 614.0</text>\r\n",
       "<text text-anchor=\"middle\" x=\"1881.5\" y=\"-215.8\" font-family=\"Helvetica,sans-Serif\" font-size=\"14.00\">samples = 3</text>\r\n",
       "<text text-anchor=\"middle\" x=\"1881.5\" y=\"-200.8\" font-family=\"Helvetica,sans-Serif\" font-size=\"14.00\">value = 593.0</text>\r\n",
       "</g>\r\n",
       "<!-- 44&#45;&gt;45 -->\r\n",
       "<g id=\"edge45\" class=\"edge\"><title>44&#45;&gt;45</title>\r\n",
       "<path fill=\"none\" stroke=\"black\" d=\"M1993.6,-296.884C1977.87,-287.214 1960.53,-276.563 1944.3,-266.587\"/>\r\n",
       "<polygon fill=\"black\" stroke=\"black\" points=\"1945.76,-263.378 1935.41,-261.125 1942.1,-269.342 1945.76,-263.378\"/>\r\n",
       "</g>\r\n",
       "<!-- 50 -->\r\n",
       "<g id=\"node51\" class=\"node\"><title>50</title>\r\n",
       "<path fill=\"#edaa79\" stroke=\"black\" d=\"M2219,-261C2219,-261 1978,-261 1978,-261 1972,-261 1966,-255 1966,-249 1966,-249 1966,-205 1966,-205 1966,-199 1972,-193 1978,-193 1978,-193 2219,-193 2219,-193 2225,-193 2231,-199 2231,-205 2231,-205 2231,-249 2231,-249 2231,-255 2225,-261 2219,-261\"/>\r\n",
       "<text text-anchor=\"middle\" x=\"2098.5\" y=\"-245.8\" font-family=\"Helvetica,sans-Serif\" font-size=\"14.00\">Population_Driver_licence(%) &lt;= 0.621</text>\r\n",
       "<text text-anchor=\"middle\" x=\"2098.5\" y=\"-230.8\" font-family=\"Helvetica,sans-Serif\" font-size=\"14.00\">mse = 48.222</text>\r\n",
       "<text text-anchor=\"middle\" x=\"2098.5\" y=\"-215.8\" font-family=\"Helvetica,sans-Serif\" font-size=\"14.00\">samples = 3</text>\r\n",
       "<text text-anchor=\"middle\" x=\"2098.5\" y=\"-200.8\" font-family=\"Helvetica,sans-Serif\" font-size=\"14.00\">value = 639.667</text>\r\n",
       "</g>\r\n",
       "<!-- 44&#45;&gt;50 -->\r\n",
       "<g id=\"edge50\" class=\"edge\"><title>44&#45;&gt;50</title>\r\n",
       "<path fill=\"none\" stroke=\"black\" d=\"M2064.06,-296.884C2068.29,-288.422 2072.9,-279.207 2077.32,-270.352\"/>\r\n",
       "<polygon fill=\"black\" stroke=\"black\" points=\"2080.51,-271.809 2081.85,-261.299 2074.25,-268.678 2080.51,-271.809\"/>\r\n",
       "</g>\r\n",
       "<!-- 46 -->\r\n",
       "<g id=\"node47\" class=\"node\"><title>46</title>\r\n",
       "<path fill=\"#eead7f\" stroke=\"black\" d=\"M1780.5,-149.5C1780.5,-149.5 1702.5,-149.5 1702.5,-149.5 1696.5,-149.5 1690.5,-143.5 1690.5,-137.5 1690.5,-137.5 1690.5,-108.5 1690.5,-108.5 1690.5,-102.5 1696.5,-96.5 1702.5,-96.5 1702.5,-96.5 1780.5,-96.5 1780.5,-96.5 1786.5,-96.5 1792.5,-102.5 1792.5,-108.5 1792.5,-108.5 1792.5,-137.5 1792.5,-137.5 1792.5,-143.5 1786.5,-149.5 1780.5,-149.5\"/>\r\n",
       "<text text-anchor=\"middle\" x=\"1741.5\" y=\"-134.3\" font-family=\"Helvetica,sans-Serif\" font-size=\"14.00\">mse = 0.0</text>\r\n",
       "<text text-anchor=\"middle\" x=\"1741.5\" y=\"-119.3\" font-family=\"Helvetica,sans-Serif\" font-size=\"14.00\">samples = 1</text>\r\n",
       "<text text-anchor=\"middle\" x=\"1741.5\" y=\"-104.3\" font-family=\"Helvetica,sans-Serif\" font-size=\"14.00\">value = 628.0</text>\r\n",
       "</g>\r\n",
       "<!-- 45&#45;&gt;46 -->\r\n",
       "<g id=\"edge46\" class=\"edge\"><title>45&#45;&gt;46</title>\r\n",
       "<path fill=\"none\" stroke=\"black\" d=\"M1836.05,-192.884C1819.59,-180.896 1801.07,-167.399 1784.8,-155.549\"/>\r\n",
       "<polygon fill=\"black\" stroke=\"black\" points=\"1786.67,-152.58 1776.53,-149.52 1782.55,-158.237 1786.67,-152.58\"/>\r\n",
       "</g>\r\n",
       "<!-- 47 -->\r\n",
       "<g id=\"node48\" class=\"node\"><title>47</title>\r\n",
       "<path fill=\"#f1bc96\" stroke=\"black\" d=\"M1992.5,-157C1992.5,-157 1822.5,-157 1822.5,-157 1816.5,-157 1810.5,-151 1810.5,-145 1810.5,-145 1810.5,-101 1810.5,-101 1810.5,-95 1816.5,-89 1822.5,-89 1822.5,-89 1992.5,-89 1992.5,-89 1998.5,-89 2004.5,-95 2004.5,-101 2004.5,-101 2004.5,-145 2004.5,-145 2004.5,-151 1998.5,-157 1992.5,-157\"/>\r\n",
       "<text text-anchor=\"middle\" x=\"1907.5\" y=\"-141.8\" font-family=\"Helvetica,sans-Serif\" font-size=\"14.00\">Paved_Highways &lt;= 6249.5</text>\r\n",
       "<text text-anchor=\"middle\" x=\"1907.5\" y=\"-126.8\" font-family=\"Helvetica,sans-Serif\" font-size=\"14.00\">mse = 2.25</text>\r\n",
       "<text text-anchor=\"middle\" x=\"1907.5\" y=\"-111.8\" font-family=\"Helvetica,sans-Serif\" font-size=\"14.00\">samples = 2</text>\r\n",
       "<text text-anchor=\"middle\" x=\"1907.5\" y=\"-96.8\" font-family=\"Helvetica,sans-Serif\" font-size=\"14.00\">value = 575.5</text>\r\n",
       "</g>\r\n",
       "<!-- 45&#45;&gt;47 -->\r\n",
       "<g id=\"edge47\" class=\"edge\"><title>45&#45;&gt;47</title>\r\n",
       "<path fill=\"none\" stroke=\"black\" d=\"M1889.94,-192.884C1892.03,-184.689 1894.3,-175.789 1896.49,-167.192\"/>\r\n",
       "<polygon fill=\"black\" stroke=\"black\" points=\"1899.93,-167.854 1899.01,-157.299 1893.15,-166.125 1899.93,-167.854\"/>\r\n",
       "</g>\r\n",
       "<!-- 48 -->\r\n",
       "<g id=\"node49\" class=\"node\"><title>48</title>\r\n",
       "<path fill=\"#f1bd97\" stroke=\"black\" d=\"M1886.5,-53C1886.5,-53 1808.5,-53 1808.5,-53 1802.5,-53 1796.5,-47 1796.5,-41 1796.5,-41 1796.5,-12 1796.5,-12 1796.5,-6 1802.5,-0 1808.5,-0 1808.5,-0 1886.5,-0 1886.5,-0 1892.5,-0 1898.5,-6 1898.5,-12 1898.5,-12 1898.5,-41 1898.5,-41 1898.5,-47 1892.5,-53 1886.5,-53\"/>\r\n",
       "<text text-anchor=\"middle\" x=\"1847.5\" y=\"-37.8\" font-family=\"Helvetica,sans-Serif\" font-size=\"14.00\">mse = 0.0</text>\r\n",
       "<text text-anchor=\"middle\" x=\"1847.5\" y=\"-22.8\" font-family=\"Helvetica,sans-Serif\" font-size=\"14.00\">samples = 1</text>\r\n",
       "<text text-anchor=\"middle\" x=\"1847.5\" y=\"-7.8\" font-family=\"Helvetica,sans-Serif\" font-size=\"14.00\">value = 574.0</text>\r\n",
       "</g>\r\n",
       "<!-- 47&#45;&gt;48 -->\r\n",
       "<g id=\"edge48\" class=\"edge\"><title>47&#45;&gt;48</title>\r\n",
       "<path fill=\"none\" stroke=\"black\" d=\"M1886.51,-88.9485C1880.94,-80.1664 1874.91,-70.6629 1869.29,-61.815\"/>\r\n",
       "<polygon fill=\"black\" stroke=\"black\" points=\"1872.16,-59.8028 1863.84,-53.2367 1866.25,-63.5549 1872.16,-59.8028\"/>\r\n",
       "</g>\r\n",
       "<!-- 49 -->\r\n",
       "<g id=\"node50\" class=\"node\"><title>49</title>\r\n",
       "<path fill=\"#f1bc96\" stroke=\"black\" d=\"M2006.5,-53C2006.5,-53 1928.5,-53 1928.5,-53 1922.5,-53 1916.5,-47 1916.5,-41 1916.5,-41 1916.5,-12 1916.5,-12 1916.5,-6 1922.5,-0 1928.5,-0 1928.5,-0 2006.5,-0 2006.5,-0 2012.5,-0 2018.5,-6 2018.5,-12 2018.5,-12 2018.5,-41 2018.5,-41 2018.5,-47 2012.5,-53 2006.5,-53\"/>\r\n",
       "<text text-anchor=\"middle\" x=\"1967.5\" y=\"-37.8\" font-family=\"Helvetica,sans-Serif\" font-size=\"14.00\">mse = 0.0</text>\r\n",
       "<text text-anchor=\"middle\" x=\"1967.5\" y=\"-22.8\" font-family=\"Helvetica,sans-Serif\" font-size=\"14.00\">samples = 1</text>\r\n",
       "<text text-anchor=\"middle\" x=\"1967.5\" y=\"-7.8\" font-family=\"Helvetica,sans-Serif\" font-size=\"14.00\">value = 577.0</text>\r\n",
       "</g>\r\n",
       "<!-- 47&#45;&gt;49 -->\r\n",
       "<g id=\"edge49\" class=\"edge\"><title>47&#45;&gt;49</title>\r\n",
       "<path fill=\"none\" stroke=\"black\" d=\"M1928.49,-88.9485C1934.06,-80.1664 1940.09,-70.6629 1945.71,-61.815\"/>\r\n",
       "<polygon fill=\"black\" stroke=\"black\" points=\"1948.75,-63.5549 1951.16,-53.2367 1942.84,-59.8028 1948.75,-63.5549\"/>\r\n",
       "</g>\r\n",
       "<!-- 51 -->\r\n",
       "<g id=\"node52\" class=\"node\"><title>51</title>\r\n",
       "<path fill=\"#eeac7d\" stroke=\"black\" d=\"M2112.5,-149.5C2112.5,-149.5 2034.5,-149.5 2034.5,-149.5 2028.5,-149.5 2022.5,-143.5 2022.5,-137.5 2022.5,-137.5 2022.5,-108.5 2022.5,-108.5 2022.5,-102.5 2028.5,-96.5 2034.5,-96.5 2034.5,-96.5 2112.5,-96.5 2112.5,-96.5 2118.5,-96.5 2124.5,-102.5 2124.5,-108.5 2124.5,-108.5 2124.5,-137.5 2124.5,-137.5 2124.5,-143.5 2118.5,-149.5 2112.5,-149.5\"/>\r\n",
       "<text text-anchor=\"middle\" x=\"2073.5\" y=\"-134.3\" font-family=\"Helvetica,sans-Serif\" font-size=\"14.00\">mse = 0.0</text>\r\n",
       "<text text-anchor=\"middle\" x=\"2073.5\" y=\"-119.3\" font-family=\"Helvetica,sans-Serif\" font-size=\"14.00\">samples = 1</text>\r\n",
       "<text text-anchor=\"middle\" x=\"2073.5\" y=\"-104.3\" font-family=\"Helvetica,sans-Serif\" font-size=\"14.00\">value = 631.0</text>\r\n",
       "</g>\r\n",
       "<!-- 50&#45;&gt;51 -->\r\n",
       "<g id=\"edge51\" class=\"edge\"><title>50&#45;&gt;51</title>\r\n",
       "<path fill=\"none\" stroke=\"black\" d=\"M2090.38,-192.884C2087.77,-182.216 2084.86,-170.352 2082.21,-159.519\"/>\r\n",
       "<polygon fill=\"black\" stroke=\"black\" points=\"2085.53,-158.399 2079.75,-149.52 2078.74,-160.066 2085.53,-158.399\"/>\r\n",
       "</g>\r\n",
       "<!-- 52 -->\r\n",
       "<g id=\"node53\" class=\"node\"><title>52</title>\r\n",
       "<path fill=\"#eda977\" stroke=\"black\" d=\"M2388,-157C2388,-157 2155,-157 2155,-157 2149,-157 2143,-151 2143,-145 2143,-145 2143,-101 2143,-101 2143,-95 2149,-89 2155,-89 2155,-89 2388,-89 2388,-89 2394,-89 2400,-95 2400,-101 2400,-101 2400,-145 2400,-145 2400,-151 2394,-157 2388,-157\"/>\r\n",
       "<text text-anchor=\"middle\" x=\"2271.5\" y=\"-141.8\" font-family=\"Helvetica,sans-Serif\" font-size=\"14.00\">Population_Driver_licence(%) &lt;= 0.67</text>\r\n",
       "<text text-anchor=\"middle\" x=\"2271.5\" y=\"-126.8\" font-family=\"Helvetica,sans-Serif\" font-size=\"14.00\">mse = 16.0</text>\r\n",
       "<text text-anchor=\"middle\" x=\"2271.5\" y=\"-111.8\" font-family=\"Helvetica,sans-Serif\" font-size=\"14.00\">samples = 2</text>\r\n",
       "<text text-anchor=\"middle\" x=\"2271.5\" y=\"-96.8\" font-family=\"Helvetica,sans-Serif\" font-size=\"14.00\">value = 644.0</text>\r\n",
       "</g>\r\n",
       "<!-- 50&#45;&gt;52 -->\r\n",
       "<g id=\"edge52\" class=\"edge\"><title>50&#45;&gt;52</title>\r\n",
       "<path fill=\"none\" stroke=\"black\" d=\"M2154.67,-192.884C2171.22,-183.125 2189.47,-172.366 2206.52,-162.31\"/>\r\n",
       "<polygon fill=\"black\" stroke=\"black\" points=\"2208.48,-165.219 2215.32,-157.125 2204.93,-159.189 2208.48,-165.219\"/>\r\n",
       "</g>\r\n",
       "<!-- 53 -->\r\n",
       "<g id=\"node54\" class=\"node\"><title>53</title>\r\n",
       "<path fill=\"#eda876\" stroke=\"black\" d=\"M2250.5,-53C2250.5,-53 2172.5,-53 2172.5,-53 2166.5,-53 2160.5,-47 2160.5,-41 2160.5,-41 2160.5,-12 2160.5,-12 2160.5,-6 2166.5,-0 2172.5,-0 2172.5,-0 2250.5,-0 2250.5,-0 2256.5,-0 2262.5,-6 2262.5,-12 2262.5,-12 2262.5,-41 2262.5,-41 2262.5,-47 2256.5,-53 2250.5,-53\"/>\r\n",
       "<text text-anchor=\"middle\" x=\"2211.5\" y=\"-37.8\" font-family=\"Helvetica,sans-Serif\" font-size=\"14.00\">mse = 0.0</text>\r\n",
       "<text text-anchor=\"middle\" x=\"2211.5\" y=\"-22.8\" font-family=\"Helvetica,sans-Serif\" font-size=\"14.00\">samples = 1</text>\r\n",
       "<text text-anchor=\"middle\" x=\"2211.5\" y=\"-7.8\" font-family=\"Helvetica,sans-Serif\" font-size=\"14.00\">value = 648.0</text>\r\n",
       "</g>\r\n",
       "<!-- 52&#45;&gt;53 -->\r\n",
       "<g id=\"edge53\" class=\"edge\"><title>52&#45;&gt;53</title>\r\n",
       "<path fill=\"none\" stroke=\"black\" d=\"M2250.51,-88.9485C2244.94,-80.1664 2238.91,-70.6629 2233.29,-61.815\"/>\r\n",
       "<polygon fill=\"black\" stroke=\"black\" points=\"2236.16,-59.8028 2227.84,-53.2367 2230.25,-63.5549 2236.16,-59.8028\"/>\r\n",
       "</g>\r\n",
       "<!-- 54 -->\r\n",
       "<g id=\"node55\" class=\"node\"><title>54</title>\r\n",
       "<path fill=\"#edaa79\" stroke=\"black\" d=\"M2370.5,-53C2370.5,-53 2292.5,-53 2292.5,-53 2286.5,-53 2280.5,-47 2280.5,-41 2280.5,-41 2280.5,-12 2280.5,-12 2280.5,-6 2286.5,-0 2292.5,-0 2292.5,-0 2370.5,-0 2370.5,-0 2376.5,-0 2382.5,-6 2382.5,-12 2382.5,-12 2382.5,-41 2382.5,-41 2382.5,-47 2376.5,-53 2370.5,-53\"/>\r\n",
       "<text text-anchor=\"middle\" x=\"2331.5\" y=\"-37.8\" font-family=\"Helvetica,sans-Serif\" font-size=\"14.00\">mse = 0.0</text>\r\n",
       "<text text-anchor=\"middle\" x=\"2331.5\" y=\"-22.8\" font-family=\"Helvetica,sans-Serif\" font-size=\"14.00\">samples = 1</text>\r\n",
       "<text text-anchor=\"middle\" x=\"2331.5\" y=\"-7.8\" font-family=\"Helvetica,sans-Serif\" font-size=\"14.00\">value = 640.0</text>\r\n",
       "</g>\r\n",
       "<!-- 52&#45;&gt;54 -->\r\n",
       "<g id=\"edge54\" class=\"edge\"><title>52&#45;&gt;54</title>\r\n",
       "<path fill=\"none\" stroke=\"black\" d=\"M2292.49,-88.9485C2298.06,-80.1664 2304.09,-70.6629 2309.71,-61.815\"/>\r\n",
       "<polygon fill=\"black\" stroke=\"black\" points=\"2312.75,-63.5549 2315.16,-53.2367 2306.84,-59.8028 2312.75,-63.5549\"/>\r\n",
       "</g>\r\n",
       "<!-- 56 -->\r\n",
       "<g id=\"node57\" class=\"node\"><title>56</title>\r\n",
       "<path fill=\"#f2c09c\" stroke=\"black\" d=\"M2441.5,-261C2441.5,-261 2271.5,-261 2271.5,-261 2265.5,-261 2259.5,-255 2259.5,-249 2259.5,-249 2259.5,-205 2259.5,-205 2259.5,-199 2265.5,-193 2271.5,-193 2271.5,-193 2441.5,-193 2441.5,-193 2447.5,-193 2453.5,-199 2453.5,-205 2453.5,-205 2453.5,-249 2453.5,-249 2453.5,-255 2447.5,-261 2441.5,-261\"/>\r\n",
       "<text text-anchor=\"middle\" x=\"2356.5\" y=\"-245.8\" font-family=\"Helvetica,sans-Serif\" font-size=\"14.00\">Paved_Highways &lt;= 3166.0</text>\r\n",
       "<text text-anchor=\"middle\" x=\"2356.5\" y=\"-230.8\" font-family=\"Helvetica,sans-Serif\" font-size=\"14.00\">mse = 6.25</text>\r\n",
       "<text text-anchor=\"middle\" x=\"2356.5\" y=\"-215.8\" font-family=\"Helvetica,sans-Serif\" font-size=\"14.00\">samples = 2</text>\r\n",
       "<text text-anchor=\"middle\" x=\"2356.5\" y=\"-200.8\" font-family=\"Helvetica,sans-Serif\" font-size=\"14.00\">value = 563.5</text>\r\n",
       "</g>\r\n",
       "<!-- 55&#45;&gt;56 -->\r\n",
       "<g id=\"edge56\" class=\"edge\"><title>55&#45;&gt;56</title>\r\n",
       "<path fill=\"none\" stroke=\"black\" d=\"M2356.5,-296.884C2356.5,-288.778 2356.5,-279.982 2356.5,-271.472\"/>\r\n",
       "<polygon fill=\"black\" stroke=\"black\" points=\"2360,-271.299 2356.5,-261.299 2353,-271.299 2360,-271.299\"/>\r\n",
       "</g>\r\n",
       "<!-- 59 -->\r\n",
       "<g id=\"node60\" class=\"node\"><title>59</title>\r\n",
       "<path fill=\"#f4cbae\" stroke=\"black\" d=\"M2561.5,-253.5C2561.5,-253.5 2483.5,-253.5 2483.5,-253.5 2477.5,-253.5 2471.5,-247.5 2471.5,-241.5 2471.5,-241.5 2471.5,-212.5 2471.5,-212.5 2471.5,-206.5 2477.5,-200.5 2483.5,-200.5 2483.5,-200.5 2561.5,-200.5 2561.5,-200.5 2567.5,-200.5 2573.5,-206.5 2573.5,-212.5 2573.5,-212.5 2573.5,-241.5 2573.5,-241.5 2573.5,-247.5 2567.5,-253.5 2561.5,-253.5\"/>\r\n",
       "<text text-anchor=\"middle\" x=\"2522.5\" y=\"-238.3\" font-family=\"Helvetica,sans-Serif\" font-size=\"14.00\">mse = 0.0</text>\r\n",
       "<text text-anchor=\"middle\" x=\"2522.5\" y=\"-223.3\" font-family=\"Helvetica,sans-Serif\" font-size=\"14.00\">samples = 1</text>\r\n",
       "<text text-anchor=\"middle\" x=\"2522.5\" y=\"-208.3\" font-family=\"Helvetica,sans-Serif\" font-size=\"14.00\">value = 524.0</text>\r\n",
       "</g>\r\n",
       "<!-- 55&#45;&gt;59 -->\r\n",
       "<g id=\"edge59\" class=\"edge\"><title>55&#45;&gt;59</title>\r\n",
       "<path fill=\"none\" stroke=\"black\" d=\"M2410.4,-296.884C2430.26,-284.676 2452.68,-270.903 2472.21,-258.899\"/>\r\n",
       "<polygon fill=\"black\" stroke=\"black\" points=\"2474.28,-261.737 2480.97,-253.52 2470.62,-255.773 2474.28,-261.737\"/>\r\n",
       "</g>\r\n",
       "<!-- 57 -->\r\n",
       "<g id=\"node58\" class=\"node\"><title>57</title>\r\n",
       "<path fill=\"#f2c19d\" stroke=\"black\" d=\"M2508.5,-149.5C2508.5,-149.5 2430.5,-149.5 2430.5,-149.5 2424.5,-149.5 2418.5,-143.5 2418.5,-137.5 2418.5,-137.5 2418.5,-108.5 2418.5,-108.5 2418.5,-102.5 2424.5,-96.5 2430.5,-96.5 2430.5,-96.5 2508.5,-96.5 2508.5,-96.5 2514.5,-96.5 2520.5,-102.5 2520.5,-108.5 2520.5,-108.5 2520.5,-137.5 2520.5,-137.5 2520.5,-143.5 2514.5,-149.5 2508.5,-149.5\"/>\r\n",
       "<text text-anchor=\"middle\" x=\"2469.5\" y=\"-134.3\" font-family=\"Helvetica,sans-Serif\" font-size=\"14.00\">mse = 0.0</text>\r\n",
       "<text text-anchor=\"middle\" x=\"2469.5\" y=\"-119.3\" font-family=\"Helvetica,sans-Serif\" font-size=\"14.00\">samples = 1</text>\r\n",
       "<text text-anchor=\"middle\" x=\"2469.5\" y=\"-104.3\" font-family=\"Helvetica,sans-Serif\" font-size=\"14.00\">value = 561.0</text>\r\n",
       "</g>\r\n",
       "<!-- 56&#45;&gt;57 -->\r\n",
       "<g id=\"edge57\" class=\"edge\"><title>56&#45;&gt;57</title>\r\n",
       "<path fill=\"none\" stroke=\"black\" d=\"M2393.19,-192.884C2406.1,-181.226 2420.6,-168.141 2433.46,-156.532\"/>\r\n",
       "<polygon fill=\"black\" stroke=\"black\" points=\"2436.15,-158.819 2441.23,-149.52 2431.46,-153.622 2436.15,-158.819\"/>\r\n",
       "</g>\r\n",
       "<!-- 58 -->\r\n",
       "<g id=\"node59\" class=\"node\"><title>58</title>\r\n",
       "<path fill=\"#f2bf9b\" stroke=\"black\" d=\"M2628.5,-149.5C2628.5,-149.5 2550.5,-149.5 2550.5,-149.5 2544.5,-149.5 2538.5,-143.5 2538.5,-137.5 2538.5,-137.5 2538.5,-108.5 2538.5,-108.5 2538.5,-102.5 2544.5,-96.5 2550.5,-96.5 2550.5,-96.5 2628.5,-96.5 2628.5,-96.5 2634.5,-96.5 2640.5,-102.5 2640.5,-108.5 2640.5,-108.5 2640.5,-137.5 2640.5,-137.5 2640.5,-143.5 2634.5,-149.5 2628.5,-149.5\"/>\r\n",
       "<text text-anchor=\"middle\" x=\"2589.5\" y=\"-134.3\" font-family=\"Helvetica,sans-Serif\" font-size=\"14.00\">mse = 0.0</text>\r\n",
       "<text text-anchor=\"middle\" x=\"2589.5\" y=\"-119.3\" font-family=\"Helvetica,sans-Serif\" font-size=\"14.00\">samples = 1</text>\r\n",
       "<text text-anchor=\"middle\" x=\"2589.5\" y=\"-104.3\" font-family=\"Helvetica,sans-Serif\" font-size=\"14.00\">value = 566.0</text>\r\n",
       "</g>\r\n",
       "<!-- 56&#45;&gt;58 -->\r\n",
       "<g id=\"edge58\" class=\"edge\"><title>56&#45;&gt;58</title>\r\n",
       "<path fill=\"none\" stroke=\"black\" d=\"M2445.41,-192.969C2472.69,-182.187 2502.6,-169.703 2529.5,-157 2531.31,-156.143 2533.15,-155.256 2535,-154.346\"/>\r\n",
       "<polygon fill=\"black\" stroke=\"black\" points=\"2536.93,-157.289 2544.27,-149.644 2533.77,-151.045 2536.93,-157.289\"/>\r\n",
       "</g>\r\n",
       "<!-- 61 -->\r\n",
       "<g id=\"node62\" class=\"node\"><title>61</title>\r\n",
       "<path fill=\"#fbede2\" stroke=\"black\" d=\"M2829.5,-469C2829.5,-469 2659.5,-469 2659.5,-469 2653.5,-469 2647.5,-463 2647.5,-457 2647.5,-457 2647.5,-413 2647.5,-413 2647.5,-407 2653.5,-401 2659.5,-401 2659.5,-401 2829.5,-401 2829.5,-401 2835.5,-401 2841.5,-407 2841.5,-413 2841.5,-413 2841.5,-457 2841.5,-457 2841.5,-463 2835.5,-469 2829.5,-469\"/>\r\n",
       "<text text-anchor=\"middle\" x=\"2744.5\" y=\"-453.8\" font-family=\"Helvetica,sans-Serif\" font-size=\"14.00\">Average_income &lt;= 5108.0</text>\r\n",
       "<text text-anchor=\"middle\" x=\"2744.5\" y=\"-438.8\" font-family=\"Helvetica,sans-Serif\" font-size=\"14.00\">mse = 1818.0</text>\r\n",
       "<text text-anchor=\"middle\" x=\"2744.5\" y=\"-423.8\" font-family=\"Helvetica,sans-Serif\" font-size=\"14.00\">samples = 4</text>\r\n",
       "<text text-anchor=\"middle\" x=\"2744.5\" y=\"-408.8\" font-family=\"Helvetica,sans-Serif\" font-size=\"14.00\">value = 408.0</text>\r\n",
       "</g>\r\n",
       "<!-- 60&#45;&gt;61 -->\r\n",
       "<g id=\"edge61\" class=\"edge\"><title>60&#45;&gt;61</title>\r\n",
       "<path fill=\"none\" stroke=\"black\" d=\"M2744.5,-504.884C2744.5,-496.778 2744.5,-487.982 2744.5,-479.472\"/>\r\n",
       "<polygon fill=\"black\" stroke=\"black\" points=\"2748,-479.299 2744.5,-469.299 2741,-479.299 2748,-479.299\"/>\r\n",
       "</g>\r\n",
       "<!-- 68 -->\r\n",
       "<g id=\"node69\" class=\"node\"><title>68</title>\r\n",
       "<path fill=\"#f6d4bb\" stroke=\"black\" d=\"M3214,-469C3214,-469 2973,-469 2973,-469 2967,-469 2961,-463 2961,-457 2961,-457 2961,-413 2961,-413 2961,-407 2967,-401 2973,-401 2973,-401 3214,-401 3214,-401 3220,-401 3226,-407 3226,-413 3226,-413 3226,-457 3226,-457 3226,-463 3220,-469 3214,-469\"/>\r\n",
       "<text text-anchor=\"middle\" x=\"3093.5\" y=\"-453.8\" font-family=\"Helvetica,sans-Serif\" font-size=\"14.00\">Population_Driver_licence(%) &lt;= 0.562</text>\r\n",
       "<text text-anchor=\"middle\" x=\"3093.5\" y=\"-438.8\" font-family=\"Helvetica,sans-Serif\" font-size=\"14.00\">mse = 1064.188</text>\r\n",
       "<text text-anchor=\"middle\" x=\"3093.5\" y=\"-423.8\" font-family=\"Helvetica,sans-Serif\" font-size=\"14.00\">samples = 4</text>\r\n",
       "<text text-anchor=\"middle\" x=\"3093.5\" y=\"-408.8\" font-family=\"Helvetica,sans-Serif\" font-size=\"14.00\">value = 494.25</text>\r\n",
       "</g>\r\n",
       "<!-- 60&#45;&gt;68 -->\r\n",
       "<g id=\"edge68\" class=\"edge\"><title>60&#45;&gt;68</title>\r\n",
       "<path fill=\"none\" stroke=\"black\" d=\"M2857.81,-504.884C2893.9,-494.337 2933.98,-482.623 2970.7,-471.89\"/>\r\n",
       "<polygon fill=\"black\" stroke=\"black\" points=\"2971.84,-475.202 2980.46,-469.038 2969.88,-468.483 2971.84,-475.202\"/>\r\n",
       "</g>\r\n",
       "<!-- 62 -->\r\n",
       "<g id=\"node63\" class=\"node\"><title>62</title>\r\n",
       "<path fill=\"#fae6d8\" stroke=\"black\" d=\"M2818,-365C2818,-365 2585,-365 2585,-365 2579,-365 2573,-359 2573,-353 2573,-353 2573,-309 2573,-309 2573,-303 2579,-297 2585,-297 2585,-297 2818,-297 2818,-297 2824,-297 2830,-303 2830,-309 2830,-309 2830,-353 2830,-353 2830,-359 2824,-365 2818,-365\"/>\r\n",
       "<text text-anchor=\"middle\" x=\"2701.5\" y=\"-349.8\" font-family=\"Helvetica,sans-Serif\" font-size=\"14.00\">Population_Driver_licence(%) &lt;= 0.52</text>\r\n",
       "<text text-anchor=\"middle\" x=\"2701.5\" y=\"-334.8\" font-family=\"Helvetica,sans-Serif\" font-size=\"14.00\">mse = 603.556</text>\r\n",
       "<text text-anchor=\"middle\" x=\"2701.5\" y=\"-319.8\" font-family=\"Helvetica,sans-Serif\" font-size=\"14.00\">samples = 3</text>\r\n",
       "<text text-anchor=\"middle\" x=\"2701.5\" y=\"-304.8\" font-family=\"Helvetica,sans-Serif\" font-size=\"14.00\">value = 429.333</text>\r\n",
       "</g>\r\n",
       "<!-- 61&#45;&gt;62 -->\r\n",
       "<g id=\"edge62\" class=\"edge\"><title>61&#45;&gt;62</title>\r\n",
       "<path fill=\"none\" stroke=\"black\" d=\"M2730.54,-400.884C2727.01,-392.511 2723.17,-383.401 2719.47,-374.631\"/>\r\n",
       "<polygon fill=\"black\" stroke=\"black\" points=\"2722.65,-373.154 2715.54,-365.299 2716.2,-375.874 2722.65,-373.154\"/>\r\n",
       "</g>\r\n",
       "<!-- 67 -->\r\n",
       "<g id=\"node68\" class=\"node\"><title>67</title>\r\n",
       "<path fill=\"#ffffff\" stroke=\"black\" d=\"M2938.5,-357.5C2938.5,-357.5 2860.5,-357.5 2860.5,-357.5 2854.5,-357.5 2848.5,-351.5 2848.5,-345.5 2848.5,-345.5 2848.5,-316.5 2848.5,-316.5 2848.5,-310.5 2854.5,-304.5 2860.5,-304.5 2860.5,-304.5 2938.5,-304.5 2938.5,-304.5 2944.5,-304.5 2950.5,-310.5 2950.5,-316.5 2950.5,-316.5 2950.5,-345.5 2950.5,-345.5 2950.5,-351.5 2944.5,-357.5 2938.5,-357.5\"/>\r\n",
       "<text text-anchor=\"middle\" x=\"2899.5\" y=\"-342.3\" font-family=\"Helvetica,sans-Serif\" font-size=\"14.00\">mse = 0.0</text>\r\n",
       "<text text-anchor=\"middle\" x=\"2899.5\" y=\"-327.3\" font-family=\"Helvetica,sans-Serif\" font-size=\"14.00\">samples = 1</text>\r\n",
       "<text text-anchor=\"middle\" x=\"2899.5\" y=\"-312.3\" font-family=\"Helvetica,sans-Serif\" font-size=\"14.00\">value = 344.0</text>\r\n",
       "</g>\r\n",
       "<!-- 61&#45;&gt;67 -->\r\n",
       "<g id=\"edge67\" class=\"edge\"><title>61&#45;&gt;67</title>\r\n",
       "<path fill=\"none\" stroke=\"black\" d=\"M2794.82,-400.884C2813.21,-388.786 2833.93,-375.151 2852.05,-363.224\"/>\r\n",
       "<polygon fill=\"black\" stroke=\"black\" points=\"2854.29,-365.941 2860.72,-357.52 2850.44,-360.093 2854.29,-365.941\"/>\r\n",
       "</g>\r\n",
       "<!-- 63 -->\r\n",
       "<g id=\"node64\" class=\"node\"><title>63</title>\r\n",
       "<path fill=\"#f8dcc9\" stroke=\"black\" d=\"M2681.5,-253.5C2681.5,-253.5 2603.5,-253.5 2603.5,-253.5 2597.5,-253.5 2591.5,-247.5 2591.5,-241.5 2591.5,-241.5 2591.5,-212.5 2591.5,-212.5 2591.5,-206.5 2597.5,-200.5 2603.5,-200.5 2603.5,-200.5 2681.5,-200.5 2681.5,-200.5 2687.5,-200.5 2693.5,-206.5 2693.5,-212.5 2693.5,-212.5 2693.5,-241.5 2693.5,-241.5 2693.5,-247.5 2687.5,-253.5 2681.5,-253.5\"/>\r\n",
       "<text text-anchor=\"middle\" x=\"2642.5\" y=\"-238.3\" font-family=\"Helvetica,sans-Serif\" font-size=\"14.00\">mse = 0.0</text>\r\n",
       "<text text-anchor=\"middle\" x=\"2642.5\" y=\"-223.3\" font-family=\"Helvetica,sans-Serif\" font-size=\"14.00\">samples = 1</text>\r\n",
       "<text text-anchor=\"middle\" x=\"2642.5\" y=\"-208.3\" font-family=\"Helvetica,sans-Serif\" font-size=\"14.00\">value = 464.0</text>\r\n",
       "</g>\r\n",
       "<!-- 62&#45;&gt;63 -->\r\n",
       "<g id=\"edge63\" class=\"edge\"><title>62&#45;&gt;63</title>\r\n",
       "<path fill=\"none\" stroke=\"black\" d=\"M2682.34,-296.884C2675.92,-285.776 2668.74,-273.372 2662.27,-262.184\"/>\r\n",
       "<polygon fill=\"black\" stroke=\"black\" points=\"2665.3,-260.424 2657.26,-253.52 2659.24,-263.929 2665.3,-260.424\"/>\r\n",
       "</g>\r\n",
       "<!-- 64 -->\r\n",
       "<g id=\"node65\" class=\"node\"><title>64</title>\r\n",
       "<path fill=\"#fbebe0\" stroke=\"black\" d=\"M2965,-261C2965,-261 2724,-261 2724,-261 2718,-261 2712,-255 2712,-249 2712,-249 2712,-205 2712,-205 2712,-199 2718,-193 2724,-193 2724,-193 2965,-193 2965,-193 2971,-193 2977,-199 2977,-205 2977,-205 2977,-249 2977,-249 2977,-255 2971,-261 2965,-261\"/>\r\n",
       "<text text-anchor=\"middle\" x=\"2844.5\" y=\"-245.8\" font-family=\"Helvetica,sans-Serif\" font-size=\"14.00\">Population_Driver_licence(%) &lt;= 0.537</text>\r\n",
       "<text text-anchor=\"middle\" x=\"2844.5\" y=\"-230.8\" font-family=\"Helvetica,sans-Serif\" font-size=\"14.00\">mse = 4.0</text>\r\n",
       "<text text-anchor=\"middle\" x=\"2844.5\" y=\"-215.8\" font-family=\"Helvetica,sans-Serif\" font-size=\"14.00\">samples = 2</text>\r\n",
       "<text text-anchor=\"middle\" x=\"2844.5\" y=\"-200.8\" font-family=\"Helvetica,sans-Serif\" font-size=\"14.00\">value = 412.0</text>\r\n",
       "</g>\r\n",
       "<!-- 62&#45;&gt;64 -->\r\n",
       "<g id=\"edge64\" class=\"edge\"><title>62&#45;&gt;64</title>\r\n",
       "<path fill=\"none\" stroke=\"black\" d=\"M2747.93,-296.884C2761.17,-287.442 2775.71,-277.064 2789.41,-267.292\"/>\r\n",
       "<polygon fill=\"black\" stroke=\"black\" points=\"2791.71,-269.956 2797.82,-261.299 2787.64,-264.257 2791.71,-269.956\"/>\r\n",
       "</g>\r\n",
       "<!-- 65 -->\r\n",
       "<g id=\"node66\" class=\"node\"><title>65</title>\r\n",
       "<path fill=\"#fbebdf\" stroke=\"black\" d=\"M2803.5,-149.5C2803.5,-149.5 2725.5,-149.5 2725.5,-149.5 2719.5,-149.5 2713.5,-143.5 2713.5,-137.5 2713.5,-137.5 2713.5,-108.5 2713.5,-108.5 2713.5,-102.5 2719.5,-96.5 2725.5,-96.5 2725.5,-96.5 2803.5,-96.5 2803.5,-96.5 2809.5,-96.5 2815.5,-102.5 2815.5,-108.5 2815.5,-108.5 2815.5,-137.5 2815.5,-137.5 2815.5,-143.5 2809.5,-149.5 2803.5,-149.5\"/>\r\n",
       "<text text-anchor=\"middle\" x=\"2764.5\" y=\"-134.3\" font-family=\"Helvetica,sans-Serif\" font-size=\"14.00\">mse = 0.0</text>\r\n",
       "<text text-anchor=\"middle\" x=\"2764.5\" y=\"-119.3\" font-family=\"Helvetica,sans-Serif\" font-size=\"14.00\">samples = 1</text>\r\n",
       "<text text-anchor=\"middle\" x=\"2764.5\" y=\"-104.3\" font-family=\"Helvetica,sans-Serif\" font-size=\"14.00\">value = 414.0</text>\r\n",
       "</g>\r\n",
       "<!-- 64&#45;&gt;65 -->\r\n",
       "<g id=\"edge65\" class=\"edge\"><title>64&#45;&gt;65</title>\r\n",
       "<path fill=\"none\" stroke=\"black\" d=\"M2818.53,-192.884C2809.64,-181.556 2799.7,-168.88 2790.79,-157.521\"/>\r\n",
       "<polygon fill=\"black\" stroke=\"black\" points=\"2793.44,-155.228 2784.52,-149.52 2787.93,-159.548 2793.44,-155.228\"/>\r\n",
       "</g>\r\n",
       "<!-- 66 -->\r\n",
       "<g id=\"node67\" class=\"node\"><title>66</title>\r\n",
       "<path fill=\"#fbece1\" stroke=\"black\" d=\"M2923.5,-149.5C2923.5,-149.5 2845.5,-149.5 2845.5,-149.5 2839.5,-149.5 2833.5,-143.5 2833.5,-137.5 2833.5,-137.5 2833.5,-108.5 2833.5,-108.5 2833.5,-102.5 2839.5,-96.5 2845.5,-96.5 2845.5,-96.5 2923.5,-96.5 2923.5,-96.5 2929.5,-96.5 2935.5,-102.5 2935.5,-108.5 2935.5,-108.5 2935.5,-137.5 2935.5,-137.5 2935.5,-143.5 2929.5,-149.5 2923.5,-149.5\"/>\r\n",
       "<text text-anchor=\"middle\" x=\"2884.5\" y=\"-134.3\" font-family=\"Helvetica,sans-Serif\" font-size=\"14.00\">mse = 0.0</text>\r\n",
       "<text text-anchor=\"middle\" x=\"2884.5\" y=\"-119.3\" font-family=\"Helvetica,sans-Serif\" font-size=\"14.00\">samples = 1</text>\r\n",
       "<text text-anchor=\"middle\" x=\"2884.5\" y=\"-104.3\" font-family=\"Helvetica,sans-Serif\" font-size=\"14.00\">value = 410.0</text>\r\n",
       "</g>\r\n",
       "<!-- 64&#45;&gt;66 -->\r\n",
       "<g id=\"edge66\" class=\"edge\"><title>64&#45;&gt;66</title>\r\n",
       "<path fill=\"none\" stroke=\"black\" d=\"M2857.49,-192.884C2861.76,-181.996 2866.51,-169.863 2870.83,-158.85\"/>\r\n",
       "<polygon fill=\"black\" stroke=\"black\" points=\"2874.1,-160.107 2874.49,-149.52 2867.58,-157.552 2874.1,-160.107\"/>\r\n",
       "</g>\r\n",
       "<!-- 69 -->\r\n",
       "<g id=\"node70\" class=\"node\"><title>69</title>\r\n",
       "<path fill=\"#f8ddc9\" stroke=\"black\" d=\"M3148,-365C3148,-365 3039,-365 3039,-365 3033,-365 3027,-359 3027,-353 3027,-353 3027,-309 3027,-309 3027,-303 3033,-297 3039,-297 3039,-297 3148,-297 3148,-297 3154,-297 3160,-303 3160,-309 3160,-309 3160,-353 3160,-353 3160,-359 3154,-365 3148,-365\"/>\r\n",
       "<text text-anchor=\"middle\" x=\"3093.5\" y=\"-349.8\" font-family=\"Helvetica,sans-Serif\" font-size=\"14.00\">Petrol_tax &lt;= 8.25</text>\r\n",
       "<text text-anchor=\"middle\" x=\"3093.5\" y=\"-334.8\" font-family=\"Helvetica,sans-Serif\" font-size=\"14.00\">mse = 12.25</text>\r\n",
       "<text text-anchor=\"middle\" x=\"3093.5\" y=\"-319.8\" font-family=\"Helvetica,sans-Serif\" font-size=\"14.00\">samples = 2</text>\r\n",
       "<text text-anchor=\"middle\" x=\"3093.5\" y=\"-304.8\" font-family=\"Helvetica,sans-Serif\" font-size=\"14.00\">value = 463.5</text>\r\n",
       "</g>\r\n",
       "<!-- 68&#45;&gt;69 -->\r\n",
       "<g id=\"edge69\" class=\"edge\"><title>68&#45;&gt;69</title>\r\n",
       "<path fill=\"none\" stroke=\"black\" d=\"M3093.5,-400.884C3093.5,-392.778 3093.5,-383.982 3093.5,-375.472\"/>\r\n",
       "<polygon fill=\"black\" stroke=\"black\" points=\"3097,-375.299 3093.5,-365.299 3090,-375.299 3097,-375.299\"/>\r\n",
       "</g>\r\n",
       "<!-- 72 -->\r\n",
       "<g id=\"node73\" class=\"node\"><title>72</title>\r\n",
       "<path fill=\"#f4cbad\" stroke=\"black\" d=\"M3337,-365C3337,-365 3236,-365 3236,-365 3230,-365 3224,-359 3224,-353 3224,-353 3224,-309 3224,-309 3224,-303 3230,-297 3236,-297 3236,-297 3337,-297 3337,-297 3343,-297 3349,-303 3349,-309 3349,-309 3349,-353 3349,-353 3349,-359 3343,-365 3337,-365\"/>\r\n",
       "<text text-anchor=\"middle\" x=\"3286.5\" y=\"-349.8\" font-family=\"Helvetica,sans-Serif\" font-size=\"14.00\">Petrol_tax &lt;= 8.5</text>\r\n",
       "<text text-anchor=\"middle\" x=\"3286.5\" y=\"-334.8\" font-family=\"Helvetica,sans-Serif\" font-size=\"14.00\">mse = 225.0</text>\r\n",
       "<text text-anchor=\"middle\" x=\"3286.5\" y=\"-319.8\" font-family=\"Helvetica,sans-Serif\" font-size=\"14.00\">samples = 2</text>\r\n",
       "<text text-anchor=\"middle\" x=\"3286.5\" y=\"-304.8\" font-family=\"Helvetica,sans-Serif\" font-size=\"14.00\">value = 525.0</text>\r\n",
       "</g>\r\n",
       "<!-- 68&#45;&gt;72 -->\r\n",
       "<g id=\"edge72\" class=\"edge\"><title>68&#45;&gt;72</title>\r\n",
       "<path fill=\"none\" stroke=\"black\" d=\"M3156.16,-400.884C3174.88,-390.991 3195.54,-380.07 3214.8,-369.895\"/>\r\n",
       "<polygon fill=\"black\" stroke=\"black\" points=\"3216.62,-372.892 3223.82,-365.125 3213.35,-366.703 3216.62,-372.892\"/>\r\n",
       "</g>\r\n",
       "<!-- 70 -->\r\n",
       "<g id=\"node71\" class=\"node\"><title>70</title>\r\n",
       "<path fill=\"#f8dcc7\" stroke=\"black\" d=\"M3085.5,-253.5C3085.5,-253.5 3007.5,-253.5 3007.5,-253.5 3001.5,-253.5 2995.5,-247.5 2995.5,-241.5 2995.5,-241.5 2995.5,-212.5 2995.5,-212.5 2995.5,-206.5 3001.5,-200.5 3007.5,-200.5 3007.5,-200.5 3085.5,-200.5 3085.5,-200.5 3091.5,-200.5 3097.5,-206.5 3097.5,-212.5 3097.5,-212.5 3097.5,-241.5 3097.5,-241.5 3097.5,-247.5 3091.5,-253.5 3085.5,-253.5\"/>\r\n",
       "<text text-anchor=\"middle\" x=\"3046.5\" y=\"-238.3\" font-family=\"Helvetica,sans-Serif\" font-size=\"14.00\">mse = 0.0</text>\r\n",
       "<text text-anchor=\"middle\" x=\"3046.5\" y=\"-223.3\" font-family=\"Helvetica,sans-Serif\" font-size=\"14.00\">samples = 1</text>\r\n",
       "<text text-anchor=\"middle\" x=\"3046.5\" y=\"-208.3\" font-family=\"Helvetica,sans-Serif\" font-size=\"14.00\">value = 467.0</text>\r\n",
       "</g>\r\n",
       "<!-- 69&#45;&gt;70 -->\r\n",
       "<g id=\"edge70\" class=\"edge\"><title>69&#45;&gt;70</title>\r\n",
       "<path fill=\"none\" stroke=\"black\" d=\"M3078.24,-296.884C3073.22,-285.996 3067.63,-273.863 3062.56,-262.85\"/>\r\n",
       "<polygon fill=\"black\" stroke=\"black\" points=\"3065.62,-261.137 3058.26,-253.52 3059.27,-264.067 3065.62,-261.137\"/>\r\n",
       "</g>\r\n",
       "<!-- 71 -->\r\n",
       "<g id=\"node72\" class=\"node\"><title>71</title>\r\n",
       "<path fill=\"#f8decb\" stroke=\"black\" d=\"M3205.5,-253.5C3205.5,-253.5 3127.5,-253.5 3127.5,-253.5 3121.5,-253.5 3115.5,-247.5 3115.5,-241.5 3115.5,-241.5 3115.5,-212.5 3115.5,-212.5 3115.5,-206.5 3121.5,-200.5 3127.5,-200.5 3127.5,-200.5 3205.5,-200.5 3205.5,-200.5 3211.5,-200.5 3217.5,-206.5 3217.5,-212.5 3217.5,-212.5 3217.5,-241.5 3217.5,-241.5 3217.5,-247.5 3211.5,-253.5 3205.5,-253.5\"/>\r\n",
       "<text text-anchor=\"middle\" x=\"3166.5\" y=\"-238.3\" font-family=\"Helvetica,sans-Serif\" font-size=\"14.00\">mse = 0.0</text>\r\n",
       "<text text-anchor=\"middle\" x=\"3166.5\" y=\"-223.3\" font-family=\"Helvetica,sans-Serif\" font-size=\"14.00\">samples = 1</text>\r\n",
       "<text text-anchor=\"middle\" x=\"3166.5\" y=\"-208.3\" font-family=\"Helvetica,sans-Serif\" font-size=\"14.00\">value = 460.0</text>\r\n",
       "</g>\r\n",
       "<!-- 69&#45;&gt;71 -->\r\n",
       "<g id=\"edge71\" class=\"edge\"><title>69&#45;&gt;71</title>\r\n",
       "<path fill=\"none\" stroke=\"black\" d=\"M3117.2,-296.884C3125.23,-285.666 3134.2,-273.126 3142.27,-261.852\"/>\r\n",
       "<polygon fill=\"black\" stroke=\"black\" points=\"3145.26,-263.689 3148.24,-253.52 3139.57,-259.615 3145.26,-263.689\"/>\r\n",
       "</g>\r\n",
       "<!-- 73 -->\r\n",
       "<g id=\"node74\" class=\"node\"><title>73</title>\r\n",
       "<path fill=\"#f3c7a6\" stroke=\"black\" d=\"M3325.5,-253.5C3325.5,-253.5 3247.5,-253.5 3247.5,-253.5 3241.5,-253.5 3235.5,-247.5 3235.5,-241.5 3235.5,-241.5 3235.5,-212.5 3235.5,-212.5 3235.5,-206.5 3241.5,-200.5 3247.5,-200.5 3247.5,-200.5 3325.5,-200.5 3325.5,-200.5 3331.5,-200.5 3337.5,-206.5 3337.5,-212.5 3337.5,-212.5 3337.5,-241.5 3337.5,-241.5 3337.5,-247.5 3331.5,-253.5 3325.5,-253.5\"/>\r\n",
       "<text text-anchor=\"middle\" x=\"3286.5\" y=\"-238.3\" font-family=\"Helvetica,sans-Serif\" font-size=\"14.00\">mse = 0.0</text>\r\n",
       "<text text-anchor=\"middle\" x=\"3286.5\" y=\"-223.3\" font-family=\"Helvetica,sans-Serif\" font-size=\"14.00\">samples = 1</text>\r\n",
       "<text text-anchor=\"middle\" x=\"3286.5\" y=\"-208.3\" font-family=\"Helvetica,sans-Serif\" font-size=\"14.00\">value = 540.0</text>\r\n",
       "</g>\r\n",
       "<!-- 72&#45;&gt;73 -->\r\n",
       "<g id=\"edge73\" class=\"edge\"><title>72&#45;&gt;73</title>\r\n",
       "<path fill=\"none\" stroke=\"black\" d=\"M3286.5,-296.884C3286.5,-286.326 3286.5,-274.597 3286.5,-263.854\"/>\r\n",
       "<polygon fill=\"black\" stroke=\"black\" points=\"3290,-263.52 3286.5,-253.52 3283,-263.52 3290,-263.52\"/>\r\n",
       "</g>\r\n",
       "<!-- 74 -->\r\n",
       "<g id=\"node75\" class=\"node\"><title>74</title>\r\n",
       "<path fill=\"#f5cfb4\" stroke=\"black\" d=\"M3445.5,-253.5C3445.5,-253.5 3367.5,-253.5 3367.5,-253.5 3361.5,-253.5 3355.5,-247.5 3355.5,-241.5 3355.5,-241.5 3355.5,-212.5 3355.5,-212.5 3355.5,-206.5 3361.5,-200.5 3367.5,-200.5 3367.5,-200.5 3445.5,-200.5 3445.5,-200.5 3451.5,-200.5 3457.5,-206.5 3457.5,-212.5 3457.5,-212.5 3457.5,-241.5 3457.5,-241.5 3457.5,-247.5 3451.5,-253.5 3445.5,-253.5\"/>\r\n",
       "<text text-anchor=\"middle\" x=\"3406.5\" y=\"-238.3\" font-family=\"Helvetica,sans-Serif\" font-size=\"14.00\">mse = 0.0</text>\r\n",
       "<text text-anchor=\"middle\" x=\"3406.5\" y=\"-223.3\" font-family=\"Helvetica,sans-Serif\" font-size=\"14.00\">samples = 1</text>\r\n",
       "<text text-anchor=\"middle\" x=\"3406.5\" y=\"-208.3\" font-family=\"Helvetica,sans-Serif\" font-size=\"14.00\">value = 510.0</text>\r\n",
       "</g>\r\n",
       "<!-- 72&#45;&gt;74 -->\r\n",
       "<g id=\"edge74\" class=\"edge\"><title>72&#45;&gt;74</title>\r\n",
       "<path fill=\"none\" stroke=\"black\" d=\"M3325.46,-296.884C3339.3,-285.116 3354.86,-271.894 3368.61,-260.203\"/>\r\n",
       "<polygon fill=\"black\" stroke=\"black\" points=\"3371.12,-262.663 3376.48,-253.52 3366.59,-257.33 3371.12,-262.663\"/>\r\n",
       "</g>\r\n",
       "</g>\r\n",
       "</svg>\r\n"
      ],
      "text/plain": [
       "<graphviz.files.Source at 0x2648589f848>"
      ]
     },
     "execution_count": 259,
     "metadata": {},
     "output_type": "execute_result"
    }
   ],
   "source": [
    "graphviz.Source(dot_data)"
   ]
  },
  {
   "cell_type": "markdown",
   "metadata": {},
   "source": [
    "# Interpreting the decision tree "
   ]
  },
  {
   "cell_type": "markdown",
   "metadata": {},
   "source": [
    "* we did not mentioned any hyper-parameters in the decision tree so it is recursively grown \n",
    "* Splitting predictor and Cuttof point : In this decision tree, The splitting predictor is Petrol_Tax and Cutting value is 7.25 cents\n",
    "* root node is Petrol_Tax\n",
    "* mse : Evolution metrics for this particular region is mse=8073.501\n",
    "* samples : Number of observations in this particular region is 38\n",
    "* value : The value for the predictions for this region is 569.842\n",
    "     * Next, the decison tree splits into 2 internal nodes Paved_Highways if Petrol_Tax <=7.25 and Average_Income if Petrol_Tax >7.25\n",
    "      * Furtherly, the decison tree splits into many internal nodes and it is unstoppable bacause of not having any hyperparameters to stop the decision tree to grow from recursively\n",
    "      * There are many leaf nodes in the tree where each observation belongs to one region based on the average mean or mode of the observations present in that particular region\n",
    "      * The regions are formed so that the RSS is minimum"
   ]
  },
  {
   "cell_type": "markdown",
   "metadata": {},
   "source": [
    "We see that on the terminal nodes (i.e. leaves) the model outputs one of the seven values for all the predictions. We can also confirm this with the below code by looking at the predicted unique values."
   ]
  },
  {
   "cell_type": "code",
   "execution_count": 260,
   "metadata": {},
   "outputs": [
    {
     "data": {
      "text/plain": [
       "array([344., 414., 510., 574., 704., 714., 782.])"
      ]
     },
     "execution_count": 260,
     "metadata": {},
     "output_type": "execute_result"
    }
   ],
   "source": [
    "np.unique(predictions)"
   ]
  },
  {
   "cell_type": "markdown",
   "metadata": {},
   "source": [
    "# Just Assignning the Hyper-parameters manually"
   ]
  },
  {
   "cell_type": "markdown",
   "metadata": {},
   "source": [
    "Assigning max_depth=4 to DecisionTreeRegressor"
   ]
  },
  {
   "cell_type": "code",
   "execution_count": 261,
   "metadata": {},
   "outputs": [],
   "source": [
    "tree = DecisionTreeRegressor(max_depth=4)"
   ]
  },
  {
   "cell_type": "code",
   "execution_count": 262,
   "metadata": {},
   "outputs": [
    {
     "data": {
      "text/plain": [
       "DecisionTreeRegressor(criterion='mse', max_depth=4, max_features=None,\n",
       "                      max_leaf_nodes=None, min_impurity_decrease=0.0,\n",
       "                      min_impurity_split=None, min_samples_leaf=1,\n",
       "                      min_samples_split=2, min_weight_fraction_leaf=0.0,\n",
       "                      presort=False, random_state=None, splitter='best')"
      ]
     },
     "execution_count": 262,
     "metadata": {},
     "output_type": "execute_result"
    }
   ],
   "source": [
    "tree.fit(X_train, Y_train)"
   ]
  },
  {
   "cell_type": "code",
   "execution_count": 263,
   "metadata": {},
   "outputs": [],
   "source": [
    "predictions = tree.predict(X_test)"
   ]
  },
  {
   "cell_type": "code",
   "execution_count": 264,
   "metadata": {},
   "outputs": [
    {
     "data": {
      "text/plain": [
       "array([709.        , 709.        , 616.33333333, 709.        ,\n",
       "       429.33333333])"
      ]
     },
     "execution_count": 264,
     "metadata": {},
     "output_type": "execute_result"
    }
   ],
   "source": [
    "predictions[:5]"
   ]
  },
  {
   "cell_type": "code",
   "execution_count": 265,
   "metadata": {},
   "outputs": [
    {
     "data": {
      "text/plain": [
       "18    865\n",
       "13    508\n",
       "26    577\n",
       "31    554\n",
       "10    580\n",
       "Name: Petrol_Consumption, dtype: int64"
      ]
     },
     "execution_count": 265,
     "metadata": {},
     "output_type": "execute_result"
    }
   ],
   "source": [
    "Y_test[:5]"
   ]
  },
  {
   "cell_type": "code",
   "execution_count": 266,
   "metadata": {},
   "outputs": [
    {
     "data": {
      "text/plain": [
       "138.86666666666667"
      ]
     },
     "execution_count": 266,
     "metadata": {},
     "output_type": "execute_result"
    }
   ],
   "source": [
    "mean_absolute_error(Y_test, predictions)"
   ]
  },
  {
   "cell_type": "markdown",
   "metadata": {},
   "source": [
    "Even this model also not predicting well"
   ]
  },
  {
   "cell_type": "code",
   "execution_count": 267,
   "metadata": {},
   "outputs": [
    {
     "data": {
      "text/plain": [
       "0.039380136152366685"
      ]
     },
     "execution_count": 267,
     "metadata": {},
     "output_type": "execute_result"
    }
   ],
   "source": [
    "r2_score(Y_test, predictions)"
   ]
  },
  {
   "cell_type": "markdown",
   "metadata": {},
   "source": [
    "The regression results are not very accurate. Let's try to understand the reason for it by visualizing the tree output."
   ]
  },
  {
   "cell_type": "markdown",
   "metadata": {},
   "source": [
    "# Plotting the decision Tree"
   ]
  },
  {
   "cell_type": "code",
   "execution_count": 268,
   "metadata": {},
   "outputs": [],
   "source": [
    "dot_data = export_graphviz(tree, filled=True, rounded=True, feature_names=X_train.columns,out_file=None)"
   ]
  },
  {
   "cell_type": "code",
   "execution_count": 269,
   "metadata": {},
   "outputs": [
    {
     "data": {
      "image/svg+xml": [
       "<?xml version=\"1.0\" encoding=\"UTF-8\" standalone=\"no\"?>\r\n",
       "<!DOCTYPE svg PUBLIC \"-//W3C//DTD SVG 1.1//EN\"\r\n",
       " \"http://www.w3.org/Graphics/SVG/1.1/DTD/svg11.dtd\">\r\n",
       "<!-- Generated by graphviz version 2.38.0 (20140413.2041)\r\n",
       " -->\r\n",
       "<!-- Title: Tree Pages: 1 -->\r\n",
       "<svg width=\"1833pt\" height=\"477pt\"\r\n",
       " viewBox=\"0.00 0.00 1832.50 477.00\" xmlns=\"http://www.w3.org/2000/svg\" xmlns:xlink=\"http://www.w3.org/1999/xlink\">\r\n",
       "<g id=\"graph0\" class=\"graph\" transform=\"scale(1 1) rotate(0) translate(4 473)\">\r\n",
       "<title>Tree</title>\r\n",
       "<polygon fill=\"white\" stroke=\"none\" points=\"-4,4 -4,-473 1828.5,-473 1828.5,4 -4,4\"/>\r\n",
       "<!-- 0 -->\r\n",
       "<g id=\"node1\" class=\"node\"><title>0</title>\r\n",
       "<path fill=\"#f2be99\" stroke=\"black\" d=\"M890,-469C890,-469 781,-469 781,-469 775,-469 769,-463 769,-457 769,-457 769,-413 769,-413 769,-407 775,-401 781,-401 781,-401 890,-401 890,-401 896,-401 902,-407 902,-413 902,-413 902,-457 902,-457 902,-463 896,-469 890,-469\"/>\r\n",
       "<text text-anchor=\"middle\" x=\"835.5\" y=\"-453.8\" font-family=\"Helvetica,sans-Serif\" font-size=\"14.00\">Petrol_tax &lt;= 7.25</text>\r\n",
       "<text text-anchor=\"middle\" x=\"835.5\" y=\"-438.8\" font-family=\"Helvetica,sans-Serif\" font-size=\"14.00\">mse = 8073.501</text>\r\n",
       "<text text-anchor=\"middle\" x=\"835.5\" y=\"-423.8\" font-family=\"Helvetica,sans-Serif\" font-size=\"14.00\">samples = 38</text>\r\n",
       "<text text-anchor=\"middle\" x=\"835.5\" y=\"-408.8\" font-family=\"Helvetica,sans-Serif\" font-size=\"14.00\">value = 569.842</text>\r\n",
       "</g>\r\n",
       "<!-- 1 -->\r\n",
       "<g id=\"node2\" class=\"node\"><title>1</title>\r\n",
       "<path fill=\"#eeaf81\" stroke=\"black\" d=\"M698.5,-365C698.5,-365 528.5,-365 528.5,-365 522.5,-365 516.5,-359 516.5,-353 516.5,-353 516.5,-309 516.5,-309 516.5,-303 522.5,-297 528.5,-297 528.5,-297 698.5,-297 698.5,-297 704.5,-297 710.5,-303 710.5,-309 710.5,-309 710.5,-353 710.5,-353 710.5,-359 704.5,-365 698.5,-365\"/>\r\n",
       "<text text-anchor=\"middle\" x=\"613.5\" y=\"-349.8\" font-family=\"Helvetica,sans-Serif\" font-size=\"14.00\">Paved_Highways &lt;= 6645.0</text>\r\n",
       "<text text-anchor=\"middle\" x=\"613.5\" y=\"-334.8\" font-family=\"Helvetica,sans-Serif\" font-size=\"14.00\">mse = 5300.298</text>\r\n",
       "<text text-anchor=\"middle\" x=\"613.5\" y=\"-319.8\" font-family=\"Helvetica,sans-Serif\" font-size=\"14.00\">samples = 17</text>\r\n",
       "<text text-anchor=\"middle\" x=\"613.5\" y=\"-304.8\" font-family=\"Helvetica,sans-Serif\" font-size=\"14.00\">value = 622.765</text>\r\n",
       "</g>\r\n",
       "<!-- 0&#45;&gt;1 -->\r\n",
       "<g id=\"edge1\" class=\"edge\"><title>0&#45;&gt;1</title>\r\n",
       "<path fill=\"none\" stroke=\"black\" d=\"M768.893,-403.397C745.563,-392.678 719.101,-380.52 694.712,-369.313\"/>\r\n",
       "<polygon fill=\"black\" stroke=\"black\" points=\"696.024,-366.065 685.476,-365.07 693.102,-372.426 696.024,-366.065\"/>\r\n",
       "<text text-anchor=\"middle\" x=\"694.159\" y=\"-384.814\" font-family=\"Helvetica,sans-Serif\" font-size=\"14.00\">True</text>\r\n",
       "</g>\r\n",
       "<!-- 14 -->\r\n",
       "<g id=\"node15\" class=\"node\"><title>14</title>\r\n",
       "<path fill=\"#f4caac\" stroke=\"black\" d=\"M1142.5,-365C1142.5,-365 972.5,-365 972.5,-365 966.5,-365 960.5,-359 960.5,-353 960.5,-353 960.5,-309 960.5,-309 960.5,-303 966.5,-297 972.5,-297 972.5,-297 1142.5,-297 1142.5,-297 1148.5,-297 1154.5,-303 1154.5,-309 1154.5,-309 1154.5,-353 1154.5,-353 1154.5,-359 1148.5,-365 1142.5,-365\"/>\r\n",
       "<text text-anchor=\"middle\" x=\"1057.5\" y=\"-349.8\" font-family=\"Helvetica,sans-Serif\" font-size=\"14.00\">Average_income &lt;= 4370.0</text>\r\n",
       "<text text-anchor=\"middle\" x=\"1057.5\" y=\"-334.8\" font-family=\"Helvetica,sans-Serif\" font-size=\"14.00\">mse = 6215.714</text>\r\n",
       "<text text-anchor=\"middle\" x=\"1057.5\" y=\"-319.8\" font-family=\"Helvetica,sans-Serif\" font-size=\"14.00\">samples = 21</text>\r\n",
       "<text text-anchor=\"middle\" x=\"1057.5\" y=\"-304.8\" font-family=\"Helvetica,sans-Serif\" font-size=\"14.00\">value = 527.0</text>\r\n",
       "</g>\r\n",
       "<!-- 0&#45;&gt;14 -->\r\n",
       "<g id=\"edge14\" class=\"edge\"><title>0&#45;&gt;14</title>\r\n",
       "<path fill=\"none\" stroke=\"black\" d=\"M902.107,-403.397C925.437,-392.678 951.899,-380.52 976.288,-369.313\"/>\r\n",
       "<polygon fill=\"black\" stroke=\"black\" points=\"977.898,-372.426 985.524,-365.07 974.976,-366.065 977.898,-372.426\"/>\r\n",
       "<text text-anchor=\"middle\" x=\"976.841\" y=\"-384.814\" font-family=\"Helvetica,sans-Serif\" font-size=\"14.00\">False</text>\r\n",
       "</g>\r\n",
       "<!-- 2 -->\r\n",
       "<g id=\"node3\" class=\"node\"><title>2</title>\r\n",
       "<path fill=\"#eb9f69\" stroke=\"black\" d=\"M385.5,-261C385.5,-261 215.5,-261 215.5,-261 209.5,-261 203.5,-255 203.5,-249 203.5,-249 203.5,-205 203.5,-205 203.5,-199 209.5,-193 215.5,-193 215.5,-193 385.5,-193 385.5,-193 391.5,-193 397.5,-199 397.5,-205 397.5,-205 397.5,-249 397.5,-249 397.5,-255 391.5,-261 385.5,-261\"/>\r\n",
       "<text text-anchor=\"middle\" x=\"300.5\" y=\"-245.8\" font-family=\"Helvetica,sans-Serif\" font-size=\"14.00\">Average_income &lt;= 4757.5</text>\r\n",
       "<text text-anchor=\"middle\" x=\"300.5\" y=\"-230.8\" font-family=\"Helvetica,sans-Serif\" font-size=\"14.00\">mse = 3930.0</text>\r\n",
       "<text text-anchor=\"middle\" x=\"300.5\" y=\"-215.8\" font-family=\"Helvetica,sans-Serif\" font-size=\"14.00\">samples = 7</text>\r\n",
       "<text text-anchor=\"middle\" x=\"300.5\" y=\"-200.8\" font-family=\"Helvetica,sans-Serif\" font-size=\"14.00\">value = 676.0</text>\r\n",
       "</g>\r\n",
       "<!-- 1&#45;&gt;2 -->\r\n",
       "<g id=\"edge2\" class=\"edge\"><title>1&#45;&gt;2</title>\r\n",
       "<path fill=\"none\" stroke=\"black\" d=\"M516.181,-298.286C481.733,-287.06 442.8,-274.372 407.586,-262.897\"/>\r\n",
       "<polygon fill=\"black\" stroke=\"black\" points=\"408.352,-259.465 397.759,-259.695 406.183,-266.121 408.352,-259.465\"/>\r\n",
       "</g>\r\n",
       "<!-- 7 -->\r\n",
       "<g id=\"node8\" class=\"node\"><title>7</title>\r\n",
       "<path fill=\"#f1ba92\" stroke=\"black\" d=\"M698.5,-261C698.5,-261 528.5,-261 528.5,-261 522.5,-261 516.5,-255 516.5,-249 516.5,-249 516.5,-205 516.5,-205 516.5,-199 522.5,-193 528.5,-193 528.5,-193 698.5,-193 698.5,-193 704.5,-193 710.5,-199 710.5,-205 710.5,-205 710.5,-249 710.5,-249 710.5,-255 704.5,-261 698.5,-261\"/>\r\n",
       "<text text-anchor=\"middle\" x=\"613.5\" y=\"-245.8\" font-family=\"Helvetica,sans-Serif\" font-size=\"14.00\">Average_income &lt;= 4325.0</text>\r\n",
       "<text text-anchor=\"middle\" x=\"613.5\" y=\"-230.8\" font-family=\"Helvetica,sans-Serif\" font-size=\"14.00\">mse = 2887.05</text>\r\n",
       "<text text-anchor=\"middle\" x=\"613.5\" y=\"-215.8\" font-family=\"Helvetica,sans-Serif\" font-size=\"14.00\">samples = 10</text>\r\n",
       "<text text-anchor=\"middle\" x=\"613.5\" y=\"-200.8\" font-family=\"Helvetica,sans-Serif\" font-size=\"14.00\">value = 585.5</text>\r\n",
       "</g>\r\n",
       "<!-- 1&#45;&gt;7 -->\r\n",
       "<g id=\"edge7\" class=\"edge\"><title>1&#45;&gt;7</title>\r\n",
       "<path fill=\"none\" stroke=\"black\" d=\"M613.5,-296.884C613.5,-288.778 613.5,-279.982 613.5,-271.472\"/>\r\n",
       "<polygon fill=\"black\" stroke=\"black\" points=\"617,-271.299 613.5,-261.299 610,-271.299 617,-271.299\"/>\r\n",
       "</g>\r\n",
       "<!-- 3 -->\r\n",
       "<g id=\"node4\" class=\"node\"><title>3</title>\r\n",
       "<path fill=\"#eca571\" stroke=\"black\" d=\"M219.5,-157C219.5,-157 49.5,-157 49.5,-157 43.5,-157 37.5,-151 37.5,-145 37.5,-145 37.5,-101 37.5,-101 37.5,-95 43.5,-89 49.5,-89 49.5,-89 219.5,-89 219.5,-89 225.5,-89 231.5,-95 231.5,-101 231.5,-101 231.5,-145 231.5,-145 231.5,-151 225.5,-157 219.5,-157\"/>\r\n",
       "<text text-anchor=\"middle\" x=\"134.5\" y=\"-141.8\" font-family=\"Helvetica,sans-Serif\" font-size=\"14.00\">Paved_Highways &lt;= 4404.0</text>\r\n",
       "<text text-anchor=\"middle\" x=\"134.5\" y=\"-126.8\" font-family=\"Helvetica,sans-Serif\" font-size=\"14.00\">mse = 2400.222</text>\r\n",
       "<text text-anchor=\"middle\" x=\"134.5\" y=\"-111.8\" font-family=\"Helvetica,sans-Serif\" font-size=\"14.00\">samples = 6</text>\r\n",
       "<text text-anchor=\"middle\" x=\"134.5\" y=\"-96.8\" font-family=\"Helvetica,sans-Serif\" font-size=\"14.00\">value = 658.333</text>\r\n",
       "</g>\r\n",
       "<!-- 2&#45;&gt;3 -->\r\n",
       "<g id=\"edge3\" class=\"edge\"><title>2&#45;&gt;3</title>\r\n",
       "<path fill=\"none\" stroke=\"black\" d=\"M246.605,-192.884C230.869,-183.214 213.535,-172.563 197.299,-162.587\"/>\r\n",
       "<polygon fill=\"black\" stroke=\"black\" points=\"198.761,-159.378 188.409,-157.125 195.097,-165.342 198.761,-159.378\"/>\r\n",
       "</g>\r\n",
       "<!-- 6 -->\r\n",
       "<g id=\"node7\" class=\"node\"><title>6</title>\r\n",
       "<path fill=\"#e58139\" stroke=\"black\" d=\"M339.5,-149.5C339.5,-149.5 261.5,-149.5 261.5,-149.5 255.5,-149.5 249.5,-143.5 249.5,-137.5 249.5,-137.5 249.5,-108.5 249.5,-108.5 249.5,-102.5 255.5,-96.5 261.5,-96.5 261.5,-96.5 339.5,-96.5 339.5,-96.5 345.5,-96.5 351.5,-102.5 351.5,-108.5 351.5,-108.5 351.5,-137.5 351.5,-137.5 351.5,-143.5 345.5,-149.5 339.5,-149.5\"/>\r\n",
       "<text text-anchor=\"middle\" x=\"300.5\" y=\"-134.3\" font-family=\"Helvetica,sans-Serif\" font-size=\"14.00\">mse = 0.0</text>\r\n",
       "<text text-anchor=\"middle\" x=\"300.5\" y=\"-119.3\" font-family=\"Helvetica,sans-Serif\" font-size=\"14.00\">samples = 1</text>\r\n",
       "<text text-anchor=\"middle\" x=\"300.5\" y=\"-104.3\" font-family=\"Helvetica,sans-Serif\" font-size=\"14.00\">value = 782.0</text>\r\n",
       "</g>\r\n",
       "<!-- 2&#45;&gt;6 -->\r\n",
       "<g id=\"edge6\" class=\"edge\"><title>2&#45;&gt;6</title>\r\n",
       "<path fill=\"none\" stroke=\"black\" d=\"M300.5,-192.884C300.5,-182.326 300.5,-170.597 300.5,-159.854\"/>\r\n",
       "<polygon fill=\"black\" stroke=\"black\" points=\"304,-159.52 300.5,-149.52 297,-159.52 304,-159.52\"/>\r\n",
       "</g>\r\n",
       "<!-- 4 -->\r\n",
       "<g id=\"node5\" class=\"node\"><title>4</title>\r\n",
       "<path fill=\"#eeac7c\" stroke=\"black\" d=\"M93,-53C93,-53 12,-53 12,-53 6,-53 0,-47 0,-41 0,-41 0,-12 0,-12 0,-6 6,-0 12,-0 12,-0 93,-0 93,-0 99,-0 105,-6 105,-12 105,-12 105,-41 105,-41 105,-47 99,-53 93,-53\"/>\r\n",
       "<text text-anchor=\"middle\" x=\"52.5\" y=\"-37.8\" font-family=\"Helvetica,sans-Serif\" font-size=\"14.00\">mse = 1662.5</text>\r\n",
       "<text text-anchor=\"middle\" x=\"52.5\" y=\"-22.8\" font-family=\"Helvetica,sans-Serif\" font-size=\"14.00\">samples = 4</text>\r\n",
       "<text text-anchor=\"middle\" x=\"52.5\" y=\"-7.8\" font-family=\"Helvetica,sans-Serif\" font-size=\"14.00\">value = 633.0</text>\r\n",
       "</g>\r\n",
       "<!-- 3&#45;&gt;4 -->\r\n",
       "<g id=\"edge4\" class=\"edge\"><title>3&#45;&gt;4</title>\r\n",
       "<path fill=\"none\" stroke=\"black\" d=\"M105.82,-88.9485C97.9618,-79.892 89.4375,-70.0682 81.5579,-60.9875\"/>\r\n",
       "<polygon fill=\"black\" stroke=\"black\" points=\"84.0298,-58.4958 74.8324,-53.2367 78.7427,-63.0835 84.0298,-58.4958\"/>\r\n",
       "</g>\r\n",
       "<!-- 5 -->\r\n",
       "<g id=\"node6\" class=\"node\"><title>5</title>\r\n",
       "<path fill=\"#e9965a\" stroke=\"black\" d=\"M213.5,-53C213.5,-53 135.5,-53 135.5,-53 129.5,-53 123.5,-47 123.5,-41 123.5,-41 123.5,-12 123.5,-12 123.5,-6 129.5,-0 135.5,-0 135.5,-0 213.5,-0 213.5,-0 219.5,-0 225.5,-6 225.5,-12 225.5,-12 225.5,-41 225.5,-41 225.5,-47 219.5,-53 213.5,-53\"/>\r\n",
       "<text text-anchor=\"middle\" x=\"174.5\" y=\"-37.8\" font-family=\"Helvetica,sans-Serif\" font-size=\"14.00\">mse = 25.0</text>\r\n",
       "<text text-anchor=\"middle\" x=\"174.5\" y=\"-22.8\" font-family=\"Helvetica,sans-Serif\" font-size=\"14.00\">samples = 2</text>\r\n",
       "<text text-anchor=\"middle\" x=\"174.5\" y=\"-7.8\" font-family=\"Helvetica,sans-Serif\" font-size=\"14.00\">value = 709.0</text>\r\n",
       "</g>\r\n",
       "<!-- 3&#45;&gt;5 -->\r\n",
       "<g id=\"edge5\" class=\"edge\"><title>3&#45;&gt;5</title>\r\n",
       "<path fill=\"none\" stroke=\"black\" d=\"M148.49,-88.9485C152.091,-80.4408 155.979,-71.2562 159.623,-62.6464\"/>\r\n",
       "<polygon fill=\"black\" stroke=\"black\" points=\"162.931,-63.81 163.606,-53.2367 156.485,-61.0814 162.931,-63.81\"/>\r\n",
       "</g>\r\n",
       "<!-- 8 -->\r\n",
       "<g id=\"node9\" class=\"node\"><title>8</title>\r\n",
       "<path fill=\"#efb083\" stroke=\"black\" d=\"M551.5,-157C551.5,-157 381.5,-157 381.5,-157 375.5,-157 369.5,-151 369.5,-145 369.5,-145 369.5,-101 369.5,-101 369.5,-95 375.5,-89 381.5,-89 381.5,-89 551.5,-89 551.5,-89 557.5,-89 563.5,-95 563.5,-101 563.5,-101 563.5,-145 563.5,-145 563.5,-151 557.5,-157 551.5,-157\"/>\r\n",
       "<text text-anchor=\"middle\" x=\"466.5\" y=\"-141.8\" font-family=\"Helvetica,sans-Serif\" font-size=\"14.00\">Average_income &lt;= 3721.0</text>\r\n",
       "<text text-anchor=\"middle\" x=\"466.5\" y=\"-126.8\" font-family=\"Helvetica,sans-Serif\" font-size=\"14.00\">mse = 776.24</text>\r\n",
       "<text text-anchor=\"middle\" x=\"466.5\" y=\"-111.8\" font-family=\"Helvetica,sans-Serif\" font-size=\"14.00\">samples = 5</text>\r\n",
       "<text text-anchor=\"middle\" x=\"466.5\" y=\"-96.8\" font-family=\"Helvetica,sans-Serif\" font-size=\"14.00\">value = 618.6</text>\r\n",
       "</g>\r\n",
       "<!-- 7&#45;&gt;8 -->\r\n",
       "<g id=\"edge8\" class=\"edge\"><title>7&#45;&gt;8</title>\r\n",
       "<path fill=\"none\" stroke=\"black\" d=\"M565.773,-192.884C551.968,-183.304 536.773,-172.761 522.511,-162.864\"/>\r\n",
       "<polygon fill=\"black\" stroke=\"black\" points=\"524.45,-159.95 514.239,-157.125 520.459,-165.701 524.45,-159.95\"/>\r\n",
       "</g>\r\n",
       "<!-- 11 -->\r\n",
       "<g id=\"node12\" class=\"node\"><title>11</title>\r\n",
       "<path fill=\"#f3c3a1\" stroke=\"black\" d=\"M835,-157C835,-157 594,-157 594,-157 588,-157 582,-151 582,-145 582,-145 582,-101 582,-101 582,-95 588,-89 594,-89 594,-89 835,-89 835,-89 841,-89 847,-95 847,-101 847,-101 847,-145 847,-145 847,-151 841,-157 835,-157\"/>\r\n",
       "<text text-anchor=\"middle\" x=\"714.5\" y=\"-141.8\" font-family=\"Helvetica,sans-Serif\" font-size=\"14.00\">Population_Driver_licence(%) &lt;= 0.635</text>\r\n",
       "<text text-anchor=\"middle\" x=\"714.5\" y=\"-126.8\" font-family=\"Helvetica,sans-Serif\" font-size=\"14.00\">mse = 2806.64</text>\r\n",
       "<text text-anchor=\"middle\" x=\"714.5\" y=\"-111.8\" font-family=\"Helvetica,sans-Serif\" font-size=\"14.00\">samples = 5</text>\r\n",
       "<text text-anchor=\"middle\" x=\"714.5\" y=\"-96.8\" font-family=\"Helvetica,sans-Serif\" font-size=\"14.00\">value = 552.4</text>\r\n",
       "</g>\r\n",
       "<!-- 7&#45;&gt;11 -->\r\n",
       "<g id=\"edge11\" class=\"edge\"><title>7&#45;&gt;11</title>\r\n",
       "<path fill=\"none\" stroke=\"black\" d=\"M646.292,-192.884C655.2,-183.887 664.95,-174.041 674.22,-164.678\"/>\r\n",
       "<polygon fill=\"black\" stroke=\"black\" points=\"676.978,-166.868 681.527,-157.299 672.004,-161.943 676.978,-166.868\"/>\r\n",
       "</g>\r\n",
       "<!-- 9 -->\r\n",
       "<g id=\"node10\" class=\"node\"><title>9</title>\r\n",
       "<path fill=\"#f2be98\" stroke=\"black\" d=\"M390.5,-53C390.5,-53 312.5,-53 312.5,-53 306.5,-53 300.5,-47 300.5,-41 300.5,-41 300.5,-12 300.5,-12 300.5,-6 306.5,-0 312.5,-0 312.5,-0 390.5,-0 390.5,-0 396.5,-0 402.5,-6 402.5,-12 402.5,-12 402.5,-41 402.5,-41 402.5,-47 396.5,-53 390.5,-53\"/>\r\n",
       "<text text-anchor=\"middle\" x=\"351.5\" y=\"-37.8\" font-family=\"Helvetica,sans-Serif\" font-size=\"14.00\">mse = 0.0</text>\r\n",
       "<text text-anchor=\"middle\" x=\"351.5\" y=\"-22.8\" font-family=\"Helvetica,sans-Serif\" font-size=\"14.00\">samples = 1</text>\r\n",
       "<text text-anchor=\"middle\" x=\"351.5\" y=\"-7.8\" font-family=\"Helvetica,sans-Serif\" font-size=\"14.00\">value = 571.0</text>\r\n",
       "</g>\r\n",
       "<!-- 8&#45;&gt;9 -->\r\n",
       "<g id=\"edge9\" class=\"edge\"><title>8&#45;&gt;9</title>\r\n",
       "<path fill=\"none\" stroke=\"black\" d=\"M426.279,-88.9485C414.701,-79.4346 402.093,-69.074 390.585,-59.6175\"/>\r\n",
       "<polygon fill=\"black\" stroke=\"black\" points=\"392.768,-56.8814 382.82,-53.2367 388.324,-62.2897 392.768,-56.8814\"/>\r\n",
       "</g>\r\n",
       "<!-- 10 -->\r\n",
       "<g id=\"node11\" class=\"node\"><title>10</title>\r\n",
       "<path fill=\"#eead7d\" stroke=\"black\" d=\"M514,-53C514,-53 433,-53 433,-53 427,-53 421,-47 421,-41 421,-41 421,-12 421,-12 421,-6 427,-0 433,-0 433,-0 514,-0 514,-0 520,-0 526,-6 526,-12 526,-12 526,-41 526,-41 526,-47 520,-53 514,-53\"/>\r\n",
       "<text text-anchor=\"middle\" x=\"473.5\" y=\"-37.8\" font-family=\"Helvetica,sans-Serif\" font-size=\"14.00\">mse = 262.25</text>\r\n",
       "<text text-anchor=\"middle\" x=\"473.5\" y=\"-22.8\" font-family=\"Helvetica,sans-Serif\" font-size=\"14.00\">samples = 4</text>\r\n",
       "<text text-anchor=\"middle\" x=\"473.5\" y=\"-7.8\" font-family=\"Helvetica,sans-Serif\" font-size=\"14.00\">value = 630.5</text>\r\n",
       "</g>\r\n",
       "<!-- 8&#45;&gt;10 -->\r\n",
       "<g id=\"edge10\" class=\"edge\"><title>8&#45;&gt;10</title>\r\n",
       "<path fill=\"none\" stroke=\"black\" d=\"M468.948,-88.9485C469.558,-80.7153 470.215,-71.848 470.835,-63.4814\"/>\r\n",
       "<polygon fill=\"black\" stroke=\"black\" points=\"474.345,-63.468 471.594,-53.2367 467.364,-62.9508 474.345,-63.468\"/>\r\n",
       "</g>\r\n",
       "<!-- 12 -->\r\n",
       "<g id=\"node13\" class=\"node\"><title>12</title>\r\n",
       "<path fill=\"#f4caac\" stroke=\"black\" d=\"M657,-53C657,-53 568,-53 568,-53 562,-53 556,-47 556,-41 556,-41 556,-12 556,-12 556,-6 562,-0 568,-0 568,-0 657,-0 657,-0 663,-0 669,-6 669,-12 669,-12 669,-41 669,-41 669,-47 663,-53 657,-53\"/>\r\n",
       "<text text-anchor=\"middle\" x=\"612.5\" y=\"-37.8\" font-family=\"Helvetica,sans-Serif\" font-size=\"14.00\">mse = 592.188</text>\r\n",
       "<text text-anchor=\"middle\" x=\"612.5\" y=\"-22.8\" font-family=\"Helvetica,sans-Serif\" font-size=\"14.00\">samples = 4</text>\r\n",
       "<text text-anchor=\"middle\" x=\"612.5\" y=\"-7.8\" font-family=\"Helvetica,sans-Serif\" font-size=\"14.00\">value = 528.25</text>\r\n",
       "</g>\r\n",
       "<!-- 11&#45;&gt;12 -->\r\n",
       "<g id=\"edge12\" class=\"edge\"><title>11&#45;&gt;12</title>\r\n",
       "<path fill=\"none\" stroke=\"black\" d=\"M678.825,-88.9485C668.754,-79.6175 657.803,-69.4722 647.756,-60.1641\"/>\r\n",
       "<polygon fill=\"black\" stroke=\"black\" points=\"649.994,-57.4655 640.279,-53.2367 645.236,-62.6004 649.994,-57.4655\"/>\r\n",
       "</g>\r\n",
       "<!-- 13 -->\r\n",
       "<g id=\"node14\" class=\"node\"><title>13</title>\r\n",
       "<path fill=\"#eda775\" stroke=\"black\" d=\"M777.5,-53C777.5,-53 699.5,-53 699.5,-53 693.5,-53 687.5,-47 687.5,-41 687.5,-41 687.5,-12 687.5,-12 687.5,-6 693.5,-0 699.5,-0 699.5,-0 777.5,-0 777.5,-0 783.5,-0 789.5,-6 789.5,-12 789.5,-12 789.5,-41 789.5,-41 789.5,-47 783.5,-53 777.5,-53\"/>\r\n",
       "<text text-anchor=\"middle\" x=\"738.5\" y=\"-37.8\" font-family=\"Helvetica,sans-Serif\" font-size=\"14.00\">mse = 0.0</text>\r\n",
       "<text text-anchor=\"middle\" x=\"738.5\" y=\"-22.8\" font-family=\"Helvetica,sans-Serif\" font-size=\"14.00\">samples = 1</text>\r\n",
       "<text text-anchor=\"middle\" x=\"738.5\" y=\"-7.8\" font-family=\"Helvetica,sans-Serif\" font-size=\"14.00\">value = 649.0</text>\r\n",
       "</g>\r\n",
       "<!-- 11&#45;&gt;13 -->\r\n",
       "<g id=\"edge13\" class=\"edge\"><title>11&#45;&gt;13</title>\r\n",
       "<path fill=\"none\" stroke=\"black\" d=\"M722.894,-88.9485C725.008,-80.6238 727.287,-71.6509 729.433,-63.2027\"/>\r\n",
       "<polygon fill=\"black\" stroke=\"black\" points=\"732.894,-63.7906 731.964,-53.2367 726.11,-62.0675 732.894,-63.7906\"/>\r\n",
       "</g>\r\n",
       "<!-- 15 -->\r\n",
       "<g id=\"node16\" class=\"node\"><title>15</title>\r\n",
       "<path fill=\"#f1bd97\" stroke=\"black\" d=\"M1178,-261C1178,-261 937,-261 937,-261 931,-261 925,-255 925,-249 925,-249 925,-205 925,-205 925,-199 931,-193 937,-193 937,-193 1178,-193 1178,-193 1184,-193 1190,-199 1190,-205 1190,-205 1190,-249 1190,-249 1190,-255 1184,-261 1178,-261\"/>\r\n",
       "<text text-anchor=\"middle\" x=\"1057.5\" y=\"-245.8\" font-family=\"Helvetica,sans-Serif\" font-size=\"14.00\">Population_Driver_licence(%) &lt;= 0.535</text>\r\n",
       "<text text-anchor=\"middle\" x=\"1057.5\" y=\"-230.8\" font-family=\"Helvetica,sans-Serif\" font-size=\"14.00\">mse = 2286.521</text>\r\n",
       "<text text-anchor=\"middle\" x=\"1057.5\" y=\"-215.8\" font-family=\"Helvetica,sans-Serif\" font-size=\"14.00\">samples = 13</text>\r\n",
       "<text text-anchor=\"middle\" x=\"1057.5\" y=\"-200.8\" font-family=\"Helvetica,sans-Serif\" font-size=\"14.00\">value = 573.692</text>\r\n",
       "</g>\r\n",
       "<!-- 14&#45;&gt;15 -->\r\n",
       "<g id=\"edge15\" class=\"edge\"><title>14&#45;&gt;15</title>\r\n",
       "<path fill=\"none\" stroke=\"black\" d=\"M1057.5,-296.884C1057.5,-288.778 1057.5,-279.982 1057.5,-271.472\"/>\r\n",
       "<polygon fill=\"black\" stroke=\"black\" points=\"1061,-271.299 1057.5,-261.299 1054,-271.299 1061,-271.299\"/>\r\n",
       "</g>\r\n",
       "<!-- 22 -->\r\n",
       "<g id=\"node23\" class=\"node\"><title>22</title>\r\n",
       "<path fill=\"#f9e0cf\" stroke=\"black\" d=\"M1525,-261C1525,-261 1284,-261 1284,-261 1278,-261 1272,-255 1272,-249 1272,-249 1272,-205 1272,-205 1272,-199 1278,-193 1284,-193 1284,-193 1525,-193 1525,-193 1531,-193 1537,-199 1537,-205 1537,-205 1537,-249 1537,-249 1537,-255 1531,-261 1525,-261\"/>\r\n",
       "<text text-anchor=\"middle\" x=\"1404.5\" y=\"-245.8\" font-family=\"Helvetica,sans-Serif\" font-size=\"14.00\">Population_Driver_licence(%) &lt;= 0.548</text>\r\n",
       "<text text-anchor=\"middle\" x=\"1404.5\" y=\"-230.8\" font-family=\"Helvetica,sans-Serif\" font-size=\"14.00\">mse = 3300.859</text>\r\n",
       "<text text-anchor=\"middle\" x=\"1404.5\" y=\"-215.8\" font-family=\"Helvetica,sans-Serif\" font-size=\"14.00\">samples = 8</text>\r\n",
       "<text text-anchor=\"middle\" x=\"1404.5\" y=\"-200.8\" font-family=\"Helvetica,sans-Serif\" font-size=\"14.00\">value = 451.125</text>\r\n",
       "</g>\r\n",
       "<!-- 14&#45;&gt;22 -->\r\n",
       "<g id=\"edge22\" class=\"edge\"><title>14&#45;&gt;22</title>\r\n",
       "<path fill=\"none\" stroke=\"black\" d=\"M1154.62,-301.452C1194.24,-289.806 1240.5,-276.208 1282.37,-263.9\"/>\r\n",
       "<polygon fill=\"black\" stroke=\"black\" points=\"1283.46,-267.227 1292.07,-261.049 1281.49,-260.511 1283.46,-267.227\"/>\r\n",
       "</g>\r\n",
       "<!-- 16 -->\r\n",
       "<g id=\"node17\" class=\"node\"><title>16</title>\r\n",
       "<path fill=\"#f4caac\" stroke=\"black\" d=\"M1110,-157C1110,-157 877,-157 877,-157 871,-157 865,-151 865,-145 865,-145 865,-101 865,-101 865,-95 871,-89 877,-89 877,-89 1110,-89 1110,-89 1116,-89 1122,-95 1122,-101 1122,-101 1122,-145 1122,-145 1122,-151 1116,-157 1110,-157\"/>\r\n",
       "<text text-anchor=\"middle\" x=\"993.5\" y=\"-141.8\" font-family=\"Helvetica,sans-Serif\" font-size=\"14.00\">Population_Driver_licence(%) &lt;= 0.49</text>\r\n",
       "<text text-anchor=\"middle\" x=\"993.5\" y=\"-126.8\" font-family=\"Helvetica,sans-Serif\" font-size=\"14.00\">mse = 561.188</text>\r\n",
       "<text text-anchor=\"middle\" x=\"993.5\" y=\"-111.8\" font-family=\"Helvetica,sans-Serif\" font-size=\"14.00\">samples = 4</text>\r\n",
       "<text text-anchor=\"middle\" x=\"993.5\" y=\"-96.8\" font-family=\"Helvetica,sans-Serif\" font-size=\"14.00\">value = 527.25</text>\r\n",
       "</g>\r\n",
       "<!-- 15&#45;&gt;16 -->\r\n",
       "<g id=\"edge16\" class=\"edge\"><title>15&#45;&gt;16</title>\r\n",
       "<path fill=\"none\" stroke=\"black\" d=\"M1036.72,-192.884C1031.3,-184.243 1025.39,-174.819 1019.72,-165.793\"/>\r\n",
       "<polygon fill=\"black\" stroke=\"black\" points=\"1022.67,-163.91 1014.39,-157.299 1016.74,-167.63 1022.67,-163.91\"/>\r\n",
       "</g>\r\n",
       "<!-- 19 -->\r\n",
       "<g id=\"node20\" class=\"node\"><title>19</title>\r\n",
       "<path fill=\"#f0b78e\" stroke=\"black\" d=\"M1261,-157C1261,-157 1152,-157 1152,-157 1146,-157 1140,-151 1140,-145 1140,-145 1140,-101 1140,-101 1140,-95 1146,-89 1152,-89 1152,-89 1261,-89 1261,-89 1267,-89 1273,-95 1273,-101 1273,-101 1273,-145 1273,-145 1273,-151 1267,-157 1261,-157\"/>\r\n",
       "<text text-anchor=\"middle\" x=\"1206.5\" y=\"-141.8\" font-family=\"Helvetica,sans-Serif\" font-size=\"14.00\">Petrol_tax &lt;= 8.75</text>\r\n",
       "<text text-anchor=\"middle\" x=\"1206.5\" y=\"-126.8\" font-family=\"Helvetica,sans-Serif\" font-size=\"14.00\">mse = 1668.667</text>\r\n",
       "<text text-anchor=\"middle\" x=\"1206.5\" y=\"-111.8\" font-family=\"Helvetica,sans-Serif\" font-size=\"14.00\">samples = 9</text>\r\n",
       "<text text-anchor=\"middle\" x=\"1206.5\" y=\"-96.8\" font-family=\"Helvetica,sans-Serif\" font-size=\"14.00\">value = 594.333</text>\r\n",
       "</g>\r\n",
       "<!-- 15&#45;&gt;19 -->\r\n",
       "<g id=\"edge19\" class=\"edge\"><title>15&#45;&gt;19</title>\r\n",
       "<path fill=\"none\" stroke=\"black\" d=\"M1105.88,-192.884C1119.87,-183.304 1135.27,-172.761 1149.73,-162.864\"/>\r\n",
       "<polygon fill=\"black\" stroke=\"black\" points=\"1151.84,-165.662 1158.11,-157.125 1147.88,-159.885 1151.84,-165.662\"/>\r\n",
       "</g>\r\n",
       "<!-- 17 -->\r\n",
       "<g id=\"node18\" class=\"node\"><title>17</title>\r\n",
       "<path fill=\"#f7d6be\" stroke=\"black\" d=\"M903.5,-53C903.5,-53 825.5,-53 825.5,-53 819.5,-53 813.5,-47 813.5,-41 813.5,-41 813.5,-12 813.5,-12 813.5,-6 819.5,-0 825.5,-0 825.5,-0 903.5,-0 903.5,-0 909.5,-0 915.5,-6 915.5,-12 915.5,-12 915.5,-41 915.5,-41 915.5,-47 909.5,-53 903.5,-53\"/>\r\n",
       "<text text-anchor=\"middle\" x=\"864.5\" y=\"-37.8\" font-family=\"Helvetica,sans-Serif\" font-size=\"14.00\">mse = 0.0</text>\r\n",
       "<text text-anchor=\"middle\" x=\"864.5\" y=\"-22.8\" font-family=\"Helvetica,sans-Serif\" font-size=\"14.00\">samples = 1</text>\r\n",
       "<text text-anchor=\"middle\" x=\"864.5\" y=\"-7.8\" font-family=\"Helvetica,sans-Serif\" font-size=\"14.00\">value = 487.0</text>\r\n",
       "</g>\r\n",
       "<!-- 16&#45;&gt;17 -->\r\n",
       "<g id=\"edge17\" class=\"edge\"><title>16&#45;&gt;17</title>\r\n",
       "<path fill=\"none\" stroke=\"black\" d=\"M948.382,-88.9485C935.27,-79.3431 920.98,-68.8747 907.971,-59.345\"/>\r\n",
       "<polygon fill=\"black\" stroke=\"black\" points=\"909.768,-56.3228 899.633,-53.2367 905.631,-61.9698 909.768,-56.3228\"/>\r\n",
       "</g>\r\n",
       "<!-- 18 -->\r\n",
       "<g id=\"node19\" class=\"node\"><title>18</title>\r\n",
       "<path fill=\"#f3c6a6\" stroke=\"black\" d=\"M1041,-53C1041,-53 946,-53 946,-53 940,-53 934,-47 934,-41 934,-41 934,-12 934,-12 934,-6 940,-0 946,-0 946,-0 1041,-0 1041,-0 1047,-0 1053,-6 1053,-12 1053,-12 1053,-41 1053,-41 1053,-47 1047,-53 1041,-53\"/>\r\n",
       "<text text-anchor=\"middle\" x=\"993.5\" y=\"-37.8\" font-family=\"Helvetica,sans-Serif\" font-size=\"14.00\">mse = 28.222</text>\r\n",
       "<text text-anchor=\"middle\" x=\"993.5\" y=\"-22.8\" font-family=\"Helvetica,sans-Serif\" font-size=\"14.00\">samples = 3</text>\r\n",
       "<text text-anchor=\"middle\" x=\"993.5\" y=\"-7.8\" font-family=\"Helvetica,sans-Serif\" font-size=\"14.00\">value = 540.667</text>\r\n",
       "</g>\r\n",
       "<!-- 16&#45;&gt;18 -->\r\n",
       "<g id=\"edge18\" class=\"edge\"><title>16&#45;&gt;18</title>\r\n",
       "<path fill=\"none\" stroke=\"black\" d=\"M993.5,-88.9485C993.5,-80.7153 993.5,-71.848 993.5,-63.4814\"/>\r\n",
       "<polygon fill=\"black\" stroke=\"black\" points=\"997,-63.2367 993.5,-53.2367 990,-63.2367 997,-63.2367\"/>\r\n",
       "</g>\r\n",
       "<!-- 20 -->\r\n",
       "<g id=\"node21\" class=\"node\"><title>20</title>\r\n",
       "<path fill=\"#efb184\" stroke=\"black\" d=\"M1178,-53C1178,-53 1083,-53 1083,-53 1077,-53 1071,-47 1071,-41 1071,-41 1071,-12 1071,-12 1071,-6 1077,-0 1083,-0 1083,-0 1178,-0 1178,-0 1184,-0 1190,-6 1190,-12 1190,-12 1190,-41 1190,-41 1190,-47 1184,-53 1178,-53\"/>\r\n",
       "<text text-anchor=\"middle\" x=\"1130.5\" y=\"-37.8\" font-family=\"Helvetica,sans-Serif\" font-size=\"14.00\">mse = 875.556</text>\r\n",
       "<text text-anchor=\"middle\" x=\"1130.5\" y=\"-22.8\" font-family=\"Helvetica,sans-Serif\" font-size=\"14.00\">samples = 6</text>\r\n",
       "<text text-anchor=\"middle\" x=\"1130.5\" y=\"-7.8\" font-family=\"Helvetica,sans-Serif\" font-size=\"14.00\">value = 616.333</text>\r\n",
       "</g>\r\n",
       "<!-- 19&#45;&gt;20 -->\r\n",
       "<g id=\"edge20\" class=\"edge\"><title>19&#45;&gt;20</title>\r\n",
       "<path fill=\"none\" stroke=\"black\" d=\"M1179.92,-88.9485C1172.71,-79.9834 1164.89,-70.2666 1157.65,-61.2629\"/>\r\n",
       "<polygon fill=\"black\" stroke=\"black\" points=\"1160.19,-58.8358 1151.2,-53.2367 1154.74,-63.2228 1160.19,-58.8358\"/>\r\n",
       "</g>\r\n",
       "<!-- 21 -->\r\n",
       "<g id=\"node22\" class=\"node\"><title>21</title>\r\n",
       "<path fill=\"#f3c4a2\" stroke=\"black\" d=\"M1315,-53C1315,-53 1220,-53 1220,-53 1214,-53 1208,-47 1208,-41 1208,-41 1208,-12 1208,-12 1208,-6 1214,-0 1220,-0 1220,-0 1315,-0 1315,-0 1321,-0 1327,-6 1327,-12 1327,-12 1327,-41 1327,-41 1327,-47 1321,-53 1315,-53\"/>\r\n",
       "<text text-anchor=\"middle\" x=\"1267.5\" y=\"-37.8\" font-family=\"Helvetica,sans-Serif\" font-size=\"14.00\">mse = 350.889</text>\r\n",
       "<text text-anchor=\"middle\" x=\"1267.5\" y=\"-22.8\" font-family=\"Helvetica,sans-Serif\" font-size=\"14.00\">samples = 3</text>\r\n",
       "<text text-anchor=\"middle\" x=\"1267.5\" y=\"-7.8\" font-family=\"Helvetica,sans-Serif\" font-size=\"14.00\">value = 550.333</text>\r\n",
       "</g>\r\n",
       "<!-- 19&#45;&gt;21 -->\r\n",
       "<g id=\"edge21\" class=\"edge\"><title>19&#45;&gt;21</title>\r\n",
       "<path fill=\"none\" stroke=\"black\" d=\"M1227.83,-88.9485C1233.5,-80.1664 1239.64,-70.6629 1245.35,-61.815\"/>\r\n",
       "<polygon fill=\"black\" stroke=\"black\" points=\"1248.4,-63.5365 1250.89,-53.2367 1242.52,-59.7402 1248.4,-63.5365\"/>\r\n",
       "</g>\r\n",
       "<!-- 23 -->\r\n",
       "<g id=\"node24\" class=\"node\"><title>23</title>\r\n",
       "<path fill=\"#fbede2\" stroke=\"black\" d=\"M1489.5,-157C1489.5,-157 1319.5,-157 1319.5,-157 1313.5,-157 1307.5,-151 1307.5,-145 1307.5,-145 1307.5,-101 1307.5,-101 1307.5,-95 1313.5,-89 1319.5,-89 1319.5,-89 1489.5,-89 1489.5,-89 1495.5,-89 1501.5,-95 1501.5,-101 1501.5,-101 1501.5,-145 1501.5,-145 1501.5,-151 1495.5,-157 1489.5,-157\"/>\r\n",
       "<text text-anchor=\"middle\" x=\"1404.5\" y=\"-141.8\" font-family=\"Helvetica,sans-Serif\" font-size=\"14.00\">Average_income &lt;= 5108.0</text>\r\n",
       "<text text-anchor=\"middle\" x=\"1404.5\" y=\"-126.8\" font-family=\"Helvetica,sans-Serif\" font-size=\"14.00\">mse = 1818.0</text>\r\n",
       "<text text-anchor=\"middle\" x=\"1404.5\" y=\"-111.8\" font-family=\"Helvetica,sans-Serif\" font-size=\"14.00\">samples = 4</text>\r\n",
       "<text text-anchor=\"middle\" x=\"1404.5\" y=\"-96.8\" font-family=\"Helvetica,sans-Serif\" font-size=\"14.00\">value = 408.0</text>\r\n",
       "</g>\r\n",
       "<!-- 22&#45;&gt;23 -->\r\n",
       "<g id=\"edge23\" class=\"edge\"><title>22&#45;&gt;23</title>\r\n",
       "<path fill=\"none\" stroke=\"black\" d=\"M1404.5,-192.884C1404.5,-184.778 1404.5,-175.982 1404.5,-167.472\"/>\r\n",
       "<polygon fill=\"black\" stroke=\"black\" points=\"1408,-167.299 1404.5,-157.299 1401,-167.299 1408,-167.299\"/>\r\n",
       "</g>\r\n",
       "<!-- 26 -->\r\n",
       "<g id=\"node27\" class=\"node\"><title>26</title>\r\n",
       "<path fill=\"#f6d4bb\" stroke=\"black\" d=\"M1774,-157C1774,-157 1533,-157 1533,-157 1527,-157 1521,-151 1521,-145 1521,-145 1521,-101 1521,-101 1521,-95 1527,-89 1533,-89 1533,-89 1774,-89 1774,-89 1780,-89 1786,-95 1786,-101 1786,-101 1786,-145 1786,-145 1786,-151 1780,-157 1774,-157\"/>\r\n",
       "<text text-anchor=\"middle\" x=\"1653.5\" y=\"-141.8\" font-family=\"Helvetica,sans-Serif\" font-size=\"14.00\">Population_Driver_licence(%) &lt;= 0.562</text>\r\n",
       "<text text-anchor=\"middle\" x=\"1653.5\" y=\"-126.8\" font-family=\"Helvetica,sans-Serif\" font-size=\"14.00\">mse = 1064.188</text>\r\n",
       "<text text-anchor=\"middle\" x=\"1653.5\" y=\"-111.8\" font-family=\"Helvetica,sans-Serif\" font-size=\"14.00\">samples = 4</text>\r\n",
       "<text text-anchor=\"middle\" x=\"1653.5\" y=\"-96.8\" font-family=\"Helvetica,sans-Serif\" font-size=\"14.00\">value = 494.25</text>\r\n",
       "</g>\r\n",
       "<!-- 22&#45;&gt;26 -->\r\n",
       "<g id=\"edge26\" class=\"edge\"><title>22&#45;&gt;26</title>\r\n",
       "<path fill=\"none\" stroke=\"black\" d=\"M1485.34,-192.884C1510.26,-182.677 1537.84,-171.377 1563.34,-160.931\"/>\r\n",
       "<polygon fill=\"black\" stroke=\"black\" points=\"1564.71,-164.154 1572.64,-157.125 1562.06,-157.677 1564.71,-164.154\"/>\r\n",
       "</g>\r\n",
       "<!-- 24 -->\r\n",
       "<g id=\"node25\" class=\"node\"><title>24</title>\r\n",
       "<path fill=\"#fae6d8\" stroke=\"black\" d=\"M1452,-53C1452,-53 1357,-53 1357,-53 1351,-53 1345,-47 1345,-41 1345,-41 1345,-12 1345,-12 1345,-6 1351,-0 1357,-0 1357,-0 1452,-0 1452,-0 1458,-0 1464,-6 1464,-12 1464,-12 1464,-41 1464,-41 1464,-47 1458,-53 1452,-53\"/>\r\n",
       "<text text-anchor=\"middle\" x=\"1404.5\" y=\"-37.8\" font-family=\"Helvetica,sans-Serif\" font-size=\"14.00\">mse = 603.556</text>\r\n",
       "<text text-anchor=\"middle\" x=\"1404.5\" y=\"-22.8\" font-family=\"Helvetica,sans-Serif\" font-size=\"14.00\">samples = 3</text>\r\n",
       "<text text-anchor=\"middle\" x=\"1404.5\" y=\"-7.8\" font-family=\"Helvetica,sans-Serif\" font-size=\"14.00\">value = 429.333</text>\r\n",
       "</g>\r\n",
       "<!-- 23&#45;&gt;24 -->\r\n",
       "<g id=\"edge24\" class=\"edge\"><title>23&#45;&gt;24</title>\r\n",
       "<path fill=\"none\" stroke=\"black\" d=\"M1404.5,-88.9485C1404.5,-80.7153 1404.5,-71.848 1404.5,-63.4814\"/>\r\n",
       "<polygon fill=\"black\" stroke=\"black\" points=\"1408,-63.2367 1404.5,-53.2367 1401,-63.2367 1408,-63.2367\"/>\r\n",
       "</g>\r\n",
       "<!-- 25 -->\r\n",
       "<g id=\"node26\" class=\"node\"><title>25</title>\r\n",
       "<path fill=\"#ffffff\" stroke=\"black\" d=\"M1572.5,-53C1572.5,-53 1494.5,-53 1494.5,-53 1488.5,-53 1482.5,-47 1482.5,-41 1482.5,-41 1482.5,-12 1482.5,-12 1482.5,-6 1488.5,-0 1494.5,-0 1494.5,-0 1572.5,-0 1572.5,-0 1578.5,-0 1584.5,-6 1584.5,-12 1584.5,-12 1584.5,-41 1584.5,-41 1584.5,-47 1578.5,-53 1572.5,-53\"/>\r\n",
       "<text text-anchor=\"middle\" x=\"1533.5\" y=\"-37.8\" font-family=\"Helvetica,sans-Serif\" font-size=\"14.00\">mse = 0.0</text>\r\n",
       "<text text-anchor=\"middle\" x=\"1533.5\" y=\"-22.8\" font-family=\"Helvetica,sans-Serif\" font-size=\"14.00\">samples = 1</text>\r\n",
       "<text text-anchor=\"middle\" x=\"1533.5\" y=\"-7.8\" font-family=\"Helvetica,sans-Serif\" font-size=\"14.00\">value = 344.0</text>\r\n",
       "</g>\r\n",
       "<!-- 23&#45;&gt;25 -->\r\n",
       "<g id=\"edge25\" class=\"edge\"><title>23&#45;&gt;25</title>\r\n",
       "<path fill=\"none\" stroke=\"black\" d=\"M1449.62,-88.9485C1462.73,-79.3431 1477.02,-68.8747 1490.03,-59.345\"/>\r\n",
       "<polygon fill=\"black\" stroke=\"black\" points=\"1492.37,-61.9698 1498.37,-53.2367 1488.23,-56.3228 1492.37,-61.9698\"/>\r\n",
       "</g>\r\n",
       "<!-- 27 -->\r\n",
       "<g id=\"node28\" class=\"node\"><title>27</title>\r\n",
       "<path fill=\"#f8ddc9\" stroke=\"black\" d=\"M1692.5,-53C1692.5,-53 1614.5,-53 1614.5,-53 1608.5,-53 1602.5,-47 1602.5,-41 1602.5,-41 1602.5,-12 1602.5,-12 1602.5,-6 1608.5,-0 1614.5,-0 1614.5,-0 1692.5,-0 1692.5,-0 1698.5,-0 1704.5,-6 1704.5,-12 1704.5,-12 1704.5,-41 1704.5,-41 1704.5,-47 1698.5,-53 1692.5,-53\"/>\r\n",
       "<text text-anchor=\"middle\" x=\"1653.5\" y=\"-37.8\" font-family=\"Helvetica,sans-Serif\" font-size=\"14.00\">mse = 12.25</text>\r\n",
       "<text text-anchor=\"middle\" x=\"1653.5\" y=\"-22.8\" font-family=\"Helvetica,sans-Serif\" font-size=\"14.00\">samples = 2</text>\r\n",
       "<text text-anchor=\"middle\" x=\"1653.5\" y=\"-7.8\" font-family=\"Helvetica,sans-Serif\" font-size=\"14.00\">value = 463.5</text>\r\n",
       "</g>\r\n",
       "<!-- 26&#45;&gt;27 -->\r\n",
       "<g id=\"edge27\" class=\"edge\"><title>26&#45;&gt;27</title>\r\n",
       "<path fill=\"none\" stroke=\"black\" d=\"M1653.5,-88.9485C1653.5,-80.7153 1653.5,-71.848 1653.5,-63.4814\"/>\r\n",
       "<polygon fill=\"black\" stroke=\"black\" points=\"1657,-63.2367 1653.5,-53.2367 1650,-63.2367 1657,-63.2367\"/>\r\n",
       "</g>\r\n",
       "<!-- 28 -->\r\n",
       "<g id=\"node29\" class=\"node\"><title>28</title>\r\n",
       "<path fill=\"#f4cbad\" stroke=\"black\" d=\"M1812.5,-53C1812.5,-53 1734.5,-53 1734.5,-53 1728.5,-53 1722.5,-47 1722.5,-41 1722.5,-41 1722.5,-12 1722.5,-12 1722.5,-6 1728.5,-0 1734.5,-0 1734.5,-0 1812.5,-0 1812.5,-0 1818.5,-0 1824.5,-6 1824.5,-12 1824.5,-12 1824.5,-41 1824.5,-41 1824.5,-47 1818.5,-53 1812.5,-53\"/>\r\n",
       "<text text-anchor=\"middle\" x=\"1773.5\" y=\"-37.8\" font-family=\"Helvetica,sans-Serif\" font-size=\"14.00\">mse = 225.0</text>\r\n",
       "<text text-anchor=\"middle\" x=\"1773.5\" y=\"-22.8\" font-family=\"Helvetica,sans-Serif\" font-size=\"14.00\">samples = 2</text>\r\n",
       "<text text-anchor=\"middle\" x=\"1773.5\" y=\"-7.8\" font-family=\"Helvetica,sans-Serif\" font-size=\"14.00\">value = 525.0</text>\r\n",
       "</g>\r\n",
       "<!-- 26&#45;&gt;28 -->\r\n",
       "<g id=\"edge28\" class=\"edge\"><title>26&#45;&gt;28</title>\r\n",
       "<path fill=\"none\" stroke=\"black\" d=\"M1695.47,-88.9485C1707.55,-79.4346 1720.71,-69.074 1732.72,-59.6175\"/>\r\n",
       "<polygon fill=\"black\" stroke=\"black\" points=\"1735.13,-62.1734 1740.82,-53.2367 1730.8,-56.6739 1735.13,-62.1734\"/>\r\n",
       "</g>\r\n",
       "</g>\r\n",
       "</svg>\r\n"
      ],
      "text/plain": [
       "<graphviz.files.Source at 0x2648586c488>"
      ]
     },
     "execution_count": 269,
     "metadata": {},
     "output_type": "execute_result"
    }
   ],
   "source": [
    "graphviz.Source(dot_data)"
   ]
  },
  {
   "cell_type": "markdown",
   "metadata": {},
   "source": [
    "# Interpretation of Decision Tree"
   ]
  },
  {
   "cell_type": "markdown",
   "metadata": {},
   "source": [
    "* After Assigning the max_depth=4, therefore 4 internal nodes are formed so the stopping criteria is max_depth=4\n",
    "* similar to the previous one this decision also has splitting predictor and cuttoff value\n",
    "* Every observation belongs to one of the leaf nodes showing in the above decision tree\n",
    "* but this decision tree practise is also not accurate so we need the proper Hyper Parameters Tuning\n",
    "* so that we can use those parameters as stopping criteria of the decision tree "
   ]
  },
  {
   "cell_type": "markdown",
   "metadata": {},
   "source": [
    "# Need of Hyper-Parameter Tuning "
   ]
  },
  {
   "cell_type": "markdown",
   "metadata": {},
   "source": [
    "# Gridsearch to find the optimal value for hyperparameters"
   ]
  },
  {
   "cell_type": "markdown",
   "metadata": {},
   "source": [
    "Grid Search is one of the Hyper-perameter Tuning which the gives the proper Hyper parameters which controls the Decision Tree and also makes to perform accurately"
   ]
  },
  {
   "cell_type": "markdown",
   "metadata": {},
   "source": [
    "Importing GridSearchCV from the sklearn.model_selection"
   ]
  },
  {
   "cell_type": "code",
   "execution_count": 270,
   "metadata": {},
   "outputs": [],
   "source": [
    "from sklearn.model_selection import GridSearchCV"
   ]
  },
  {
   "cell_type": "markdown",
   "metadata": {},
   "source": [
    "Let's use GridSearchCV to try max_depth values 2,3,4,None and 1,2,3,4 value for max_features hyperparameters. Specify 10 number of folds."
   ]
  },
  {
   "cell_type": "code",
   "execution_count": 271,
   "metadata": {},
   "outputs": [],
   "source": [
    "param_grid = [{\"max_depth\":[2,3,4,None], \"max_features\":[1,2,3,4,None]}]"
   ]
  },
  {
   "cell_type": "markdown",
   "metadata": {},
   "source": [
    "Performing GridSearchCV on the DecisionTreeRegressor by assigning param_grid values and 10 number of folds"
   ]
  },
  {
   "cell_type": "code",
   "execution_count": 272,
   "metadata": {},
   "outputs": [],
   "source": [
    "gs = GridSearchCV(estimator=DecisionTreeRegressor(random_state=123), param_grid=param_grid,cv=10)"
   ]
  },
  {
   "cell_type": "markdown",
   "metadata": {},
   "source": [
    "Fit the training data"
   ]
  },
  {
   "cell_type": "code",
   "execution_count": 273,
   "metadata": {},
   "outputs": [
    {
     "name": "stderr",
     "output_type": "stream",
     "text": [
      "C:\\Users\\MANIKANTA\\Anaconda3\\lib\\site-packages\\sklearn\\model_selection\\_search.py:814: DeprecationWarning: The default of the `iid` parameter will change from True to False in version 0.22 and will be removed in 0.24. This will change numeric results when test-set sizes are unequal.\n",
      "  DeprecationWarning)\n"
     ]
    },
    {
     "data": {
      "text/plain": [
       "GridSearchCV(cv=10, error_score='raise-deprecating',\n",
       "             estimator=DecisionTreeRegressor(criterion='mse', max_depth=None,\n",
       "                                             max_features=None,\n",
       "                                             max_leaf_nodes=None,\n",
       "                                             min_impurity_decrease=0.0,\n",
       "                                             min_impurity_split=None,\n",
       "                                             min_samples_leaf=1,\n",
       "                                             min_samples_split=2,\n",
       "                                             min_weight_fraction_leaf=0.0,\n",
       "                                             presort=False, random_state=123,\n",
       "                                             splitter='best'),\n",
       "             iid='warn', n_jobs=None,\n",
       "             param_grid=[{'max_depth': [2, 3, 4, None],\n",
       "                          'max_features': [1, 2, 3, 4, None]}],\n",
       "             pre_dispatch='2*n_jobs', refit=True, return_train_score=False,\n",
       "             scoring=None, verbose=0)"
      ]
     },
     "execution_count": 273,
     "metadata": {},
     "output_type": "execute_result"
    }
   ],
   "source": [
    "gs.fit(X_train,Y_train)"
   ]
  },
  {
   "cell_type": "markdown",
   "metadata": {},
   "source": [
    "# Interpreting the Parameters"
   ]
  },
  {
   "cell_type": "markdown",
   "metadata": {},
   "source": [
    "* Criterion : Evaluation criteria ( default for regressor: mse (Mean-square error)\n",
    "* max_depth : The maximum allowed depth of the tree (default None)\n",
    "* max_Features : The maximum number of Features that are evaluated for splitting at each node (by default =None)\n",
    "* max_leaf_nodes : Maximum number of leaf nodes\n",
    "* min_sample_split : The minimum number of samples a node must have before it can be split(defalt:2)\n",
    "* min_samples_leaf : The minimum number of samples a leaf node must have (default 1)"
   ]
  },
  {
   "cell_type": "markdown",
   "metadata": {},
   "source": [
    "Print out all the hyperparameters combinations that the GridSearchCV has tried."
   ]
  },
  {
   "cell_type": "code",
   "execution_count": 274,
   "metadata": {},
   "outputs": [
    {
     "data": {
      "text/plain": [
       "[{'max_depth': 2, 'max_features': 1},\n",
       " {'max_depth': 2, 'max_features': 2},\n",
       " {'max_depth': 2, 'max_features': 3},\n",
       " {'max_depth': 2, 'max_features': 4},\n",
       " {'max_depth': 2, 'max_features': None},\n",
       " {'max_depth': 3, 'max_features': 1},\n",
       " {'max_depth': 3, 'max_features': 2},\n",
       " {'max_depth': 3, 'max_features': 3},\n",
       " {'max_depth': 3, 'max_features': 4},\n",
       " {'max_depth': 3, 'max_features': None},\n",
       " {'max_depth': 4, 'max_features': 1},\n",
       " {'max_depth': 4, 'max_features': 2},\n",
       " {'max_depth': 4, 'max_features': 3},\n",
       " {'max_depth': 4, 'max_features': 4},\n",
       " {'max_depth': 4, 'max_features': None},\n",
       " {'max_depth': None, 'max_features': 1},\n",
       " {'max_depth': None, 'max_features': 2},\n",
       " {'max_depth': None, 'max_features': 3},\n",
       " {'max_depth': None, 'max_features': 4},\n",
       " {'max_depth': None, 'max_features': None}]"
      ]
     },
     "execution_count": 274,
     "metadata": {},
     "output_type": "execute_result"
    }
   ],
   "source": [
    "gs.cv_results_['params']"
   ]
  },
  {
   "cell_type": "markdown",
   "metadata": {},
   "source": [
    "Print best hyperparameters combination."
   ]
  },
  {
   "cell_type": "code",
   "execution_count": 275,
   "metadata": {},
   "outputs": [
    {
     "data": {
      "text/plain": [
       "{'max_depth': 2, 'max_features': 2}"
      ]
     },
     "execution_count": 275,
     "metadata": {},
     "output_type": "execute_result"
    }
   ],
   "source": [
    "gs.best_params_"
   ]
  },
  {
   "cell_type": "markdown",
   "metadata": {},
   "source": [
    "print the rank for all of the tried combinations."
   ]
  },
  {
   "cell_type": "code",
   "execution_count": 276,
   "metadata": {},
   "outputs": [
    {
     "data": {
      "text/plain": [
       "array([ 2,  1,  5, 11, 11,  3,  4, 10, 17, 17, 14, 20,  9,  6,  6, 19, 13,\n",
       "        8, 15, 15])"
      ]
     },
     "execution_count": 276,
     "metadata": {},
     "output_type": "execute_result"
    }
   ],
   "source": [
    "gs.cv_results_['rank_test_score']"
   ]
  },
  {
   "cell_type": "markdown",
   "metadata": {},
   "source": [
    "# Print the complete DecisionTree estimator."
   ]
  },
  {
   "cell_type": "code",
   "execution_count": 277,
   "metadata": {},
   "outputs": [
    {
     "data": {
      "text/plain": [
       "DecisionTreeRegressor(criterion='mse', max_depth=2, max_features=2,\n",
       "                      max_leaf_nodes=None, min_impurity_decrease=0.0,\n",
       "                      min_impurity_split=None, min_samples_leaf=1,\n",
       "                      min_samples_split=2, min_weight_fraction_leaf=0.0,\n",
       "                      presort=False, random_state=123, splitter='best')"
      ]
     },
     "execution_count": 277,
     "metadata": {},
     "output_type": "execute_result"
    }
   ],
   "source": [
    "gs.best_estimator_"
   ]
  },
  {
   "cell_type": "markdown",
   "metadata": {},
   "source": [
    "# Interpreting the Decision Tree Estimator"
   ]
  },
  {
   "cell_type": "markdown",
   "metadata": {},
   "source": [
    "* Criterion : Evaluation criteria ( default for regressor: mse (Mean-square error)\n",
    "* max_depth : The maximum allowed depth of the tree is 2\n",
    "* max_Features : The maximum number of Features that are evaluated for splitting at each node is 2\n",
    "* max_leaf_nodes : Maximum number of leaf nodes is None\n",
    "* min_sample_split : The minimum number of samples a node must have before it can be split is 2\n",
    "* min_samples_leaf : The minimum number of samples a leaf node must have is 1"
   ]
  },
  {
   "cell_type": "markdown",
   "metadata": {},
   "source": [
    "Make predictions for the test set."
   ]
  },
  {
   "cell_type": "code",
   "execution_count": 278,
   "metadata": {},
   "outputs": [],
   "source": [
    "predictions1 = gs.predict(X_test)"
   ]
  },
  {
   "cell_type": "markdown",
   "metadata": {},
   "source": [
    "Check the firts 5 values of the predictions"
   ]
  },
  {
   "cell_type": "code",
   "execution_count": 279,
   "metadata": {},
   "outputs": [
    {
     "data": {
      "text/plain": [
       "array([612.8125    , 612.8125    , 573.69230769, 612.8125    ,\n",
       "       451.125     ])"
      ]
     },
     "execution_count": 279,
     "metadata": {},
     "output_type": "execute_result"
    }
   ],
   "source": [
    "predictions1[:5]"
   ]
  },
  {
   "cell_type": "code",
   "execution_count": 280,
   "metadata": {},
   "outputs": [
    {
     "data": {
      "text/plain": [
       "18    865\n",
       "13    508\n",
       "26    577\n",
       "31    554\n",
       "10    580\n",
       "Name: Petrol_Consumption, dtype: int64"
      ]
     },
     "execution_count": 280,
     "metadata": {},
     "output_type": "execute_result"
    }
   ],
   "source": [
    "Y_test[:5]"
   ]
  },
  {
   "cell_type": "markdown",
   "metadata": {},
   "source": [
    "Calculate accuracy of prediction"
   ]
  },
  {
   "cell_type": "code",
   "execution_count": 281,
   "metadata": {},
   "outputs": [
    {
     "data": {
      "text/plain": [
       "96.76201923076923"
      ]
     },
     "execution_count": 281,
     "metadata": {},
     "output_type": "execute_result"
    }
   ],
   "source": [
    "mean_absolute_error(Y_test, predictions1)"
   ]
  },
  {
   "cell_type": "code",
   "execution_count": 282,
   "metadata": {},
   "outputs": [
    {
     "data": {
      "text/plain": [
       "0.18596482069236775"
      ]
     },
     "execution_count": 282,
     "metadata": {},
     "output_type": "execute_result"
    }
   ],
   "source": [
    "r2_score(Y_test, predictions1)"
   ]
  },
  {
   "cell_type": "markdown",
   "metadata": {},
   "source": [
    "# Now we can clearly say that GridSearch improved the model accuracy and also gives the best Hyper-Parameters for the Decision Tree to control the tree and perform well"
   ]
  },
  {
   "cell_type": "markdown",
   "metadata": {},
   "source": [
    "# Now Implement Hyperparameters in Decision Tree "
   ]
  },
  {
   "cell_type": "code",
   "execution_count": 283,
   "metadata": {},
   "outputs": [],
   "source": [
    "tree1 = DecisionTreeRegressor(max_depth=2,max_features=2)"
   ]
  },
  {
   "cell_type": "code",
   "execution_count": 284,
   "metadata": {},
   "outputs": [
    {
     "data": {
      "text/plain": [
       "DecisionTreeRegressor(criterion='mse', max_depth=2, max_features=2,\n",
       "                      max_leaf_nodes=None, min_impurity_decrease=0.0,\n",
       "                      min_impurity_split=None, min_samples_leaf=1,\n",
       "                      min_samples_split=2, min_weight_fraction_leaf=0.0,\n",
       "                      presort=False, random_state=None, splitter='best')"
      ]
     },
     "execution_count": 284,
     "metadata": {},
     "output_type": "execute_result"
    }
   ],
   "source": [
    "tree1.fit(X_train, Y_train)"
   ]
  },
  {
   "cell_type": "code",
   "execution_count": 285,
   "metadata": {},
   "outputs": [],
   "source": [
    "predictions2 = tree1.predict(X_test)"
   ]
  },
  {
   "cell_type": "code",
   "execution_count": 286,
   "metadata": {},
   "outputs": [
    {
     "data": {
      "text/plain": [
       "array([715.5       , 633.42857143, 563.54545455, 633.42857143,\n",
       "       468.72727273])"
      ]
     },
     "execution_count": 286,
     "metadata": {},
     "output_type": "execute_result"
    }
   ],
   "source": [
    "predictions2[:5]"
   ]
  },
  {
   "cell_type": "code",
   "execution_count": 287,
   "metadata": {},
   "outputs": [
    {
     "data": {
      "text/plain": [
       "18    865\n",
       "13    508\n",
       "26    577\n",
       "31    554\n",
       "10    580\n",
       "Name: Petrol_Consumption, dtype: int64"
      ]
     },
     "execution_count": 287,
     "metadata": {},
     "output_type": "execute_result"
    }
   ],
   "source": [
    "Y_test[:5]"
   ]
  },
  {
   "cell_type": "code",
   "execution_count": 288,
   "metadata": {},
   "outputs": [
    {
     "data": {
      "text/plain": [
       "95.06558441558442"
      ]
     },
     "execution_count": 288,
     "metadata": {},
     "output_type": "execute_result"
    }
   ],
   "source": [
    "mean_absolute_error(Y_test, predictions2)"
   ]
  },
  {
   "cell_type": "markdown",
   "metadata": {},
   "source": [
    "mean_absolute_error is reduced and model improved by using the Hyperparameters"
   ]
  },
  {
   "cell_type": "code",
   "execution_count": 289,
   "metadata": {},
   "outputs": [
    {
     "data": {
      "text/plain": [
       "0.3290531514980757"
      ]
     },
     "execution_count": 289,
     "metadata": {},
     "output_type": "execute_result"
    }
   ],
   "source": [
    "r2_score(Y_test, predictions2)"
   ]
  },
  {
   "cell_type": "markdown",
   "metadata": {},
   "source": [
    "Prediction score also increases"
   ]
  },
  {
   "cell_type": "markdown",
   "metadata": {},
   "source": [
    "# We can say that the model predictions are improved a lot and mean_absolute_error also reduced"
   ]
  },
  {
   "cell_type": "markdown",
   "metadata": {},
   "source": [
    "# Plotting the Decision Tree"
   ]
  },
  {
   "cell_type": "code",
   "execution_count": 290,
   "metadata": {},
   "outputs": [],
   "source": [
    "dot_data = export_graphviz(tree1, filled=True, feature_names=X_train.columns, out_file=None)"
   ]
  },
  {
   "cell_type": "code",
   "execution_count": 291,
   "metadata": {},
   "outputs": [
    {
     "data": {
      "image/svg+xml": [
       "<?xml version=\"1.0\" encoding=\"UTF-8\" standalone=\"no\"?>\r\n",
       "<!DOCTYPE svg PUBLIC \"-//W3C//DTD SVG 1.1//EN\"\r\n",
       " \"http://www.w3.org/Graphics/SVG/1.1/DTD/svg11.dtd\">\r\n",
       "<!-- Generated by graphviz version 2.38.0 (20140413.2041)\r\n",
       " -->\r\n",
       "<!-- Title: Tree Pages: 1 -->\r\n",
       "<svg width=\"517pt\" height=\"269pt\"\r\n",
       " viewBox=\"0.00 0.00 516.50 269.00\" xmlns=\"http://www.w3.org/2000/svg\" xmlns:xlink=\"http://www.w3.org/1999/xlink\">\r\n",
       "<g id=\"graph0\" class=\"graph\" transform=\"scale(1 1) rotate(0) translate(4 265)\">\r\n",
       "<title>Tree</title>\r\n",
       "<polygon fill=\"white\" stroke=\"none\" points=\"-4,4 -4,-265 512.5,-265 512.5,4 -4,4\"/>\r\n",
       "<!-- 0 -->\r\n",
       "<g id=\"node1\" class=\"node\"><title>0</title>\r\n",
       "<polygon fill=\"#f4cbae\" stroke=\"black\" points=\"343,-261 171,-261 171,-193 343,-193 343,-261\"/>\r\n",
       "<text text-anchor=\"middle\" x=\"257\" y=\"-245.8\" font-family=\"Times New Roman,serif\" font-size=\"14.00\">Average_income &lt;= 4370.0</text>\r\n",
       "<text text-anchor=\"middle\" x=\"257\" y=\"-230.8\" font-family=\"Times New Roman,serif\" font-size=\"14.00\">mse = 8073.501</text>\r\n",
       "<text text-anchor=\"middle\" x=\"257\" y=\"-215.8\" font-family=\"Times New Roman,serif\" font-size=\"14.00\">samples = 38</text>\r\n",
       "<text text-anchor=\"middle\" x=\"257\" y=\"-200.8\" font-family=\"Times New Roman,serif\" font-size=\"14.00\">value = 569.842</text>\r\n",
       "</g>\r\n",
       "<!-- 1 -->\r\n",
       "<g id=\"node2\" class=\"node\"><title>1</title>\r\n",
       "<polygon fill=\"#f1bb94\" stroke=\"black\" points=\"219,-157 97,-157 97,-89 219,-89 219,-157\"/>\r\n",
       "<text text-anchor=\"middle\" x=\"158\" y=\"-141.8\" font-family=\"Times New Roman,serif\" font-size=\"14.00\">Petrol_tax &lt;= 7.75</text>\r\n",
       "<text text-anchor=\"middle\" x=\"158\" y=\"-126.8\" font-family=\"Times New Roman,serif\" font-size=\"14.00\">mse = 3205.098</text>\r\n",
       "<text text-anchor=\"middle\" x=\"158\" y=\"-111.8\" font-family=\"Times New Roman,serif\" font-size=\"14.00\">samples = 25</text>\r\n",
       "<text text-anchor=\"middle\" x=\"158\" y=\"-96.8\" font-family=\"Times New Roman,serif\" font-size=\"14.00\">value = 602.68</text>\r\n",
       "</g>\r\n",
       "<!-- 0&#45;&gt;1 -->\r\n",
       "<g id=\"edge1\" class=\"edge\"><title>0&#45;&gt;1</title>\r\n",
       "<path fill=\"none\" stroke=\"black\" d=\"M224.858,-192.884C216.126,-183.887 206.569,-174.041 197.482,-164.678\"/>\r\n",
       "<polygon fill=\"black\" stroke=\"black\" points=\"199.796,-162.038 190.32,-157.299 194.773,-166.913 199.796,-162.038\"/>\r\n",
       "<text text-anchor=\"middle\" x=\"189.947\" y=\"-178.597\" font-family=\"Times New Roman,serif\" font-size=\"14.00\">True</text>\r\n",
       "</g>\r\n",
       "<!-- 4 -->\r\n",
       "<g id=\"node5\" class=\"node\"><title>4</title>\r\n",
       "<polygon fill=\"#fbece1\" stroke=\"black\" points=\"477,-157 237,-157 237,-89 477,-89 477,-157\"/>\r\n",
       "<text text-anchor=\"middle\" x=\"357\" y=\"-141.8\" font-family=\"Times New Roman,serif\" font-size=\"14.00\">Population_Driver_licence(%) &lt;= 0.632</text>\r\n",
       "<text text-anchor=\"middle\" x=\"357\" y=\"-126.8\" font-family=\"Times New Roman,serif\" font-size=\"14.00\">mse = 11374.213</text>\r\n",
       "<text text-anchor=\"middle\" x=\"357\" y=\"-111.8\" font-family=\"Times New Roman,serif\" font-size=\"14.00\">samples = 13</text>\r\n",
       "<text text-anchor=\"middle\" x=\"357\" y=\"-96.8\" font-family=\"Times New Roman,serif\" font-size=\"14.00\">value = 506.692</text>\r\n",
       "</g>\r\n",
       "<!-- 0&#45;&gt;4 -->\r\n",
       "<g id=\"edge4\" class=\"edge\"><title>0&#45;&gt;4</title>\r\n",
       "<path fill=\"none\" stroke=\"black\" d=\"M289.467,-192.884C298.287,-183.887 307.941,-174.041 317.119,-164.678\"/>\r\n",
       "<polygon fill=\"black\" stroke=\"black\" points=\"319.852,-166.89 324.354,-157.299 314.854,-161.99 319.852,-166.89\"/>\r\n",
       "<text text-anchor=\"middle\" x=\"324.601\" y=\"-178.598\" font-family=\"Times New Roman,serif\" font-size=\"14.00\">False</text>\r\n",
       "</g>\r\n",
       "<!-- 2 -->\r\n",
       "<g id=\"node3\" class=\"node\"><title>2</title>\r\n",
       "<polygon fill=\"#eeab7b\" stroke=\"black\" points=\"106,-53 0,-53 0,-0 106,-0 106,-53\"/>\r\n",
       "<text text-anchor=\"middle\" x=\"53\" y=\"-37.8\" font-family=\"Times New Roman,serif\" font-size=\"14.00\">mse = 1977.531</text>\r\n",
       "<text text-anchor=\"middle\" x=\"53\" y=\"-22.8\" font-family=\"Times New Roman,serif\" font-size=\"14.00\">samples = 14</text>\r\n",
       "<text text-anchor=\"middle\" x=\"53\" y=\"-7.8\" font-family=\"Times New Roman,serif\" font-size=\"14.00\">value = 633.429</text>\r\n",
       "</g>\r\n",
       "<!-- 1&#45;&gt;2 -->\r\n",
       "<g id=\"edge2\" class=\"edge\"><title>1&#45;&gt;2</title>\r\n",
       "<path fill=\"none\" stroke=\"black\" d=\"M121.276,-88.9485C110.908,-79.6175 99.6357,-69.4722 89.2934,-60.1641\"/>\r\n",
       "<polygon fill=\"black\" stroke=\"black\" points=\"91.3707,-57.3248 81.5963,-53.2367 86.6879,-62.5279 91.3707,-57.3248\"/>\r\n",
       "</g>\r\n",
       "<!-- 3 -->\r\n",
       "<g id=\"node4\" class=\"node\"><title>3</title>\r\n",
       "<polygon fill=\"#f5cfb3\" stroke=\"black\" points=\"230,-53 124,-53 124,-0 230,-0 230,-53\"/>\r\n",
       "<text text-anchor=\"middle\" x=\"177\" y=\"-37.8\" font-family=\"Times New Roman,serif\" font-size=\"14.00\">mse = 2032.612</text>\r\n",
       "<text text-anchor=\"middle\" x=\"177\" y=\"-22.8\" font-family=\"Times New Roman,serif\" font-size=\"14.00\">samples = 11</text>\r\n",
       "<text text-anchor=\"middle\" x=\"177\" y=\"-7.8\" font-family=\"Times New Roman,serif\" font-size=\"14.00\">value = 563.545</text>\r\n",
       "</g>\r\n",
       "<!-- 1&#45;&gt;3 -->\r\n",
       "<g id=\"edge3\" class=\"edge\"><title>1&#45;&gt;3</title>\r\n",
       "<path fill=\"none\" stroke=\"black\" d=\"M164.645,-88.9485C166.319,-80.6238 168.123,-71.6509 169.822,-63.2027\"/>\r\n",
       "<polygon fill=\"black\" stroke=\"black\" points=\"173.286,-63.7304 171.825,-53.2367 166.423,-62.3506 173.286,-63.7304\"/>\r\n",
       "</g>\r\n",
       "<!-- 5 -->\r\n",
       "<g id=\"node6\" class=\"node\"><title>5</title>\r\n",
       "<polygon fill=\"#ffffff\" stroke=\"black\" points=\"391,-53 285,-53 285,-0 391,-0 391,-53\"/>\r\n",
       "<text text-anchor=\"middle\" x=\"338\" y=\"-37.8\" font-family=\"Times New Roman,serif\" font-size=\"14.00\">mse = 3269.471</text>\r\n",
       "<text text-anchor=\"middle\" x=\"338\" y=\"-22.8\" font-family=\"Times New Roman,serif\" font-size=\"14.00\">samples = 11</text>\r\n",
       "<text text-anchor=\"middle\" x=\"338\" y=\"-7.8\" font-family=\"Times New Roman,serif\" font-size=\"14.00\">value = 468.727</text>\r\n",
       "</g>\r\n",
       "<!-- 4&#45;&gt;5 -->\r\n",
       "<g id=\"edge5\" class=\"edge\"><title>4&#45;&gt;5</title>\r\n",
       "<path fill=\"none\" stroke=\"black\" d=\"M350.355,-88.9485C348.681,-80.6238 346.877,-71.6509 345.178,-63.2027\"/>\r\n",
       "<polygon fill=\"black\" stroke=\"black\" points=\"348.577,-62.3506 343.175,-53.2367 341.714,-63.7304 348.577,-62.3506\"/>\r\n",
       "</g>\r\n",
       "<!-- 6 -->\r\n",
       "<g id=\"node7\" class=\"node\"><title>6</title>\r\n",
       "<polygon fill=\"#e58139\" stroke=\"black\" points=\"508.5,-53 409.5,-53 409.5,-0 508.5,-0 508.5,-53\"/>\r\n",
       "<text text-anchor=\"middle\" x=\"459\" y=\"-37.8\" font-family=\"Times New Roman,serif\" font-size=\"14.00\">mse = 4422.25</text>\r\n",
       "<text text-anchor=\"middle\" x=\"459\" y=\"-22.8\" font-family=\"Times New Roman,serif\" font-size=\"14.00\">samples = 2</text>\r\n",
       "<text text-anchor=\"middle\" x=\"459\" y=\"-7.8\" font-family=\"Times New Roman,serif\" font-size=\"14.00\">value = 715.5</text>\r\n",
       "</g>\r\n",
       "<!-- 4&#45;&gt;6 -->\r\n",
       "<g id=\"edge6\" class=\"edge\"><title>4&#45;&gt;6</title>\r\n",
       "<path fill=\"none\" stroke=\"black\" d=\"M392.675,-88.9485C402.746,-79.6175 413.697,-69.4722 423.744,-60.1641\"/>\r\n",
       "<polygon fill=\"black\" stroke=\"black\" points=\"426.264,-62.6004 431.221,-53.2367 421.506,-57.4655 426.264,-62.6004\"/>\r\n",
       "</g>\r\n",
       "</g>\r\n",
       "</svg>\r\n"
      ],
      "text/plain": [
       "<graphviz.files.Source at 0x264858b37c8>"
      ]
     },
     "execution_count": 291,
     "metadata": {},
     "output_type": "execute_result"
    }
   ],
   "source": [
    "graphviz.Source(dot_data)"
   ]
  },
  {
   "cell_type": "markdown",
   "metadata": {},
   "source": [
    "# Interpretation of Decision Tree"
   ]
  },
  {
   "cell_type": "markdown",
   "metadata": {},
   "source": [
    "1) Splitting predictor and Cuttof point : In this decision tree, The splitting predictor is Petrol_Tax and Cutting value is 7.25 cents\n",
    "* root node is Petrol_Tax\n",
    "* mse : Evolution metrics for this particular region is mse=8073.501\n",
    "* samples : Number of observations in this particular region is 38\n",
    "* value : The value for the predictions for this region is 569.842"
   ]
  },
  {
   "cell_type": "markdown",
   "metadata": {},
   "source": [
    "2) Next, the decison tree splits into 2 internal nodes Population_Driver_licence(%)<=0.667 if Petrol_Tax <=7.25 and Population_Driver_licennce(%)<=0.575 if Petrol_Tax >7.25\n",
    "* Internal nodes are Population_Driver_licence(%)<=0.667 and Population_Driver_licennce(%)<=0.575\n",
    "* mse : Evolution metrics for this particular regions are mse=5300.298 and mse=6215.714 respectively\n",
    "* samples : Number of observations in this particular regions are 17 and 21 respectively\n",
    "* value : The value for the predictions for this region is 622.765 and 6215 respectively"
   ]
  },
  {
   "cell_type": "markdown",
   "metadata": {},
   "source": [
    "3) Furtherly, the decison tree splits into 4 internal nodes ,each observation in the dataset belongs to one of the 4 regions based on the average mean or mode value of the observations present in that particular region"
   ]
  },
  {
   "cell_type": "markdown",
   "metadata": {},
   "source": [
    "4) The regions are formed so that the RSS is minimum"
   ]
  },
  {
   "cell_type": "code",
   "execution_count": null,
   "metadata": {},
   "outputs": [],
   "source": []
  },
  {
   "cell_type": "markdown",
   "metadata": {},
   "source": [
    "# Classification using Decison Tree"
   ]
  },
  {
   "cell_type": "markdown",
   "metadata": {},
   "source": [
    "Loading the \"bill_authentication\" csv file"
   ]
  },
  {
   "cell_type": "code",
   "execution_count": 292,
   "metadata": {},
   "outputs": [],
   "source": [
    "df2 = pd.read_csv(\"D:/Machine_Learning/bill_authentication.csv\")"
   ]
  },
  {
   "cell_type": "code",
   "execution_count": 293,
   "metadata": {},
   "outputs": [
    {
     "data": {
      "text/html": [
       "<div>\n",
       "<style scoped>\n",
       "    .dataframe tbody tr th:only-of-type {\n",
       "        vertical-align: middle;\n",
       "    }\n",
       "\n",
       "    .dataframe tbody tr th {\n",
       "        vertical-align: top;\n",
       "    }\n",
       "\n",
       "    .dataframe thead th {\n",
       "        text-align: right;\n",
       "    }\n",
       "</style>\n",
       "<table border=\"1\" class=\"dataframe\">\n",
       "  <thead>\n",
       "    <tr style=\"text-align: right;\">\n",
       "      <th></th>\n",
       "      <th>Variance</th>\n",
       "      <th>Skewness</th>\n",
       "      <th>Curtosis</th>\n",
       "      <th>Entropy</th>\n",
       "      <th>Class</th>\n",
       "    </tr>\n",
       "  </thead>\n",
       "  <tbody>\n",
       "    <tr>\n",
       "      <td>0</td>\n",
       "      <td>3.62160</td>\n",
       "      <td>8.6661</td>\n",
       "      <td>-2.8073</td>\n",
       "      <td>-0.44699</td>\n",
       "      <td>0</td>\n",
       "    </tr>\n",
       "    <tr>\n",
       "      <td>1</td>\n",
       "      <td>4.54590</td>\n",
       "      <td>8.1674</td>\n",
       "      <td>-2.4586</td>\n",
       "      <td>-1.46210</td>\n",
       "      <td>0</td>\n",
       "    </tr>\n",
       "    <tr>\n",
       "      <td>2</td>\n",
       "      <td>3.86600</td>\n",
       "      <td>-2.6383</td>\n",
       "      <td>1.9242</td>\n",
       "      <td>0.10645</td>\n",
       "      <td>0</td>\n",
       "    </tr>\n",
       "    <tr>\n",
       "      <td>3</td>\n",
       "      <td>3.45660</td>\n",
       "      <td>9.5228</td>\n",
       "      <td>-4.0112</td>\n",
       "      <td>-3.59440</td>\n",
       "      <td>0</td>\n",
       "    </tr>\n",
       "    <tr>\n",
       "      <td>4</td>\n",
       "      <td>0.32924</td>\n",
       "      <td>-4.4552</td>\n",
       "      <td>4.5718</td>\n",
       "      <td>-0.98880</td>\n",
       "      <td>0</td>\n",
       "    </tr>\n",
       "  </tbody>\n",
       "</table>\n",
       "</div>"
      ],
      "text/plain": [
       "   Variance  Skewness  Curtosis  Entropy  Class\n",
       "0   3.62160    8.6661   -2.8073 -0.44699      0\n",
       "1   4.54590    8.1674   -2.4586 -1.46210      0\n",
       "2   3.86600   -2.6383    1.9242  0.10645      0\n",
       "3   3.45660    9.5228   -4.0112 -3.59440      0\n",
       "4   0.32924   -4.4552    4.5718 -0.98880      0"
      ]
     },
     "execution_count": 293,
     "metadata": {},
     "output_type": "execute_result"
    }
   ],
   "source": [
    "df2.head()"
   ]
  },
  {
   "cell_type": "code",
   "execution_count": 294,
   "metadata": {},
   "outputs": [
    {
     "data": {
      "text/html": [
       "<div>\n",
       "<style scoped>\n",
       "    .dataframe tbody tr th:only-of-type {\n",
       "        vertical-align: middle;\n",
       "    }\n",
       "\n",
       "    .dataframe tbody tr th {\n",
       "        vertical-align: top;\n",
       "    }\n",
       "\n",
       "    .dataframe thead th {\n",
       "        text-align: right;\n",
       "    }\n",
       "</style>\n",
       "<table border=\"1\" class=\"dataframe\">\n",
       "  <thead>\n",
       "    <tr style=\"text-align: right;\">\n",
       "      <th></th>\n",
       "      <th>Variance</th>\n",
       "      <th>Skewness</th>\n",
       "      <th>Curtosis</th>\n",
       "      <th>Entropy</th>\n",
       "      <th>Class</th>\n",
       "    </tr>\n",
       "  </thead>\n",
       "  <tbody>\n",
       "    <tr>\n",
       "      <td>count</td>\n",
       "      <td>1372.000000</td>\n",
       "      <td>1372.000000</td>\n",
       "      <td>1372.000000</td>\n",
       "      <td>1372.000000</td>\n",
       "      <td>1372.000000</td>\n",
       "    </tr>\n",
       "    <tr>\n",
       "      <td>mean</td>\n",
       "      <td>0.433735</td>\n",
       "      <td>1.922353</td>\n",
       "      <td>1.397627</td>\n",
       "      <td>-1.191657</td>\n",
       "      <td>0.444606</td>\n",
       "    </tr>\n",
       "    <tr>\n",
       "      <td>std</td>\n",
       "      <td>2.842763</td>\n",
       "      <td>5.869047</td>\n",
       "      <td>4.310030</td>\n",
       "      <td>2.101013</td>\n",
       "      <td>0.497103</td>\n",
       "    </tr>\n",
       "    <tr>\n",
       "      <td>min</td>\n",
       "      <td>-7.042100</td>\n",
       "      <td>-13.773100</td>\n",
       "      <td>-5.286100</td>\n",
       "      <td>-8.548200</td>\n",
       "      <td>0.000000</td>\n",
       "    </tr>\n",
       "    <tr>\n",
       "      <td>25%</td>\n",
       "      <td>-1.773000</td>\n",
       "      <td>-1.708200</td>\n",
       "      <td>-1.574975</td>\n",
       "      <td>-2.413450</td>\n",
       "      <td>0.000000</td>\n",
       "    </tr>\n",
       "    <tr>\n",
       "      <td>50%</td>\n",
       "      <td>0.496180</td>\n",
       "      <td>2.319650</td>\n",
       "      <td>0.616630</td>\n",
       "      <td>-0.586650</td>\n",
       "      <td>0.000000</td>\n",
       "    </tr>\n",
       "    <tr>\n",
       "      <td>75%</td>\n",
       "      <td>2.821475</td>\n",
       "      <td>6.814625</td>\n",
       "      <td>3.179250</td>\n",
       "      <td>0.394810</td>\n",
       "      <td>1.000000</td>\n",
       "    </tr>\n",
       "    <tr>\n",
       "      <td>max</td>\n",
       "      <td>6.824800</td>\n",
       "      <td>12.951600</td>\n",
       "      <td>17.927400</td>\n",
       "      <td>2.449500</td>\n",
       "      <td>1.000000</td>\n",
       "    </tr>\n",
       "  </tbody>\n",
       "</table>\n",
       "</div>"
      ],
      "text/plain": [
       "          Variance     Skewness     Curtosis      Entropy        Class\n",
       "count  1372.000000  1372.000000  1372.000000  1372.000000  1372.000000\n",
       "mean      0.433735     1.922353     1.397627    -1.191657     0.444606\n",
       "std       2.842763     5.869047     4.310030     2.101013     0.497103\n",
       "min      -7.042100   -13.773100    -5.286100    -8.548200     0.000000\n",
       "25%      -1.773000    -1.708200    -1.574975    -2.413450     0.000000\n",
       "50%       0.496180     2.319650     0.616630    -0.586650     0.000000\n",
       "75%       2.821475     6.814625     3.179250     0.394810     1.000000\n",
       "max       6.824800    12.951600    17.927400     2.449500     1.000000"
      ]
     },
     "execution_count": 294,
     "metadata": {},
     "output_type": "execute_result"
    }
   ],
   "source": [
    "df2.describe()"
   ]
  },
  {
   "cell_type": "markdown",
   "metadata": {},
   "source": [
    "* Summary:\n",
    "    * The average of Variance of wavelet transformed image is 0.43 and minimum of -7.04 and maximum of 6.82\n",
    "    * The average Skewness of the image is 1.92 with std 5.86\n",
    "    * The minimum size of Curtosis of the image is -5.28 and average is 1.39\n",
    "    * The Entropy of the image has a average of -1.19 \n",
    "    * The Class label has two levels 0 and 1\n",
    "    "
   ]
  },
  {
   "cell_type": "markdown",
   "metadata": {},
   "source": [
    "Split the data into train and test sets."
   ]
  },
  {
   "cell_type": "code",
   "execution_count": 295,
   "metadata": {},
   "outputs": [],
   "source": [
    "from sklearn.model_selection import train_test_split"
   ]
  },
  {
   "cell_type": "markdown",
   "metadata": {},
   "source": [
    "we have to predict whether the Note is Authenticate or Fake"
   ]
  },
  {
   "cell_type": "code",
   "execution_count": 296,
   "metadata": {},
   "outputs": [],
   "source": [
    "X_train, X_test, Y_train, Y_test = train_test_split(df2.drop(\"Class\",axis=1),df2['Class'],test_size=0.2,random_state=123)"
   ]
  },
  {
   "cell_type": "markdown",
   "metadata": {},
   "source": [
    "# Import Decision Tree Classifier"
   ]
  },
  {
   "cell_type": "code",
   "execution_count": 297,
   "metadata": {},
   "outputs": [],
   "source": [
    "from sklearn.tree import DecisionTreeClassifier"
   ]
  },
  {
   "cell_type": "markdown",
   "metadata": {},
   "source": [
    "Create an object for the DecisionTreeClassifier"
   ]
  },
  {
   "cell_type": "code",
   "execution_count": 298,
   "metadata": {},
   "outputs": [],
   "source": [
    "tree = DecisionTreeClassifier()"
   ]
  },
  {
   "cell_type": "markdown",
   "metadata": {},
   "source": [
    "fit the model to the training data."
   ]
  },
  {
   "cell_type": "code",
   "execution_count": 299,
   "metadata": {},
   "outputs": [
    {
     "data": {
      "text/plain": [
       "DecisionTreeClassifier(class_weight=None, criterion='gini', max_depth=None,\n",
       "                       max_features=None, max_leaf_nodes=None,\n",
       "                       min_impurity_decrease=0.0, min_impurity_split=None,\n",
       "                       min_samples_leaf=1, min_samples_split=2,\n",
       "                       min_weight_fraction_leaf=0.0, presort=False,\n",
       "                       random_state=None, splitter='best')"
      ]
     },
     "execution_count": 299,
     "metadata": {},
     "output_type": "execute_result"
    }
   ],
   "source": [
    "tree.fit(X_train,Y_train)"
   ]
  },
  {
   "cell_type": "markdown",
   "metadata": {},
   "source": [
    "# Interpreting the Parameters"
   ]
  },
  {
   "cell_type": "markdown",
   "metadata": {},
   "source": [
    "* Criterion : Evaluation criteria ( default for regressor: gini)\n",
    "* max_depth : The maximum allowed depth of the tree (default None)\n",
    "* max_Features : The maximum number of Features that are evaluated for splitting at each node (by default =None)\n",
    "* max_leaf_nodes : Maximum number of leaf nodes\n",
    "* min_sample_split : The minimum number of samples a node must have before it can be split(defalt:2)\n",
    "* min_samples_leaf : The minimum number of samples a leaf node must have (default 1)"
   ]
  },
  {
   "cell_type": "markdown",
   "metadata": {},
   "source": [
    "Make predictions and evaluate output."
   ]
  },
  {
   "cell_type": "code",
   "execution_count": 300,
   "metadata": {},
   "outputs": [],
   "source": [
    "predictions = tree.predict(X_test)"
   ]
  },
  {
   "cell_type": "markdown",
   "metadata": {},
   "source": [
    "Check the top 5 predictions and actual values."
   ]
  },
  {
   "cell_type": "code",
   "execution_count": 301,
   "metadata": {},
   "outputs": [
    {
     "data": {
      "text/plain": [
       "array([0, 0, 0, 0, 1], dtype=int64)"
      ]
     },
     "execution_count": 301,
     "metadata": {},
     "output_type": "execute_result"
    }
   ],
   "source": [
    "predictions[:5]"
   ]
  },
  {
   "cell_type": "code",
   "execution_count": 302,
   "metadata": {},
   "outputs": [
    {
     "data": {
      "text/plain": [
       "657     0\n",
       "18      0\n",
       "700     0\n",
       "221     0\n",
       "1219    1\n",
       "Name: Class, dtype: int64"
      ]
     },
     "execution_count": 302,
     "metadata": {},
     "output_type": "execute_result"
    }
   ],
   "source": [
    "Y_test[:5]"
   ]
  },
  {
   "cell_type": "markdown",
   "metadata": {},
   "source": [
    "We see that the predictions are pretty accurate. Let's evaluate the prediction accuracy."
   ]
  },
  {
   "cell_type": "markdown",
   "metadata": {},
   "source": [
    "# Importing accuracy_score and confusion_matrix"
   ]
  },
  {
   "cell_type": "code",
   "execution_count": 303,
   "metadata": {},
   "outputs": [],
   "source": [
    "from sklearn.metrics import accuracy_score, confusion_matrix"
   ]
  },
  {
   "cell_type": "code",
   "execution_count": 304,
   "metadata": {},
   "outputs": [
    {
     "data": {
      "text/plain": [
       "0.9963636363636363"
      ]
     },
     "execution_count": 304,
     "metadata": {},
     "output_type": "execute_result"
    }
   ],
   "source": [
    "accuracy_score(Y_test, predictions)"
   ]
  },
  {
   "cell_type": "markdown",
   "metadata": {},
   "source": [
    "we can see that accuracy_score is very high "
   ]
  },
  {
   "cell_type": "code",
   "execution_count": 305,
   "metadata": {},
   "outputs": [
    {
     "data": {
      "text/plain": [
       "274"
      ]
     },
     "execution_count": 305,
     "metadata": {},
     "output_type": "execute_result"
    }
   ],
   "source": [
    "accuracy_score(Y_test, predictions, normalize=False)"
   ]
  },
  {
   "cell_type": "markdown",
   "metadata": {},
   "source": [
    "* Out of 275 observations , our model predicts accurately 274 observation which is good\n",
    "* only one observation from test set were misclassified. Let's plot confusion matrix for this result."
   ]
  },
  {
   "cell_type": "markdown",
   "metadata": {},
   "source": [
    "# Plotting the confusion matrix "
   ]
  },
  {
   "cell_type": "code",
   "execution_count": 306,
   "metadata": {},
   "outputs": [],
   "source": [
    "import matplotlib.pyplot as plt\n",
    "import seaborn as sns\n",
    "%matplotlib inline"
   ]
  },
  {
   "cell_type": "code",
   "execution_count": 307,
   "metadata": {},
   "outputs": [],
   "source": [
    "confusion_mat = confusion_matrix(Y_test, predictions)\n",
    "confusion_df = pd.DataFrame(confusion_mat, index=['Authenticate','Fake'], columns=['Authenticate','Fake'])"
   ]
  },
  {
   "cell_type": "code",
   "execution_count": 308,
   "metadata": {},
   "outputs": [
    {
     "data": {
      "text/html": [
       "<div>\n",
       "<style scoped>\n",
       "    .dataframe tbody tr th:only-of-type {\n",
       "        vertical-align: middle;\n",
       "    }\n",
       "\n",
       "    .dataframe tbody tr th {\n",
       "        vertical-align: top;\n",
       "    }\n",
       "\n",
       "    .dataframe thead th {\n",
       "        text-align: right;\n",
       "    }\n",
       "</style>\n",
       "<table border=\"1\" class=\"dataframe\">\n",
       "  <thead>\n",
       "    <tr style=\"text-align: right;\">\n",
       "      <th></th>\n",
       "      <th>Authenticate</th>\n",
       "      <th>Fake</th>\n",
       "    </tr>\n",
       "  </thead>\n",
       "  <tbody>\n",
       "    <tr>\n",
       "      <td>Authenticate</td>\n",
       "      <td>147</td>\n",
       "      <td>0</td>\n",
       "    </tr>\n",
       "    <tr>\n",
       "      <td>Fake</td>\n",
       "      <td>1</td>\n",
       "      <td>127</td>\n",
       "    </tr>\n",
       "  </tbody>\n",
       "</table>\n",
       "</div>"
      ],
      "text/plain": [
       "              Authenticate  Fake\n",
       "Authenticate           147     0\n",
       "Fake                     1   127"
      ]
     },
     "execution_count": 308,
     "metadata": {},
     "output_type": "execute_result"
    }
   ],
   "source": [
    "confusion_df"
   ]
  },
  {
   "cell_type": "code",
   "execution_count": 309,
   "metadata": {},
   "outputs": [
    {
     "data": {
      "image/png": "[encoded data removed]",
      "text/plain": [
       "<Figure size 432x288 with 2 Axes>"
      ]
     },
     "metadata": {
      "needs_background": "light"
     },
     "output_type": "display_data"
    }
   ],
   "source": [
    "_=sns.heatmap(confusion_df, cmap='coolwarm', annot=True)"
   ]
  },
  {
   "cell_type": "markdown",
   "metadata": {},
   "source": [
    "# Interpreting the confusion matrix"
   ]
  },
  {
   "cell_type": "markdown",
   "metadata": {},
   "source": [
    "* The original number of Aunthenticate Notes are 147 and predicted number of Authenticate notes are 148 (so False positive is 1)\n",
    "* The original number of Fake notes are 128 and the predicted number of Fake notes are 127 (so False Negative is 1)\n",
    "* True positives are 147\n",
    "* True negatives are 127"
   ]
  },
  {
   "cell_type": "markdown",
   "metadata": {},
   "source": [
    "# Plotting the Decision Tree"
   ]
  },
  {
   "cell_type": "code",
   "execution_count": 310,
   "metadata": {},
   "outputs": [],
   "source": [
    "from sklearn.tree import export_graphviz\n",
    "import graphviz"
   ]
  },
  {
   "cell_type": "code",
   "execution_count": 311,
   "metadata": {},
   "outputs": [],
   "source": [
    "dot_data = export_graphviz(tree, filled=True, rounded=True, feature_names=X_train.columns,out_file=None)"
   ]
  },
  {
   "cell_type": "markdown",
   "metadata": {},
   "source": [
    "* Interpreting the parameters of the export_graphviz\n",
    "     * tree : decision tree\n",
    "     * filled : When set to True, paint nodes to indicate majority class for classification, extremity of values for regression, or purity of node for multi-output.\n",
    "     * rounded : When set to True, draw node boxes with rounded corners and use Helvetica fonts instead of Times-Roman.ounded : When set to True, draw node boxes with rounded corners and use Helvetica fonts instead of Times-Roman.\n",
    "     * feature_names : Names of each of the features.\n",
    "     * outfile : name of the output file. If None, the result is returned as a string.\n",
    "     "
   ]
  },
  {
   "cell_type": "code",
   "execution_count": 312,
   "metadata": {},
   "outputs": [
    {
     "data": {
      "image/svg+xml": [
       "<?xml version=\"1.0\" encoding=\"UTF-8\" standalone=\"no\"?>\r\n",
       "<!DOCTYPE svg PUBLIC \"-//W3C//DTD SVG 1.1//EN\"\r\n",
       " \"http://www.w3.org/Graphics/SVG/1.1/DTD/svg11.dtd\">\r\n",
       "<!-- Generated by graphviz version 2.38.0 (20140413.2041)\r\n",
       " -->\r\n",
       "<!-- Title: Tree Pages: 1 -->\r\n",
       "<svg width=\"2018pt\" height=\"789pt\"\r\n",
       " viewBox=\"0.00 0.00 2018.00 789.00\" xmlns=\"http://www.w3.org/2000/svg\" xmlns:xlink=\"http://www.w3.org/1999/xlink\">\r\n",
       "<g id=\"graph0\" class=\"graph\" transform=\"scale(1 1) rotate(0) translate(4 785)\">\r\n",
       "<title>Tree</title>\r\n",
       "<polygon fill=\"white\" stroke=\"none\" points=\"-4,4 -4,-785 2014,-785 2014,4 -4,4\"/>\r\n",
       "<!-- 0 -->\r\n",
       "<g id=\"node1\" class=\"node\"><title>0</title>\r\n",
       "<path fill=\"#f9e4d4\" stroke=\"black\" d=\"M1130.5,-781C1130.5,-781 1024.5,-781 1024.5,-781 1018.5,-781 1012.5,-775 1012.5,-769 1012.5,-769 1012.5,-725 1012.5,-725 1012.5,-719 1018.5,-713 1024.5,-713 1024.5,-713 1130.5,-713 1130.5,-713 1136.5,-713 1142.5,-719 1142.5,-725 1142.5,-725 1142.5,-769 1142.5,-769 1142.5,-775 1136.5,-781 1130.5,-781\"/>\r\n",
       "<text text-anchor=\"middle\" x=\"1077.5\" y=\"-765.8\" font-family=\"Helvetica,sans-Serif\" font-size=\"14.00\">Variance &lt;= 0.32</text>\r\n",
       "<text text-anchor=\"middle\" x=\"1077.5\" y=\"-750.8\" font-family=\"Helvetica,sans-Serif\" font-size=\"14.00\">gini = 0.493</text>\r\n",
       "<text text-anchor=\"middle\" x=\"1077.5\" y=\"-735.8\" font-family=\"Helvetica,sans-Serif\" font-size=\"14.00\">samples = 1097</text>\r\n",
       "<text text-anchor=\"middle\" x=\"1077.5\" y=\"-720.8\" font-family=\"Helvetica,sans-Serif\" font-size=\"14.00\">value = [615, 482]</text>\r\n",
       "</g>\r\n",
       "<!-- 1 -->\r\n",
       "<g id=\"node2\" class=\"node\"><title>1</title>\r\n",
       "<path fill=\"#68b4eb\" stroke=\"black\" d=\"M1037,-677C1037,-677 918,-677 918,-677 912,-677 906,-671 906,-665 906,-665 906,-621 906,-621 906,-615 912,-609 918,-609 918,-609 1037,-609 1037,-609 1043,-609 1049,-615 1049,-621 1049,-621 1049,-665 1049,-665 1049,-671 1043,-677 1037,-677\"/>\r\n",
       "<text text-anchor=\"middle\" x=\"977.5\" y=\"-661.8\" font-family=\"Helvetica,sans-Serif\" font-size=\"14.00\">Skewness &lt;= 7.764</text>\r\n",
       "<text text-anchor=\"middle\" x=\"977.5\" y=\"-646.8\" font-family=\"Helvetica,sans-Serif\" font-size=\"14.00\">gini = 0.311</text>\r\n",
       "<text text-anchor=\"middle\" x=\"977.5\" y=\"-631.8\" font-family=\"Helvetica,sans-Serif\" font-size=\"14.00\">samples = 519</text>\r\n",
       "<text text-anchor=\"middle\" x=\"977.5\" y=\"-616.8\" font-family=\"Helvetica,sans-Serif\" font-size=\"14.00\">value = [100, 419]</text>\r\n",
       "</g>\r\n",
       "<!-- 0&#45;&gt;1 -->\r\n",
       "<g id=\"edge1\" class=\"edge\"><title>0&#45;&gt;1</title>\r\n",
       "<path fill=\"none\" stroke=\"black\" d=\"M1045.03,-712.884C1036.21,-703.887 1026.56,-694.041 1017.38,-684.678\"/>\r\n",
       "<polygon fill=\"black\" stroke=\"black\" points=\"1019.65,-681.99 1010.15,-677.299 1014.65,-686.89 1019.65,-681.99\"/>\r\n",
       "<text text-anchor=\"middle\" x=\"1009.9\" y=\"-698.598\" font-family=\"Helvetica,sans-Serif\" font-size=\"14.00\">True</text>\r\n",
       "</g>\r\n",
       "<!-- 32 -->\r\n",
       "<g id=\"node33\" class=\"node\"><title>32</title>\r\n",
       "<path fill=\"#e89051\" stroke=\"black\" d=\"M1233.5,-677C1233.5,-677 1123.5,-677 1123.5,-677 1117.5,-677 1111.5,-671 1111.5,-665 1111.5,-665 1111.5,-621 1111.5,-621 1111.5,-615 1117.5,-609 1123.5,-609 1123.5,-609 1233.5,-609 1233.5,-609 1239.5,-609 1245.5,-615 1245.5,-621 1245.5,-621 1245.5,-665 1245.5,-665 1245.5,-671 1239.5,-677 1233.5,-677\"/>\r\n",
       "<text text-anchor=\"middle\" x=\"1178.5\" y=\"-661.8\" font-family=\"Helvetica,sans-Serif\" font-size=\"14.00\">Curtosis &lt;= &#45;4.386</text>\r\n",
       "<text text-anchor=\"middle\" x=\"1178.5\" y=\"-646.8\" font-family=\"Helvetica,sans-Serif\" font-size=\"14.00\">gini = 0.194</text>\r\n",
       "<text text-anchor=\"middle\" x=\"1178.5\" y=\"-631.8\" font-family=\"Helvetica,sans-Serif\" font-size=\"14.00\">samples = 578</text>\r\n",
       "<text text-anchor=\"middle\" x=\"1178.5\" y=\"-616.8\" font-family=\"Helvetica,sans-Serif\" font-size=\"14.00\">value = [515, 63]</text>\r\n",
       "</g>\r\n",
       "<!-- 0&#45;&gt;32 -->\r\n",
       "<g id=\"edge32\" class=\"edge\"><title>0&#45;&gt;32</title>\r\n",
       "<path fill=\"none\" stroke=\"black\" d=\"M1110.29,-712.884C1119.2,-703.887 1128.95,-694.041 1138.22,-684.678\"/>\r\n",
       "<polygon fill=\"black\" stroke=\"black\" points=\"1140.98,-686.868 1145.53,-677.299 1136,-681.943 1140.98,-686.868\"/>\r\n",
       "<text text-anchor=\"middle\" x=\"1145.65\" y=\"-698.599\" font-family=\"Helvetica,sans-Serif\" font-size=\"14.00\">False</text>\r\n",
       "</g>\r\n",
       "<!-- 2 -->\r\n",
       "<g id=\"node3\" class=\"node\"><title>2</title>\r\n",
       "<path fill=\"#4ba6e7\" stroke=\"black\" d=\"M802,-573C802,-573 689,-573 689,-573 683,-573 677,-567 677,-561 677,-561 677,-517 677,-517 677,-511 683,-505 689,-505 689,-505 802,-505 802,-505 808,-505 814,-511 814,-517 814,-517 814,-561 814,-561 814,-567 808,-573 802,-573\"/>\r\n",
       "<text text-anchor=\"middle\" x=\"745.5\" y=\"-557.8\" font-family=\"Helvetica,sans-Serif\" font-size=\"14.00\">Variance &lt;= &#45;0.459</text>\r\n",
       "<text text-anchor=\"middle\" x=\"745.5\" y=\"-542.8\" font-family=\"Helvetica,sans-Serif\" font-size=\"14.00\">gini = 0.15</text>\r\n",
       "<text text-anchor=\"middle\" x=\"745.5\" y=\"-527.8\" font-family=\"Helvetica,sans-Serif\" font-size=\"14.00\">samples = 442</text>\r\n",
       "<text text-anchor=\"middle\" x=\"745.5\" y=\"-512.8\" font-family=\"Helvetica,sans-Serif\" font-size=\"14.00\">value = [36, 406]</text>\r\n",
       "</g>\r\n",
       "<!-- 1&#45;&gt;2 -->\r\n",
       "<g id=\"edge2\" class=\"edge\"><title>1&#45;&gt;2</title>\r\n",
       "<path fill=\"none\" stroke=\"black\" d=\"M905.999,-610.564C879.917,-599.097 850.297,-586.075 823.665,-574.366\"/>\r\n",
       "<polygon fill=\"black\" stroke=\"black\" points=\"824.943,-571.104 814.38,-570.284 822.126,-577.512 824.943,-571.104\"/>\r\n",
       "</g>\r\n",
       "<!-- 29 -->\r\n",
       "<g id=\"node30\" class=\"node\"><title>29</title>\r\n",
       "<path fill=\"#ea9b61\" stroke=\"black\" d=\"M1034,-573C1034,-573 921,-573 921,-573 915,-573 909,-567 909,-561 909,-561 909,-517 909,-517 909,-511 915,-505 921,-505 921,-505 1034,-505 1034,-505 1040,-505 1046,-511 1046,-517 1046,-517 1046,-561 1046,-561 1046,-567 1040,-573 1034,-573\"/>\r\n",
       "<text text-anchor=\"middle\" x=\"977.5\" y=\"-557.8\" font-family=\"Helvetica,sans-Serif\" font-size=\"14.00\">Variance &lt;= &#45;4.726</text>\r\n",
       "<text text-anchor=\"middle\" x=\"977.5\" y=\"-542.8\" font-family=\"Helvetica,sans-Serif\" font-size=\"14.00\">gini = 0.281</text>\r\n",
       "<text text-anchor=\"middle\" x=\"977.5\" y=\"-527.8\" font-family=\"Helvetica,sans-Serif\" font-size=\"14.00\">samples = 77</text>\r\n",
       "<text text-anchor=\"middle\" x=\"977.5\" y=\"-512.8\" font-family=\"Helvetica,sans-Serif\" font-size=\"14.00\">value = [64, 13]</text>\r\n",
       "</g>\r\n",
       "<!-- 1&#45;&gt;29 -->\r\n",
       "<g id=\"edge29\" class=\"edge\"><title>1&#45;&gt;29</title>\r\n",
       "<path fill=\"none\" stroke=\"black\" d=\"M977.5,-608.884C977.5,-600.778 977.5,-591.982 977.5,-583.472\"/>\r\n",
       "<polygon fill=\"black\" stroke=\"black\" points=\"981,-583.299 977.5,-573.299 974,-583.299 981,-583.299\"/>\r\n",
       "</g>\r\n",
       "<!-- 3 -->\r\n",
       "<g id=\"node4\" class=\"node\"><title>3</title>\r\n",
       "<path fill=\"#41a1e6\" stroke=\"black\" d=\"M475.5,-469C475.5,-469 369.5,-469 369.5,-469 363.5,-469 357.5,-463 357.5,-457 357.5,-457 357.5,-413 357.5,-413 357.5,-407 363.5,-401 369.5,-401 369.5,-401 475.5,-401 475.5,-401 481.5,-401 487.5,-407 487.5,-413 487.5,-413 487.5,-457 487.5,-457 487.5,-463 481.5,-469 475.5,-469\"/>\r\n",
       "<text text-anchor=\"middle\" x=\"422.5\" y=\"-453.8\" font-family=\"Helvetica,sans-Serif\" font-size=\"14.00\">Curtosis &lt;= 6.219</text>\r\n",
       "<text text-anchor=\"middle\" x=\"422.5\" y=\"-438.8\" font-family=\"Helvetica,sans-Serif\" font-size=\"14.00\">gini = 0.077</text>\r\n",
       "<text text-anchor=\"middle\" x=\"422.5\" y=\"-423.8\" font-family=\"Helvetica,sans-Serif\" font-size=\"14.00\">samples = 373</text>\r\n",
       "<text text-anchor=\"middle\" x=\"422.5\" y=\"-408.8\" font-family=\"Helvetica,sans-Serif\" font-size=\"14.00\">value = [15, 358]</text>\r\n",
       "</g>\r\n",
       "<!-- 2&#45;&gt;3 -->\r\n",
       "<g id=\"edge3\" class=\"edge\"><title>2&#45;&gt;3</title>\r\n",
       "<path fill=\"none\" stroke=\"black\" d=\"M676.605,-516.244C623.908,-499.602 551.343,-476.687 497.246,-459.604\"/>\r\n",
       "<polygon fill=\"black\" stroke=\"black\" points=\"498.3,-456.267 487.71,-456.593 496.192,-462.942 498.3,-456.267\"/>\r\n",
       "</g>\r\n",
       "<!-- 16 -->\r\n",
       "<g id=\"node17\" class=\"node\"><title>16</title>\r\n",
       "<path fill=\"#90c8f0\" stroke=\"black\" d=\"M798.5,-469C798.5,-469 692.5,-469 692.5,-469 686.5,-469 680.5,-463 680.5,-457 680.5,-457 680.5,-413 680.5,-413 680.5,-407 686.5,-401 692.5,-401 692.5,-401 798.5,-401 798.5,-401 804.5,-401 810.5,-407 810.5,-413 810.5,-413 810.5,-457 810.5,-457 810.5,-463 804.5,-469 798.5,-469\"/>\r\n",
       "<text text-anchor=\"middle\" x=\"745.5\" y=\"-453.8\" font-family=\"Helvetica,sans-Serif\" font-size=\"14.00\">Curtosis &lt;= 0.297</text>\r\n",
       "<text text-anchor=\"middle\" x=\"745.5\" y=\"-438.8\" font-family=\"Helvetica,sans-Serif\" font-size=\"14.00\">gini = 0.423</text>\r\n",
       "<text text-anchor=\"middle\" x=\"745.5\" y=\"-423.8\" font-family=\"Helvetica,sans-Serif\" font-size=\"14.00\">samples = 69</text>\r\n",
       "<text text-anchor=\"middle\" x=\"745.5\" y=\"-408.8\" font-family=\"Helvetica,sans-Serif\" font-size=\"14.00\">value = [21, 48]</text>\r\n",
       "</g>\r\n",
       "<!-- 2&#45;&gt;16 -->\r\n",
       "<g id=\"edge16\" class=\"edge\"><title>2&#45;&gt;16</title>\r\n",
       "<path fill=\"none\" stroke=\"black\" d=\"M745.5,-504.884C745.5,-496.778 745.5,-487.982 745.5,-479.472\"/>\r\n",
       "<polygon fill=\"black\" stroke=\"black\" points=\"749,-479.299 745.5,-469.299 742,-479.299 749,-479.299\"/>\r\n",
       "</g>\r\n",
       "<!-- 4 -->\r\n",
       "<g id=\"node5\" class=\"node\"><title>4</title>\r\n",
       "<path fill=\"#3a9de5\" stroke=\"black\" d=\"M256,-365C256,-365 137,-365 137,-365 131,-365 125,-359 125,-353 125,-353 125,-309 125,-309 125,-303 131,-297 137,-297 137,-297 256,-297 256,-297 262,-297 268,-303 268,-309 268,-309 268,-353 268,-353 268,-359 262,-365 256,-365\"/>\r\n",
       "<text text-anchor=\"middle\" x=\"196.5\" y=\"-349.8\" font-family=\"Helvetica,sans-Serif\" font-size=\"14.00\">Skewness &lt;= 7.282</text>\r\n",
       "<text text-anchor=\"middle\" x=\"196.5\" y=\"-334.8\" font-family=\"Helvetica,sans-Serif\" font-size=\"14.00\">gini = 0.008</text>\r\n",
       "<text text-anchor=\"middle\" x=\"196.5\" y=\"-319.8\" font-family=\"Helvetica,sans-Serif\" font-size=\"14.00\">samples = 256</text>\r\n",
       "<text text-anchor=\"middle\" x=\"196.5\" y=\"-304.8\" font-family=\"Helvetica,sans-Serif\" font-size=\"14.00\">value = [1, 255]</text>\r\n",
       "</g>\r\n",
       "<!-- 3&#45;&gt;4 -->\r\n",
       "<g id=\"edge4\" class=\"edge\"><title>3&#45;&gt;4</title>\r\n",
       "<path fill=\"none\" stroke=\"black\" d=\"M357.435,-404.634C332.472,-393.368 303.679,-380.373 277.409,-368.516\"/>\r\n",
       "<polygon fill=\"black\" stroke=\"black\" points=\"278.787,-365.298 268.232,-364.375 275.907,-371.679 278.787,-365.298\"/>\r\n",
       "</g>\r\n",
       "<!-- 9 -->\r\n",
       "<g id=\"node10\" class=\"node\"><title>9</title>\r\n",
       "<path fill=\"#54aae9\" stroke=\"black\" d=\"M484,-365C484,-365 361,-365 361,-365 355,-365 349,-359 349,-353 349,-353 349,-309 349,-309 349,-303 355,-297 361,-297 361,-297 484,-297 484,-297 490,-297 496,-303 496,-309 496,-309 496,-353 496,-353 496,-359 490,-365 484,-365\"/>\r\n",
       "<text text-anchor=\"middle\" x=\"422.5\" y=\"-349.8\" font-family=\"Helvetica,sans-Serif\" font-size=\"14.00\">Skewness &lt;= &#45;4.675</text>\r\n",
       "<text text-anchor=\"middle\" x=\"422.5\" y=\"-334.8\" font-family=\"Helvetica,sans-Serif\" font-size=\"14.00\">gini = 0.211</text>\r\n",
       "<text text-anchor=\"middle\" x=\"422.5\" y=\"-319.8\" font-family=\"Helvetica,sans-Serif\" font-size=\"14.00\">samples = 117</text>\r\n",
       "<text text-anchor=\"middle\" x=\"422.5\" y=\"-304.8\" font-family=\"Helvetica,sans-Serif\" font-size=\"14.00\">value = [14, 103]</text>\r\n",
       "</g>\r\n",
       "<!-- 3&#45;&gt;9 -->\r\n",
       "<g id=\"edge9\" class=\"edge\"><title>3&#45;&gt;9</title>\r\n",
       "<path fill=\"none\" stroke=\"black\" d=\"M422.5,-400.884C422.5,-392.778 422.5,-383.982 422.5,-375.472\"/>\r\n",
       "<polygon fill=\"black\" stroke=\"black\" points=\"426,-375.299 422.5,-365.299 419,-375.299 426,-375.299\"/>\r\n",
       "</g>\r\n",
       "<!-- 5 -->\r\n",
       "<g id=\"node6\" class=\"node\"><title>5</title>\r\n",
       "<path fill=\"#399de5\" stroke=\"black\" d=\"M101,-253.5C101,-253.5 12,-253.5 12,-253.5 6,-253.5 0,-247.5 0,-241.5 0,-241.5 0,-212.5 0,-212.5 0,-206.5 6,-200.5 12,-200.5 12,-200.5 101,-200.5 101,-200.5 107,-200.5 113,-206.5 113,-212.5 113,-212.5 113,-241.5 113,-241.5 113,-247.5 107,-253.5 101,-253.5\"/>\r\n",
       "<text text-anchor=\"middle\" x=\"56.5\" y=\"-238.3\" font-family=\"Helvetica,sans-Serif\" font-size=\"14.00\">gini = 0.0</text>\r\n",
       "<text text-anchor=\"middle\" x=\"56.5\" y=\"-223.3\" font-family=\"Helvetica,sans-Serif\" font-size=\"14.00\">samples = 251</text>\r\n",
       "<text text-anchor=\"middle\" x=\"56.5\" y=\"-208.3\" font-family=\"Helvetica,sans-Serif\" font-size=\"14.00\">value = [0, 251]</text>\r\n",
       "</g>\r\n",
       "<!-- 4&#45;&gt;5 -->\r\n",
       "<g id=\"edge5\" class=\"edge\"><title>4&#45;&gt;5</title>\r\n",
       "<path fill=\"none\" stroke=\"black\" d=\"M151.046,-296.884C134.592,-284.896 116.067,-271.399 99.8032,-259.549\"/>\r\n",
       "<polygon fill=\"black\" stroke=\"black\" points=\"101.671,-256.58 91.5274,-253.52 97.5487,-262.237 101.671,-256.58\"/>\r\n",
       "</g>\r\n",
       "<!-- 6 -->\r\n",
       "<g id=\"node7\" class=\"node\"><title>6</title>\r\n",
       "<path fill=\"#6ab6ec\" stroke=\"black\" d=\"M250,-261C250,-261 143,-261 143,-261 137,-261 131,-255 131,-249 131,-249 131,-205 131,-205 131,-199 137,-193 143,-193 143,-193 250,-193 250,-193 256,-193 262,-199 262,-205 262,-205 262,-249 262,-249 262,-255 256,-261 250,-261\"/>\r\n",
       "<text text-anchor=\"middle\" x=\"196.5\" y=\"-245.8\" font-family=\"Helvetica,sans-Serif\" font-size=\"14.00\">Entropy &lt;= &#45;2.185</text>\r\n",
       "<text text-anchor=\"middle\" x=\"196.5\" y=\"-230.8\" font-family=\"Helvetica,sans-Serif\" font-size=\"14.00\">gini = 0.32</text>\r\n",
       "<text text-anchor=\"middle\" x=\"196.5\" y=\"-215.8\" font-family=\"Helvetica,sans-Serif\" font-size=\"14.00\">samples = 5</text>\r\n",
       "<text text-anchor=\"middle\" x=\"196.5\" y=\"-200.8\" font-family=\"Helvetica,sans-Serif\" font-size=\"14.00\">value = [1, 4]</text>\r\n",
       "</g>\r\n",
       "<!-- 4&#45;&gt;6 -->\r\n",
       "<g id=\"edge6\" class=\"edge\"><title>4&#45;&gt;6</title>\r\n",
       "<path fill=\"none\" stroke=\"black\" d=\"M196.5,-296.884C196.5,-288.778 196.5,-279.982 196.5,-271.472\"/>\r\n",
       "<polygon fill=\"black\" stroke=\"black\" points=\"200,-271.299 196.5,-261.299 193,-271.299 200,-271.299\"/>\r\n",
       "</g>\r\n",
       "<!-- 7 -->\r\n",
       "<g id=\"node8\" class=\"node\"><title>7</title>\r\n",
       "<path fill=\"#399de5\" stroke=\"black\" d=\"M175,-149.5C175,-149.5 102,-149.5 102,-149.5 96,-149.5 90,-143.5 90,-137.5 90,-137.5 90,-108.5 90,-108.5 90,-102.5 96,-96.5 102,-96.5 102,-96.5 175,-96.5 175,-96.5 181,-96.5 187,-102.5 187,-108.5 187,-108.5 187,-137.5 187,-137.5 187,-143.5 181,-149.5 175,-149.5\"/>\r\n",
       "<text text-anchor=\"middle\" x=\"138.5\" y=\"-134.3\" font-family=\"Helvetica,sans-Serif\" font-size=\"14.00\">gini = 0.0</text>\r\n",
       "<text text-anchor=\"middle\" x=\"138.5\" y=\"-119.3\" font-family=\"Helvetica,sans-Serif\" font-size=\"14.00\">samples = 4</text>\r\n",
       "<text text-anchor=\"middle\" x=\"138.5\" y=\"-104.3\" font-family=\"Helvetica,sans-Serif\" font-size=\"14.00\">value = [0, 4]</text>\r\n",
       "</g>\r\n",
       "<!-- 6&#45;&gt;7 -->\r\n",
       "<g id=\"edge7\" class=\"edge\"><title>6&#45;&gt;7</title>\r\n",
       "<path fill=\"none\" stroke=\"black\" d=\"M177.669,-192.884C171.415,-181.886 164.439,-169.617 158.127,-158.517\"/>\r\n",
       "<polygon fill=\"black\" stroke=\"black\" points=\"160.997,-156.483 153.011,-149.52 154.912,-159.943 160.997,-156.483\"/>\r\n",
       "</g>\r\n",
       "<!-- 8 -->\r\n",
       "<g id=\"node9\" class=\"node\"><title>8</title>\r\n",
       "<path fill=\"#e58139\" stroke=\"black\" d=\"M290,-149.5C290,-149.5 217,-149.5 217,-149.5 211,-149.5 205,-143.5 205,-137.5 205,-137.5 205,-108.5 205,-108.5 205,-102.5 211,-96.5 217,-96.5 217,-96.5 290,-96.5 290,-96.5 296,-96.5 302,-102.5 302,-108.5 302,-108.5 302,-137.5 302,-137.5 302,-143.5 296,-149.5 290,-149.5\"/>\r\n",
       "<text text-anchor=\"middle\" x=\"253.5\" y=\"-134.3\" font-family=\"Helvetica,sans-Serif\" font-size=\"14.00\">gini = 0.0</text>\r\n",
       "<text text-anchor=\"middle\" x=\"253.5\" y=\"-119.3\" font-family=\"Helvetica,sans-Serif\" font-size=\"14.00\">samples = 1</text>\r\n",
       "<text text-anchor=\"middle\" x=\"253.5\" y=\"-104.3\" font-family=\"Helvetica,sans-Serif\" font-size=\"14.00\">value = [1, 0]</text>\r\n",
       "</g>\r\n",
       "<!-- 6&#45;&gt;8 -->\r\n",
       "<g id=\"edge8\" class=\"edge\"><title>6&#45;&gt;8</title>\r\n",
       "<path fill=\"none\" stroke=\"black\" d=\"M215.006,-192.884C221.152,-181.886 228.008,-169.617 234.211,-158.517\"/>\r\n",
       "<polygon fill=\"black\" stroke=\"black\" points=\"237.416,-159.957 239.239,-149.52 231.305,-156.542 237.416,-159.957\"/>\r\n",
       "</g>\r\n",
       "<!-- 10 -->\r\n",
       "<g id=\"node11\" class=\"node\"><title>10</title>\r\n",
       "<path fill=\"#399de5\" stroke=\"black\" d=\"M381,-253.5C381,-253.5 292,-253.5 292,-253.5 286,-253.5 280,-247.5 280,-241.5 280,-241.5 280,-212.5 280,-212.5 280,-206.5 286,-200.5 292,-200.5 292,-200.5 381,-200.5 381,-200.5 387,-200.5 393,-206.5 393,-212.5 393,-212.5 393,-241.5 393,-241.5 393,-247.5 387,-253.5 381,-253.5\"/>\r\n",
       "<text text-anchor=\"middle\" x=\"336.5\" y=\"-238.3\" font-family=\"Helvetica,sans-Serif\" font-size=\"14.00\">gini = 0.0</text>\r\n",
       "<text text-anchor=\"middle\" x=\"336.5\" y=\"-223.3\" font-family=\"Helvetica,sans-Serif\" font-size=\"14.00\">samples = 102</text>\r\n",
       "<text text-anchor=\"middle\" x=\"336.5\" y=\"-208.3\" font-family=\"Helvetica,sans-Serif\" font-size=\"14.00\">value = [0, 102]</text>\r\n",
       "</g>\r\n",
       "<!-- 9&#45;&gt;10 -->\r\n",
       "<g id=\"edge10\" class=\"edge\"><title>9&#45;&gt;10</title>\r\n",
       "<path fill=\"none\" stroke=\"black\" d=\"M394.578,-296.884C384.935,-285.446 374.132,-272.634 364.484,-261.19\"/>\r\n",
       "<polygon fill=\"black\" stroke=\"black\" points=\"367.139,-258.909 358.017,-253.52 361.787,-263.421 367.139,-258.909\"/>\r\n",
       "</g>\r\n",
       "<!-- 11 -->\r\n",
       "<g id=\"node12\" class=\"node\"><title>11</title>\r\n",
       "<path fill=\"#e78a47\" stroke=\"black\" d=\"M546,-261C546,-261 423,-261 423,-261 417,-261 411,-255 411,-249 411,-249 411,-205 411,-205 411,-199 417,-193 423,-193 423,-193 546,-193 546,-193 552,-193 558,-199 558,-205 558,-205 558,-249 558,-249 558,-255 552,-261 546,-261\"/>\r\n",
       "<text text-anchor=\"middle\" x=\"484.5\" y=\"-245.8\" font-family=\"Helvetica,sans-Serif\" font-size=\"14.00\">Skewness &lt;= &#45;2.243</text>\r\n",
       "<text text-anchor=\"middle\" x=\"484.5\" y=\"-230.8\" font-family=\"Helvetica,sans-Serif\" font-size=\"14.00\">gini = 0.124</text>\r\n",
       "<text text-anchor=\"middle\" x=\"484.5\" y=\"-215.8\" font-family=\"Helvetica,sans-Serif\" font-size=\"14.00\">samples = 15</text>\r\n",
       "<text text-anchor=\"middle\" x=\"484.5\" y=\"-200.8\" font-family=\"Helvetica,sans-Serif\" font-size=\"14.00\">value = [14, 1]</text>\r\n",
       "</g>\r\n",
       "<!-- 9&#45;&gt;11 -->\r\n",
       "<g id=\"edge11\" class=\"edge\"><title>9&#45;&gt;11</title>\r\n",
       "<path fill=\"none\" stroke=\"black\" d=\"M442.63,-296.884C447.827,-288.332 453.492,-279.013 458.927,-270.072\"/>\r\n",
       "<polygon fill=\"black\" stroke=\"black\" points=\"462.056,-271.663 464.259,-261.299 456.074,-268.027 462.056,-271.663\"/>\r\n",
       "</g>\r\n",
       "<!-- 12 -->\r\n",
       "<g id=\"node13\" class=\"node\"><title>12</title>\r\n",
       "<path fill=\"#ffffff\" stroke=\"black\" d=\"M489,-157C489,-157 382,-157 382,-157 376,-157 370,-151 370,-145 370,-145 370,-101 370,-101 370,-95 376,-89 382,-89 382,-89 489,-89 489,-89 495,-89 501,-95 501,-101 501,-101 501,-145 501,-145 501,-151 495,-157 489,-157\"/>\r\n",
       "<text text-anchor=\"middle\" x=\"435.5\" y=\"-141.8\" font-family=\"Helvetica,sans-Serif\" font-size=\"14.00\">Entropy &lt;= &#45;1.383</text>\r\n",
       "<text text-anchor=\"middle\" x=\"435.5\" y=\"-126.8\" font-family=\"Helvetica,sans-Serif\" font-size=\"14.00\">gini = 0.5</text>\r\n",
       "<text text-anchor=\"middle\" x=\"435.5\" y=\"-111.8\" font-family=\"Helvetica,sans-Serif\" font-size=\"14.00\">samples = 2</text>\r\n",
       "<text text-anchor=\"middle\" x=\"435.5\" y=\"-96.8\" font-family=\"Helvetica,sans-Serif\" font-size=\"14.00\">value = [1, 1]</text>\r\n",
       "</g>\r\n",
       "<!-- 11&#45;&gt;12 -->\r\n",
       "<g id=\"edge12\" class=\"edge\"><title>11&#45;&gt;12</title>\r\n",
       "<path fill=\"none\" stroke=\"black\" d=\"M468.591,-192.884C464.526,-184.422 460.1,-175.207 455.845,-166.352\"/>\r\n",
       "<polygon fill=\"black\" stroke=\"black\" points=\"458.982,-164.798 451.497,-157.299 452.672,-167.829 458.982,-164.798\"/>\r\n",
       "</g>\r\n",
       "<!-- 15 -->\r\n",
       "<g id=\"node16\" class=\"node\"><title>15</title>\r\n",
       "<path fill=\"#e58139\" stroke=\"black\" d=\"M612,-149.5C612,-149.5 531,-149.5 531,-149.5 525,-149.5 519,-143.5 519,-137.5 519,-137.5 519,-108.5 519,-108.5 519,-102.5 525,-96.5 531,-96.5 531,-96.5 612,-96.5 612,-96.5 618,-96.5 624,-102.5 624,-108.5 624,-108.5 624,-137.5 624,-137.5 624,-143.5 618,-149.5 612,-149.5\"/>\r\n",
       "<text text-anchor=\"middle\" x=\"571.5\" y=\"-134.3\" font-family=\"Helvetica,sans-Serif\" font-size=\"14.00\">gini = 0.0</text>\r\n",
       "<text text-anchor=\"middle\" x=\"571.5\" y=\"-119.3\" font-family=\"Helvetica,sans-Serif\" font-size=\"14.00\">samples = 13</text>\r\n",
       "<text text-anchor=\"middle\" x=\"571.5\" y=\"-104.3\" font-family=\"Helvetica,sans-Serif\" font-size=\"14.00\">value = [13, 0]</text>\r\n",
       "</g>\r\n",
       "<!-- 11&#45;&gt;15 -->\r\n",
       "<g id=\"edge15\" class=\"edge\"><title>11&#45;&gt;15</title>\r\n",
       "<path fill=\"none\" stroke=\"black\" d=\"M512.746,-192.884C522.502,-181.446 533.43,-168.634 543.191,-157.19\"/>\r\n",
       "<polygon fill=\"black\" stroke=\"black\" points=\"545.906,-159.4 549.733,-149.52 540.581,-154.857 545.906,-159.4\"/>\r\n",
       "</g>\r\n",
       "<!-- 13 -->\r\n",
       "<g id=\"node14\" class=\"node\"><title>13</title>\r\n",
       "<path fill=\"#e58139\" stroke=\"black\" d=\"M415,-53C415,-53 342,-53 342,-53 336,-53 330,-47 330,-41 330,-41 330,-12 330,-12 330,-6 336,-0 342,-0 342,-0 415,-0 415,-0 421,-0 427,-6 427,-12 427,-12 427,-41 427,-41 427,-47 421,-53 415,-53\"/>\r\n",
       "<text text-anchor=\"middle\" x=\"378.5\" y=\"-37.8\" font-family=\"Helvetica,sans-Serif\" font-size=\"14.00\">gini = 0.0</text>\r\n",
       "<text text-anchor=\"middle\" x=\"378.5\" y=\"-22.8\" font-family=\"Helvetica,sans-Serif\" font-size=\"14.00\">samples = 1</text>\r\n",
       "<text text-anchor=\"middle\" x=\"378.5\" y=\"-7.8\" font-family=\"Helvetica,sans-Serif\" font-size=\"14.00\">value = [1, 0]</text>\r\n",
       "</g>\r\n",
       "<!-- 12&#45;&gt;13 -->\r\n",
       "<g id=\"edge13\" class=\"edge\"><title>12&#45;&gt;13</title>\r\n",
       "<path fill=\"none\" stroke=\"black\" d=\"M415.564,-88.9485C410.267,-80.1664 404.535,-70.6629 399.198,-61.815\"/>\r\n",
       "<polygon fill=\"black\" stroke=\"black\" points=\"402.186,-59.9919 394.024,-53.2367 396.192,-63.6074 402.186,-59.9919\"/>\r\n",
       "</g>\r\n",
       "<!-- 14 -->\r\n",
       "<g id=\"node15\" class=\"node\"><title>14</title>\r\n",
       "<path fill=\"#399de5\" stroke=\"black\" d=\"M530,-53C530,-53 457,-53 457,-53 451,-53 445,-47 445,-41 445,-41 445,-12 445,-12 445,-6 451,-0 457,-0 457,-0 530,-0 530,-0 536,-0 542,-6 542,-12 542,-12 542,-41 542,-41 542,-47 536,-53 530,-53\"/>\r\n",
       "<text text-anchor=\"middle\" x=\"493.5\" y=\"-37.8\" font-family=\"Helvetica,sans-Serif\" font-size=\"14.00\">gini = 0.0</text>\r\n",
       "<text text-anchor=\"middle\" x=\"493.5\" y=\"-22.8\" font-family=\"Helvetica,sans-Serif\" font-size=\"14.00\">samples = 1</text>\r\n",
       "<text text-anchor=\"middle\" x=\"493.5\" y=\"-7.8\" font-family=\"Helvetica,sans-Serif\" font-size=\"14.00\">value = [0, 1]</text>\r\n",
       "</g>\r\n",
       "<!-- 12&#45;&gt;14 -->\r\n",
       "<g id=\"edge14\" class=\"edge\"><title>12&#45;&gt;14</title>\r\n",
       "<path fill=\"none\" stroke=\"black\" d=\"M455.786,-88.9485C461.176,-80.1664 467.008,-70.6629 472.439,-61.815\"/>\r\n",
       "<polygon fill=\"black\" stroke=\"black\" points=\"475.456,-63.5903 477.704,-53.2367 469.49,-59.9287 475.456,-63.5903\"/>\r\n",
       "</g>\r\n",
       "<!-- 17 -->\r\n",
       "<g id=\"node18\" class=\"node\"><title>17</title>\r\n",
       "<path fill=\"#44a2e6\" stroke=\"black\" d=\"M797,-365C797,-365 678,-365 678,-365 672,-365 666,-359 666,-353 666,-353 666,-309 666,-309 666,-303 672,-297 678,-297 678,-297 797,-297 797,-297 803,-297 809,-303 809,-309 809,-309 809,-353 809,-353 809,-359 803,-365 797,-365\"/>\r\n",
       "<text text-anchor=\"middle\" x=\"737.5\" y=\"-349.8\" font-family=\"Helvetica,sans-Serif\" font-size=\"14.00\">Skewness &lt;= 6.031</text>\r\n",
       "<text text-anchor=\"middle\" x=\"737.5\" y=\"-334.8\" font-family=\"Helvetica,sans-Serif\" font-size=\"14.00\">gini = 0.097</text>\r\n",
       "<text text-anchor=\"middle\" x=\"737.5\" y=\"-319.8\" font-family=\"Helvetica,sans-Serif\" font-size=\"14.00\">samples = 39</text>\r\n",
       "<text text-anchor=\"middle\" x=\"737.5\" y=\"-304.8\" font-family=\"Helvetica,sans-Serif\" font-size=\"14.00\">value = [2, 37]</text>\r\n",
       "</g>\r\n",
       "<!-- 16&#45;&gt;17 -->\r\n",
       "<g id=\"edge17\" class=\"edge\"><title>16&#45;&gt;17</title>\r\n",
       "<path fill=\"none\" stroke=\"black\" d=\"M742.903,-400.884C742.267,-392.778 741.577,-383.982 740.91,-375.472\"/>\r\n",
       "<polygon fill=\"black\" stroke=\"black\" points=\"744.383,-374.995 740.112,-365.299 737.404,-375.542 744.383,-374.995\"/>\r\n",
       "</g>\r\n",
       "<!-- 20 -->\r\n",
       "<g id=\"node21\" class=\"node\"><title>20</title>\r\n",
       "<path fill=\"#f4caac\" stroke=\"black\" d=\"M941.5,-365C941.5,-365 839.5,-365 839.5,-365 833.5,-365 827.5,-359 827.5,-353 827.5,-353 827.5,-309 827.5,-309 827.5,-303 833.5,-297 839.5,-297 839.5,-297 941.5,-297 941.5,-297 947.5,-297 953.5,-303 953.5,-309 953.5,-309 953.5,-353 953.5,-353 953.5,-359 947.5,-365 941.5,-365\"/>\r\n",
       "<text text-anchor=\"middle\" x=\"890.5\" y=\"-349.8\" font-family=\"Helvetica,sans-Serif\" font-size=\"14.00\">Entropy &lt;= 0.688</text>\r\n",
       "<text text-anchor=\"middle\" x=\"890.5\" y=\"-334.8\" font-family=\"Helvetica,sans-Serif\" font-size=\"14.00\">gini = 0.464</text>\r\n",
       "<text text-anchor=\"middle\" x=\"890.5\" y=\"-319.8\" font-family=\"Helvetica,sans-Serif\" font-size=\"14.00\">samples = 30</text>\r\n",
       "<text text-anchor=\"middle\" x=\"890.5\" y=\"-304.8\" font-family=\"Helvetica,sans-Serif\" font-size=\"14.00\">value = [19, 11]</text>\r\n",
       "</g>\r\n",
       "<!-- 16&#45;&gt;20 -->\r\n",
       "<g id=\"edge20\" class=\"edge\"><title>16&#45;&gt;20</title>\r\n",
       "<path fill=\"none\" stroke=\"black\" d=\"M792.577,-400.884C806,-391.442 820.753,-381.064 834.644,-371.292\"/>\r\n",
       "<polygon fill=\"black\" stroke=\"black\" points=\"836.997,-373.916 843.163,-365.299 832.97,-368.19 836.997,-373.916\"/>\r\n",
       "</g>\r\n",
       "<!-- 18 -->\r\n",
       "<g id=\"node19\" class=\"node\"><title>18</title>\r\n",
       "<path fill=\"#399de5\" stroke=\"black\" d=\"M669,-253.5C669,-253.5 588,-253.5 588,-253.5 582,-253.5 576,-247.5 576,-241.5 576,-241.5 576,-212.5 576,-212.5 576,-206.5 582,-200.5 588,-200.5 588,-200.5 669,-200.5 669,-200.5 675,-200.5 681,-206.5 681,-212.5 681,-212.5 681,-241.5 681,-241.5 681,-247.5 675,-253.5 669,-253.5\"/>\r\n",
       "<text text-anchor=\"middle\" x=\"628.5\" y=\"-238.3\" font-family=\"Helvetica,sans-Serif\" font-size=\"14.00\">gini = 0.0</text>\r\n",
       "<text text-anchor=\"middle\" x=\"628.5\" y=\"-223.3\" font-family=\"Helvetica,sans-Serif\" font-size=\"14.00\">samples = 37</text>\r\n",
       "<text text-anchor=\"middle\" x=\"628.5\" y=\"-208.3\" font-family=\"Helvetica,sans-Serif\" font-size=\"14.00\">value = [0, 37]</text>\r\n",
       "</g>\r\n",
       "<!-- 17&#45;&gt;18 -->\r\n",
       "<g id=\"edge18\" class=\"edge\"><title>17&#45;&gt;18</title>\r\n",
       "<path fill=\"none\" stroke=\"black\" d=\"M702.111,-296.884C689.653,-285.226 675.67,-272.141 663.264,-260.532\"/>\r\n",
       "<polygon fill=\"black\" stroke=\"black\" points=\"665.464,-257.797 655.771,-253.52 660.681,-262.908 665.464,-257.797\"/>\r\n",
       "</g>\r\n",
       "<!-- 19 -->\r\n",
       "<g id=\"node20\" class=\"node\"><title>19</title>\r\n",
       "<path fill=\"#e58139\" stroke=\"black\" d=\"M784,-253.5C784,-253.5 711,-253.5 711,-253.5 705,-253.5 699,-247.5 699,-241.5 699,-241.5 699,-212.5 699,-212.5 699,-206.5 705,-200.5 711,-200.5 711,-200.5 784,-200.5 784,-200.5 790,-200.5 796,-206.5 796,-212.5 796,-212.5 796,-241.5 796,-241.5 796,-247.5 790,-253.5 784,-253.5\"/>\r\n",
       "<text text-anchor=\"middle\" x=\"747.5\" y=\"-238.3\" font-family=\"Helvetica,sans-Serif\" font-size=\"14.00\">gini = 0.0</text>\r\n",
       "<text text-anchor=\"middle\" x=\"747.5\" y=\"-223.3\" font-family=\"Helvetica,sans-Serif\" font-size=\"14.00\">samples = 2</text>\r\n",
       "<text text-anchor=\"middle\" x=\"747.5\" y=\"-208.3\" font-family=\"Helvetica,sans-Serif\" font-size=\"14.00\">value = [2, 0]</text>\r\n",
       "</g>\r\n",
       "<!-- 17&#45;&gt;19 -->\r\n",
       "<g id=\"edge19\" class=\"edge\"><title>17&#45;&gt;19</title>\r\n",
       "<path fill=\"none\" stroke=\"black\" d=\"M740.747,-296.884C741.793,-286.216 742.956,-274.352 744.018,-263.519\"/>\r\n",
       "<polygon fill=\"black\" stroke=\"black\" points=\"747.506,-263.814 744.998,-253.52 740.539,-263.131 747.506,-263.814\"/>\r\n",
       "</g>\r\n",
       "<!-- 21 -->\r\n",
       "<g id=\"node22\" class=\"node\"><title>21</title>\r\n",
       "<path fill=\"#e89050\" stroke=\"black\" d=\"M935,-261C935,-261 826,-261 826,-261 820,-261 814,-255 814,-249 814,-249 814,-205 814,-205 814,-199 820,-193 826,-193 826,-193 935,-193 935,-193 941,-193 947,-199 947,-205 947,-205 947,-249 947,-249 947,-255 941,-261 935,-261\"/>\r\n",
       "<text text-anchor=\"middle\" x=\"880.5\" y=\"-245.8\" font-family=\"Helvetica,sans-Serif\" font-size=\"14.00\">Variance &lt;= 0.096</text>\r\n",
       "<text text-anchor=\"middle\" x=\"880.5\" y=\"-230.8\" font-family=\"Helvetica,sans-Serif\" font-size=\"14.00\">gini = 0.188</text>\r\n",
       "<text text-anchor=\"middle\" x=\"880.5\" y=\"-215.8\" font-family=\"Helvetica,sans-Serif\" font-size=\"14.00\">samples = 19</text>\r\n",
       "<text text-anchor=\"middle\" x=\"880.5\" y=\"-200.8\" font-family=\"Helvetica,sans-Serif\" font-size=\"14.00\">value = [17, 2]</text>\r\n",
       "</g>\r\n",
       "<!-- 20&#45;&gt;21 -->\r\n",
       "<g id=\"edge21\" class=\"edge\"><title>20&#45;&gt;21</title>\r\n",
       "<path fill=\"none\" stroke=\"black\" d=\"M887.253,-296.884C886.459,-288.778 885.596,-279.982 884.762,-271.472\"/>\r\n",
       "<polygon fill=\"black\" stroke=\"black\" points=\"888.224,-270.91 883.765,-261.299 881.257,-271.593 888.224,-270.91\"/>\r\n",
       "</g>\r\n",
       "<!-- 26 -->\r\n",
       "<g id=\"node27\" class=\"node\"><title>26</title>\r\n",
       "<path fill=\"#65b3eb\" stroke=\"black\" d=\"M1083.5,-261C1083.5,-261 977.5,-261 977.5,-261 971.5,-261 965.5,-255 965.5,-249 965.5,-249 965.5,-205 965.5,-205 965.5,-199 971.5,-193 977.5,-193 977.5,-193 1083.5,-193 1083.5,-193 1089.5,-193 1095.5,-199 1095.5,-205 1095.5,-205 1095.5,-249 1095.5,-249 1095.5,-255 1089.5,-261 1083.5,-261\"/>\r\n",
       "<text text-anchor=\"middle\" x=\"1030.5\" y=\"-245.8\" font-family=\"Helvetica,sans-Serif\" font-size=\"14.00\">Curtosis &lt;= 6.251</text>\r\n",
       "<text text-anchor=\"middle\" x=\"1030.5\" y=\"-230.8\" font-family=\"Helvetica,sans-Serif\" font-size=\"14.00\">gini = 0.298</text>\r\n",
       "<text text-anchor=\"middle\" x=\"1030.5\" y=\"-215.8\" font-family=\"Helvetica,sans-Serif\" font-size=\"14.00\">samples = 11</text>\r\n",
       "<text text-anchor=\"middle\" x=\"1030.5\" y=\"-200.8\" font-family=\"Helvetica,sans-Serif\" font-size=\"14.00\">value = [2, 9]</text>\r\n",
       "</g>\r\n",
       "<!-- 20&#45;&gt;26 -->\r\n",
       "<g id=\"edge26\" class=\"edge\"><title>20&#45;&gt;26</title>\r\n",
       "<path fill=\"none\" stroke=\"black\" d=\"M935.954,-296.884C948.913,-287.442 963.158,-277.064 976.57,-267.292\"/>\r\n",
       "<polygon fill=\"black\" stroke=\"black\" points=\"978.774,-270.017 984.795,-261.299 974.652,-264.359 978.774,-270.017\"/>\r\n",
       "</g>\r\n",
       "<!-- 22 -->\r\n",
       "<g id=\"node23\" class=\"node\"><title>22</title>\r\n",
       "<path fill=\"#e58139\" stroke=\"black\" d=\"M790,-149.5C790,-149.5 709,-149.5 709,-149.5 703,-149.5 697,-143.5 697,-137.5 697,-137.5 697,-108.5 697,-108.5 697,-102.5 703,-96.5 709,-96.5 709,-96.5 790,-96.5 790,-96.5 796,-96.5 802,-102.5 802,-108.5 802,-108.5 802,-137.5 802,-137.5 802,-143.5 796,-149.5 790,-149.5\"/>\r\n",
       "<text text-anchor=\"middle\" x=\"749.5\" y=\"-134.3\" font-family=\"Helvetica,sans-Serif\" font-size=\"14.00\">gini = 0.0</text>\r\n",
       "<text text-anchor=\"middle\" x=\"749.5\" y=\"-119.3\" font-family=\"Helvetica,sans-Serif\" font-size=\"14.00\">samples = 16</text>\r\n",
       "<text text-anchor=\"middle\" x=\"749.5\" y=\"-104.3\" font-family=\"Helvetica,sans-Serif\" font-size=\"14.00\">value = [16, 0]</text>\r\n",
       "</g>\r\n",
       "<!-- 21&#45;&gt;22 -->\r\n",
       "<g id=\"edge22\" class=\"edge\"><title>21&#45;&gt;22</title>\r\n",
       "<path fill=\"none\" stroke=\"black\" d=\"M837.968,-192.884C822.713,-181.006 805.556,-167.646 790.439,-155.876\"/>\r\n",
       "<polygon fill=\"black\" stroke=\"black\" points=\"792.316,-152.902 782.276,-149.52 788.016,-158.425 792.316,-152.902\"/>\r\n",
       "</g>\r\n",
       "<!-- 23 -->\r\n",
       "<g id=\"node24\" class=\"node\"><title>23</title>\r\n",
       "<path fill=\"#9ccef2\" stroke=\"black\" d=\"M939,-157C939,-157 832,-157 832,-157 826,-157 820,-151 820,-145 820,-145 820,-101 820,-101 820,-95 826,-89 832,-89 832,-89 939,-89 939,-89 945,-89 951,-95 951,-101 951,-101 951,-145 951,-145 951,-151 945,-157 939,-157\"/>\r\n",
       "<text text-anchor=\"middle\" x=\"885.5\" y=\"-141.8\" font-family=\"Helvetica,sans-Serif\" font-size=\"14.00\">Entropy &lt;= &#45;0.288</text>\r\n",
       "<text text-anchor=\"middle\" x=\"885.5\" y=\"-126.8\" font-family=\"Helvetica,sans-Serif\" font-size=\"14.00\">gini = 0.444</text>\r\n",
       "<text text-anchor=\"middle\" x=\"885.5\" y=\"-111.8\" font-family=\"Helvetica,sans-Serif\" font-size=\"14.00\">samples = 3</text>\r\n",
       "<text text-anchor=\"middle\" x=\"885.5\" y=\"-96.8\" font-family=\"Helvetica,sans-Serif\" font-size=\"14.00\">value = [1, 2]</text>\r\n",
       "</g>\r\n",
       "<!-- 21&#45;&gt;23 -->\r\n",
       "<g id=\"edge23\" class=\"edge\"><title>21&#45;&gt;23</title>\r\n",
       "<path fill=\"none\" stroke=\"black\" d=\"M882.123,-192.884C882.521,-184.778 882.952,-175.982 883.369,-167.472\"/>\r\n",
       "<polygon fill=\"black\" stroke=\"black\" points=\"886.874,-167.459 883.868,-157.299 879.882,-167.116 886.874,-167.459\"/>\r\n",
       "</g>\r\n",
       "<!-- 24 -->\r\n",
       "<g id=\"node25\" class=\"node\"><title>24</title>\r\n",
       "<path fill=\"#e58139\" stroke=\"black\" d=\"M864,-53C864,-53 791,-53 791,-53 785,-53 779,-47 779,-41 779,-41 779,-12 779,-12 779,-6 785,-0 791,-0 791,-0 864,-0 864,-0 870,-0 876,-6 876,-12 876,-12 876,-41 876,-41 876,-47 870,-53 864,-53\"/>\r\n",
       "<text text-anchor=\"middle\" x=\"827.5\" y=\"-37.8\" font-family=\"Helvetica,sans-Serif\" font-size=\"14.00\">gini = 0.0</text>\r\n",
       "<text text-anchor=\"middle\" x=\"827.5\" y=\"-22.8\" font-family=\"Helvetica,sans-Serif\" font-size=\"14.00\">samples = 1</text>\r\n",
       "<text text-anchor=\"middle\" x=\"827.5\" y=\"-7.8\" font-family=\"Helvetica,sans-Serif\" font-size=\"14.00\">value = [1, 0]</text>\r\n",
       "</g>\r\n",
       "<!-- 23&#45;&gt;24 -->\r\n",
       "<g id=\"edge24\" class=\"edge\"><title>23&#45;&gt;24</title>\r\n",
       "<path fill=\"none\" stroke=\"black\" d=\"M865.214,-88.9485C859.824,-80.1664 853.992,-70.6629 848.561,-61.815\"/>\r\n",
       "<polygon fill=\"black\" stroke=\"black\" points=\"851.51,-59.9287 843.296,-53.2367 845.544,-63.5903 851.51,-59.9287\"/>\r\n",
       "</g>\r\n",
       "<!-- 25 -->\r\n",
       "<g id=\"node26\" class=\"node\"><title>25</title>\r\n",
       "<path fill=\"#399de5\" stroke=\"black\" d=\"M979,-53C979,-53 906,-53 906,-53 900,-53 894,-47 894,-41 894,-41 894,-12 894,-12 894,-6 900,-0 906,-0 906,-0 979,-0 979,-0 985,-0 991,-6 991,-12 991,-12 991,-41 991,-41 991,-47 985,-53 979,-53\"/>\r\n",
       "<text text-anchor=\"middle\" x=\"942.5\" y=\"-37.8\" font-family=\"Helvetica,sans-Serif\" font-size=\"14.00\">gini = 0.0</text>\r\n",
       "<text text-anchor=\"middle\" x=\"942.5\" y=\"-22.8\" font-family=\"Helvetica,sans-Serif\" font-size=\"14.00\">samples = 2</text>\r\n",
       "<text text-anchor=\"middle\" x=\"942.5\" y=\"-7.8\" font-family=\"Helvetica,sans-Serif\" font-size=\"14.00\">value = [0, 2]</text>\r\n",
       "</g>\r\n",
       "<!-- 23&#45;&gt;25 -->\r\n",
       "<g id=\"edge25\" class=\"edge\"><title>23&#45;&gt;25</title>\r\n",
       "<path fill=\"none\" stroke=\"black\" d=\"M905.436,-88.9485C910.733,-80.1664 916.465,-70.6629 921.802,-61.815\"/>\r\n",
       "<polygon fill=\"black\" stroke=\"black\" points=\"924.808,-63.6074 926.976,-53.2367 918.814,-59.9919 924.808,-63.6074\"/>\r\n",
       "</g>\r\n",
       "<!-- 27 -->\r\n",
       "<g id=\"node28\" class=\"node\"><title>27</title>\r\n",
       "<path fill=\"#399de5\" stroke=\"black\" d=\"M1063,-149.5C1063,-149.5 990,-149.5 990,-149.5 984,-149.5 978,-143.5 978,-137.5 978,-137.5 978,-108.5 978,-108.5 978,-102.5 984,-96.5 990,-96.5 990,-96.5 1063,-96.5 1063,-96.5 1069,-96.5 1075,-102.5 1075,-108.5 1075,-108.5 1075,-137.5 1075,-137.5 1075,-143.5 1069,-149.5 1063,-149.5\"/>\r\n",
       "<text text-anchor=\"middle\" x=\"1026.5\" y=\"-134.3\" font-family=\"Helvetica,sans-Serif\" font-size=\"14.00\">gini = 0.0</text>\r\n",
       "<text text-anchor=\"middle\" x=\"1026.5\" y=\"-119.3\" font-family=\"Helvetica,sans-Serif\" font-size=\"14.00\">samples = 9</text>\r\n",
       "<text text-anchor=\"middle\" x=\"1026.5\" y=\"-104.3\" font-family=\"Helvetica,sans-Serif\" font-size=\"14.00\">value = [0, 9]</text>\r\n",
       "</g>\r\n",
       "<!-- 26&#45;&gt;27 -->\r\n",
       "<g id=\"edge27\" class=\"edge\"><title>26&#45;&gt;27</title>\r\n",
       "<path fill=\"none\" stroke=\"black\" d=\"M1029.2,-192.884C1028.78,-182.216 1028.32,-170.352 1027.89,-159.519\"/>\r\n",
       "<polygon fill=\"black\" stroke=\"black\" points=\"1031.39,-159.375 1027.5,-149.52 1024.4,-159.649 1031.39,-159.375\"/>\r\n",
       "</g>\r\n",
       "<!-- 28 -->\r\n",
       "<g id=\"node29\" class=\"node\"><title>28</title>\r\n",
       "<path fill=\"#e58139\" stroke=\"black\" d=\"M1178,-149.5C1178,-149.5 1105,-149.5 1105,-149.5 1099,-149.5 1093,-143.5 1093,-137.5 1093,-137.5 1093,-108.5 1093,-108.5 1093,-102.5 1099,-96.5 1105,-96.5 1105,-96.5 1178,-96.5 1178,-96.5 1184,-96.5 1190,-102.5 1190,-108.5 1190,-108.5 1190,-137.5 1190,-137.5 1190,-143.5 1184,-149.5 1178,-149.5\"/>\r\n",
       "<text text-anchor=\"middle\" x=\"1141.5\" y=\"-134.3\" font-family=\"Helvetica,sans-Serif\" font-size=\"14.00\">gini = 0.0</text>\r\n",
       "<text text-anchor=\"middle\" x=\"1141.5\" y=\"-119.3\" font-family=\"Helvetica,sans-Serif\" font-size=\"14.00\">samples = 2</text>\r\n",
       "<text text-anchor=\"middle\" x=\"1141.5\" y=\"-104.3\" font-family=\"Helvetica,sans-Serif\" font-size=\"14.00\">value = [2, 0]</text>\r\n",
       "</g>\r\n",
       "<!-- 26&#45;&gt;28 -->\r\n",
       "<g id=\"edge28\" class=\"edge\"><title>26&#45;&gt;28</title>\r\n",
       "<path fill=\"none\" stroke=\"black\" d=\"M1066.54,-192.884C1079.22,-181.226 1093.46,-168.141 1106.1,-156.532\"/>\r\n",
       "<polygon fill=\"black\" stroke=\"black\" points=\"1108.73,-158.863 1113.73,-149.52 1104,-153.709 1108.73,-158.863\"/>\r\n",
       "</g>\r\n",
       "<!-- 30 -->\r\n",
       "<g id=\"node31\" class=\"node\"><title>30</title>\r\n",
       "<path fill=\"#399de5\" stroke=\"black\" d=\"M926,-461.5C926,-461.5 845,-461.5 845,-461.5 839,-461.5 833,-455.5 833,-449.5 833,-449.5 833,-420.5 833,-420.5 833,-414.5 839,-408.5 845,-408.5 845,-408.5 926,-408.5 926,-408.5 932,-408.5 938,-414.5 938,-420.5 938,-420.5 938,-449.5 938,-449.5 938,-455.5 932,-461.5 926,-461.5\"/>\r\n",
       "<text text-anchor=\"middle\" x=\"885.5\" y=\"-446.3\" font-family=\"Helvetica,sans-Serif\" font-size=\"14.00\">gini = 0.0</text>\r\n",
       "<text text-anchor=\"middle\" x=\"885.5\" y=\"-431.3\" font-family=\"Helvetica,sans-Serif\" font-size=\"14.00\">samples = 13</text>\r\n",
       "<text text-anchor=\"middle\" x=\"885.5\" y=\"-416.3\" font-family=\"Helvetica,sans-Serif\" font-size=\"14.00\">value = [0, 13]</text>\r\n",
       "</g>\r\n",
       "<!-- 29&#45;&gt;30 -->\r\n",
       "<g id=\"edge30\" class=\"edge\"><title>29&#45;&gt;30</title>\r\n",
       "<path fill=\"none\" stroke=\"black\" d=\"M947.63,-504.884C937.314,-493.446 925.758,-480.634 915.436,-469.19\"/>\r\n",
       "<polygon fill=\"black\" stroke=\"black\" points=\"917.815,-466.601 908.518,-461.52 912.617,-471.29 917.815,-466.601\"/>\r\n",
       "</g>\r\n",
       "<!-- 31 -->\r\n",
       "<g id=\"node32\" class=\"node\"><title>31</title>\r\n",
       "<path fill=\"#e58139\" stroke=\"black\" d=\"M1049,-461.5C1049,-461.5 968,-461.5 968,-461.5 962,-461.5 956,-455.5 956,-449.5 956,-449.5 956,-420.5 956,-420.5 956,-414.5 962,-408.5 968,-408.5 968,-408.5 1049,-408.5 1049,-408.5 1055,-408.5 1061,-414.5 1061,-420.5 1061,-420.5 1061,-449.5 1061,-449.5 1061,-455.5 1055,-461.5 1049,-461.5\"/>\r\n",
       "<text text-anchor=\"middle\" x=\"1008.5\" y=\"-446.3\" font-family=\"Helvetica,sans-Serif\" font-size=\"14.00\">gini = 0.0</text>\r\n",
       "<text text-anchor=\"middle\" x=\"1008.5\" y=\"-431.3\" font-family=\"Helvetica,sans-Serif\" font-size=\"14.00\">samples = 64</text>\r\n",
       "<text text-anchor=\"middle\" x=\"1008.5\" y=\"-416.3\" font-family=\"Helvetica,sans-Serif\" font-size=\"14.00\">value = [64, 0]</text>\r\n",
       "</g>\r\n",
       "<!-- 29&#45;&gt;31 -->\r\n",
       "<g id=\"edge31\" class=\"edge\"><title>29&#45;&gt;31</title>\r\n",
       "<path fill=\"none\" stroke=\"black\" d=\"M987.565,-504.884C990.84,-494.106 994.487,-482.108 997.807,-471.184\"/>\r\n",
       "<polygon fill=\"black\" stroke=\"black\" points=\"1001.18,-472.106 1000.74,-461.52 994.487,-470.07 1001.18,-472.106\"/>\r\n",
       "</g>\r\n",
       "<!-- 33 -->\r\n",
       "<g id=\"node34\" class=\"node\"><title>33</title>\r\n",
       "<path fill=\"#70b8ec\" stroke=\"black\" d=\"M1238,-573C1238,-573 1119,-573 1119,-573 1113,-573 1107,-567 1107,-561 1107,-561 1107,-517 1107,-517 1107,-511 1113,-505 1119,-505 1119,-505 1238,-505 1238,-505 1244,-505 1250,-511 1250,-517 1250,-517 1250,-561 1250,-561 1250,-567 1244,-573 1238,-573\"/>\r\n",
       "<text text-anchor=\"middle\" x=\"1178.5\" y=\"-557.8\" font-family=\"Helvetica,sans-Serif\" font-size=\"14.00\">Skewness &lt;= 7.335</text>\r\n",
       "<text text-anchor=\"middle\" x=\"1178.5\" y=\"-542.8\" font-family=\"Helvetica,sans-Serif\" font-size=\"14.00\">gini = 0.342</text>\r\n",
       "<text text-anchor=\"middle\" x=\"1178.5\" y=\"-527.8\" font-family=\"Helvetica,sans-Serif\" font-size=\"14.00\">samples = 32</text>\r\n",
       "<text text-anchor=\"middle\" x=\"1178.5\" y=\"-512.8\" font-family=\"Helvetica,sans-Serif\" font-size=\"14.00\">value = [7, 25]</text>\r\n",
       "</g>\r\n",
       "<!-- 32&#45;&gt;33 -->\r\n",
       "<g id=\"edge33\" class=\"edge\"><title>32&#45;&gt;33</title>\r\n",
       "<path fill=\"none\" stroke=\"black\" d=\"M1178.5,-608.884C1178.5,-600.778 1178.5,-591.982 1178.5,-583.472\"/>\r\n",
       "<polygon fill=\"black\" stroke=\"black\" points=\"1182,-583.299 1178.5,-573.299 1175,-583.299 1182,-583.299\"/>\r\n",
       "</g>\r\n",
       "<!-- 36 -->\r\n",
       "<g id=\"node37\" class=\"node\"><title>36</title>\r\n",
       "<path fill=\"#e78a48\" stroke=\"black\" d=\"M1472,-573C1472,-573 1363,-573 1363,-573 1357,-573 1351,-567 1351,-561 1351,-561 1351,-517 1351,-517 1351,-511 1357,-505 1363,-505 1363,-505 1472,-505 1472,-505 1478,-505 1484,-511 1484,-517 1484,-517 1484,-561 1484,-561 1484,-567 1478,-573 1472,-573\"/>\r\n",
       "<text text-anchor=\"middle\" x=\"1417.5\" y=\"-557.8\" font-family=\"Helvetica,sans-Serif\" font-size=\"14.00\">Variance &lt;= 1.592</text>\r\n",
       "<text text-anchor=\"middle\" x=\"1417.5\" y=\"-542.8\" font-family=\"Helvetica,sans-Serif\" font-size=\"14.00\">gini = 0.13</text>\r\n",
       "<text text-anchor=\"middle\" x=\"1417.5\" y=\"-527.8\" font-family=\"Helvetica,sans-Serif\" font-size=\"14.00\">samples = 546</text>\r\n",
       "<text text-anchor=\"middle\" x=\"1417.5\" y=\"-512.8\" font-family=\"Helvetica,sans-Serif\" font-size=\"14.00\">value = [508, 38]</text>\r\n",
       "</g>\r\n",
       "<!-- 32&#45;&gt;36 -->\r\n",
       "<g id=\"edge36\" class=\"edge\"><title>32&#45;&gt;36</title>\r\n",
       "<path fill=\"none\" stroke=\"black\" d=\"M1245.71,-613.316C1275.49,-600.607 1310.67,-585.594 1341.41,-572.475\"/>\r\n",
       "<polygon fill=\"black\" stroke=\"black\" points=\"1342.97,-575.613 1350.79,-568.469 1340.22,-569.175 1342.97,-575.613\"/>\r\n",
       "</g>\r\n",
       "<!-- 34 -->\r\n",
       "<g id=\"node35\" class=\"node\"><title>34</title>\r\n",
       "<path fill=\"#399de5\" stroke=\"black\" d=\"M1189,-461.5C1189,-461.5 1108,-461.5 1108,-461.5 1102,-461.5 1096,-455.5 1096,-449.5 1096,-449.5 1096,-420.5 1096,-420.5 1096,-414.5 1102,-408.5 1108,-408.5 1108,-408.5 1189,-408.5 1189,-408.5 1195,-408.5 1201,-414.5 1201,-420.5 1201,-420.5 1201,-449.5 1201,-449.5 1201,-455.5 1195,-461.5 1189,-461.5\"/>\r\n",
       "<text text-anchor=\"middle\" x=\"1148.5\" y=\"-446.3\" font-family=\"Helvetica,sans-Serif\" font-size=\"14.00\">gini = 0.0</text>\r\n",
       "<text text-anchor=\"middle\" x=\"1148.5\" y=\"-431.3\" font-family=\"Helvetica,sans-Serif\" font-size=\"14.00\">samples = 25</text>\r\n",
       "<text text-anchor=\"middle\" x=\"1148.5\" y=\"-416.3\" font-family=\"Helvetica,sans-Serif\" font-size=\"14.00\">value = [0, 25]</text>\r\n",
       "</g>\r\n",
       "<!-- 33&#45;&gt;34 -->\r\n",
       "<g id=\"edge34\" class=\"edge\"><title>33&#45;&gt;34</title>\r\n",
       "<path fill=\"none\" stroke=\"black\" d=\"M1168.76,-504.884C1165.59,-494.106 1162.06,-482.108 1158.85,-471.184\"/>\r\n",
       "<polygon fill=\"black\" stroke=\"black\" points=\"1162.19,-470.126 1156.01,-461.52 1155.47,-472.101 1162.19,-470.126\"/>\r\n",
       "</g>\r\n",
       "<!-- 35 -->\r\n",
       "<g id=\"node36\" class=\"node\"><title>35</title>\r\n",
       "<path fill=\"#e58139\" stroke=\"black\" d=\"M1304,-461.5C1304,-461.5 1231,-461.5 1231,-461.5 1225,-461.5 1219,-455.5 1219,-449.5 1219,-449.5 1219,-420.5 1219,-420.5 1219,-414.5 1225,-408.5 1231,-408.5 1231,-408.5 1304,-408.5 1304,-408.5 1310,-408.5 1316,-414.5 1316,-420.5 1316,-420.5 1316,-449.5 1316,-449.5 1316,-455.5 1310,-461.5 1304,-461.5\"/>\r\n",
       "<text text-anchor=\"middle\" x=\"1267.5\" y=\"-446.3\" font-family=\"Helvetica,sans-Serif\" font-size=\"14.00\">gini = 0.0</text>\r\n",
       "<text text-anchor=\"middle\" x=\"1267.5\" y=\"-431.3\" font-family=\"Helvetica,sans-Serif\" font-size=\"14.00\">samples = 7</text>\r\n",
       "<text text-anchor=\"middle\" x=\"1267.5\" y=\"-416.3\" font-family=\"Helvetica,sans-Serif\" font-size=\"14.00\">value = [7, 0]</text>\r\n",
       "</g>\r\n",
       "<!-- 33&#45;&gt;35 -->\r\n",
       "<g id=\"edge35\" class=\"edge\"><title>33&#45;&gt;35</title>\r\n",
       "<path fill=\"none\" stroke=\"black\" d=\"M1207.4,-504.884C1217.38,-493.446 1228.55,-480.634 1238.54,-469.19\"/>\r\n",
       "<polygon fill=\"black\" stroke=\"black\" points=\"1241.3,-471.356 1245.23,-461.52 1236.02,-466.754 1241.3,-471.356\"/>\r\n",
       "</g>\r\n",
       "<!-- 37 -->\r\n",
       "<g id=\"node38\" class=\"node\"><title>37</title>\r\n",
       "<path fill=\"#eeab7c\" stroke=\"black\" d=\"M1472.5,-469C1472.5,-469 1362.5,-469 1362.5,-469 1356.5,-469 1350.5,-463 1350.5,-457 1350.5,-457 1350.5,-413 1350.5,-413 1350.5,-407 1356.5,-401 1362.5,-401 1362.5,-401 1472.5,-401 1472.5,-401 1478.5,-401 1484.5,-407 1484.5,-413 1484.5,-413 1484.5,-457 1484.5,-457 1484.5,-463 1478.5,-469 1472.5,-469\"/>\r\n",
       "<text text-anchor=\"middle\" x=\"1417.5\" y=\"-453.8\" font-family=\"Helvetica,sans-Serif\" font-size=\"14.00\">Curtosis &lt;= &#45;1.739</text>\r\n",
       "<text text-anchor=\"middle\" x=\"1417.5\" y=\"-438.8\" font-family=\"Helvetica,sans-Serif\" font-size=\"14.00\">gini = 0.377</text>\r\n",
       "<text text-anchor=\"middle\" x=\"1417.5\" y=\"-423.8\" font-family=\"Helvetica,sans-Serif\" font-size=\"14.00\">samples = 139</text>\r\n",
       "<text text-anchor=\"middle\" x=\"1417.5\" y=\"-408.8\" font-family=\"Helvetica,sans-Serif\" font-size=\"14.00\">value = [104, 35]</text>\r\n",
       "</g>\r\n",
       "<!-- 36&#45;&gt;37 -->\r\n",
       "<g id=\"edge37\" class=\"edge\"><title>36&#45;&gt;37</title>\r\n",
       "<path fill=\"none\" stroke=\"black\" d=\"M1417.5,-504.884C1417.5,-496.778 1417.5,-487.982 1417.5,-479.472\"/>\r\n",
       "<polygon fill=\"black\" stroke=\"black\" points=\"1421,-479.299 1417.5,-469.299 1414,-479.299 1421,-479.299\"/>\r\n",
       "</g>\r\n",
       "<!-- 52 -->\r\n",
       "<g id=\"node53\" class=\"node\"><title>52</title>\r\n",
       "<path fill=\"#e5823a\" stroke=\"black\" d=\"M1866,-469C1866,-469 1757,-469 1757,-469 1751,-469 1745,-463 1745,-457 1745,-457 1745,-413 1745,-413 1745,-407 1751,-401 1757,-401 1757,-401 1866,-401 1866,-401 1872,-401 1878,-407 1878,-413 1878,-413 1878,-457 1878,-457 1878,-463 1872,-469 1866,-469\"/>\r\n",
       "<text text-anchor=\"middle\" x=\"1811.5\" y=\"-453.8\" font-family=\"Helvetica,sans-Serif\" font-size=\"14.00\">Variance &lt;= 2.037</text>\r\n",
       "<text text-anchor=\"middle\" x=\"1811.5\" y=\"-438.8\" font-family=\"Helvetica,sans-Serif\" font-size=\"14.00\">gini = 0.015</text>\r\n",
       "<text text-anchor=\"middle\" x=\"1811.5\" y=\"-423.8\" font-family=\"Helvetica,sans-Serif\" font-size=\"14.00\">samples = 407</text>\r\n",
       "<text text-anchor=\"middle\" x=\"1811.5\" y=\"-408.8\" font-family=\"Helvetica,sans-Serif\" font-size=\"14.00\">value = [404, 3]</text>\r\n",
       "</g>\r\n",
       "<!-- 36&#45;&gt;52 -->\r\n",
       "<g id=\"edge52\" class=\"edge\"><title>36&#45;&gt;52</title>\r\n",
       "<path fill=\"none\" stroke=\"black\" d=\"M1484.34,-520.697C1553.74,-502.729 1662.17,-474.66 1734.97,-455.813\"/>\r\n",
       "<polygon fill=\"black\" stroke=\"black\" points=\"1736.19,-459.112 1744.99,-453.217 1734.44,-452.335 1736.19,-459.112\"/>\r\n",
       "</g>\r\n",
       "<!-- 38 -->\r\n",
       "<g id=\"node39\" class=\"node\"><title>38</title>\r\n",
       "<path fill=\"#80c0ee\" stroke=\"black\" d=\"M1333,-365C1333,-365 1214,-365 1214,-365 1208,-365 1202,-359 1202,-353 1202,-353 1202,-309 1202,-309 1202,-303 1208,-297 1214,-297 1214,-297 1333,-297 1333,-297 1339,-297 1345,-303 1345,-309 1345,-309 1345,-353 1345,-353 1345,-359 1339,-365 1333,-365\"/>\r\n",
       "<text text-anchor=\"middle\" x=\"1273.5\" y=\"-349.8\" font-family=\"Helvetica,sans-Serif\" font-size=\"14.00\">Skewness &lt;= 5.667</text>\r\n",
       "<text text-anchor=\"middle\" x=\"1273.5\" y=\"-334.8\" font-family=\"Helvetica,sans-Serif\" font-size=\"14.00\">gini = 0.389</text>\r\n",
       "<text text-anchor=\"middle\" x=\"1273.5\" y=\"-319.8\" font-family=\"Helvetica,sans-Serif\" font-size=\"14.00\">samples = 34</text>\r\n",
       "<text text-anchor=\"middle\" x=\"1273.5\" y=\"-304.8\" font-family=\"Helvetica,sans-Serif\" font-size=\"14.00\">value = [9, 25]</text>\r\n",
       "</g>\r\n",
       "<!-- 37&#45;&gt;38 -->\r\n",
       "<g id=\"edge38\" class=\"edge\"><title>37&#45;&gt;38</title>\r\n",
       "<path fill=\"none\" stroke=\"black\" d=\"M1370.75,-400.884C1357.42,-391.442 1342.77,-381.064 1328.97,-371.292\"/>\r\n",
       "<polygon fill=\"black\" stroke=\"black\" points=\"1330.69,-368.223 1320.51,-365.299 1326.65,-373.936 1330.69,-368.223\"/>\r\n",
       "</g>\r\n",
       "<!-- 41 -->\r\n",
       "<g id=\"node42\" class=\"node\"><title>41</title>\r\n",
       "<path fill=\"#e88e4e\" stroke=\"black\" d=\"M1469.5,-365C1469.5,-365 1375.5,-365 1375.5,-365 1369.5,-365 1363.5,-359 1363.5,-353 1363.5,-353 1363.5,-309 1363.5,-309 1363.5,-303 1369.5,-297 1375.5,-297 1375.5,-297 1469.5,-297 1469.5,-297 1475.5,-297 1481.5,-303 1481.5,-309 1481.5,-309 1481.5,-353 1481.5,-353 1481.5,-359 1475.5,-365 1469.5,-365\"/>\r\n",
       "<text text-anchor=\"middle\" x=\"1422.5\" y=\"-349.8\" font-family=\"Helvetica,sans-Serif\" font-size=\"14.00\">Entropy &lt;= 0.23</text>\r\n",
       "<text text-anchor=\"middle\" x=\"1422.5\" y=\"-334.8\" font-family=\"Helvetica,sans-Serif\" font-size=\"14.00\">gini = 0.172</text>\r\n",
       "<text text-anchor=\"middle\" x=\"1422.5\" y=\"-319.8\" font-family=\"Helvetica,sans-Serif\" font-size=\"14.00\">samples = 105</text>\r\n",
       "<text text-anchor=\"middle\" x=\"1422.5\" y=\"-304.8\" font-family=\"Helvetica,sans-Serif\" font-size=\"14.00\">value = [95, 10]</text>\r\n",
       "</g>\r\n",
       "<!-- 37&#45;&gt;41 -->\r\n",
       "<g id=\"edge41\" class=\"edge\"><title>37&#45;&gt;41</title>\r\n",
       "<path fill=\"none\" stroke=\"black\" d=\"M1419.12,-400.884C1419.52,-392.778 1419.95,-383.982 1420.37,-375.472\"/>\r\n",
       "<polygon fill=\"black\" stroke=\"black\" points=\"1423.87,-375.459 1420.87,-365.299 1416.88,-375.116 1423.87,-375.459\"/>\r\n",
       "</g>\r\n",
       "<!-- 39 -->\r\n",
       "<g id=\"node40\" class=\"node\"><title>39</title>\r\n",
       "<path fill=\"#399de5\" stroke=\"black\" d=\"M1207,-253.5C1207,-253.5 1126,-253.5 1126,-253.5 1120,-253.5 1114,-247.5 1114,-241.5 1114,-241.5 1114,-212.5 1114,-212.5 1114,-206.5 1120,-200.5 1126,-200.5 1126,-200.5 1207,-200.5 1207,-200.5 1213,-200.5 1219,-206.5 1219,-212.5 1219,-212.5 1219,-241.5 1219,-241.5 1219,-247.5 1213,-253.5 1207,-253.5\"/>\r\n",
       "<text text-anchor=\"middle\" x=\"1166.5\" y=\"-238.3\" font-family=\"Helvetica,sans-Serif\" font-size=\"14.00\">gini = 0.0</text>\r\n",
       "<text text-anchor=\"middle\" x=\"1166.5\" y=\"-223.3\" font-family=\"Helvetica,sans-Serif\" font-size=\"14.00\">samples = 25</text>\r\n",
       "<text text-anchor=\"middle\" x=\"1166.5\" y=\"-208.3\" font-family=\"Helvetica,sans-Serif\" font-size=\"14.00\">value = [0, 25]</text>\r\n",
       "</g>\r\n",
       "<!-- 38&#45;&gt;39 -->\r\n",
       "<g id=\"edge39\" class=\"edge\"><title>38&#45;&gt;39</title>\r\n",
       "<path fill=\"none\" stroke=\"black\" d=\"M1238.76,-296.884C1226.53,-285.226 1212.8,-272.141 1200.63,-260.532\"/>\r\n",
       "<polygon fill=\"black\" stroke=\"black\" points=\"1202.92,-257.887 1193.27,-253.52 1198.09,-262.953 1202.92,-257.887\"/>\r\n",
       "</g>\r\n",
       "<!-- 40 -->\r\n",
       "<g id=\"node41\" class=\"node\"><title>40</title>\r\n",
       "<path fill=\"#e58139\" stroke=\"black\" d=\"M1322,-253.5C1322,-253.5 1249,-253.5 1249,-253.5 1243,-253.5 1237,-247.5 1237,-241.5 1237,-241.5 1237,-212.5 1237,-212.5 1237,-206.5 1243,-200.5 1249,-200.5 1249,-200.5 1322,-200.5 1322,-200.5 1328,-200.5 1334,-206.5 1334,-212.5 1334,-212.5 1334,-241.5 1334,-241.5 1334,-247.5 1328,-253.5 1322,-253.5\"/>\r\n",
       "<text text-anchor=\"middle\" x=\"1285.5\" y=\"-238.3\" font-family=\"Helvetica,sans-Serif\" font-size=\"14.00\">gini = 0.0</text>\r\n",
       "<text text-anchor=\"middle\" x=\"1285.5\" y=\"-223.3\" font-family=\"Helvetica,sans-Serif\" font-size=\"14.00\">samples = 9</text>\r\n",
       "<text text-anchor=\"middle\" x=\"1285.5\" y=\"-208.3\" font-family=\"Helvetica,sans-Serif\" font-size=\"14.00\">value = [9, 0]</text>\r\n",
       "</g>\r\n",
       "<!-- 38&#45;&gt;40 -->\r\n",
       "<g id=\"edge40\" class=\"edge\"><title>38&#45;&gt;40</title>\r\n",
       "<path fill=\"none\" stroke=\"black\" d=\"M1277.4,-296.884C1278.65,-286.216 1280.05,-274.352 1281.32,-263.519\"/>\r\n",
       "<polygon fill=\"black\" stroke=\"black\" points=\"1284.81,-263.86 1282.5,-253.52 1277.85,-263.042 1284.81,-263.86\"/>\r\n",
       "</g>\r\n",
       "<!-- 42 -->\r\n",
       "<g id=\"node43\" class=\"node\"><title>42</title>\r\n",
       "<path fill=\"#e5823b\" stroke=\"black\" d=\"M1458.5,-261C1458.5,-261 1364.5,-261 1364.5,-261 1358.5,-261 1352.5,-255 1352.5,-249 1352.5,-249 1352.5,-205 1352.5,-205 1352.5,-199 1358.5,-193 1364.5,-193 1364.5,-193 1458.5,-193 1458.5,-193 1464.5,-193 1470.5,-199 1470.5,-205 1470.5,-205 1470.5,-249 1470.5,-249 1470.5,-255 1464.5,-261 1458.5,-261\"/>\r\n",
       "<text text-anchor=\"middle\" x=\"1411.5\" y=\"-245.8\" font-family=\"Helvetica,sans-Serif\" font-size=\"14.00\">Entropy &lt;= 0.06</text>\r\n",
       "<text text-anchor=\"middle\" x=\"1411.5\" y=\"-230.8\" font-family=\"Helvetica,sans-Serif\" font-size=\"14.00\">gini = 0.023</text>\r\n",
       "<text text-anchor=\"middle\" x=\"1411.5\" y=\"-215.8\" font-family=\"Helvetica,sans-Serif\" font-size=\"14.00\">samples = 85</text>\r\n",
       "<text text-anchor=\"middle\" x=\"1411.5\" y=\"-200.8\" font-family=\"Helvetica,sans-Serif\" font-size=\"14.00\">value = [84, 1]</text>\r\n",
       "</g>\r\n",
       "<!-- 41&#45;&gt;42 -->\r\n",
       "<g id=\"edge42\" class=\"edge\"><title>41&#45;&gt;42</title>\r\n",
       "<path fill=\"none\" stroke=\"black\" d=\"M1418.93,-296.884C1418.05,-288.778 1417.11,-279.982 1416.19,-271.472\"/>\r\n",
       "<polygon fill=\"black\" stroke=\"black\" points=\"1419.64,-270.866 1415.09,-261.299 1412.68,-271.617 1419.64,-270.866\"/>\r\n",
       "</g>\r\n",
       "<!-- 47 -->\r\n",
       "<g id=\"node48\" class=\"node\"><title>47</title>\r\n",
       "<path fill=\"#fae8db\" stroke=\"black\" d=\"M1608.5,-261C1608.5,-261 1502.5,-261 1502.5,-261 1496.5,-261 1490.5,-255 1490.5,-249 1490.5,-249 1490.5,-205 1490.5,-205 1490.5,-199 1496.5,-193 1502.5,-193 1502.5,-193 1608.5,-193 1608.5,-193 1614.5,-193 1620.5,-199 1620.5,-205 1620.5,-205 1620.5,-249 1620.5,-249 1620.5,-255 1614.5,-261 1608.5,-261\"/>\r\n",
       "<text text-anchor=\"middle\" x=\"1555.5\" y=\"-245.8\" font-family=\"Helvetica,sans-Serif\" font-size=\"14.00\">Curtosis &lt;= 1.919</text>\r\n",
       "<text text-anchor=\"middle\" x=\"1555.5\" y=\"-230.8\" font-family=\"Helvetica,sans-Serif\" font-size=\"14.00\">gini = 0.495</text>\r\n",
       "<text text-anchor=\"middle\" x=\"1555.5\" y=\"-215.8\" font-family=\"Helvetica,sans-Serif\" font-size=\"14.00\">samples = 20</text>\r\n",
       "<text text-anchor=\"middle\" x=\"1555.5\" y=\"-200.8\" font-family=\"Helvetica,sans-Serif\" font-size=\"14.00\">value = [11, 9]</text>\r\n",
       "</g>\r\n",
       "<!-- 41&#45;&gt;47 -->\r\n",
       "<g id=\"edge47\" class=\"edge\"><title>41&#45;&gt;47</title>\r\n",
       "<path fill=\"none\" stroke=\"black\" d=\"M1465.68,-296.884C1477.88,-287.531 1491.27,-277.259 1503.91,-267.568\"/>\r\n",
       "<polygon fill=\"black\" stroke=\"black\" points=\"1506.28,-270.162 1512.08,-261.299 1502.02,-264.608 1506.28,-270.162\"/>\r\n",
       "</g>\r\n",
       "<!-- 43 -->\r\n",
       "<g id=\"node44\" class=\"node\"><title>43</title>\r\n",
       "<path fill=\"#e58139\" stroke=\"black\" d=\"M1316,-149.5C1316,-149.5 1235,-149.5 1235,-149.5 1229,-149.5 1223,-143.5 1223,-137.5 1223,-137.5 1223,-108.5 1223,-108.5 1223,-102.5 1229,-96.5 1235,-96.5 1235,-96.5 1316,-96.5 1316,-96.5 1322,-96.5 1328,-102.5 1328,-108.5 1328,-108.5 1328,-137.5 1328,-137.5 1328,-143.5 1322,-149.5 1316,-149.5\"/>\r\n",
       "<text text-anchor=\"middle\" x=\"1275.5\" y=\"-134.3\" font-family=\"Helvetica,sans-Serif\" font-size=\"14.00\">gini = 0.0</text>\r\n",
       "<text text-anchor=\"middle\" x=\"1275.5\" y=\"-119.3\" font-family=\"Helvetica,sans-Serif\" font-size=\"14.00\">samples = 80</text>\r\n",
       "<text text-anchor=\"middle\" x=\"1275.5\" y=\"-104.3\" font-family=\"Helvetica,sans-Serif\" font-size=\"14.00\">value = [80, 0]</text>\r\n",
       "</g>\r\n",
       "<!-- 42&#45;&gt;43 -->\r\n",
       "<g id=\"edge43\" class=\"edge\"><title>42&#45;&gt;43</title>\r\n",
       "<path fill=\"none\" stroke=\"black\" d=\"M1367.34,-192.884C1351.36,-180.896 1333.37,-167.399 1317.57,-155.549\"/>\r\n",
       "<polygon fill=\"black\" stroke=\"black\" points=\"1319.63,-152.72 1309.53,-149.52 1315.43,-158.32 1319.63,-152.72\"/>\r\n",
       "</g>\r\n",
       "<!-- 44 -->\r\n",
       "<g id=\"node45\" class=\"node\"><title>44</title>\r\n",
       "<path fill=\"#eca06a\" stroke=\"black\" d=\"M1459,-157C1459,-157 1358,-157 1358,-157 1352,-157 1346,-151 1346,-145 1346,-145 1346,-101 1346,-101 1346,-95 1352,-89 1358,-89 1358,-89 1459,-89 1459,-89 1465,-89 1471,-95 1471,-101 1471,-101 1471,-145 1471,-145 1471,-151 1465,-157 1459,-157\"/>\r\n",
       "<text text-anchor=\"middle\" x=\"1408.5\" y=\"-141.8\" font-family=\"Helvetica,sans-Serif\" font-size=\"14.00\">Variance &lt;= 0.65</text>\r\n",
       "<text text-anchor=\"middle\" x=\"1408.5\" y=\"-126.8\" font-family=\"Helvetica,sans-Serif\" font-size=\"14.00\">gini = 0.32</text>\r\n",
       "<text text-anchor=\"middle\" x=\"1408.5\" y=\"-111.8\" font-family=\"Helvetica,sans-Serif\" font-size=\"14.00\">samples = 5</text>\r\n",
       "<text text-anchor=\"middle\" x=\"1408.5\" y=\"-96.8\" font-family=\"Helvetica,sans-Serif\" font-size=\"14.00\">value = [4, 1]</text>\r\n",
       "</g>\r\n",
       "<!-- 42&#45;&gt;44 -->\r\n",
       "<g id=\"edge44\" class=\"edge\"><title>42&#45;&gt;44</title>\r\n",
       "<path fill=\"none\" stroke=\"black\" d=\"M1410.53,-192.884C1410.29,-184.778 1410.03,-175.982 1409.78,-167.472\"/>\r\n",
       "<polygon fill=\"black\" stroke=\"black\" points=\"1413.27,-167.192 1409.48,-157.299 1406.27,-167.398 1413.27,-167.192\"/>\r\n",
       "</g>\r\n",
       "<!-- 45 -->\r\n",
       "<g id=\"node46\" class=\"node\"><title>45</title>\r\n",
       "<path fill=\"#399de5\" stroke=\"black\" d=\"M1338,-53C1338,-53 1265,-53 1265,-53 1259,-53 1253,-47 1253,-41 1253,-41 1253,-12 1253,-12 1253,-6 1259,-0 1265,-0 1265,-0 1338,-0 1338,-0 1344,-0 1350,-6 1350,-12 1350,-12 1350,-41 1350,-41 1350,-47 1344,-53 1338,-53\"/>\r\n",
       "<text text-anchor=\"middle\" x=\"1301.5\" y=\"-37.8\" font-family=\"Helvetica,sans-Serif\" font-size=\"14.00\">gini = 0.0</text>\r\n",
       "<text text-anchor=\"middle\" x=\"1301.5\" y=\"-22.8\" font-family=\"Helvetica,sans-Serif\" font-size=\"14.00\">samples = 1</text>\r\n",
       "<text text-anchor=\"middle\" x=\"1301.5\" y=\"-7.8\" font-family=\"Helvetica,sans-Serif\" font-size=\"14.00\">value = [0, 1]</text>\r\n",
       "</g>\r\n",
       "<!-- 44&#45;&gt;45 -->\r\n",
       "<g id=\"edge45\" class=\"edge\"><title>44&#45;&gt;45</title>\r\n",
       "<path fill=\"none\" stroke=\"black\" d=\"M1371.08,-88.9485C1360.41,-79.526 1348.8,-69.2731 1338.18,-59.8906\"/>\r\n",
       "<polygon fill=\"black\" stroke=\"black\" points=\"1340.45,-57.2331 1330.64,-53.2367 1335.82,-62.4798 1340.45,-57.2331\"/>\r\n",
       "</g>\r\n",
       "<!-- 46 -->\r\n",
       "<g id=\"node47\" class=\"node\"><title>46</title>\r\n",
       "<path fill=\"#e58139\" stroke=\"black\" d=\"M1453,-53C1453,-53 1380,-53 1380,-53 1374,-53 1368,-47 1368,-41 1368,-41 1368,-12 1368,-12 1368,-6 1374,-0 1380,-0 1380,-0 1453,-0 1453,-0 1459,-0 1465,-6 1465,-12 1465,-12 1465,-41 1465,-41 1465,-47 1459,-53 1453,-53\"/>\r\n",
       "<text text-anchor=\"middle\" x=\"1416.5\" y=\"-37.8\" font-family=\"Helvetica,sans-Serif\" font-size=\"14.00\">gini = 0.0</text>\r\n",
       "<text text-anchor=\"middle\" x=\"1416.5\" y=\"-22.8\" font-family=\"Helvetica,sans-Serif\" font-size=\"14.00\">samples = 4</text>\r\n",
       "<text text-anchor=\"middle\" x=\"1416.5\" y=\"-7.8\" font-family=\"Helvetica,sans-Serif\" font-size=\"14.00\">value = [4, 0]</text>\r\n",
       "</g>\r\n",
       "<!-- 44&#45;&gt;46 -->\r\n",
       "<g id=\"edge46\" class=\"edge\"><title>44&#45;&gt;46</title>\r\n",
       "<path fill=\"none\" stroke=\"black\" d=\"M1411.3,-88.9485C1412,-80.6238 1412.76,-71.6509 1413.48,-63.2027\"/>\r\n",
       "<polygon fill=\"black\" stroke=\"black\" points=\"1416.97,-63.4963 1414.32,-53.2367 1409.99,-62.9058 1416.97,-63.4963\"/>\r\n",
       "</g>\r\n",
       "<!-- 48 -->\r\n",
       "<g id=\"node49\" class=\"node\"><title>48</title>\r\n",
       "<path fill=\"#4fa8e8\" stroke=\"black\" d=\"M1610,-157C1610,-157 1501,-157 1501,-157 1495,-157 1489,-151 1489,-145 1489,-145 1489,-101 1489,-101 1489,-95 1495,-89 1501,-89 1501,-89 1610,-89 1610,-89 1616,-89 1622,-95 1622,-101 1622,-101 1622,-145 1622,-145 1622,-151 1616,-157 1610,-157\"/>\r\n",
       "<text text-anchor=\"middle\" x=\"1555.5\" y=\"-141.8\" font-family=\"Helvetica,sans-Serif\" font-size=\"14.00\">Variance &lt;= 0.957</text>\r\n",
       "<text text-anchor=\"middle\" x=\"1555.5\" y=\"-126.8\" font-family=\"Helvetica,sans-Serif\" font-size=\"14.00\">gini = 0.18</text>\r\n",
       "<text text-anchor=\"middle\" x=\"1555.5\" y=\"-111.8\" font-family=\"Helvetica,sans-Serif\" font-size=\"14.00\">samples = 10</text>\r\n",
       "<text text-anchor=\"middle\" x=\"1555.5\" y=\"-96.8\" font-family=\"Helvetica,sans-Serif\" font-size=\"14.00\">value = [1, 9]</text>\r\n",
       "</g>\r\n",
       "<!-- 47&#45;&gt;48 -->\r\n",
       "<g id=\"edge48\" class=\"edge\"><title>47&#45;&gt;48</title>\r\n",
       "<path fill=\"none\" stroke=\"black\" d=\"M1555.5,-192.884C1555.5,-184.778 1555.5,-175.982 1555.5,-167.472\"/>\r\n",
       "<polygon fill=\"black\" stroke=\"black\" points=\"1559,-167.299 1555.5,-157.299 1552,-167.299 1559,-167.299\"/>\r\n",
       "</g>\r\n",
       "<!-- 51 -->\r\n",
       "<g id=\"node52\" class=\"node\"><title>51</title>\r\n",
       "<path fill=\"#e58139\" stroke=\"black\" d=\"M1733,-149.5C1733,-149.5 1652,-149.5 1652,-149.5 1646,-149.5 1640,-143.5 1640,-137.5 1640,-137.5 1640,-108.5 1640,-108.5 1640,-102.5 1646,-96.5 1652,-96.5 1652,-96.5 1733,-96.5 1733,-96.5 1739,-96.5 1745,-102.5 1745,-108.5 1745,-108.5 1745,-137.5 1745,-137.5 1745,-143.5 1739,-149.5 1733,-149.5\"/>\r\n",
       "<text text-anchor=\"middle\" x=\"1692.5\" y=\"-134.3\" font-family=\"Helvetica,sans-Serif\" font-size=\"14.00\">gini = 0.0</text>\r\n",
       "<text text-anchor=\"middle\" x=\"1692.5\" y=\"-119.3\" font-family=\"Helvetica,sans-Serif\" font-size=\"14.00\">samples = 10</text>\r\n",
       "<text text-anchor=\"middle\" x=\"1692.5\" y=\"-104.3\" font-family=\"Helvetica,sans-Serif\" font-size=\"14.00\">value = [10, 0]</text>\r\n",
       "</g>\r\n",
       "<!-- 47&#45;&gt;51 -->\r\n",
       "<g id=\"edge51\" class=\"edge\"><title>47&#45;&gt;51</title>\r\n",
       "<path fill=\"none\" stroke=\"black\" d=\"M1599.98,-192.884C1616.08,-180.896 1634.21,-167.399 1650.12,-155.549\"/>\r\n",
       "<polygon fill=\"black\" stroke=\"black\" points=\"1652.29,-158.299 1658.22,-149.52 1648.11,-152.684 1652.29,-158.299\"/>\r\n",
       "</g>\r\n",
       "<!-- 49 -->\r\n",
       "<g id=\"node50\" class=\"node\"><title>49</title>\r\n",
       "<path fill=\"#399de5\" stroke=\"black\" d=\"M1584,-53C1584,-53 1511,-53 1511,-53 1505,-53 1499,-47 1499,-41 1499,-41 1499,-12 1499,-12 1499,-6 1505,-0 1511,-0 1511,-0 1584,-0 1584,-0 1590,-0 1596,-6 1596,-12 1596,-12 1596,-41 1596,-41 1596,-47 1590,-53 1584,-53\"/>\r\n",
       "<text text-anchor=\"middle\" x=\"1547.5\" y=\"-37.8\" font-family=\"Helvetica,sans-Serif\" font-size=\"14.00\">gini = 0.0</text>\r\n",
       "<text text-anchor=\"middle\" x=\"1547.5\" y=\"-22.8\" font-family=\"Helvetica,sans-Serif\" font-size=\"14.00\">samples = 9</text>\r\n",
       "<text text-anchor=\"middle\" x=\"1547.5\" y=\"-7.8\" font-family=\"Helvetica,sans-Serif\" font-size=\"14.00\">value = [0, 9]</text>\r\n",
       "</g>\r\n",
       "<!-- 48&#45;&gt;49 -->\r\n",
       "<g id=\"edge49\" class=\"edge\"><title>48&#45;&gt;49</title>\r\n",
       "<path fill=\"none\" stroke=\"black\" d=\"M1552.7,-88.9485C1552,-80.6238 1551.24,-71.6509 1550.52,-63.2027\"/>\r\n",
       "<polygon fill=\"black\" stroke=\"black\" points=\"1554.01,-62.9058 1549.68,-53.2367 1547.03,-63.4963 1554.01,-62.9058\"/>\r\n",
       "</g>\r\n",
       "<!-- 50 -->\r\n",
       "<g id=\"node51\" class=\"node\"><title>50</title>\r\n",
       "<path fill=\"#e58139\" stroke=\"black\" d=\"M1699,-53C1699,-53 1626,-53 1626,-53 1620,-53 1614,-47 1614,-41 1614,-41 1614,-12 1614,-12 1614,-6 1620,-0 1626,-0 1626,-0 1699,-0 1699,-0 1705,-0 1711,-6 1711,-12 1711,-12 1711,-41 1711,-41 1711,-47 1705,-53 1699,-53\"/>\r\n",
       "<text text-anchor=\"middle\" x=\"1662.5\" y=\"-37.8\" font-family=\"Helvetica,sans-Serif\" font-size=\"14.00\">gini = 0.0</text>\r\n",
       "<text text-anchor=\"middle\" x=\"1662.5\" y=\"-22.8\" font-family=\"Helvetica,sans-Serif\" font-size=\"14.00\">samples = 1</text>\r\n",
       "<text text-anchor=\"middle\" x=\"1662.5\" y=\"-7.8\" font-family=\"Helvetica,sans-Serif\" font-size=\"14.00\">value = [1, 0]</text>\r\n",
       "</g>\r\n",
       "<!-- 48&#45;&gt;50 -->\r\n",
       "<g id=\"edge50\" class=\"edge\"><title>48&#45;&gt;50</title>\r\n",
       "<path fill=\"none\" stroke=\"black\" d=\"M1592.92,-88.9485C1603.59,-79.526 1615.2,-69.2731 1625.82,-59.8906\"/>\r\n",
       "<polygon fill=\"black\" stroke=\"black\" points=\"1628.18,-62.4798 1633.36,-53.2367 1623.55,-57.2331 1628.18,-62.4798\"/>\r\n",
       "</g>\r\n",
       "<!-- 53 -->\r\n",
       "<g id=\"node54\" class=\"node\"><title>53</title>\r\n",
       "<path fill=\"#e78946\" stroke=\"black\" d=\"M1866.5,-365C1866.5,-365 1756.5,-365 1756.5,-365 1750.5,-365 1744.5,-359 1744.5,-353 1744.5,-353 1744.5,-309 1744.5,-309 1744.5,-303 1750.5,-297 1756.5,-297 1756.5,-297 1866.5,-297 1866.5,-297 1872.5,-297 1878.5,-303 1878.5,-309 1878.5,-309 1878.5,-353 1878.5,-353 1878.5,-359 1872.5,-365 1866.5,-365\"/>\r\n",
       "<text text-anchor=\"middle\" x=\"1811.5\" y=\"-349.8\" font-family=\"Helvetica,sans-Serif\" font-size=\"14.00\">Curtosis &lt;= &#45;2.648</text>\r\n",
       "<text text-anchor=\"middle\" x=\"1811.5\" y=\"-334.8\" font-family=\"Helvetica,sans-Serif\" font-size=\"14.00\">gini = 0.117</text>\r\n",
       "<text text-anchor=\"middle\" x=\"1811.5\" y=\"-319.8\" font-family=\"Helvetica,sans-Serif\" font-size=\"14.00\">samples = 48</text>\r\n",
       "<text text-anchor=\"middle\" x=\"1811.5\" y=\"-304.8\" font-family=\"Helvetica,sans-Serif\" font-size=\"14.00\">value = [45, 3]</text>\r\n",
       "</g>\r\n",
       "<!-- 52&#45;&gt;53 -->\r\n",
       "<g id=\"edge53\" class=\"edge\"><title>52&#45;&gt;53</title>\r\n",
       "<path fill=\"none\" stroke=\"black\" d=\"M1811.5,-400.884C1811.5,-392.778 1811.5,-383.982 1811.5,-375.472\"/>\r\n",
       "<polygon fill=\"black\" stroke=\"black\" points=\"1815,-375.299 1811.5,-365.299 1808,-375.299 1815,-375.299\"/>\r\n",
       "</g>\r\n",
       "<!-- 58 -->\r\n",
       "<g id=\"node59\" class=\"node\"><title>58</title>\r\n",
       "<path fill=\"#e58139\" stroke=\"black\" d=\"M1998,-357.5C1998,-357.5 1909,-357.5 1909,-357.5 1903,-357.5 1897,-351.5 1897,-345.5 1897,-345.5 1897,-316.5 1897,-316.5 1897,-310.5 1903,-304.5 1909,-304.5 1909,-304.5 1998,-304.5 1998,-304.5 2004,-304.5 2010,-310.5 2010,-316.5 2010,-316.5 2010,-345.5 2010,-345.5 2010,-351.5 2004,-357.5 1998,-357.5\"/>\r\n",
       "<text text-anchor=\"middle\" x=\"1953.5\" y=\"-342.3\" font-family=\"Helvetica,sans-Serif\" font-size=\"14.00\">gini = 0.0</text>\r\n",
       "<text text-anchor=\"middle\" x=\"1953.5\" y=\"-327.3\" font-family=\"Helvetica,sans-Serif\" font-size=\"14.00\">samples = 359</text>\r\n",
       "<text text-anchor=\"middle\" x=\"1953.5\" y=\"-312.3\" font-family=\"Helvetica,sans-Serif\" font-size=\"14.00\">value = [359, 0]</text>\r\n",
       "</g>\r\n",
       "<!-- 52&#45;&gt;58 -->\r\n",
       "<g id=\"edge58\" class=\"edge\"><title>52&#45;&gt;58</title>\r\n",
       "<path fill=\"none\" stroke=\"black\" d=\"M1857.6,-400.884C1874.29,-388.896 1893.08,-375.399 1909.58,-363.549\"/>\r\n",
       "<polygon fill=\"black\" stroke=\"black\" points=\"1911.89,-366.197 1917.97,-357.52 1907.81,-360.511 1911.89,-366.197\"/>\r\n",
       "</g>\r\n",
       "<!-- 54 -->\r\n",
       "<g id=\"node55\" class=\"node\"><title>54</title>\r\n",
       "<path fill=\"#7bbeee\" stroke=\"black\" d=\"M1871,-261C1871,-261 1752,-261 1752,-261 1746,-261 1740,-255 1740,-249 1740,-249 1740,-205 1740,-205 1740,-199 1746,-193 1752,-193 1752,-193 1871,-193 1871,-193 1877,-193 1883,-199 1883,-205 1883,-205 1883,-249 1883,-249 1883,-255 1877,-261 1871,-261\"/>\r\n",
       "<text text-anchor=\"middle\" x=\"1811.5\" y=\"-245.8\" font-family=\"Helvetica,sans-Serif\" font-size=\"14.00\">Skewness &lt;= 6.473</text>\r\n",
       "<text text-anchor=\"middle\" x=\"1811.5\" y=\"-230.8\" font-family=\"Helvetica,sans-Serif\" font-size=\"14.00\">gini = 0.375</text>\r\n",
       "<text text-anchor=\"middle\" x=\"1811.5\" y=\"-215.8\" font-family=\"Helvetica,sans-Serif\" font-size=\"14.00\">samples = 4</text>\r\n",
       "<text text-anchor=\"middle\" x=\"1811.5\" y=\"-200.8\" font-family=\"Helvetica,sans-Serif\" font-size=\"14.00\">value = [1, 3]</text>\r\n",
       "</g>\r\n",
       "<!-- 53&#45;&gt;54 -->\r\n",
       "<g id=\"edge54\" class=\"edge\"><title>53&#45;&gt;54</title>\r\n",
       "<path fill=\"none\" stroke=\"black\" d=\"M1811.5,-296.884C1811.5,-288.778 1811.5,-279.982 1811.5,-271.472\"/>\r\n",
       "<polygon fill=\"black\" stroke=\"black\" points=\"1815,-271.299 1811.5,-261.299 1808,-271.299 1815,-271.299\"/>\r\n",
       "</g>\r\n",
       "<!-- 57 -->\r\n",
       "<g id=\"node58\" class=\"node\"><title>57</title>\r\n",
       "<path fill=\"#e58139\" stroke=\"black\" d=\"M1994,-253.5C1994,-253.5 1913,-253.5 1913,-253.5 1907,-253.5 1901,-247.5 1901,-241.5 1901,-241.5 1901,-212.5 1901,-212.5 1901,-206.5 1907,-200.5 1913,-200.5 1913,-200.5 1994,-200.5 1994,-200.5 2000,-200.5 2006,-206.5 2006,-212.5 2006,-212.5 2006,-241.5 2006,-241.5 2006,-247.5 2000,-253.5 1994,-253.5\"/>\r\n",
       "<text text-anchor=\"middle\" x=\"1953.5\" y=\"-238.3\" font-family=\"Helvetica,sans-Serif\" font-size=\"14.00\">gini = 0.0</text>\r\n",
       "<text text-anchor=\"middle\" x=\"1953.5\" y=\"-223.3\" font-family=\"Helvetica,sans-Serif\" font-size=\"14.00\">samples = 44</text>\r\n",
       "<text text-anchor=\"middle\" x=\"1953.5\" y=\"-208.3\" font-family=\"Helvetica,sans-Serif\" font-size=\"14.00\">value = [44, 0]</text>\r\n",
       "</g>\r\n",
       "<!-- 53&#45;&gt;57 -->\r\n",
       "<g id=\"edge57\" class=\"edge\"><title>53&#45;&gt;57</title>\r\n",
       "<path fill=\"none\" stroke=\"black\" d=\"M1857.6,-296.884C1874.29,-284.896 1893.08,-271.399 1909.58,-259.549\"/>\r\n",
       "<polygon fill=\"black\" stroke=\"black\" points=\"1911.89,-262.197 1917.97,-253.52 1907.81,-256.511 1911.89,-262.197\"/>\r\n",
       "</g>\r\n",
       "<!-- 55 -->\r\n",
       "<g id=\"node56\" class=\"node\"><title>55</title>\r\n",
       "<path fill=\"#399de5\" stroke=\"black\" d=\"M1848,-149.5C1848,-149.5 1775,-149.5 1775,-149.5 1769,-149.5 1763,-143.5 1763,-137.5 1763,-137.5 1763,-108.5 1763,-108.5 1763,-102.5 1769,-96.5 1775,-96.5 1775,-96.5 1848,-96.5 1848,-96.5 1854,-96.5 1860,-102.5 1860,-108.5 1860,-108.5 1860,-137.5 1860,-137.5 1860,-143.5 1854,-149.5 1848,-149.5\"/>\r\n",
       "<text text-anchor=\"middle\" x=\"1811.5\" y=\"-134.3\" font-family=\"Helvetica,sans-Serif\" font-size=\"14.00\">gini = 0.0</text>\r\n",
       "<text text-anchor=\"middle\" x=\"1811.5\" y=\"-119.3\" font-family=\"Helvetica,sans-Serif\" font-size=\"14.00\">samples = 3</text>\r\n",
       "<text text-anchor=\"middle\" x=\"1811.5\" y=\"-104.3\" font-family=\"Helvetica,sans-Serif\" font-size=\"14.00\">value = [0, 3]</text>\r\n",
       "</g>\r\n",
       "<!-- 54&#45;&gt;55 -->\r\n",
       "<g id=\"edge55\" class=\"edge\"><title>54&#45;&gt;55</title>\r\n",
       "<path fill=\"none\" stroke=\"black\" d=\"M1811.5,-192.884C1811.5,-182.326 1811.5,-170.597 1811.5,-159.854\"/>\r\n",
       "<polygon fill=\"black\" stroke=\"black\" points=\"1815,-159.52 1811.5,-149.52 1808,-159.52 1815,-159.52\"/>\r\n",
       "</g>\r\n",
       "<!-- 56 -->\r\n",
       "<g id=\"node57\" class=\"node\"><title>56</title>\r\n",
       "<path fill=\"#e58139\" stroke=\"black\" d=\"M1963,-149.5C1963,-149.5 1890,-149.5 1890,-149.5 1884,-149.5 1878,-143.5 1878,-137.5 1878,-137.5 1878,-108.5 1878,-108.5 1878,-102.5 1884,-96.5 1890,-96.5 1890,-96.5 1963,-96.5 1963,-96.5 1969,-96.5 1975,-102.5 1975,-108.5 1975,-108.5 1975,-137.5 1975,-137.5 1975,-143.5 1969,-149.5 1963,-149.5\"/>\r\n",
       "<text text-anchor=\"middle\" x=\"1926.5\" y=\"-134.3\" font-family=\"Helvetica,sans-Serif\" font-size=\"14.00\">gini = 0.0</text>\r\n",
       "<text text-anchor=\"middle\" x=\"1926.5\" y=\"-119.3\" font-family=\"Helvetica,sans-Serif\" font-size=\"14.00\">samples = 1</text>\r\n",
       "<text text-anchor=\"middle\" x=\"1926.5\" y=\"-104.3\" font-family=\"Helvetica,sans-Serif\" font-size=\"14.00\">value = [1, 0]</text>\r\n",
       "</g>\r\n",
       "<!-- 54&#45;&gt;56 -->\r\n",
       "<g id=\"edge56\" class=\"edge\"><title>54&#45;&gt;56</title>\r\n",
       "<path fill=\"none\" stroke=\"black\" d=\"M1848.84,-192.884C1862.1,-181.116 1877.01,-167.894 1890.19,-156.203\"/>\r\n",
       "<polygon fill=\"black\" stroke=\"black\" points=\"1892.57,-158.774 1897.73,-149.52 1887.92,-153.537 1892.57,-158.774\"/>\r\n",
       "</g>\r\n",
       "</g>\r\n",
       "</svg>\r\n"
      ],
      "text/plain": [
       "<graphviz.files.Source at 0x2648593cd08>"
      ]
     },
     "execution_count": 312,
     "metadata": {},
     "output_type": "execute_result"
    }
   ],
   "source": [
    "graphviz.Source(dot_data)"
   ]
  },
  {
   "cell_type": "markdown",
   "metadata": {},
   "source": [
    "# Interpreting the Decision Tree "
   ]
  },
  {
   "cell_type": "markdown",
   "metadata": {},
   "source": [
    "* Gini Index:\n",
    "     * it is also referred to as a node purity and the total variance across k classes. A small value of gini index indicated that a node predominantly contains observations from a single claa "
   ]
  },
  {
   "cell_type": "markdown",
   "metadata": {},
   "source": [
    "* we did not mentioned any hyper-parameters in the decision tree so it is recursively grown \n",
    "* Splitting predictor and Cuttof point : In this decision tree, The splitting predictor is Variance and Cutting value is 0.32 cents\n",
    "* root node is Variance\n",
    "* gini : Evolution metrics for this particular region is gini=0.493\n",
    "* samples : Number of observations in this particular region is 1097\n",
    "* value : The value for the predictions for this region is [615,482] that is 615 observations belongs to 0 class and 482 observations belongs to the 1 class\n",
    "     * Next, the decison tree splits into 2 internal nodes skewness<=7.764 if Variance <=0.32 and curtosis if variance >0.32\n",
    "      * Furtherly, the decison tree splits into many internal nodes and it is unstoppable bacause of not having any hyperparameters to stop the decision tree to grow from recursively\n",
    "      * There are many leaf nodes in the tree where each observation belongs to one of the two classes either o or 1 class\n",
    "      "
   ]
  },
  {
   "cell_type": "markdown",
   "metadata": {},
   "source": [
    "# Need of Hyper-Parameter Tuning "
   ]
  },
  {
   "cell_type": "markdown",
   "metadata": {},
   "source": [
    "# Grid Search to find the optimal value for the hyperparameters"
   ]
  },
  {
   "cell_type": "markdown",
   "metadata": {},
   "source": [
    "Importing GridSearchCV from sklearn.model_selection"
   ]
  },
  {
   "cell_type": "code",
   "execution_count": 313,
   "metadata": {},
   "outputs": [],
   "source": [
    "from sklearn.model_selection import GridSearchCV"
   ]
  },
  {
   "cell_type": "markdown",
   "metadata": {},
   "source": [
    "Let's use GridSearchCV to try max_depth values 2,3,4,None and 2,3,4 value for max_features hyperparameters. Specify 10 number of folds."
   ]
  },
  {
   "cell_type": "code",
   "execution_count": 314,
   "metadata": {},
   "outputs": [],
   "source": [
    "param_grid = [{\"max_depth\":[2,3,4,None], \"max_features\":[2,3,4,None]}]"
   ]
  },
  {
   "cell_type": "markdown",
   "metadata": {},
   "source": [
    "Performing GridSearchCV on the DecisionTreeClassifier by assigning param_grid values and 10 number of folds"
   ]
  },
  {
   "cell_type": "code",
   "execution_count": 315,
   "metadata": {},
   "outputs": [],
   "source": [
    "gs = GridSearchCV(estimator=DecisionTreeClassifier(random_state=123),\\\n",
    "                 param_grid = param_grid,\\\n",
    "                 cv=10)"
   ]
  },
  {
   "cell_type": "markdown",
   "metadata": {},
   "source": [
    "Fit the training data"
   ]
  },
  {
   "cell_type": "code",
   "execution_count": 316,
   "metadata": {},
   "outputs": [
    {
     "data": {
      "text/plain": [
       "GridSearchCV(cv=10, error_score='raise-deprecating',\n",
       "             estimator=DecisionTreeClassifier(class_weight=None,\n",
       "                                              criterion='gini', max_depth=None,\n",
       "                                              max_features=None,\n",
       "                                              max_leaf_nodes=None,\n",
       "                                              min_impurity_decrease=0.0,\n",
       "                                              min_impurity_split=None,\n",
       "                                              min_samples_leaf=1,\n",
       "                                              min_samples_split=2,\n",
       "                                              min_weight_fraction_leaf=0.0,\n",
       "                                              presort=False, random_state=123,\n",
       "                                              splitter='best'),\n",
       "             iid='warn', n_jobs=None,\n",
       "             param_grid=[{'max_depth': [2, 3, 4, None],\n",
       "                          'max_features': [2, 3, 4, None]}],\n",
       "             pre_dispatch='2*n_jobs', refit=True, return_train_score=False,\n",
       "             scoring=None, verbose=0)"
      ]
     },
     "execution_count": 316,
     "metadata": {},
     "output_type": "execute_result"
    }
   ],
   "source": [
    "gs.fit(X_train, Y_train)"
   ]
  },
  {
   "cell_type": "markdown",
   "metadata": {},
   "source": [
    "Print out all the hyperparameters combinations that the GridSearchCV has tried."
   ]
  },
  {
   "cell_type": "code",
   "execution_count": 317,
   "metadata": {},
   "outputs": [
    {
     "data": {
      "text/plain": [
       "[{'max_depth': 2, 'max_features': 2},\n",
       " {'max_depth': 2, 'max_features': 3},\n",
       " {'max_depth': 2, 'max_features': 4},\n",
       " {'max_depth': 2, 'max_features': None},\n",
       " {'max_depth': 3, 'max_features': 2},\n",
       " {'max_depth': 3, 'max_features': 3},\n",
       " {'max_depth': 3, 'max_features': 4},\n",
       " {'max_depth': 3, 'max_features': None},\n",
       " {'max_depth': 4, 'max_features': 2},\n",
       " {'max_depth': 4, 'max_features': 3},\n",
       " {'max_depth': 4, 'max_features': 4},\n",
       " {'max_depth': 4, 'max_features': None},\n",
       " {'max_depth': None, 'max_features': 2},\n",
       " {'max_depth': None, 'max_features': 3},\n",
       " {'max_depth': None, 'max_features': 4},\n",
       " {'max_depth': None, 'max_features': None}]"
      ]
     },
     "execution_count": 317,
     "metadata": {},
     "output_type": "execute_result"
    }
   ],
   "source": [
    "gs.cv_results_['params']"
   ]
  },
  {
   "cell_type": "markdown",
   "metadata": {},
   "source": [
    "Print best hyperparameters combination."
   ]
  },
  {
   "cell_type": "code",
   "execution_count": 318,
   "metadata": {},
   "outputs": [
    {
     "data": {
      "text/plain": [
       "{'max_depth': None, 'max_features': 2}"
      ]
     },
     "execution_count": 318,
     "metadata": {},
     "output_type": "execute_result"
    }
   ],
   "source": [
    "gs.best_params_"
   ]
  },
  {
   "cell_type": "markdown",
   "metadata": {},
   "source": [
    "print the rank for all of the tried combinations."
   ]
  },
  {
   "cell_type": "code",
   "execution_count": 319,
   "metadata": {},
   "outputs": [
    {
     "data": {
      "text/plain": [
       "array([16, 13, 13, 13, 12,  9,  9,  9,  7,  8,  5,  5,  1,  4,  1,  1])"
      ]
     },
     "execution_count": 319,
     "metadata": {},
     "output_type": "execute_result"
    }
   ],
   "source": [
    "gs.cv_results_['rank_test_score']"
   ]
  },
  {
   "cell_type": "markdown",
   "metadata": {},
   "source": [
    "Print the complete DecisionTree estimator."
   ]
  },
  {
   "cell_type": "code",
   "execution_count": 320,
   "metadata": {},
   "outputs": [
    {
     "data": {
      "text/plain": [
       "DecisionTreeClassifier(class_weight=None, criterion='gini', max_depth=None,\n",
       "                       max_features=2, max_leaf_nodes=None,\n",
       "                       min_impurity_decrease=0.0, min_impurity_split=None,\n",
       "                       min_samples_leaf=1, min_samples_split=2,\n",
       "                       min_weight_fraction_leaf=0.0, presort=False,\n",
       "                       random_state=123, splitter='best')"
      ]
     },
     "execution_count": 320,
     "metadata": {},
     "output_type": "execute_result"
    }
   ],
   "source": [
    "gs.best_estimator_"
   ]
  },
  {
   "cell_type": "markdown",
   "metadata": {},
   "source": [
    "# Interpreting the GridSearch estimator"
   ]
  },
  {
   "cell_type": "markdown",
   "metadata": {},
   "source": [
    "* Criterion : Evaluation criteria ( default for classifier: gini)\n",
    "* max_depth : The maximum allowed depth of the tree is None\n",
    "* max_Features : The maximum number of Features that are evaluated for splitting at each node is 2\n",
    "* max_leaf_nodes : Maximum number of leaf nodes is None\n",
    "* min_sample_split : The minimum number of samples a node must have before it can be split is 2\n",
    "* min_samples_leaf : The minimum number of samples a leaf node must have is 1"
   ]
  },
  {
   "cell_type": "markdown",
   "metadata": {},
   "source": [
    "Make predictions for the test set."
   ]
  },
  {
   "cell_type": "code",
   "execution_count": 321,
   "metadata": {},
   "outputs": [],
   "source": [
    "predictions = gs.predict(X_test)"
   ]
  },
  {
   "cell_type": "markdown",
   "metadata": {},
   "source": [
    "Calculate accuracy of prediction"
   ]
  },
  {
   "cell_type": "code",
   "execution_count": 322,
   "metadata": {},
   "outputs": [
    {
     "data": {
      "text/plain": [
       "0.9890909090909091"
      ]
     },
     "execution_count": 322,
     "metadata": {},
     "output_type": "execute_result"
    }
   ],
   "source": [
    "accuracy_score(Y_test, predictions)"
   ]
  },
  {
   "cell_type": "markdown",
   "metadata": {},
   "source": [
    "accuracy_score is good"
   ]
  },
  {
   "cell_type": "code",
   "execution_count": 323,
   "metadata": {},
   "outputs": [
    {
     "data": {
      "text/plain": [
       "272"
      ]
     },
     "execution_count": 323,
     "metadata": {},
     "output_type": "execute_result"
    }
   ],
   "source": [
    "accuracy_score(Y_test, predictions, normalize=False)"
   ]
  },
  {
   "cell_type": "markdown",
   "metadata": {},
   "source": [
    "# Plotting the confusion matrix"
   ]
  },
  {
   "cell_type": "code",
   "execution_count": 324,
   "metadata": {},
   "outputs": [],
   "source": [
    "confusion_mat = confusion_matrix(Y_test, predictions)\n",
    "confusion_df = pd.DataFrame(confusion_mat, index=['Authenticate','Fake'], columns=['Authenticate','Fake'])"
   ]
  },
  {
   "cell_type": "code",
   "execution_count": 325,
   "metadata": {},
   "outputs": [
    {
     "data": {
      "text/html": [
       "<div>\n",
       "<style scoped>\n",
       "    .dataframe tbody tr th:only-of-type {\n",
       "        vertical-align: middle;\n",
       "    }\n",
       "\n",
       "    .dataframe tbody tr th {\n",
       "        vertical-align: top;\n",
       "    }\n",
       "\n",
       "    .dataframe thead th {\n",
       "        text-align: right;\n",
       "    }\n",
       "</style>\n",
       "<table border=\"1\" class=\"dataframe\">\n",
       "  <thead>\n",
       "    <tr style=\"text-align: right;\">\n",
       "      <th></th>\n",
       "      <th>Authenticate</th>\n",
       "      <th>Fake</th>\n",
       "    </tr>\n",
       "  </thead>\n",
       "  <tbody>\n",
       "    <tr>\n",
       "      <td>Authenticate</td>\n",
       "      <td>146</td>\n",
       "      <td>1</td>\n",
       "    </tr>\n",
       "    <tr>\n",
       "      <td>Fake</td>\n",
       "      <td>2</td>\n",
       "      <td>126</td>\n",
       "    </tr>\n",
       "  </tbody>\n",
       "</table>\n",
       "</div>"
      ],
      "text/plain": [
       "              Authenticate  Fake\n",
       "Authenticate           146     1\n",
       "Fake                     2   126"
      ]
     },
     "execution_count": 325,
     "metadata": {},
     "output_type": "execute_result"
    }
   ],
   "source": [
    "confusion_df"
   ]
  },
  {
   "cell_type": "code",
   "execution_count": 326,
   "metadata": {},
   "outputs": [
    {
     "data": {
      "image/png": "[encoded data removed]",
      "text/plain": [
       "<Figure size 432x288 with 2 Axes>"
      ]
     },
     "metadata": {
      "needs_background": "light"
     },
     "output_type": "display_data"
    }
   ],
   "source": [
    "_=sns.heatmap(confusion_df, cmap='coolwarm', annot=True)"
   ]
  },
  {
   "cell_type": "markdown",
   "metadata": {},
   "source": [
    "* The original number of Aunthenticate Notes are 147 and predicted number of Authenticate notes are 148 (so False positive is 1)\n",
    "* The original number of Fake notes are 128 and the predicted number of Fake notes are 127 (so False Negative is 1)\n",
    "* True positives are 147\n",
    "* True negatives are 127"
   ]
  },
  {
   "cell_type": "markdown",
   "metadata": {},
   "source": [
    "# Implement the hyperparameters in decision tree"
   ]
  },
  {
   "cell_type": "markdown",
   "metadata": {},
   "source": [
    "set the hyperparameters as given by the gridsearch the best hyperparameters estimator"
   ]
  },
  {
   "cell_type": "code",
   "execution_count": 327,
   "metadata": {},
   "outputs": [],
   "source": [
    "tree2 = DecisionTreeClassifier(max_depth=None, max_features=2)"
   ]
  },
  {
   "cell_type": "markdown",
   "metadata": {},
   "source": [
    "fit the model"
   ]
  },
  {
   "cell_type": "code",
   "execution_count": 328,
   "metadata": {},
   "outputs": [
    {
     "data": {
      "text/plain": [
       "DecisionTreeClassifier(class_weight=None, criterion='gini', max_depth=None,\n",
       "                       max_features=2, max_leaf_nodes=None,\n",
       "                       min_impurity_decrease=0.0, min_impurity_split=None,\n",
       "                       min_samples_leaf=1, min_samples_split=2,\n",
       "                       min_weight_fraction_leaf=0.0, presort=False,\n",
       "                       random_state=None, splitter='best')"
      ]
     },
     "execution_count": 328,
     "metadata": {},
     "output_type": "execute_result"
    }
   ],
   "source": [
    "tree2.fit(X_train, Y_train)"
   ]
  },
  {
   "cell_type": "markdown",
   "metadata": {},
   "source": [
    "# Interpreting the parameters"
   ]
  },
  {
   "cell_type": "markdown",
   "metadata": {},
   "source": [
    "* Criterion : Evaluation criteria ( default for classifier: gini)\n",
    "* max_depth : The maximum allowed depth of the tree is None\n",
    "* max_Features : The maximum number of Features that are evaluated for splitting at each node is 2\n",
    "* max_leaf_nodes : Maximum number of leaf nodes is None\n",
    "* min_sample_split : The minimum number of samples a node must have before it can be split is 2\n",
    "* min_samples_leaf : The minimum number of samples a leaf node must have is 1"
   ]
  },
  {
   "cell_type": "markdown",
   "metadata": {},
   "source": [
    "Make predictions and evaluate output.\n",
    "\n"
   ]
  },
  {
   "cell_type": "code",
   "execution_count": 329,
   "metadata": {},
   "outputs": [],
   "source": [
    "predictions2 = tree2.predict(X_test)"
   ]
  },
  {
   "cell_type": "markdown",
   "metadata": {},
   "source": [
    "Check the top 5 predictions and actual values."
   ]
  },
  {
   "cell_type": "code",
   "execution_count": 330,
   "metadata": {},
   "outputs": [
    {
     "data": {
      "text/plain": [
       "array([0, 0, 0, 0, 1], dtype=int64)"
      ]
     },
     "execution_count": 330,
     "metadata": {},
     "output_type": "execute_result"
    }
   ],
   "source": [
    "predictions2[:5]"
   ]
  },
  {
   "cell_type": "code",
   "execution_count": 331,
   "metadata": {},
   "outputs": [
    {
     "data": {
      "text/plain": [
       "657     0\n",
       "18      0\n",
       "700     0\n",
       "221     0\n",
       "1219    1\n",
       "Name: Class, dtype: int64"
      ]
     },
     "execution_count": 331,
     "metadata": {},
     "output_type": "execute_result"
    }
   ],
   "source": [
    "Y_test[:5]"
   ]
  },
  {
   "cell_type": "markdown",
   "metadata": {},
   "source": [
    "We see that the predictions are pretty accurate. Let's evaluate the prediction accuracy."
   ]
  },
  {
   "cell_type": "code",
   "execution_count": 332,
   "metadata": {},
   "outputs": [
    {
     "data": {
      "text/plain": [
       "0.9890909090909091"
      ]
     },
     "execution_count": 332,
     "metadata": {},
     "output_type": "execute_result"
    }
   ],
   "source": [
    "accuracy_score(Y_test, predictions2)"
   ]
  },
  {
   "cell_type": "markdown",
   "metadata": {},
   "source": [
    "Accuracy_score is improved by using the hyperparameters given by the gridsearch best estimators"
   ]
  },
  {
   "cell_type": "code",
   "execution_count": 333,
   "metadata": {},
   "outputs": [
    {
     "data": {
      "text/plain": [
       "272"
      ]
     },
     "execution_count": 333,
     "metadata": {},
     "output_type": "execute_result"
    }
   ],
   "source": [
    "accuracy_score(Y_test, predictions2, normalize=False)"
   ]
  },
  {
   "cell_type": "markdown",
   "metadata": {},
   "source": [
    "Out of 275 test data 274 values are predicted accuratelty, model prediction is very high and accuracy is improved"
   ]
  },
  {
   "cell_type": "markdown",
   "metadata": {},
   "source": [
    "# Plotting the confusion matrix\n"
   ]
  },
  {
   "cell_type": "code",
   "execution_count": 334,
   "metadata": {},
   "outputs": [],
   "source": [
    "confusion_mat = confusion_matrix(Y_test, predictions2)\n",
    "confusion_df = pd.DataFrame(confusion_mat, index=['Authenticate','Fake'], columns=['Authenticate','Fake'])"
   ]
  },
  {
   "cell_type": "code",
   "execution_count": 335,
   "metadata": {},
   "outputs": [
    {
     "data": {
      "text/html": [
       "<div>\n",
       "<style scoped>\n",
       "    .dataframe tbody tr th:only-of-type {\n",
       "        vertical-align: middle;\n",
       "    }\n",
       "\n",
       "    .dataframe tbody tr th {\n",
       "        vertical-align: top;\n",
       "    }\n",
       "\n",
       "    .dataframe thead th {\n",
       "        text-align: right;\n",
       "    }\n",
       "</style>\n",
       "<table border=\"1\" class=\"dataframe\">\n",
       "  <thead>\n",
       "    <tr style=\"text-align: right;\">\n",
       "      <th></th>\n",
       "      <th>Authenticate</th>\n",
       "      <th>Fake</th>\n",
       "    </tr>\n",
       "  </thead>\n",
       "  <tbody>\n",
       "    <tr>\n",
       "      <td>Authenticate</td>\n",
       "      <td>146</td>\n",
       "      <td>1</td>\n",
       "    </tr>\n",
       "    <tr>\n",
       "      <td>Fake</td>\n",
       "      <td>2</td>\n",
       "      <td>126</td>\n",
       "    </tr>\n",
       "  </tbody>\n",
       "</table>\n",
       "</div>"
      ],
      "text/plain": [
       "              Authenticate  Fake\n",
       "Authenticate           146     1\n",
       "Fake                     2   126"
      ]
     },
     "execution_count": 335,
     "metadata": {},
     "output_type": "execute_result"
    }
   ],
   "source": [
    "confusion_df"
   ]
  },
  {
   "cell_type": "code",
   "execution_count": 336,
   "metadata": {},
   "outputs": [
    {
     "data": {
      "image/png": "[encoded data removed]",
      "text/plain": [
       "<Figure size 432x288 with 2 Axes>"
      ]
     },
     "metadata": {
      "needs_background": "light"
     },
     "output_type": "display_data"
    }
   ],
   "source": [
    "_=sns.heatmap(confusion_df, cmap='coolwarm', annot=True)"
   ]
  },
  {
   "cell_type": "markdown",
   "metadata": {},
   "source": [
    "# Interpreting the Confusion matrix "
   ]
  },
  {
   "cell_type": "markdown",
   "metadata": {},
   "source": [
    "* The original number of Aunthenticate Notes are 147 and predicted number of Authenticate notes are 148 (so False positive is 1)\n",
    "* The original number of Fake notes are 128 and the predicted number of Fake notes are 127 (so False Negative is 1)\n",
    "* True positives are 147\n",
    "* True negatives are 127\n",
    "* Recall is improved"
   ]
  },
  {
   "cell_type": "markdown",
   "metadata": {},
   "source": [
    "# Plotting the decision tree"
   ]
  },
  {
   "cell_type": "code",
   "execution_count": 337,
   "metadata": {},
   "outputs": [],
   "source": [
    "dot_data = export_graphviz(tree2, filled=True, rounded=True, feature_names=X_train.columns, out_file=None)"
   ]
  },
  {
   "cell_type": "code",
   "execution_count": 338,
   "metadata": {},
   "outputs": [
    {
     "data": {
      "image/svg+xml": [
       "<?xml version=\"1.0\" encoding=\"UTF-8\" standalone=\"no\"?>\r\n",
       "<!DOCTYPE svg PUBLIC \"-//W3C//DTD SVG 1.1//EN\"\r\n",
       " \"http://www.w3.org/Graphics/SVG/1.1/DTD/svg11.dtd\">\r\n",
       "<!-- Generated by graphviz version 2.38.0 (20140413.2041)\r\n",
       " -->\r\n",
       "<!-- Title: Tree Pages: 1 -->\r\n",
       "<svg width=\"1644pt\" height=\"997pt\"\r\n",
       " viewBox=\"0.00 0.00 1644.00 997.00\" xmlns=\"http://www.w3.org/2000/svg\" xmlns:xlink=\"http://www.w3.org/1999/xlink\">\r\n",
       "<g id=\"graph0\" class=\"graph\" transform=\"scale(1 1) rotate(0) translate(4 993)\">\r\n",
       "<title>Tree</title>\r\n",
       "<polygon fill=\"white\" stroke=\"none\" points=\"-4,4 -4,-993 1640,-993 1640,4 -4,4\"/>\r\n",
       "<!-- 0 -->\r\n",
       "<g id=\"node1\" class=\"node\"><title>0</title>\r\n",
       "<path fill=\"#f9e4d4\" stroke=\"black\" d=\"M1105,-989C1105,-989 986,-989 986,-989 980,-989 974,-983 974,-977 974,-977 974,-933 974,-933 974,-927 980,-921 986,-921 986,-921 1105,-921 1105,-921 1111,-921 1117,-927 1117,-933 1117,-933 1117,-977 1117,-977 1117,-983 1111,-989 1105,-989\"/>\r\n",
       "<text text-anchor=\"middle\" x=\"1045.5\" y=\"-973.8\" font-family=\"Helvetica,sans-Serif\" font-size=\"14.00\">Skewness &lt;= 5.096</text>\r\n",
       "<text text-anchor=\"middle\" x=\"1045.5\" y=\"-958.8\" font-family=\"Helvetica,sans-Serif\" font-size=\"14.00\">gini = 0.493</text>\r\n",
       "<text text-anchor=\"middle\" x=\"1045.5\" y=\"-943.8\" font-family=\"Helvetica,sans-Serif\" font-size=\"14.00\">samples = 1097</text>\r\n",
       "<text text-anchor=\"middle\" x=\"1045.5\" y=\"-928.8\" font-family=\"Helvetica,sans-Serif\" font-size=\"14.00\">value = [615, 482]</text>\r\n",
       "</g>\r\n",
       "<!-- 1 -->\r\n",
       "<g id=\"node2\" class=\"node\"><title>1</title>\r\n",
       "<path fill=\"#bddef6\" stroke=\"black\" d=\"M1009,-885C1009,-885 900,-885 900,-885 894,-885 888,-879 888,-873 888,-873 888,-829 888,-829 888,-823 894,-817 900,-817 900,-817 1009,-817 1009,-817 1015,-817 1021,-823 1021,-829 1021,-829 1021,-873 1021,-873 1021,-879 1015,-885 1009,-885\"/>\r\n",
       "<text text-anchor=\"middle\" x=\"954.5\" y=\"-869.8\" font-family=\"Helvetica,sans-Serif\" font-size=\"14.00\">Variance &lt;= 1.259</text>\r\n",
       "<text text-anchor=\"middle\" x=\"954.5\" y=\"-854.8\" font-family=\"Helvetica,sans-Serif\" font-size=\"14.00\">gini = 0.48</text>\r\n",
       "<text text-anchor=\"middle\" x=\"954.5\" y=\"-839.8\" font-family=\"Helvetica,sans-Serif\" font-size=\"14.00\">samples = 750</text>\r\n",
       "<text text-anchor=\"middle\" x=\"954.5\" y=\"-824.8\" font-family=\"Helvetica,sans-Serif\" font-size=\"14.00\">value = [300, 450]</text>\r\n",
       "</g>\r\n",
       "<!-- 0&#45;&gt;1 -->\r\n",
       "<g id=\"edge1\" class=\"edge\"><title>0&#45;&gt;1</title>\r\n",
       "<path fill=\"none\" stroke=\"black\" d=\"M1015.95,-920.884C1008.01,-911.976 999.318,-902.235 991.04,-892.957\"/>\r\n",
       "<polygon fill=\"black\" stroke=\"black\" points=\"993.477,-890.431 984.208,-885.299 988.254,-895.091 993.477,-890.431\"/>\r\n",
       "<text text-anchor=\"middle\" x=\"982.786\" y=\"-906.559\" font-family=\"Helvetica,sans-Serif\" font-size=\"14.00\">True</text>\r\n",
       "</g>\r\n",
       "<!-- 36 -->\r\n",
       "<g id=\"node37\" class=\"node\"><title>36</title>\r\n",
       "<path fill=\"#e88e4d\" stroke=\"black\" d=\"M1193,-885C1193,-885 1080,-885 1080,-885 1074,-885 1068,-879 1068,-873 1068,-873 1068,-829 1068,-829 1068,-823 1074,-817 1080,-817 1080,-817 1193,-817 1193,-817 1199,-817 1205,-823 1205,-829 1205,-829 1205,-873 1205,-873 1205,-879 1199,-885 1193,-885\"/>\r\n",
       "<text text-anchor=\"middle\" x=\"1136.5\" y=\"-869.8\" font-family=\"Helvetica,sans-Serif\" font-size=\"14.00\">Variance &lt;= &#45;3.368</text>\r\n",
       "<text text-anchor=\"middle\" x=\"1136.5\" y=\"-854.8\" font-family=\"Helvetica,sans-Serif\" font-size=\"14.00\">gini = 0.167</text>\r\n",
       "<text text-anchor=\"middle\" x=\"1136.5\" y=\"-839.8\" font-family=\"Helvetica,sans-Serif\" font-size=\"14.00\">samples = 347</text>\r\n",
       "<text text-anchor=\"middle\" x=\"1136.5\" y=\"-824.8\" font-family=\"Helvetica,sans-Serif\" font-size=\"14.00\">value = [315, 32]</text>\r\n",
       "</g>\r\n",
       "<!-- 0&#45;&gt;36 -->\r\n",
       "<g id=\"edge36\" class=\"edge\"><title>0&#45;&gt;36</title>\r\n",
       "<path fill=\"none\" stroke=\"black\" d=\"M1075.05,-920.884C1082.99,-911.976 1091.68,-902.235 1099.96,-892.957\"/>\r\n",
       "<polygon fill=\"black\" stroke=\"black\" points=\"1102.75,-895.091 1106.79,-885.299 1097.52,-890.431 1102.75,-895.091\"/>\r\n",
       "<text text-anchor=\"middle\" x=\"1108.21\" y=\"-906.559\" font-family=\"Helvetica,sans-Serif\" font-size=\"14.00\">False</text>\r\n",
       "</g>\r\n",
       "<!-- 2 -->\r\n",
       "<g id=\"node3\" class=\"node\"><title>2</title>\r\n",
       "<path fill=\"#55abe9\" stroke=\"black\" d=\"M685,-781C685,-781 562,-781 562,-781 556,-781 550,-775 550,-769 550,-769 550,-725 550,-725 550,-719 556,-713 562,-713 562,-713 685,-713 685,-713 691,-713 697,-719 697,-725 697,-725 697,-769 697,-769 697,-775 691,-781 685,-781\"/>\r\n",
       "<text text-anchor=\"middle\" x=\"623.5\" y=\"-765.8\" font-family=\"Helvetica,sans-Serif\" font-size=\"14.00\">Skewness &lt;= &#45;4.675</text>\r\n",
       "<text text-anchor=\"middle\" x=\"623.5\" y=\"-750.8\" font-family=\"Helvetica,sans-Serif\" font-size=\"14.00\">gini = 0.218</text>\r\n",
       "<text text-anchor=\"middle\" x=\"623.5\" y=\"-735.8\" font-family=\"Helvetica,sans-Serif\" font-size=\"14.00\">samples = 491</text>\r\n",
       "<text text-anchor=\"middle\" x=\"623.5\" y=\"-720.8\" font-family=\"Helvetica,sans-Serif\" font-size=\"14.00\">value = [61, 430]</text>\r\n",
       "</g>\r\n",
       "<!-- 1&#45;&gt;2 -->\r\n",
       "<g id=\"edge2\" class=\"edge\"><title>1&#45;&gt;2</title>\r\n",
       "<path fill=\"none\" stroke=\"black\" d=\"M887.915,-829.481C835.824,-813.429 763.081,-791.013 707.076,-773.755\"/>\r\n",
       "<polygon fill=\"black\" stroke=\"black\" points=\"707.765,-770.304 697.178,-770.704 705.703,-776.994 707.765,-770.304\"/>\r\n",
       "</g>\r\n",
       "<!-- 29 -->\r\n",
       "<g id=\"node30\" class=\"node\"><title>29</title>\r\n",
       "<path fill=\"#e78c4a\" stroke=\"black\" d=\"M1009.5,-781C1009.5,-781 899.5,-781 899.5,-781 893.5,-781 887.5,-775 887.5,-769 887.5,-769 887.5,-725 887.5,-725 887.5,-719 893.5,-713 899.5,-713 899.5,-713 1009.5,-713 1009.5,-713 1015.5,-713 1021.5,-719 1021.5,-725 1021.5,-725 1021.5,-769 1021.5,-769 1021.5,-775 1015.5,-781 1009.5,-781\"/>\r\n",
       "<text text-anchor=\"middle\" x=\"954.5\" y=\"-765.8\" font-family=\"Helvetica,sans-Serif\" font-size=\"14.00\">Curtosis &lt;= &#45;2.276</text>\r\n",
       "<text text-anchor=\"middle\" x=\"954.5\" y=\"-750.8\" font-family=\"Helvetica,sans-Serif\" font-size=\"14.00\">gini = 0.143</text>\r\n",
       "<text text-anchor=\"middle\" x=\"954.5\" y=\"-735.8\" font-family=\"Helvetica,sans-Serif\" font-size=\"14.00\">samples = 259</text>\r\n",
       "<text text-anchor=\"middle\" x=\"954.5\" y=\"-720.8\" font-family=\"Helvetica,sans-Serif\" font-size=\"14.00\">value = [239, 20]</text>\r\n",
       "</g>\r\n",
       "<!-- 1&#45;&gt;29 -->\r\n",
       "<g id=\"edge29\" class=\"edge\"><title>1&#45;&gt;29</title>\r\n",
       "<path fill=\"none\" stroke=\"black\" d=\"M954.5,-816.884C954.5,-808.778 954.5,-799.982 954.5,-791.472\"/>\r\n",
       "<polygon fill=\"black\" stroke=\"black\" points=\"958,-791.299 954.5,-781.299 951,-791.299 958,-791.299\"/>\r\n",
       "</g>\r\n",
       "<!-- 3 -->\r\n",
       "<g id=\"node4\" class=\"node\"><title>3</title>\r\n",
       "<path fill=\"#3d9fe6\" stroke=\"black\" d=\"M394,-677C394,-677 287,-677 287,-677 281,-677 275,-671 275,-665 275,-665 275,-621 275,-621 275,-615 281,-609 287,-609 287,-609 394,-609 394,-609 400,-609 406,-615 406,-621 406,-621 406,-665 406,-665 406,-671 400,-677 394,-677\"/>\r\n",
       "<text text-anchor=\"middle\" x=\"340.5\" y=\"-661.8\" font-family=\"Helvetica,sans-Serif\" font-size=\"14.00\">Entropy &lt;= &#45;1.291</text>\r\n",
       "<text text-anchor=\"middle\" x=\"340.5\" y=\"-646.8\" font-family=\"Helvetica,sans-Serif\" font-size=\"14.00\">gini = 0.04</text>\r\n",
       "<text text-anchor=\"middle\" x=\"340.5\" y=\"-631.8\" font-family=\"Helvetica,sans-Serif\" font-size=\"14.00\">samples = 146</text>\r\n",
       "<text text-anchor=\"middle\" x=\"340.5\" y=\"-616.8\" font-family=\"Helvetica,sans-Serif\" font-size=\"14.00\">value = [3, 143]</text>\r\n",
       "</g>\r\n",
       "<!-- 2&#45;&gt;3 -->\r\n",
       "<g id=\"edge3\" class=\"edge\"><title>2&#45;&gt;3</title>\r\n",
       "<path fill=\"none\" stroke=\"black\" d=\"M549.884,-719.467C508.557,-704.572 457.105,-686.027 415.548,-671.049\"/>\r\n",
       "<polygon fill=\"black\" stroke=\"black\" points=\"416.62,-667.715 406.026,-667.617 414.247,-674.301 416.62,-667.715\"/>\r\n",
       "</g>\r\n",
       "<!-- 8 -->\r\n",
       "<g id=\"node9\" class=\"node\"><title>8</title>\r\n",
       "<path fill=\"#61b1ea\" stroke=\"black\" d=\"M676.5,-677C676.5,-677 570.5,-677 570.5,-677 564.5,-677 558.5,-671 558.5,-665 558.5,-665 558.5,-621 558.5,-621 558.5,-615 564.5,-609 570.5,-609 570.5,-609 676.5,-609 676.5,-609 682.5,-609 688.5,-615 688.5,-621 688.5,-621 688.5,-665 688.5,-665 688.5,-671 682.5,-677 676.5,-677\"/>\r\n",
       "<text text-anchor=\"middle\" x=\"623.5\" y=\"-661.8\" font-family=\"Helvetica,sans-Serif\" font-size=\"14.00\">Curtosis &lt;= 4.275</text>\r\n",
       "<text text-anchor=\"middle\" x=\"623.5\" y=\"-646.8\" font-family=\"Helvetica,sans-Serif\" font-size=\"14.00\">gini = 0.28</text>\r\n",
       "<text text-anchor=\"middle\" x=\"623.5\" y=\"-631.8\" font-family=\"Helvetica,sans-Serif\" font-size=\"14.00\">samples = 345</text>\r\n",
       "<text text-anchor=\"middle\" x=\"623.5\" y=\"-616.8\" font-family=\"Helvetica,sans-Serif\" font-size=\"14.00\">value = [58, 287]</text>\r\n",
       "</g>\r\n",
       "<!-- 2&#45;&gt;8 -->\r\n",
       "<g id=\"edge8\" class=\"edge\"><title>2&#45;&gt;8</title>\r\n",
       "<path fill=\"none\" stroke=\"black\" d=\"M623.5,-712.884C623.5,-704.778 623.5,-695.982 623.5,-687.472\"/>\r\n",
       "<polygon fill=\"black\" stroke=\"black\" points=\"627,-687.299 623.5,-677.299 620,-687.299 627,-687.299\"/>\r\n",
       "</g>\r\n",
       "<!-- 4 -->\r\n",
       "<g id=\"node5\" class=\"node\"><title>4</title>\r\n",
       "<path fill=\"#4ca6e8\" stroke=\"black\" d=\"M228,-573C228,-573 115,-573 115,-573 109,-573 103,-567 103,-561 103,-561 103,-517 103,-517 103,-511 109,-505 115,-505 115,-505 228,-505 228,-505 234,-505 240,-511 240,-517 240,-517 240,-561 240,-561 240,-567 234,-573 228,-573\"/>\r\n",
       "<text text-anchor=\"middle\" x=\"171.5\" y=\"-557.8\" font-family=\"Helvetica,sans-Serif\" font-size=\"14.00\">Variance &lt;= &#45;1.108</text>\r\n",
       "<text text-anchor=\"middle\" x=\"171.5\" y=\"-542.8\" font-family=\"Helvetica,sans-Serif\" font-size=\"14.00\">gini = 0.161</text>\r\n",
       "<text text-anchor=\"middle\" x=\"171.5\" y=\"-527.8\" font-family=\"Helvetica,sans-Serif\" font-size=\"14.00\">samples = 34</text>\r\n",
       "<text text-anchor=\"middle\" x=\"171.5\" y=\"-512.8\" font-family=\"Helvetica,sans-Serif\" font-size=\"14.00\">value = [3, 31]</text>\r\n",
       "</g>\r\n",
       "<!-- 3&#45;&gt;4 -->\r\n",
       "<g id=\"edge4\" class=\"edge\"><title>3&#45;&gt;4</title>\r\n",
       "<path fill=\"none\" stroke=\"black\" d=\"M285.631,-608.884C269.462,-599.125 251.636,-588.366 234.975,-578.31\"/>\r\n",
       "<polygon fill=\"black\" stroke=\"black\" points=\"236.753,-575.296 226.383,-573.125 233.136,-581.289 236.753,-575.296\"/>\r\n",
       "</g>\r\n",
       "<!-- 7 -->\r\n",
       "<g id=\"node8\" class=\"node\"><title>7</title>\r\n",
       "<path fill=\"#399de5\" stroke=\"black\" d=\"M385,-565.5C385,-565.5 296,-565.5 296,-565.5 290,-565.5 284,-559.5 284,-553.5 284,-553.5 284,-524.5 284,-524.5 284,-518.5 290,-512.5 296,-512.5 296,-512.5 385,-512.5 385,-512.5 391,-512.5 397,-518.5 397,-524.5 397,-524.5 397,-553.5 397,-553.5 397,-559.5 391,-565.5 385,-565.5\"/>\r\n",
       "<text text-anchor=\"middle\" x=\"340.5\" y=\"-550.3\" font-family=\"Helvetica,sans-Serif\" font-size=\"14.00\">gini = 0.0</text>\r\n",
       "<text text-anchor=\"middle\" x=\"340.5\" y=\"-535.3\" font-family=\"Helvetica,sans-Serif\" font-size=\"14.00\">samples = 112</text>\r\n",
       "<text text-anchor=\"middle\" x=\"340.5\" y=\"-520.3\" font-family=\"Helvetica,sans-Serif\" font-size=\"14.00\">value = [0, 112]</text>\r\n",
       "</g>\r\n",
       "<!-- 3&#45;&gt;7 -->\r\n",
       "<g id=\"edge7\" class=\"edge\"><title>3&#45;&gt;7</title>\r\n",
       "<path fill=\"none\" stroke=\"black\" d=\"M340.5,-608.884C340.5,-598.326 340.5,-586.597 340.5,-575.854\"/>\r\n",
       "<polygon fill=\"black\" stroke=\"black\" points=\"344,-575.52 340.5,-565.52 337,-575.52 344,-575.52\"/>\r\n",
       "</g>\r\n",
       "<!-- 5 -->\r\n",
       "<g id=\"node6\" class=\"node\"><title>5</title>\r\n",
       "<path fill=\"#399de5\" stroke=\"black\" d=\"M93,-461.5C93,-461.5 12,-461.5 12,-461.5 6,-461.5 0,-455.5 0,-449.5 0,-449.5 0,-420.5 0,-420.5 0,-414.5 6,-408.5 12,-408.5 12,-408.5 93,-408.5 93,-408.5 99,-408.5 105,-414.5 105,-420.5 105,-420.5 105,-449.5 105,-449.5 105,-455.5 99,-461.5 93,-461.5\"/>\r\n",
       "<text text-anchor=\"middle\" x=\"52.5\" y=\"-446.3\" font-family=\"Helvetica,sans-Serif\" font-size=\"14.00\">gini = 0.0</text>\r\n",
       "<text text-anchor=\"middle\" x=\"52.5\" y=\"-431.3\" font-family=\"Helvetica,sans-Serif\" font-size=\"14.00\">samples = 31</text>\r\n",
       "<text text-anchor=\"middle\" x=\"52.5\" y=\"-416.3\" font-family=\"Helvetica,sans-Serif\" font-size=\"14.00\">value = [0, 31]</text>\r\n",
       "</g>\r\n",
       "<!-- 4&#45;&gt;5 -->\r\n",
       "<g id=\"edge5\" class=\"edge\"><title>4&#45;&gt;5</title>\r\n",
       "<path fill=\"none\" stroke=\"black\" d=\"M132.864,-504.884C119.135,-493.116 103.709,-479.894 90.0706,-468.203\"/>\r\n",
       "<polygon fill=\"black\" stroke=\"black\" points=\"92.1436,-465.37 82.2733,-461.52 87.5881,-470.685 92.1436,-465.37\"/>\r\n",
       "</g>\r\n",
       "<!-- 6 -->\r\n",
       "<g id=\"node7\" class=\"node\"><title>6</title>\r\n",
       "<path fill=\"#e58139\" stroke=\"black\" d=\"M208,-461.5C208,-461.5 135,-461.5 135,-461.5 129,-461.5 123,-455.5 123,-449.5 123,-449.5 123,-420.5 123,-420.5 123,-414.5 129,-408.5 135,-408.5 135,-408.5 208,-408.5 208,-408.5 214,-408.5 220,-414.5 220,-420.5 220,-420.5 220,-449.5 220,-449.5 220,-455.5 214,-461.5 208,-461.5\"/>\r\n",
       "<text text-anchor=\"middle\" x=\"171.5\" y=\"-446.3\" font-family=\"Helvetica,sans-Serif\" font-size=\"14.00\">gini = 0.0</text>\r\n",
       "<text text-anchor=\"middle\" x=\"171.5\" y=\"-431.3\" font-family=\"Helvetica,sans-Serif\" font-size=\"14.00\">samples = 3</text>\r\n",
       "<text text-anchor=\"middle\" x=\"171.5\" y=\"-416.3\" font-family=\"Helvetica,sans-Serif\" font-size=\"14.00\">value = [3, 0]</text>\r\n",
       "</g>\r\n",
       "<!-- 4&#45;&gt;6 -->\r\n",
       "<g id=\"edge6\" class=\"edge\"><title>4&#45;&gt;6</title>\r\n",
       "<path fill=\"none\" stroke=\"black\" d=\"M171.5,-504.884C171.5,-494.326 171.5,-482.597 171.5,-471.854\"/>\r\n",
       "<polygon fill=\"black\" stroke=\"black\" points=\"175,-471.52 171.5,-461.52 168,-471.52 175,-471.52\"/>\r\n",
       "</g>\r\n",
       "<!-- 9 -->\r\n",
       "<g id=\"node10\" class=\"node\"><title>9</title>\r\n",
       "<path fill=\"#43a2e6\" stroke=\"black\" d=\"M540,-573C540,-573 431,-573 431,-573 425,-573 419,-567 419,-561 419,-561 419,-517 419,-517 419,-511 425,-505 431,-505 431,-505 540,-505 540,-505 546,-505 552,-511 552,-517 552,-517 552,-561 552,-561 552,-567 546,-573 540,-573\"/>\r\n",
       "<text text-anchor=\"middle\" x=\"485.5\" y=\"-557.8\" font-family=\"Helvetica,sans-Serif\" font-size=\"14.00\">Variance &lt;= 0.325</text>\r\n",
       "<text text-anchor=\"middle\" x=\"485.5\" y=\"-542.8\" font-family=\"Helvetica,sans-Serif\" font-size=\"14.00\">gini = 0.095</text>\r\n",
       "<text text-anchor=\"middle\" x=\"485.5\" y=\"-527.8\" font-family=\"Helvetica,sans-Serif\" font-size=\"14.00\">samples = 301</text>\r\n",
       "<text text-anchor=\"middle\" x=\"485.5\" y=\"-512.8\" font-family=\"Helvetica,sans-Serif\" font-size=\"14.00\">value = [15, 286]</text>\r\n",
       "</g>\r\n",
       "<!-- 8&#45;&gt;9 -->\r\n",
       "<g id=\"edge9\" class=\"edge\"><title>8&#45;&gt;9</title>\r\n",
       "<path fill=\"none\" stroke=\"black\" d=\"M578.695,-608.884C565.921,-599.442 551.88,-589.064 538.659,-579.292\"/>\r\n",
       "<polygon fill=\"black\" stroke=\"black\" points=\"540.674,-576.429 530.552,-573.299 536.513,-582.058 540.674,-576.429\"/>\r\n",
       "</g>\r\n",
       "<!-- 24 -->\r\n",
       "<g id=\"node25\" class=\"node\"><title>24</title>\r\n",
       "<path fill=\"#e6843e\" stroke=\"black\" d=\"M746,-573C746,-573 623,-573 623,-573 617,-573 611,-567 611,-561 611,-561 611,-517 611,-517 611,-511 617,-505 623,-505 623,-505 746,-505 746,-505 752,-505 758,-511 758,-517 758,-517 758,-561 758,-561 758,-567 752,-573 746,-573\"/>\r\n",
       "<text text-anchor=\"middle\" x=\"684.5\" y=\"-557.8\" font-family=\"Helvetica,sans-Serif\" font-size=\"14.00\">Skewness &lt;= &#45;4.506</text>\r\n",
       "<text text-anchor=\"middle\" x=\"684.5\" y=\"-542.8\" font-family=\"Helvetica,sans-Serif\" font-size=\"14.00\">gini = 0.044</text>\r\n",
       "<text text-anchor=\"middle\" x=\"684.5\" y=\"-527.8\" font-family=\"Helvetica,sans-Serif\" font-size=\"14.00\">samples = 44</text>\r\n",
       "<text text-anchor=\"middle\" x=\"684.5\" y=\"-512.8\" font-family=\"Helvetica,sans-Serif\" font-size=\"14.00\">value = [43, 1]</text>\r\n",
       "</g>\r\n",
       "<!-- 8&#45;&gt;24 -->\r\n",
       "<g id=\"edge24\" class=\"edge\"><title>8&#45;&gt;24</title>\r\n",
       "<path fill=\"none\" stroke=\"black\" d=\"M643.305,-608.884C648.419,-600.332 653.992,-591.013 659.339,-582.072\"/>\r\n",
       "<polygon fill=\"black\" stroke=\"black\" points=\"662.457,-583.678 664.586,-573.299 656.449,-580.085 662.457,-583.678\"/>\r\n",
       "</g>\r\n",
       "<!-- 10 -->\r\n",
       "<g id=\"node11\" class=\"node\"><title>10</title>\r\n",
       "<path fill=\"#3a9de5\" stroke=\"black\" d=\"M369,-469C369,-469 250,-469 250,-469 244,-469 238,-463 238,-457 238,-457 238,-413 238,-413 238,-407 244,-401 250,-401 250,-401 369,-401 369,-401 375,-401 381,-407 381,-413 381,-413 381,-457 381,-457 381,-463 375,-469 369,-469\"/>\r\n",
       "<text text-anchor=\"middle\" x=\"309.5\" y=\"-453.8\" font-family=\"Helvetica,sans-Serif\" font-size=\"14.00\">Skewness &lt;= 4.094</text>\r\n",
       "<text text-anchor=\"middle\" x=\"309.5\" y=\"-438.8\" font-family=\"Helvetica,sans-Serif\" font-size=\"14.00\">gini = 0.008</text>\r\n",
       "<text text-anchor=\"middle\" x=\"309.5\" y=\"-423.8\" font-family=\"Helvetica,sans-Serif\" font-size=\"14.00\">samples = 245</text>\r\n",
       "<text text-anchor=\"middle\" x=\"309.5\" y=\"-408.8\" font-family=\"Helvetica,sans-Serif\" font-size=\"14.00\">value = [1, 244]</text>\r\n",
       "</g>\r\n",
       "<!-- 9&#45;&gt;10 -->\r\n",
       "<g id=\"edge10\" class=\"edge\"><title>9&#45;&gt;10</title>\r\n",
       "<path fill=\"none\" stroke=\"black\" d=\"M428.358,-504.884C411.52,-495.125 392.955,-484.366 375.604,-474.31\"/>\r\n",
       "<polygon fill=\"black\" stroke=\"black\" points=\"377.063,-471.111 366.656,-469.125 373.553,-477.167 377.063,-471.111\"/>\r\n",
       "</g>\r\n",
       "<!-- 15 -->\r\n",
       "<g id=\"node16\" class=\"node\"><title>15</title>\r\n",
       "<path fill=\"#7bbeee\" stroke=\"black\" d=\"M539,-469C539,-469 432,-469 432,-469 426,-469 420,-463 420,-457 420,-457 420,-413 420,-413 420,-407 426,-401 432,-401 432,-401 539,-401 539,-401 545,-401 551,-407 551,-413 551,-413 551,-457 551,-457 551,-463 545,-469 539,-469\"/>\r\n",
       "<text text-anchor=\"middle\" x=\"485.5\" y=\"-453.8\" font-family=\"Helvetica,sans-Serif\" font-size=\"14.00\">Entropy &lt;= &#45;1.222</text>\r\n",
       "<text text-anchor=\"middle\" x=\"485.5\" y=\"-438.8\" font-family=\"Helvetica,sans-Serif\" font-size=\"14.00\">gini = 0.375</text>\r\n",
       "<text text-anchor=\"middle\" x=\"485.5\" y=\"-423.8\" font-family=\"Helvetica,sans-Serif\" font-size=\"14.00\">samples = 56</text>\r\n",
       "<text text-anchor=\"middle\" x=\"485.5\" y=\"-408.8\" font-family=\"Helvetica,sans-Serif\" font-size=\"14.00\">value = [14, 42]</text>\r\n",
       "</g>\r\n",
       "<!-- 9&#45;&gt;15 -->\r\n",
       "<g id=\"edge15\" class=\"edge\"><title>9&#45;&gt;15</title>\r\n",
       "<path fill=\"none\" stroke=\"black\" d=\"M485.5,-504.884C485.5,-496.778 485.5,-487.982 485.5,-479.472\"/>\r\n",
       "<polygon fill=\"black\" stroke=\"black\" points=\"489,-479.299 485.5,-469.299 482,-479.299 489,-479.299\"/>\r\n",
       "</g>\r\n",
       "<!-- 11 -->\r\n",
       "<g id=\"node12\" class=\"node\"><title>11</title>\r\n",
       "<path fill=\"#399de5\" stroke=\"black\" d=\"M203,-357.5C203,-357.5 114,-357.5 114,-357.5 108,-357.5 102,-351.5 102,-345.5 102,-345.5 102,-316.5 102,-316.5 102,-310.5 108,-304.5 114,-304.5 114,-304.5 203,-304.5 203,-304.5 209,-304.5 215,-310.5 215,-316.5 215,-316.5 215,-345.5 215,-345.5 215,-351.5 209,-357.5 203,-357.5\"/>\r\n",
       "<text text-anchor=\"middle\" x=\"158.5\" y=\"-342.3\" font-family=\"Helvetica,sans-Serif\" font-size=\"14.00\">gini = 0.0</text>\r\n",
       "<text text-anchor=\"middle\" x=\"158.5\" y=\"-327.3\" font-family=\"Helvetica,sans-Serif\" font-size=\"14.00\">samples = 234</text>\r\n",
       "<text text-anchor=\"middle\" x=\"158.5\" y=\"-312.3\" font-family=\"Helvetica,sans-Serif\" font-size=\"14.00\">value = [0, 234]</text>\r\n",
       "</g>\r\n",
       "<!-- 10&#45;&gt;11 -->\r\n",
       "<g id=\"edge11\" class=\"edge\"><title>10&#45;&gt;11</title>\r\n",
       "<path fill=\"none\" stroke=\"black\" d=\"M260.475,-400.884C242.565,-388.786 222.38,-375.151 204.723,-363.224\"/>\r\n",
       "<polygon fill=\"black\" stroke=\"black\" points=\"206.525,-360.217 196.28,-357.52 202.607,-366.018 206.525,-360.217\"/>\r\n",
       "</g>\r\n",
       "<!-- 12 -->\r\n",
       "<g id=\"node13\" class=\"node\"><title>12</title>\r\n",
       "<path fill=\"#4da7e8\" stroke=\"black\" d=\"M351.5,-365C351.5,-365 245.5,-365 245.5,-365 239.5,-365 233.5,-359 233.5,-353 233.5,-353 233.5,-309 233.5,-309 233.5,-303 239.5,-297 245.5,-297 245.5,-297 351.5,-297 351.5,-297 357.5,-297 363.5,-303 363.5,-309 363.5,-309 363.5,-353 363.5,-353 363.5,-359 357.5,-365 351.5,-365\"/>\r\n",
       "<text text-anchor=\"middle\" x=\"298.5\" y=\"-349.8\" font-family=\"Helvetica,sans-Serif\" font-size=\"14.00\">Curtosis &lt;= 1.312</text>\r\n",
       "<text text-anchor=\"middle\" x=\"298.5\" y=\"-334.8\" font-family=\"Helvetica,sans-Serif\" font-size=\"14.00\">gini = 0.165</text>\r\n",
       "<text text-anchor=\"middle\" x=\"298.5\" y=\"-319.8\" font-family=\"Helvetica,sans-Serif\" font-size=\"14.00\">samples = 11</text>\r\n",
       "<text text-anchor=\"middle\" x=\"298.5\" y=\"-304.8\" font-family=\"Helvetica,sans-Serif\" font-size=\"14.00\">value = [1, 10]</text>\r\n",
       "</g>\r\n",
       "<!-- 10&#45;&gt;12 -->\r\n",
       "<g id=\"edge12\" class=\"edge\"><title>10&#45;&gt;12</title>\r\n",
       "<path fill=\"none\" stroke=\"black\" d=\"M305.929,-400.884C305.054,-392.778 304.106,-383.982 303.188,-375.472\"/>\r\n",
       "<polygon fill=\"black\" stroke=\"black\" points=\"306.643,-374.866 302.091,-365.299 299.684,-375.617 306.643,-374.866\"/>\r\n",
       "</g>\r\n",
       "<!-- 13 -->\r\n",
       "<g id=\"node14\" class=\"node\"><title>13</title>\r\n",
       "<path fill=\"#399de5\" stroke=\"black\" d=\"M283,-253.5C283,-253.5 202,-253.5 202,-253.5 196,-253.5 190,-247.5 190,-241.5 190,-241.5 190,-212.5 190,-212.5 190,-206.5 196,-200.5 202,-200.5 202,-200.5 283,-200.5 283,-200.5 289,-200.5 295,-206.5 295,-212.5 295,-212.5 295,-241.5 295,-241.5 295,-247.5 289,-253.5 283,-253.5\"/>\r\n",
       "<text text-anchor=\"middle\" x=\"242.5\" y=\"-238.3\" font-family=\"Helvetica,sans-Serif\" font-size=\"14.00\">gini = 0.0</text>\r\n",
       "<text text-anchor=\"middle\" x=\"242.5\" y=\"-223.3\" font-family=\"Helvetica,sans-Serif\" font-size=\"14.00\">samples = 10</text>\r\n",
       "<text text-anchor=\"middle\" x=\"242.5\" y=\"-208.3\" font-family=\"Helvetica,sans-Serif\" font-size=\"14.00\">value = [0, 10]</text>\r\n",
       "</g>\r\n",
       "<!-- 12&#45;&gt;13 -->\r\n",
       "<g id=\"edge13\" class=\"edge\"><title>12&#45;&gt;13</title>\r\n",
       "<path fill=\"none\" stroke=\"black\" d=\"M280.318,-296.884C274.28,-285.886 267.545,-273.617 261.45,-262.517\"/>\r\n",
       "<polygon fill=\"black\" stroke=\"black\" points=\"264.392,-260.601 256.511,-253.52 258.256,-263.97 264.392,-260.601\"/>\r\n",
       "</g>\r\n",
       "<!-- 14 -->\r\n",
       "<g id=\"node15\" class=\"node\"><title>14</title>\r\n",
       "<path fill=\"#e58139\" stroke=\"black\" d=\"M398,-253.5C398,-253.5 325,-253.5 325,-253.5 319,-253.5 313,-247.5 313,-241.5 313,-241.5 313,-212.5 313,-212.5 313,-206.5 319,-200.5 325,-200.5 325,-200.5 398,-200.5 398,-200.5 404,-200.5 410,-206.5 410,-212.5 410,-212.5 410,-241.5 410,-241.5 410,-247.5 404,-253.5 398,-253.5\"/>\r\n",
       "<text text-anchor=\"middle\" x=\"361.5\" y=\"-238.3\" font-family=\"Helvetica,sans-Serif\" font-size=\"14.00\">gini = 0.0</text>\r\n",
       "<text text-anchor=\"middle\" x=\"361.5\" y=\"-223.3\" font-family=\"Helvetica,sans-Serif\" font-size=\"14.00\">samples = 1</text>\r\n",
       "<text text-anchor=\"middle\" x=\"361.5\" y=\"-208.3\" font-family=\"Helvetica,sans-Serif\" font-size=\"14.00\">value = [1, 0]</text>\r\n",
       "</g>\r\n",
       "<!-- 12&#45;&gt;14 -->\r\n",
       "<g id=\"edge14\" class=\"edge\"><title>12&#45;&gt;14</title>\r\n",
       "<path fill=\"none\" stroke=\"black\" d=\"M318.954,-296.884C325.815,-285.776 333.476,-273.372 340.386,-262.184\"/>\r\n",
       "<polygon fill=\"black\" stroke=\"black\" points=\"343.461,-263.867 345.738,-253.52 337.505,-260.189 343.461,-263.867\"/>\r\n",
       "</g>\r\n",
       "<!-- 16 -->\r\n",
       "<g id=\"node17\" class=\"node\"><title>16</title>\r\n",
       "<path fill=\"#399de5\" stroke=\"black\" d=\"M475,-357.5C475,-357.5 394,-357.5 394,-357.5 388,-357.5 382,-351.5 382,-345.5 382,-345.5 382,-316.5 382,-316.5 382,-310.5 388,-304.5 394,-304.5 394,-304.5 475,-304.5 475,-304.5 481,-304.5 487,-310.5 487,-316.5 487,-316.5 487,-345.5 487,-345.5 487,-351.5 481,-357.5 475,-357.5\"/>\r\n",
       "<text text-anchor=\"middle\" x=\"434.5\" y=\"-342.3\" font-family=\"Helvetica,sans-Serif\" font-size=\"14.00\">gini = 0.0</text>\r\n",
       "<text text-anchor=\"middle\" x=\"434.5\" y=\"-327.3\" font-family=\"Helvetica,sans-Serif\" font-size=\"14.00\">samples = 21</text>\r\n",
       "<text text-anchor=\"middle\" x=\"434.5\" y=\"-312.3\" font-family=\"Helvetica,sans-Serif\" font-size=\"14.00\">value = [0, 21]</text>\r\n",
       "</g>\r\n",
       "<!-- 15&#45;&gt;16 -->\r\n",
       "<g id=\"edge16\" class=\"edge\"><title>15&#45;&gt;16</title>\r\n",
       "<path fill=\"none\" stroke=\"black\" d=\"M468.942,-400.884C463.443,-389.886 457.309,-377.617 451.758,-366.517\"/>\r\n",
       "<polygon fill=\"black\" stroke=\"black\" points=\"454.863,-364.899 447.26,-357.52 448.602,-368.029 454.863,-364.899\"/>\r\n",
       "</g>\r\n",
       "<!-- 17 -->\r\n",
       "<g id=\"node18\" class=\"node\"><title>17</title>\r\n",
       "<path fill=\"#bddef6\" stroke=\"black\" d=\"M615.5,-365C615.5,-365 517.5,-365 517.5,-365 511.5,-365 505.5,-359 505.5,-353 505.5,-353 505.5,-309 505.5,-309 505.5,-303 511.5,-297 517.5,-297 517.5,-297 615.5,-297 615.5,-297 621.5,-297 627.5,-303 627.5,-309 627.5,-309 627.5,-353 627.5,-353 627.5,-359 621.5,-365 615.5,-365\"/>\r\n",
       "<text text-anchor=\"middle\" x=\"566.5\" y=\"-349.8\" font-family=\"Helvetica,sans-Serif\" font-size=\"14.00\">Curtosis &lt;= 0.47</text>\r\n",
       "<text text-anchor=\"middle\" x=\"566.5\" y=\"-334.8\" font-family=\"Helvetica,sans-Serif\" font-size=\"14.00\">gini = 0.48</text>\r\n",
       "<text text-anchor=\"middle\" x=\"566.5\" y=\"-319.8\" font-family=\"Helvetica,sans-Serif\" font-size=\"14.00\">samples = 35</text>\r\n",
       "<text text-anchor=\"middle\" x=\"566.5\" y=\"-304.8\" font-family=\"Helvetica,sans-Serif\" font-size=\"14.00\">value = [14, 21]</text>\r\n",
       "</g>\r\n",
       "<!-- 15&#45;&gt;17 -->\r\n",
       "<g id=\"edge17\" class=\"edge\"><title>15&#45;&gt;17</title>\r\n",
       "<path fill=\"none\" stroke=\"black\" d=\"M511.798,-400.884C518.801,-392.065 526.453,-382.43 533.755,-373.235\"/>\r\n",
       "<polygon fill=\"black\" stroke=\"black\" points=\"536.578,-375.307 540.056,-365.299 531.097,-370.954 536.578,-375.307\"/>\r\n",
       "</g>\r\n",
       "<!-- 18 -->\r\n",
       "<g id=\"node19\" class=\"node\"><title>18</title>\r\n",
       "<path fill=\"#399de5\" stroke=\"black\" d=\"M528,-253.5C528,-253.5 447,-253.5 447,-253.5 441,-253.5 435,-247.5 435,-241.5 435,-241.5 435,-212.5 435,-212.5 435,-206.5 441,-200.5 447,-200.5 447,-200.5 528,-200.5 528,-200.5 534,-200.5 540,-206.5 540,-212.5 540,-212.5 540,-241.5 540,-241.5 540,-247.5 534,-253.5 528,-253.5\"/>\r\n",
       "<text text-anchor=\"middle\" x=\"487.5\" y=\"-238.3\" font-family=\"Helvetica,sans-Serif\" font-size=\"14.00\">gini = 0.0</text>\r\n",
       "<text text-anchor=\"middle\" x=\"487.5\" y=\"-223.3\" font-family=\"Helvetica,sans-Serif\" font-size=\"14.00\">samples = 18</text>\r\n",
       "<text text-anchor=\"middle\" x=\"487.5\" y=\"-208.3\" font-family=\"Helvetica,sans-Serif\" font-size=\"14.00\">value = [0, 18]</text>\r\n",
       "</g>\r\n",
       "<!-- 17&#45;&gt;18 -->\r\n",
       "<g id=\"edge18\" class=\"edge\"><title>17&#45;&gt;18</title>\r\n",
       "<path fill=\"none\" stroke=\"black\" d=\"M540.851,-296.884C532.077,-285.556 522.26,-272.88 513.462,-261.521\"/>\r\n",
       "<polygon fill=\"black\" stroke=\"black\" points=\"516.156,-259.283 507.265,-253.52 510.622,-263.569 516.156,-259.283\"/>\r\n",
       "</g>\r\n",
       "<!-- 19 -->\r\n",
       "<g id=\"node20\" class=\"node\"><title>19</title>\r\n",
       "<path fill=\"#eb9c63\" stroke=\"black\" d=\"M672.5,-261C672.5,-261 570.5,-261 570.5,-261 564.5,-261 558.5,-255 558.5,-249 558.5,-249 558.5,-205 558.5,-205 558.5,-199 564.5,-193 570.5,-193 570.5,-193 672.5,-193 672.5,-193 678.5,-193 684.5,-199 684.5,-205 684.5,-205 684.5,-249 684.5,-249 684.5,-255 678.5,-261 672.5,-261\"/>\r\n",
       "<text text-anchor=\"middle\" x=\"621.5\" y=\"-245.8\" font-family=\"Helvetica,sans-Serif\" font-size=\"14.00\">Entropy &lt;= 0.339</text>\r\n",
       "<text text-anchor=\"middle\" x=\"621.5\" y=\"-230.8\" font-family=\"Helvetica,sans-Serif\" font-size=\"14.00\">gini = 0.291</text>\r\n",
       "<text text-anchor=\"middle\" x=\"621.5\" y=\"-215.8\" font-family=\"Helvetica,sans-Serif\" font-size=\"14.00\">samples = 17</text>\r\n",
       "<text text-anchor=\"middle\" x=\"621.5\" y=\"-200.8\" font-family=\"Helvetica,sans-Serif\" font-size=\"14.00\">value = [14, 3]</text>\r\n",
       "</g>\r\n",
       "<!-- 17&#45;&gt;19 -->\r\n",
       "<g id=\"edge19\" class=\"edge\"><title>17&#45;&gt;19</title>\r\n",
       "<path fill=\"none\" stroke=\"black\" d=\"M584.357,-296.884C588.92,-288.422 593.888,-279.207 598.663,-270.352\"/>\r\n",
       "<polygon fill=\"black\" stroke=\"black\" points=\"601.879,-271.762 603.544,-261.299 595.718,-268.44 601.879,-271.762\"/>\r\n",
       "</g>\r\n",
       "<!-- 20 -->\r\n",
       "<g id=\"node21\" class=\"node\"><title>20</title>\r\n",
       "<path fill=\"#e58139\" stroke=\"black\" d=\"M591,-149.5C591,-149.5 510,-149.5 510,-149.5 504,-149.5 498,-143.5 498,-137.5 498,-137.5 498,-108.5 498,-108.5 498,-102.5 504,-96.5 510,-96.5 510,-96.5 591,-96.5 591,-96.5 597,-96.5 603,-102.5 603,-108.5 603,-108.5 603,-137.5 603,-137.5 603,-143.5 597,-149.5 591,-149.5\"/>\r\n",
       "<text text-anchor=\"middle\" x=\"550.5\" y=\"-134.3\" font-family=\"Helvetica,sans-Serif\" font-size=\"14.00\">gini = 0.0</text>\r\n",
       "<text text-anchor=\"middle\" x=\"550.5\" y=\"-119.3\" font-family=\"Helvetica,sans-Serif\" font-size=\"14.00\">samples = 13</text>\r\n",
       "<text text-anchor=\"middle\" x=\"550.5\" y=\"-104.3\" font-family=\"Helvetica,sans-Serif\" font-size=\"14.00\">value = [13, 0]</text>\r\n",
       "</g>\r\n",
       "<!-- 19&#45;&gt;20 -->\r\n",
       "<g id=\"edge20\" class=\"edge\"><title>19&#45;&gt;20</title>\r\n",
       "<path fill=\"none\" stroke=\"black\" d=\"M598.448,-192.884C590.64,-181.666 581.911,-169.126 574.064,-157.852\"/>\r\n",
       "<polygon fill=\"black\" stroke=\"black\" points=\"576.85,-155.728 568.264,-149.52 571.104,-159.727 576.85,-155.728\"/>\r\n",
       "</g>\r\n",
       "<!-- 21 -->\r\n",
       "<g id=\"node22\" class=\"node\"><title>21</title>\r\n",
       "<path fill=\"#7bbeee\" stroke=\"black\" d=\"M752,-157C752,-157 633,-157 633,-157 627,-157 621,-151 621,-145 621,-145 621,-101 621,-101 621,-95 627,-89 633,-89 633,-89 752,-89 752,-89 758,-89 764,-95 764,-101 764,-101 764,-145 764,-145 764,-151 758,-157 752,-157\"/>\r\n",
       "<text text-anchor=\"middle\" x=\"692.5\" y=\"-141.8\" font-family=\"Helvetica,sans-Serif\" font-size=\"14.00\">Skewness &lt;= 1.571</text>\r\n",
       "<text text-anchor=\"middle\" x=\"692.5\" y=\"-126.8\" font-family=\"Helvetica,sans-Serif\" font-size=\"14.00\">gini = 0.375</text>\r\n",
       "<text text-anchor=\"middle\" x=\"692.5\" y=\"-111.8\" font-family=\"Helvetica,sans-Serif\" font-size=\"14.00\">samples = 4</text>\r\n",
       "<text text-anchor=\"middle\" x=\"692.5\" y=\"-96.8\" font-family=\"Helvetica,sans-Serif\" font-size=\"14.00\">value = [1, 3]</text>\r\n",
       "</g>\r\n",
       "<!-- 19&#45;&gt;21 -->\r\n",
       "<g id=\"edge21\" class=\"edge\"><title>19&#45;&gt;21</title>\r\n",
       "<path fill=\"none\" stroke=\"black\" d=\"M644.552,-192.884C650.628,-184.154 657.261,-174.625 663.603,-165.514\"/>\r\n",
       "<polygon fill=\"black\" stroke=\"black\" points=\"666.481,-167.506 669.321,-157.299 660.735,-163.507 666.481,-167.506\"/>\r\n",
       "</g>\r\n",
       "<!-- 22 -->\r\n",
       "<g id=\"node23\" class=\"node\"><title>22</title>\r\n",
       "<path fill=\"#399de5\" stroke=\"black\" d=\"M671,-53C671,-53 598,-53 598,-53 592,-53 586,-47 586,-41 586,-41 586,-12 586,-12 586,-6 592,-0 598,-0 598,-0 671,-0 671,-0 677,-0 683,-6 683,-12 683,-12 683,-41 683,-41 683,-47 677,-53 671,-53\"/>\r\n",
       "<text text-anchor=\"middle\" x=\"634.5\" y=\"-37.8\" font-family=\"Helvetica,sans-Serif\" font-size=\"14.00\">gini = 0.0</text>\r\n",
       "<text text-anchor=\"middle\" x=\"634.5\" y=\"-22.8\" font-family=\"Helvetica,sans-Serif\" font-size=\"14.00\">samples = 3</text>\r\n",
       "<text text-anchor=\"middle\" x=\"634.5\" y=\"-7.8\" font-family=\"Helvetica,sans-Serif\" font-size=\"14.00\">value = [0, 3]</text>\r\n",
       "</g>\r\n",
       "<!-- 21&#45;&gt;22 -->\r\n",
       "<g id=\"edge22\" class=\"edge\"><title>21&#45;&gt;22</title>\r\n",
       "<path fill=\"none\" stroke=\"black\" d=\"M672.214,-88.9485C666.824,-80.1664 660.992,-70.6629 655.561,-61.815\"/>\r\n",
       "<polygon fill=\"black\" stroke=\"black\" points=\"658.51,-59.9287 650.296,-53.2367 652.544,-63.5903 658.51,-59.9287\"/>\r\n",
       "</g>\r\n",
       "<!-- 23 -->\r\n",
       "<g id=\"node24\" class=\"node\"><title>23</title>\r\n",
       "<path fill=\"#e58139\" stroke=\"black\" d=\"M786,-53C786,-53 713,-53 713,-53 707,-53 701,-47 701,-41 701,-41 701,-12 701,-12 701,-6 707,-0 713,-0 713,-0 786,-0 786,-0 792,-0 798,-6 798,-12 798,-12 798,-41 798,-41 798,-47 792,-53 786,-53\"/>\r\n",
       "<text text-anchor=\"middle\" x=\"749.5\" y=\"-37.8\" font-family=\"Helvetica,sans-Serif\" font-size=\"14.00\">gini = 0.0</text>\r\n",
       "<text text-anchor=\"middle\" x=\"749.5\" y=\"-22.8\" font-family=\"Helvetica,sans-Serif\" font-size=\"14.00\">samples = 1</text>\r\n",
       "<text text-anchor=\"middle\" x=\"749.5\" y=\"-7.8\" font-family=\"Helvetica,sans-Serif\" font-size=\"14.00\">value = [1, 0]</text>\r\n",
       "</g>\r\n",
       "<!-- 21&#45;&gt;23 -->\r\n",
       "<g id=\"edge23\" class=\"edge\"><title>21&#45;&gt;23</title>\r\n",
       "<path fill=\"none\" stroke=\"black\" d=\"M712.436,-88.9485C717.733,-80.1664 723.465,-70.6629 728.802,-61.815\"/>\r\n",
       "<polygon fill=\"black\" stroke=\"black\" points=\"731.808,-63.6074 733.976,-53.2367 725.814,-59.9919 731.808,-63.6074\"/>\r\n",
       "</g>\r\n",
       "<!-- 25 -->\r\n",
       "<g id=\"node26\" class=\"node\"><title>25</title>\r\n",
       "<path fill=\"#ffffff\" stroke=\"black\" d=\"M738,-469C738,-469 631,-469 631,-469 625,-469 619,-463 619,-457 619,-457 619,-413 619,-413 619,-407 625,-401 631,-401 631,-401 738,-401 738,-401 744,-401 750,-407 750,-413 750,-413 750,-457 750,-457 750,-463 744,-469 738,-469\"/>\r\n",
       "<text text-anchor=\"middle\" x=\"684.5\" y=\"-453.8\" font-family=\"Helvetica,sans-Serif\" font-size=\"14.00\">Entropy &lt;= &#45;1.383</text>\r\n",
       "<text text-anchor=\"middle\" x=\"684.5\" y=\"-438.8\" font-family=\"Helvetica,sans-Serif\" font-size=\"14.00\">gini = 0.5</text>\r\n",
       "<text text-anchor=\"middle\" x=\"684.5\" y=\"-423.8\" font-family=\"Helvetica,sans-Serif\" font-size=\"14.00\">samples = 2</text>\r\n",
       "<text text-anchor=\"middle\" x=\"684.5\" y=\"-408.8\" font-family=\"Helvetica,sans-Serif\" font-size=\"14.00\">value = [1, 1]</text>\r\n",
       "</g>\r\n",
       "<!-- 24&#45;&gt;25 -->\r\n",
       "<g id=\"edge25\" class=\"edge\"><title>24&#45;&gt;25</title>\r\n",
       "<path fill=\"none\" stroke=\"black\" d=\"M684.5,-504.884C684.5,-496.778 684.5,-487.982 684.5,-479.472\"/>\r\n",
       "<polygon fill=\"black\" stroke=\"black\" points=\"688,-479.299 684.5,-469.299 681,-479.299 688,-479.299\"/>\r\n",
       "</g>\r\n",
       "<!-- 28 -->\r\n",
       "<g id=\"node29\" class=\"node\"><title>28</title>\r\n",
       "<path fill=\"#e58139\" stroke=\"black\" d=\"M861,-461.5C861,-461.5 780,-461.5 780,-461.5 774,-461.5 768,-455.5 768,-449.5 768,-449.5 768,-420.5 768,-420.5 768,-414.5 774,-408.5 780,-408.5 780,-408.5 861,-408.5 861,-408.5 867,-408.5 873,-414.5 873,-420.5 873,-420.5 873,-449.5 873,-449.5 873,-455.5 867,-461.5 861,-461.5\"/>\r\n",
       "<text text-anchor=\"middle\" x=\"820.5\" y=\"-446.3\" font-family=\"Helvetica,sans-Serif\" font-size=\"14.00\">gini = 0.0</text>\r\n",
       "<text text-anchor=\"middle\" x=\"820.5\" y=\"-431.3\" font-family=\"Helvetica,sans-Serif\" font-size=\"14.00\">samples = 42</text>\r\n",
       "<text text-anchor=\"middle\" x=\"820.5\" y=\"-416.3\" font-family=\"Helvetica,sans-Serif\" font-size=\"14.00\">value = [42, 0]</text>\r\n",
       "</g>\r\n",
       "<!-- 24&#45;&gt;28 -->\r\n",
       "<g id=\"edge28\" class=\"edge\"><title>24&#45;&gt;28</title>\r\n",
       "<path fill=\"none\" stroke=\"black\" d=\"M728.655,-504.884C744.639,-492.896 762.635,-479.399 778.434,-467.549\"/>\r\n",
       "<polygon fill=\"black\" stroke=\"black\" points=\"780.573,-470.32 786.473,-461.52 776.373,-464.72 780.573,-470.32\"/>\r\n",
       "</g>\r\n",
       "<!-- 26 -->\r\n",
       "<g id=\"node27\" class=\"node\"><title>26</title>\r\n",
       "<path fill=\"#e58139\" stroke=\"black\" d=\"M731,-357.5C731,-357.5 658,-357.5 658,-357.5 652,-357.5 646,-351.5 646,-345.5 646,-345.5 646,-316.5 646,-316.5 646,-310.5 652,-304.5 658,-304.5 658,-304.5 731,-304.5 731,-304.5 737,-304.5 743,-310.5 743,-316.5 743,-316.5 743,-345.5 743,-345.5 743,-351.5 737,-357.5 731,-357.5\"/>\r\n",
       "<text text-anchor=\"middle\" x=\"694.5\" y=\"-342.3\" font-family=\"Helvetica,sans-Serif\" font-size=\"14.00\">gini = 0.0</text>\r\n",
       "<text text-anchor=\"middle\" x=\"694.5\" y=\"-327.3\" font-family=\"Helvetica,sans-Serif\" font-size=\"14.00\">samples = 1</text>\r\n",
       "<text text-anchor=\"middle\" x=\"694.5\" y=\"-312.3\" font-family=\"Helvetica,sans-Serif\" font-size=\"14.00\">value = [1, 0]</text>\r\n",
       "</g>\r\n",
       "<!-- 25&#45;&gt;26 -->\r\n",
       "<g id=\"edge26\" class=\"edge\"><title>25&#45;&gt;26</title>\r\n",
       "<path fill=\"none\" stroke=\"black\" d=\"M687.747,-400.884C688.793,-390.216 689.956,-378.352 691.018,-367.519\"/>\r\n",
       "<polygon fill=\"black\" stroke=\"black\" points=\"694.506,-367.814 691.998,-357.52 687.539,-367.131 694.506,-367.814\"/>\r\n",
       "</g>\r\n",
       "<!-- 27 -->\r\n",
       "<g id=\"node28\" class=\"node\"><title>27</title>\r\n",
       "<path fill=\"#399de5\" stroke=\"black\" d=\"M846,-357.5C846,-357.5 773,-357.5 773,-357.5 767,-357.5 761,-351.5 761,-345.5 761,-345.5 761,-316.5 761,-316.5 761,-310.5 767,-304.5 773,-304.5 773,-304.5 846,-304.5 846,-304.5 852,-304.5 858,-310.5 858,-316.5 858,-316.5 858,-345.5 858,-345.5 858,-351.5 852,-357.5 846,-357.5\"/>\r\n",
       "<text text-anchor=\"middle\" x=\"809.5\" y=\"-342.3\" font-family=\"Helvetica,sans-Serif\" font-size=\"14.00\">gini = 0.0</text>\r\n",
       "<text text-anchor=\"middle\" x=\"809.5\" y=\"-327.3\" font-family=\"Helvetica,sans-Serif\" font-size=\"14.00\">samples = 1</text>\r\n",
       "<text text-anchor=\"middle\" x=\"809.5\" y=\"-312.3\" font-family=\"Helvetica,sans-Serif\" font-size=\"14.00\">value = [0, 1]</text>\r\n",
       "</g>\r\n",
       "<!-- 25&#45;&gt;27 -->\r\n",
       "<g id=\"edge27\" class=\"edge\"><title>25&#45;&gt;27</title>\r\n",
       "<path fill=\"none\" stroke=\"black\" d=\"M725.084,-400.884C739.64,-389.006 756.012,-375.646 770.436,-363.876\"/>\r\n",
       "<polygon fill=\"black\" stroke=\"black\" points=\"772.691,-366.554 778.226,-357.52 768.265,-361.13 772.691,-366.554\"/>\r\n",
       "</g>\r\n",
       "<!-- 30 -->\r\n",
       "<g id=\"node31\" class=\"node\"><title>30</title>\r\n",
       "<path fill=\"#399de5\" stroke=\"black\" d=\"M865,-669.5C865,-669.5 784,-669.5 784,-669.5 778,-669.5 772,-663.5 772,-657.5 772,-657.5 772,-628.5 772,-628.5 772,-622.5 778,-616.5 784,-616.5 784,-616.5 865,-616.5 865,-616.5 871,-616.5 877,-622.5 877,-628.5 877,-628.5 877,-657.5 877,-657.5 877,-663.5 871,-669.5 865,-669.5\"/>\r\n",
       "<text text-anchor=\"middle\" x=\"824.5\" y=\"-654.3\" font-family=\"Helvetica,sans-Serif\" font-size=\"14.00\">gini = 0.0</text>\r\n",
       "<text text-anchor=\"middle\" x=\"824.5\" y=\"-639.3\" font-family=\"Helvetica,sans-Serif\" font-size=\"14.00\">samples = 18</text>\r\n",
       "<text text-anchor=\"middle\" x=\"824.5\" y=\"-624.3\" font-family=\"Helvetica,sans-Serif\" font-size=\"14.00\">value = [0, 18]</text>\r\n",
       "</g>\r\n",
       "<!-- 29&#45;&gt;30 -->\r\n",
       "<g id=\"edge30\" class=\"edge\"><title>29&#45;&gt;30</title>\r\n",
       "<path fill=\"none\" stroke=\"black\" d=\"M912.293,-712.884C897.154,-701.006 880.128,-687.646 865.126,-675.876\"/>\r\n",
       "<polygon fill=\"black\" stroke=\"black\" points=\"867.053,-672.939 857.025,-669.52 862.732,-678.446 867.053,-672.939\"/>\r\n",
       "</g>\r\n",
       "<!-- 31 -->\r\n",
       "<g id=\"node32\" class=\"node\"><title>31</title>\r\n",
       "<path fill=\"#e5823b\" stroke=\"black\" d=\"M1017.5,-677C1017.5,-677 907.5,-677 907.5,-677 901.5,-677 895.5,-671 895.5,-665 895.5,-665 895.5,-621 895.5,-621 895.5,-615 901.5,-609 907.5,-609 907.5,-609 1017.5,-609 1017.5,-609 1023.5,-609 1029.5,-615 1029.5,-621 1029.5,-621 1029.5,-665 1029.5,-665 1029.5,-671 1023.5,-677 1017.5,-677\"/>\r\n",
       "<text text-anchor=\"middle\" x=\"962.5\" y=\"-661.8\" font-family=\"Helvetica,sans-Serif\" font-size=\"14.00\">Curtosis &lt;= &#45;1.807</text>\r\n",
       "<text text-anchor=\"middle\" x=\"962.5\" y=\"-646.8\" font-family=\"Helvetica,sans-Serif\" font-size=\"14.00\">gini = 0.016</text>\r\n",
       "<text text-anchor=\"middle\" x=\"962.5\" y=\"-631.8\" font-family=\"Helvetica,sans-Serif\" font-size=\"14.00\">samples = 241</text>\r\n",
       "<text text-anchor=\"middle\" x=\"962.5\" y=\"-616.8\" font-family=\"Helvetica,sans-Serif\" font-size=\"14.00\">value = [239, 2]</text>\r\n",
       "</g>\r\n",
       "<!-- 29&#45;&gt;31 -->\r\n",
       "<g id=\"edge31\" class=\"edge\"><title>29&#45;&gt;31</title>\r\n",
       "<path fill=\"none\" stroke=\"black\" d=\"M957.097,-712.884C957.733,-704.778 958.423,-695.982 959.09,-687.472\"/>\r\n",
       "<polygon fill=\"black\" stroke=\"black\" points=\"962.596,-687.542 959.888,-677.299 955.617,-686.995 962.596,-687.542\"/>\r\n",
       "</g>\r\n",
       "<!-- 32 -->\r\n",
       "<g id=\"node33\" class=\"node\"><title>32</title>\r\n",
       "<path fill=\"#f6d5bd\" stroke=\"black\" d=\"M994,-573C994,-573 885,-573 885,-573 879,-573 873,-567 873,-561 873,-561 873,-517 873,-517 873,-511 879,-505 885,-505 885,-505 994,-505 994,-505 1000,-505 1006,-511 1006,-517 1006,-517 1006,-561 1006,-561 1006,-567 1000,-573 994,-573\"/>\r\n",
       "<text text-anchor=\"middle\" x=\"939.5\" y=\"-557.8\" font-family=\"Helvetica,sans-Serif\" font-size=\"14.00\">Variance &lt;= 3.003</text>\r\n",
       "<text text-anchor=\"middle\" x=\"939.5\" y=\"-542.8\" font-family=\"Helvetica,sans-Serif\" font-size=\"14.00\">gini = 0.48</text>\r\n",
       "<text text-anchor=\"middle\" x=\"939.5\" y=\"-527.8\" font-family=\"Helvetica,sans-Serif\" font-size=\"14.00\">samples = 5</text>\r\n",
       "<text text-anchor=\"middle\" x=\"939.5\" y=\"-512.8\" font-family=\"Helvetica,sans-Serif\" font-size=\"14.00\">value = [3, 2]</text>\r\n",
       "</g>\r\n",
       "<!-- 31&#45;&gt;32 -->\r\n",
       "<g id=\"edge32\" class=\"edge\"><title>31&#45;&gt;32</title>\r\n",
       "<path fill=\"none\" stroke=\"black\" d=\"M955.033,-608.884C953.185,-600.689 951.178,-591.789 949.239,-583.192\"/>\r\n",
       "<polygon fill=\"black\" stroke=\"black\" points=\"952.623,-582.285 947.009,-573.299 945.794,-583.824 952.623,-582.285\"/>\r\n",
       "</g>\r\n",
       "<!-- 35 -->\r\n",
       "<g id=\"node36\" class=\"node\"><title>35</title>\r\n",
       "<path fill=\"#e58139\" stroke=\"black\" d=\"M1125,-565.5C1125,-565.5 1036,-565.5 1036,-565.5 1030,-565.5 1024,-559.5 1024,-553.5 1024,-553.5 1024,-524.5 1024,-524.5 1024,-518.5 1030,-512.5 1036,-512.5 1036,-512.5 1125,-512.5 1125,-512.5 1131,-512.5 1137,-518.5 1137,-524.5 1137,-524.5 1137,-553.5 1137,-553.5 1137,-559.5 1131,-565.5 1125,-565.5\"/>\r\n",
       "<text text-anchor=\"middle\" x=\"1080.5\" y=\"-550.3\" font-family=\"Helvetica,sans-Serif\" font-size=\"14.00\">gini = 0.0</text>\r\n",
       "<text text-anchor=\"middle\" x=\"1080.5\" y=\"-535.3\" font-family=\"Helvetica,sans-Serif\" font-size=\"14.00\">samples = 236</text>\r\n",
       "<text text-anchor=\"middle\" x=\"1080.5\" y=\"-520.3\" font-family=\"Helvetica,sans-Serif\" font-size=\"14.00\">value = [236, 0]</text>\r\n",
       "</g>\r\n",
       "<!-- 31&#45;&gt;35 -->\r\n",
       "<g id=\"edge35\" class=\"edge\"><title>31&#45;&gt;35</title>\r\n",
       "<path fill=\"none\" stroke=\"black\" d=\"M1000.81,-608.884C1014.42,-597.116 1029.72,-583.894 1043.25,-572.203\"/>\r\n",
       "<polygon fill=\"black\" stroke=\"black\" points=\"1045.7,-574.707 1050.98,-565.52 1041.12,-569.412 1045.7,-574.707\"/>\r\n",
       "</g>\r\n",
       "<!-- 33 -->\r\n",
       "<g id=\"node34\" class=\"node\"><title>33</title>\r\n",
       "<path fill=\"#399de5\" stroke=\"black\" d=\"M976,-461.5C976,-461.5 903,-461.5 903,-461.5 897,-461.5 891,-455.5 891,-449.5 891,-449.5 891,-420.5 891,-420.5 891,-414.5 897,-408.5 903,-408.5 903,-408.5 976,-408.5 976,-408.5 982,-408.5 988,-414.5 988,-420.5 988,-420.5 988,-449.5 988,-449.5 988,-455.5 982,-461.5 976,-461.5\"/>\r\n",
       "<text text-anchor=\"middle\" x=\"939.5\" y=\"-446.3\" font-family=\"Helvetica,sans-Serif\" font-size=\"14.00\">gini = 0.0</text>\r\n",
       "<text text-anchor=\"middle\" x=\"939.5\" y=\"-431.3\" font-family=\"Helvetica,sans-Serif\" font-size=\"14.00\">samples = 2</text>\r\n",
       "<text text-anchor=\"middle\" x=\"939.5\" y=\"-416.3\" font-family=\"Helvetica,sans-Serif\" font-size=\"14.00\">value = [0, 2]</text>\r\n",
       "</g>\r\n",
       "<!-- 32&#45;&gt;33 -->\r\n",
       "<g id=\"edge33\" class=\"edge\"><title>32&#45;&gt;33</title>\r\n",
       "<path fill=\"none\" stroke=\"black\" d=\"M939.5,-504.884C939.5,-494.326 939.5,-482.597 939.5,-471.854\"/>\r\n",
       "<polygon fill=\"black\" stroke=\"black\" points=\"943,-471.52 939.5,-461.52 936,-471.52 943,-471.52\"/>\r\n",
       "</g>\r\n",
       "<!-- 34 -->\r\n",
       "<g id=\"node35\" class=\"node\"><title>34</title>\r\n",
       "<path fill=\"#e58139\" stroke=\"black\" d=\"M1091,-461.5C1091,-461.5 1018,-461.5 1018,-461.5 1012,-461.5 1006,-455.5 1006,-449.5 1006,-449.5 1006,-420.5 1006,-420.5 1006,-414.5 1012,-408.5 1018,-408.5 1018,-408.5 1091,-408.5 1091,-408.5 1097,-408.5 1103,-414.5 1103,-420.5 1103,-420.5 1103,-449.5 1103,-449.5 1103,-455.5 1097,-461.5 1091,-461.5\"/>\r\n",
       "<text text-anchor=\"middle\" x=\"1054.5\" y=\"-446.3\" font-family=\"Helvetica,sans-Serif\" font-size=\"14.00\">gini = 0.0</text>\r\n",
       "<text text-anchor=\"middle\" x=\"1054.5\" y=\"-431.3\" font-family=\"Helvetica,sans-Serif\" font-size=\"14.00\">samples = 3</text>\r\n",
       "<text text-anchor=\"middle\" x=\"1054.5\" y=\"-416.3\" font-family=\"Helvetica,sans-Serif\" font-size=\"14.00\">value = [3, 0]</text>\r\n",
       "</g>\r\n",
       "<!-- 32&#45;&gt;34 -->\r\n",
       "<g id=\"edge34\" class=\"edge\"><title>32&#45;&gt;34</title>\r\n",
       "<path fill=\"none\" stroke=\"black\" d=\"M976.837,-504.884C990.105,-493.116 1005.01,-479.894 1018.19,-468.203\"/>\r\n",
       "<polygon fill=\"black\" stroke=\"black\" points=\"1020.57,-470.774 1025.73,-461.52 1015.92,-465.537 1020.57,-470.774\"/>\r\n",
       "</g>\r\n",
       "<!-- 37 -->\r\n",
       "<g id=\"node38\" class=\"node\"><title>37</title>\r\n",
       "<path fill=\"#3fa0e6\" stroke=\"black\" d=\"M1193,-781C1193,-781 1080,-781 1080,-781 1074,-781 1068,-775 1068,-769 1068,-769 1068,-725 1068,-725 1068,-719 1074,-713 1080,-713 1080,-713 1193,-713 1193,-713 1199,-713 1205,-719 1205,-725 1205,-725 1205,-769 1205,-769 1205,-775 1199,-781 1193,-781\"/>\r\n",
       "<text text-anchor=\"middle\" x=\"1136.5\" y=\"-765.8\" font-family=\"Helvetica,sans-Serif\" font-size=\"14.00\">Variance &lt;= &#45;4.326</text>\r\n",
       "<text text-anchor=\"middle\" x=\"1136.5\" y=\"-750.8\" font-family=\"Helvetica,sans-Serif\" font-size=\"14.00\">gini = 0.061</text>\r\n",
       "<text text-anchor=\"middle\" x=\"1136.5\" y=\"-735.8\" font-family=\"Helvetica,sans-Serif\" font-size=\"14.00\">samples = 32</text>\r\n",
       "<text text-anchor=\"middle\" x=\"1136.5\" y=\"-720.8\" font-family=\"Helvetica,sans-Serif\" font-size=\"14.00\">value = [1, 31]</text>\r\n",
       "</g>\r\n",
       "<!-- 36&#45;&gt;37 -->\r\n",
       "<g id=\"edge37\" class=\"edge\"><title>36&#45;&gt;37</title>\r\n",
       "<path fill=\"none\" stroke=\"black\" d=\"M1136.5,-816.884C1136.5,-808.778 1136.5,-799.982 1136.5,-791.472\"/>\r\n",
       "<polygon fill=\"black\" stroke=\"black\" points=\"1140,-791.299 1136.5,-781.299 1133,-791.299 1140,-791.299\"/>\r\n",
       "</g>\r\n",
       "<!-- 42 -->\r\n",
       "<g id=\"node43\" class=\"node\"><title>42</title>\r\n",
       "<path fill=\"#e5813a\" stroke=\"black\" d=\"M1482.5,-781C1482.5,-781 1384.5,-781 1384.5,-781 1378.5,-781 1372.5,-775 1372.5,-769 1372.5,-769 1372.5,-725 1372.5,-725 1372.5,-719 1378.5,-713 1384.5,-713 1384.5,-713 1482.5,-713 1482.5,-713 1488.5,-713 1494.5,-719 1494.5,-725 1494.5,-725 1494.5,-769 1494.5,-769 1494.5,-775 1488.5,-781 1482.5,-781\"/>\r\n",
       "<text text-anchor=\"middle\" x=\"1433.5\" y=\"-765.8\" font-family=\"Helvetica,sans-Serif\" font-size=\"14.00\">Entropy &lt;= &#45;6.12</text>\r\n",
       "<text text-anchor=\"middle\" x=\"1433.5\" y=\"-750.8\" font-family=\"Helvetica,sans-Serif\" font-size=\"14.00\">gini = 0.006</text>\r\n",
       "<text text-anchor=\"middle\" x=\"1433.5\" y=\"-735.8\" font-family=\"Helvetica,sans-Serif\" font-size=\"14.00\">samples = 315</text>\r\n",
       "<text text-anchor=\"middle\" x=\"1433.5\" y=\"-720.8\" font-family=\"Helvetica,sans-Serif\" font-size=\"14.00\">value = [314, 1]</text>\r\n",
       "</g>\r\n",
       "<!-- 36&#45;&gt;42 -->\r\n",
       "<g id=\"edge42\" class=\"edge\"><title>36&#45;&gt;42</title>\r\n",
       "<path fill=\"none\" stroke=\"black\" d=\"M1205.01,-826.471C1252.29,-810.234 1314.99,-788.701 1362.75,-772.299\"/>\r\n",
       "<polygon fill=\"black\" stroke=\"black\" points=\"1364.07,-775.544 1372.39,-768.986 1361.8,-768.924 1364.07,-775.544\"/>\r\n",
       "</g>\r\n",
       "<!-- 38 -->\r\n",
       "<g id=\"node39\" class=\"node\"><title>38</title>\r\n",
       "<path fill=\"#399de5\" stroke=\"black\" d=\"M1159,-669.5C1159,-669.5 1078,-669.5 1078,-669.5 1072,-669.5 1066,-663.5 1066,-657.5 1066,-657.5 1066,-628.5 1066,-628.5 1066,-622.5 1072,-616.5 1078,-616.5 1078,-616.5 1159,-616.5 1159,-616.5 1165,-616.5 1171,-622.5 1171,-628.5 1171,-628.5 1171,-657.5 1171,-657.5 1171,-663.5 1165,-669.5 1159,-669.5\"/>\r\n",
       "<text text-anchor=\"middle\" x=\"1118.5\" y=\"-654.3\" font-family=\"Helvetica,sans-Serif\" font-size=\"14.00\">gini = 0.0</text>\r\n",
       "<text text-anchor=\"middle\" x=\"1118.5\" y=\"-639.3\" font-family=\"Helvetica,sans-Serif\" font-size=\"14.00\">samples = 28</text>\r\n",
       "<text text-anchor=\"middle\" x=\"1118.5\" y=\"-624.3\" font-family=\"Helvetica,sans-Serif\" font-size=\"14.00\">value = [0, 28]</text>\r\n",
       "</g>\r\n",
       "<!-- 37&#45;&gt;38 -->\r\n",
       "<g id=\"edge38\" class=\"edge\"><title>37&#45;&gt;38</title>\r\n",
       "<path fill=\"none\" stroke=\"black\" d=\"M1130.66,-712.884C1128.77,-702.216 1126.68,-690.352 1124.77,-679.519\"/>\r\n",
       "<polygon fill=\"black\" stroke=\"black\" points=\"1128.19,-678.759 1123,-669.52 1121.29,-679.976 1128.19,-678.759\"/>\r\n",
       "</g>\r\n",
       "<!-- 39 -->\r\n",
       "<g id=\"node40\" class=\"node\"><title>39</title>\r\n",
       "<path fill=\"#7bbeee\" stroke=\"black\" d=\"M1308,-677C1308,-677 1201,-677 1201,-677 1195,-677 1189,-671 1189,-665 1189,-665 1189,-621 1189,-621 1189,-615 1195,-609 1201,-609 1201,-609 1308,-609 1308,-609 1314,-609 1320,-615 1320,-621 1320,-621 1320,-665 1320,-665 1320,-671 1314,-677 1308,-677\"/>\r\n",
       "<text text-anchor=\"middle\" x=\"1254.5\" y=\"-661.8\" font-family=\"Helvetica,sans-Serif\" font-size=\"14.00\">Entropy &lt;= &#45;2.927</text>\r\n",
       "<text text-anchor=\"middle\" x=\"1254.5\" y=\"-646.8\" font-family=\"Helvetica,sans-Serif\" font-size=\"14.00\">gini = 0.375</text>\r\n",
       "<text text-anchor=\"middle\" x=\"1254.5\" y=\"-631.8\" font-family=\"Helvetica,sans-Serif\" font-size=\"14.00\">samples = 4</text>\r\n",
       "<text text-anchor=\"middle\" x=\"1254.5\" y=\"-616.8\" font-family=\"Helvetica,sans-Serif\" font-size=\"14.00\">value = [1, 3]</text>\r\n",
       "</g>\r\n",
       "<!-- 37&#45;&gt;39 -->\r\n",
       "<g id=\"edge39\" class=\"edge\"><title>37&#45;&gt;39</title>\r\n",
       "<path fill=\"none\" stroke=\"black\" d=\"M1174.81,-712.884C1185.53,-703.62 1197.29,-693.455 1208.4,-683.845\"/>\r\n",
       "<polygon fill=\"black\" stroke=\"black\" points=\"1210.7,-686.487 1215.98,-677.299 1206.12,-681.191 1210.7,-686.487\"/>\r\n",
       "</g>\r\n",
       "<!-- 40 -->\r\n",
       "<g id=\"node41\" class=\"node\"><title>40</title>\r\n",
       "<path fill=\"#399de5\" stroke=\"black\" d=\"M1240,-565.5C1240,-565.5 1167,-565.5 1167,-565.5 1161,-565.5 1155,-559.5 1155,-553.5 1155,-553.5 1155,-524.5 1155,-524.5 1155,-518.5 1161,-512.5 1167,-512.5 1167,-512.5 1240,-512.5 1240,-512.5 1246,-512.5 1252,-518.5 1252,-524.5 1252,-524.5 1252,-553.5 1252,-553.5 1252,-559.5 1246,-565.5 1240,-565.5\"/>\r\n",
       "<text text-anchor=\"middle\" x=\"1203.5\" y=\"-550.3\" font-family=\"Helvetica,sans-Serif\" font-size=\"14.00\">gini = 0.0</text>\r\n",
       "<text text-anchor=\"middle\" x=\"1203.5\" y=\"-535.3\" font-family=\"Helvetica,sans-Serif\" font-size=\"14.00\">samples = 3</text>\r\n",
       "<text text-anchor=\"middle\" x=\"1203.5\" y=\"-520.3\" font-family=\"Helvetica,sans-Serif\" font-size=\"14.00\">value = [0, 3]</text>\r\n",
       "</g>\r\n",
       "<!-- 39&#45;&gt;40 -->\r\n",
       "<g id=\"edge40\" class=\"edge\"><title>39&#45;&gt;40</title>\r\n",
       "<path fill=\"none\" stroke=\"black\" d=\"M1237.94,-608.884C1232.44,-597.886 1226.31,-585.617 1220.76,-574.517\"/>\r\n",
       "<polygon fill=\"black\" stroke=\"black\" points=\"1223.86,-572.899 1216.26,-565.52 1217.6,-576.029 1223.86,-572.899\"/>\r\n",
       "</g>\r\n",
       "<!-- 41 -->\r\n",
       "<g id=\"node42\" class=\"node\"><title>41</title>\r\n",
       "<path fill=\"#e58139\" stroke=\"black\" d=\"M1355,-565.5C1355,-565.5 1282,-565.5 1282,-565.5 1276,-565.5 1270,-559.5 1270,-553.5 1270,-553.5 1270,-524.5 1270,-524.5 1270,-518.5 1276,-512.5 1282,-512.5 1282,-512.5 1355,-512.5 1355,-512.5 1361,-512.5 1367,-518.5 1367,-524.5 1367,-524.5 1367,-553.5 1367,-553.5 1367,-559.5 1361,-565.5 1355,-565.5\"/>\r\n",
       "<text text-anchor=\"middle\" x=\"1318.5\" y=\"-550.3\" font-family=\"Helvetica,sans-Serif\" font-size=\"14.00\">gini = 0.0</text>\r\n",
       "<text text-anchor=\"middle\" x=\"1318.5\" y=\"-535.3\" font-family=\"Helvetica,sans-Serif\" font-size=\"14.00\">samples = 1</text>\r\n",
       "<text text-anchor=\"middle\" x=\"1318.5\" y=\"-520.3\" font-family=\"Helvetica,sans-Serif\" font-size=\"14.00\">value = [1, 0]</text>\r\n",
       "</g>\r\n",
       "<!-- 39&#45;&gt;41 -->\r\n",
       "<g id=\"edge41\" class=\"edge\"><title>39&#45;&gt;41</title>\r\n",
       "<path fill=\"none\" stroke=\"black\" d=\"M1275.28,-608.884C1282.25,-597.776 1290.03,-585.372 1297.05,-574.184\"/>\r\n",
       "<polygon fill=\"black\" stroke=\"black\" points=\"1300.14,-575.851 1302.49,-565.52 1294.21,-572.13 1300.14,-575.851\"/>\r\n",
       "</g>\r\n",
       "<!-- 43 -->\r\n",
       "<g id=\"node44\" class=\"node\"><title>43</title>\r\n",
       "<path fill=\"#e78945\" stroke=\"black\" d=\"M1493,-677C1493,-677 1374,-677 1374,-677 1368,-677 1362,-671 1362,-665 1362,-665 1362,-621 1362,-621 1362,-615 1368,-609 1374,-609 1374,-609 1493,-609 1493,-609 1499,-609 1505,-615 1505,-621 1505,-621 1505,-665 1505,-665 1505,-671 1499,-677 1493,-677\"/>\r\n",
       "<text text-anchor=\"middle\" x=\"1433.5\" y=\"-661.8\" font-family=\"Helvetica,sans-Serif\" font-size=\"14.00\">Skewness &lt;= 7.211</text>\r\n",
       "<text text-anchor=\"middle\" x=\"1433.5\" y=\"-646.8\" font-family=\"Helvetica,sans-Serif\" font-size=\"14.00\">gini = 0.111</text>\r\n",
       "<text text-anchor=\"middle\" x=\"1433.5\" y=\"-631.8\" font-family=\"Helvetica,sans-Serif\" font-size=\"14.00\">samples = 17</text>\r\n",
       "<text text-anchor=\"middle\" x=\"1433.5\" y=\"-616.8\" font-family=\"Helvetica,sans-Serif\" font-size=\"14.00\">value = [16, 1]</text>\r\n",
       "</g>\r\n",
       "<!-- 42&#45;&gt;43 -->\r\n",
       "<g id=\"edge43\" class=\"edge\"><title>42&#45;&gt;43</title>\r\n",
       "<path fill=\"none\" stroke=\"black\" d=\"M1433.5,-712.884C1433.5,-704.778 1433.5,-695.982 1433.5,-687.472\"/>\r\n",
       "<polygon fill=\"black\" stroke=\"black\" points=\"1437,-687.299 1433.5,-677.299 1430,-687.299 1437,-687.299\"/>\r\n",
       "</g>\r\n",
       "<!-- 46 -->\r\n",
       "<g id=\"node47\" class=\"node\"><title>46</title>\r\n",
       "<path fill=\"#e58139\" stroke=\"black\" d=\"M1624,-669.5C1624,-669.5 1535,-669.5 1535,-669.5 1529,-669.5 1523,-663.5 1523,-657.5 1523,-657.5 1523,-628.5 1523,-628.5 1523,-622.5 1529,-616.5 1535,-616.5 1535,-616.5 1624,-616.5 1624,-616.5 1630,-616.5 1636,-622.5 1636,-628.5 1636,-628.5 1636,-657.5 1636,-657.5 1636,-663.5 1630,-669.5 1624,-669.5\"/>\r\n",
       "<text text-anchor=\"middle\" x=\"1579.5\" y=\"-654.3\" font-family=\"Helvetica,sans-Serif\" font-size=\"14.00\">gini = 0.0</text>\r\n",
       "<text text-anchor=\"middle\" x=\"1579.5\" y=\"-639.3\" font-family=\"Helvetica,sans-Serif\" font-size=\"14.00\">samples = 298</text>\r\n",
       "<text text-anchor=\"middle\" x=\"1579.5\" y=\"-624.3\" font-family=\"Helvetica,sans-Serif\" font-size=\"14.00\">value = [298, 0]</text>\r\n",
       "</g>\r\n",
       "<!-- 42&#45;&gt;46 -->\r\n",
       "<g id=\"edge46\" class=\"edge\"><title>42&#45;&gt;46</title>\r\n",
       "<path fill=\"none\" stroke=\"black\" d=\"M1480.9,-712.884C1498.06,-700.896 1517.38,-687.399 1534.34,-675.549\"/>\r\n",
       "<polygon fill=\"black\" stroke=\"black\" points=\"1536.78,-678.116 1542.97,-669.52 1532.77,-672.378 1536.78,-678.116\"/>\r\n",
       "</g>\r\n",
       "<!-- 44 -->\r\n",
       "<g id=\"node45\" class=\"node\"><title>44</title>\r\n",
       "<path fill=\"#399de5\" stroke=\"black\" d=\"M1470,-565.5C1470,-565.5 1397,-565.5 1397,-565.5 1391,-565.5 1385,-559.5 1385,-553.5 1385,-553.5 1385,-524.5 1385,-524.5 1385,-518.5 1391,-512.5 1397,-512.5 1397,-512.5 1470,-512.5 1470,-512.5 1476,-512.5 1482,-518.5 1482,-524.5 1482,-524.5 1482,-553.5 1482,-553.5 1482,-559.5 1476,-565.5 1470,-565.5\"/>\r\n",
       "<text text-anchor=\"middle\" x=\"1433.5\" y=\"-550.3\" font-family=\"Helvetica,sans-Serif\" font-size=\"14.00\">gini = 0.0</text>\r\n",
       "<text text-anchor=\"middle\" x=\"1433.5\" y=\"-535.3\" font-family=\"Helvetica,sans-Serif\" font-size=\"14.00\">samples = 1</text>\r\n",
       "<text text-anchor=\"middle\" x=\"1433.5\" y=\"-520.3\" font-family=\"Helvetica,sans-Serif\" font-size=\"14.00\">value = [0, 1]</text>\r\n",
       "</g>\r\n",
       "<!-- 43&#45;&gt;44 -->\r\n",
       "<g id=\"edge44\" class=\"edge\"><title>43&#45;&gt;44</title>\r\n",
       "<path fill=\"none\" stroke=\"black\" d=\"M1433.5,-608.884C1433.5,-598.326 1433.5,-586.597 1433.5,-575.854\"/>\r\n",
       "<polygon fill=\"black\" stroke=\"black\" points=\"1437,-575.52 1433.5,-565.52 1430,-575.52 1437,-575.52\"/>\r\n",
       "</g>\r\n",
       "<!-- 45 -->\r\n",
       "<g id=\"node46\" class=\"node\"><title>45</title>\r\n",
       "<path fill=\"#e58139\" stroke=\"black\" d=\"M1593,-565.5C1593,-565.5 1512,-565.5 1512,-565.5 1506,-565.5 1500,-559.5 1500,-553.5 1500,-553.5 1500,-524.5 1500,-524.5 1500,-518.5 1506,-512.5 1512,-512.5 1512,-512.5 1593,-512.5 1593,-512.5 1599,-512.5 1605,-518.5 1605,-524.5 1605,-524.5 1605,-553.5 1605,-553.5 1605,-559.5 1599,-565.5 1593,-565.5\"/>\r\n",
       "<text text-anchor=\"middle\" x=\"1552.5\" y=\"-550.3\" font-family=\"Helvetica,sans-Serif\" font-size=\"14.00\">gini = 0.0</text>\r\n",
       "<text text-anchor=\"middle\" x=\"1552.5\" y=\"-535.3\" font-family=\"Helvetica,sans-Serif\" font-size=\"14.00\">samples = 16</text>\r\n",
       "<text text-anchor=\"middle\" x=\"1552.5\" y=\"-520.3\" font-family=\"Helvetica,sans-Serif\" font-size=\"14.00\">value = [16, 0]</text>\r\n",
       "</g>\r\n",
       "<!-- 43&#45;&gt;45 -->\r\n",
       "<g id=\"edge45\" class=\"edge\"><title>43&#45;&gt;45</title>\r\n",
       "<path fill=\"none\" stroke=\"black\" d=\"M1472.14,-608.884C1485.86,-597.116 1501.29,-583.894 1514.93,-572.203\"/>\r\n",
       "<polygon fill=\"black\" stroke=\"black\" points=\"1517.41,-574.685 1522.73,-565.52 1512.86,-569.37 1517.41,-574.685\"/>\r\n",
       "</g>\r\n",
       "</g>\r\n",
       "</svg>\r\n"
      ],
      "text/plain": [
       "<graphviz.files.Source at 0x264858954c8>"
      ]
     },
     "execution_count": 338,
     "metadata": {},
     "output_type": "execute_result"
    }
   ],
   "source": [
    "graphviz.Source(dot_data)"
   ]
  },
  {
   "cell_type": "markdown",
   "metadata": {},
   "source": [
    "# Interpreting the Decision Tree"
   ]
  },
  {
   "cell_type": "markdown",
   "metadata": {},
   "source": [
    "1) Splitting predictor and Cuttof point : In this decision tree, The splitting predictor is Skewness and Cutting value is 5.096\n",
    "\n",
    "* root node is Skewness\n",
    "* gini : Evolution metrics for this particular region is 0.493\n",
    "* samples : Number of observations in this particular region is 1097\n",
    "* value : The value for the predictions for this region is [615,482] that is 615 observations belongs to 0 class and 482 observations belongs to 1 class"
   ]
  },
  {
   "cell_type": "markdown",
   "metadata": {},
   "source": [
    "2) Next, the decison tree splits into 2 internal nodes Variance<=1.259 if Skewness<=5.096 and Variance<=-3.369 if Skewness >5.096\n",
    "* Internal nodes are Variance<=1.259 and Variance<=-3.369\n",
    "* gini : Evolution metrics for this particular regions are gini=0.48 and gini=0.168 respectively\n",
    "* samples : Number of observations in this particular regions are 750 and 347 respectively\n",
    "* value : The value for the predictions for this region is [300,450] and [315,32] respectively"
   ]
  },
  {
   "cell_type": "markdown",
   "metadata": {},
   "source": [
    "3) Furtherly, the decison tree splits into many internal nodes"
   ]
  },
  {
   "cell_type": "markdown",
   "metadata": {},
   "source": [
    "4) many leaf nodes are formed and each observation in the dataset belongs to one of the 2 classes either class 0 (Autheticated note) or class 1 (Fake note) \n",
    "* as shown in the decision tree , In the leaf nodes the numbe rof observations belongs to each class is shown"
   ]
  },
  {
   "cell_type": "markdown",
   "metadata": {},
   "source": [
    "# So, thus the DecissionTreeClassifier model Accuracy is improved by using the Hyperparameters given by the GridSearch"
   ]
  },
  {
   "cell_type": "code",
   "execution_count": null,
   "metadata": {},
   "outputs": [],
   "source": []
  },
  {
   "cell_type": "code",
   "execution_count": null,
   "metadata": {},
   "outputs": [],
   "source": []
  }
 ],
 "metadata": {
  "kernelspec": {
   "display_name": "Python 3",
   "language": "python",
   "name": "python3"
  },
  "language_info": {
   "codemirror_mode": {
    "name": "ipython",
    "version": 3
   },
   "file_extension": ".py",
   "mimetype": "text/x-python",
   "name": "python",
   "nbconvert_exporter": "python",
   "pygments_lexer": "ipython3",
   "version": "3.7.4"
  }
 },
 "nbformat": 4,
 "nbformat_minor": 2
}
